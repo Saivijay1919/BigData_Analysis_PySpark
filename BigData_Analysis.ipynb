{
  "nbformat": 4,
  "nbformat_minor": 0,
  "metadata": {
    "colab": {
      "name": "BD_TE.ipynb",
      "provenance": [],
      "collapsed_sections": []
    },
    "kernelspec": {
      "display_name": "Python 3",
      "name": "python3"
    },
    "language_info": {
      "name": "python"
    }
  },
  "cells": [
    {
      "cell_type": "code",
      "metadata": {
        "id": "KUpJHdygIsET"
      },
      "source": [
        "# Spark setup\n",
        "\n",
        "# innstall java\n",
        "!apt-get install openjdk-8-jdk-headless -qq > /dev/null\n",
        "\n",
        "# install spark (change the version number if needed)\n",
        "!wget -q https://archive.apache.org/dist/spark/spark-3.0.0/spark-3.0.0-bin-hadoop3.2.tgz\n",
        "\n",
        "# unzip the spark file to the current folder\n",
        "!tar xf spark-3.0.0-bin-hadoop3.2.tgz\n",
        "\n",
        "# set your spark folder to your system path environment. \n",
        "import os\n",
        "os.environ[\"JAVA_HOME\"] = \"/usr/lib/jvm/java-8-openjdk-amd64\"\n",
        "os.environ[\"SPARK_HOME\"] = \"/content/spark-3.0.0-bin-hadoop3.2\"\n",
        "\n",
        "\n",
        "# install findspark using pip\n",
        "!pip install -q findspark\n"
      ],
      "execution_count": null,
      "outputs": []
    },
    {
      "cell_type": "code",
      "metadata": {
        "colab": {
          "base_uri": "https://localhost:8080/"
        },
        "id": "3siCOFHzKaW0",
        "outputId": "44e81dad-7f7a-4c1a-b50b-15d1d022a539"
      },
      "source": [
        "!pip install pyspark -q"
      ],
      "execution_count": null,
      "outputs": [
        {
          "output_type": "stream",
          "name": "stdout",
          "text": [
            "\u001b[K     |████████████████████████████████| 281.3 MB 36 kB/s \n",
            "\u001b[K     |████████████████████████████████| 198 kB 42.7 MB/s \n",
            "\u001b[?25h  Building wheel for pyspark (setup.py) ... \u001b[?25l\u001b[?25hdone\n"
          ]
        }
      ]
    },
    {
      "cell_type": "code",
      "metadata": {
        "id": "TzjNbx5kKaZc"
      },
      "source": [
        "# starts the spark\n",
        "import findspark\n",
        "findspark.init()\n",
        "from pyspark.sql import SparkSession\n",
        "spark = SparkSession.builder.master(\"local[*]\").getOrCreate()"
      ],
      "execution_count": null,
      "outputs": []
    },
    {
      "cell_type": "code",
      "metadata": {
        "colab": {
          "base_uri": "https://localhost:8080/",
          "height": 221
        },
        "id": "LsuUrLE8VhR3",
        "outputId": "659d4b10-5453-4235-b851-5011adff97b9"
      },
      "source": [
        "spark"
      ],
      "execution_count": null,
      "outputs": [
        {
          "output_type": "execute_result",
          "data": {
            "text/html": [
              "\n",
              "            <div>\n",
              "                <p><b>SparkSession - in-memory</b></p>\n",
              "                \n",
              "        <div>\n",
              "            <p><b>SparkContext</b></p>\n",
              "\n",
              "            <p><a href=\"http://26d4e185a049:4040\">Spark UI</a></p>\n",
              "\n",
              "            <dl>\n",
              "              <dt>Version</dt>\n",
              "                <dd><code>v3.0.0</code></dd>\n",
              "              <dt>Master</dt>\n",
              "                <dd><code>local[*]</code></dd>\n",
              "              <dt>AppName</dt>\n",
              "                <dd><code>pyspark-shell</code></dd>\n",
              "            </dl>\n",
              "        </div>\n",
              "        \n",
              "            </div>\n",
              "        "
            ],
            "text/plain": [
              "<pyspark.sql.session.SparkSession at 0x7f783e77f490>"
            ]
          },
          "metadata": {},
          "execution_count": 4
        }
      ]
    },
    {
      "cell_type": "code",
      "metadata": {
        "colab": {
          "base_uri": "https://localhost:8080/"
        },
        "id": "uJQrNHwhKadM",
        "outputId": "3161f394-3fbe-4d3e-9453-d9f212241a45"
      },
      "source": [
        "!unzip \"/content/drive/MyDrive/CRWK_BD/archive_IDS2018.zip\""
      ],
      "execution_count": null,
      "outputs": [
        {
          "output_type": "stream",
          "name": "stdout",
          "text": [
            "Archive:  /content/drive/MyDrive/CRWK_BD/archive_IDS2018.zip\n",
            " extracting: archive_IDS2018/02-14-2018.csv  \n",
            " extracting: archive_IDS2018/02-15-2018.csv  \n",
            " extracting: archive_IDS2018/02-16-2018.csv  \n",
            " extracting: archive_IDS2018/02-21-2018.csv  \n",
            " extracting: archive_IDS2018/02-22-2018.csv  \n",
            " extracting: archive_IDS2018/02-23-2018.csv  \n",
            " extracting: archive_IDS2018/03-02-2018.csv  \n"
          ]
        }
      ]
    },
    {
      "cell_type": "code",
      "metadata": {
        "id": "rRpzySBrZNs8"
      },
      "source": [
        "\n",
        "data1=spark.read.csv('/content/archive_IDS2018/02-14-2018.csv',inferSchema=True,header=True)\n",
        "data2=spark.read.csv('/content/archive_IDS2018/02-15-2018.csv',inferSchema=True,header=True)\n",
        "data3=spark.read.csv('/content/archive_IDS2018/02-16-2018.csv',inferSchema=True,header=True)\n",
        "data4=spark.read.csv('/content/archive_IDS2018/02-21-2018.csv',inferSchema=True,header=True)\n",
        "data5=spark.read.csv('/content/archive_IDS2018/02-22-2018.csv',inferSchema=True,header=True)\n",
        "data6=spark.read.csv('/content/archive_IDS2018/02-23-2018.csv',inferSchema=True,header=True)\n",
        "#data7=spark.read.csv('/content/archive_IDS2018/02-28-2018.csv',inferSchema=True,header=True)\n",
        "#data8=spark.read.csv('/content/archive_IDS2018/03-01-2018.csv',inferSchema=True,header=True)\n",
        "#data9=spark.read.csv('/content/archive_IDS2018/03-02-2018.csv',inferSchema=True,header=True)\n",
        "\n",
        "\n",
        "\n",
        "\n"
      ],
      "execution_count": null,
      "outputs": []
    },
    {
      "cell_type": "code",
      "metadata": {
        "id": "ZyBDVmY-Ze6t"
      },
      "source": [
        "from functools import reduce\n",
        "\n",
        "bddata=reduce(lambda x,y:x.union(y), [data1,data2,data3,data4,data5,data6])"
      ],
      "execution_count": null,
      "outputs": []
    },
    {
      "cell_type": "code",
      "metadata": {
        "id": "KG56b2_EKagK"
      },
      "source": [
        "\n",
        "bddata.printSchema()"
      ],
      "execution_count": null,
      "outputs": []
    },
    {
      "cell_type": "code",
      "metadata": {
        "id": "yes0CHwRKaw5",
        "colab": {
          "base_uri": "https://localhost:8080/"
        },
        "outputId": "58b30ac0-aaa2-4355-cb9b-c2b22ec88964"
      },
      "source": [
        "bddata.show(4)"
      ],
      "execution_count": null,
      "outputs": [
        {
          "output_type": "stream",
          "name": "stdout",
          "text": [
            "+--------+--------+-------------------+-------------+------------+------------+---------------+---------------+---------------+---------------+----------------+---------------+---------------+---------------+----------------+---------------+--------------+------------+-------------+----------------+------------+------------+-----------+----------------+----------------+-----------+-----------+-----------+----------------+---------------+-----------+-----------+-------------+-------------+-------------+-------------+--------------+--------------+------------+------------+-----------+-----------+--------------+--------------+----------------+------------+------------+------------+------------+------------+------------+--------------+------------+-------------+------------+----------------+----------------+--------------+--------------+----------------+--------------+--------------+----------------+----------------+----------------+----------------+----------------+-----------------+-----------------+-----------------+----------------+-----------+----------+----------+----------+------------+--------------+--------+--------+------+\n",
            "|Dst Port|Protocol|          Timestamp|Flow Duration|Tot Fwd Pkts|Tot Bwd Pkts|TotLen Fwd Pkts|TotLen Bwd Pkts|Fwd Pkt Len Max|Fwd Pkt Len Min|Fwd Pkt Len Mean|Fwd Pkt Len Std|Bwd Pkt Len Max|Bwd Pkt Len Min|Bwd Pkt Len Mean|Bwd Pkt Len Std|   Flow Byts/s| Flow Pkts/s|Flow IAT Mean|    Flow IAT Std|Flow IAT Max|Flow IAT Min|Fwd IAT Tot|    Fwd IAT Mean|     Fwd IAT Std|Fwd IAT Max|Fwd IAT Min|Bwd IAT Tot|    Bwd IAT Mean|    Bwd IAT Std|Bwd IAT Max|Bwd IAT Min|Fwd PSH Flags|Bwd PSH Flags|Fwd URG Flags|Bwd URG Flags|Fwd Header Len|Bwd Header Len|  Fwd Pkts/s|  Bwd Pkts/s|Pkt Len Min|Pkt Len Max|  Pkt Len Mean|   Pkt Len Std|     Pkt Len Var|FIN Flag Cnt|SYN Flag Cnt|RST Flag Cnt|PSH Flag Cnt|ACK Flag Cnt|URG Flag Cnt|CWE Flag Count|ECE Flag Cnt|Down/Up Ratio|Pkt Size Avg|Fwd Seg Size Avg|Bwd Seg Size Avg|Fwd Byts/b Avg|Fwd Pkts/b Avg|Fwd Blk Rate Avg|Bwd Byts/b Avg|Bwd Pkts/b Avg|Bwd Blk Rate Avg|Subflow Fwd Pkts|Subflow Fwd Byts|Subflow Bwd Pkts|Subflow Bwd Byts|Init Fwd Win Byts|Init Bwd Win Byts|Fwd Act Data Pkts|Fwd Seg Size Min|Active Mean|Active Std|Active Max|Active Min|   Idle Mean|      Idle Std|Idle Max|Idle Min| Label|\n",
            "+--------+--------+-------------------+-------------+------------+------------+---------------+---------------+---------------+---------------+----------------+---------------+---------------+---------------+----------------+---------------+--------------+------------+-------------+----------------+------------+------------+-----------+----------------+----------------+-----------+-----------+-----------+----------------+---------------+-----------+-----------+-------------+-------------+-------------+-------------+--------------+--------------+------------+------------+-----------+-----------+--------------+--------------+----------------+------------+------------+------------+------------+------------+------------+--------------+------------+-------------+------------+----------------+----------------+--------------+--------------+----------------+--------------+--------------+----------------+----------------+----------------+----------------+----------------+-----------------+-----------------+-----------------+----------------+-----------+----------+----------+----------+------------+--------------+--------+--------+------+\n",
            "|       0|       0|14/02/2018 08:31:01|    112641719|           3|           0|              0|              0|              0|              0|             0.0|            0.0|              0|              0|             0.0|            0.0|           0.0|0.0266331163| 5.63208595E7|  139.3000358938|    56320958|    56320761|  112641719|    5.63208595E7|  139.3000358938|   56320958|   56320761|          0|             0.0|            0.0|          0|          0|            0|            0|            0|            0|             0|             0|0.0266331163|         0.0|          0|          0|           0.0|           0.0|             0.0|           0|           0|           0|           0|           0|           0|             0|           0|            0|         0.0|             0.0|             0.0|             0|             0|               0|             0|             0|               0|               3|               0|               0|               0|               -1|               -1|                0|               0|        0.0|       0.0|         0|         0|5.63208595E7|139.3000358938|56320958|56320761|Benign|\n",
            "|       0|       0|14/02/2018 08:33:50|    112641466|           3|           0|              0|              0|              0|              0|             0.0|            0.0|              0|              0|             0.0|            0.0|           0.0|0.0266331761|  5.6320733E7|  114.5512985522|    56320814|    56320652|  112641466|     5.6320733E7|  114.5512985522|   56320814|   56320652|          0|             0.0|            0.0|          0|          0|            0|            0|            0|            0|             0|             0|0.0266331761|         0.0|          0|          0|           0.0|           0.0|             0.0|           0|           0|           0|           0|           0|           0|             0|           0|            0|         0.0|             0.0|             0.0|             0|             0|               0|             0|             0|               0|               3|               0|               0|               0|               -1|               -1|                0|               0|        0.0|       0.0|         0|         0| 5.6320733E7|114.5512985522|56320814|56320652|Benign|\n",
            "|       0|       0|14/02/2018 08:36:39|    112638623|           3|           0|              0|              0|              0|              0|             0.0|            0.0|              0|              0|             0.0|            0.0|           0.0|0.0266338483| 5.63193115E7|  301.9345955667|    56319525|    56319098|  112638623|    5.63193115E7|  301.9345955667|   56319525|   56319098|          0|             0.0|            0.0|          0|          0|            0|            0|            0|            0|             0|             0|0.0266338483|         0.0|          0|          0|           0.0|           0.0|             0.0|           0|           0|           0|           0|           0|           0|             0|           0|            0|         0.0|             0.0|             0.0|             0|             0|               0|             0|             0|               0|               3|               0|               0|               0|               -1|               -1|                0|               0|        0.0|       0.0|         0|         0|5.63193115E7|301.9345955667|56319525|56319098|Benign|\n",
            "|      22|       6|14/02/2018 08:40:13|      6453966|          15|          10|           1239|           2273|            744|              0|            82.6| 196.7412368715|            976|              0|           227.3| 371.6778922072|544.1615279659|3.8735871865|    268915.25|247443.778966007|      673900|          22|    6453966|460997.571428571|123109.423587757|     673900|     229740|    5637902|626433.555555556|455082.21422401|    1167293|        554|            0|            0|            0|            0|           488|           328|2.3241523119|1.5494348746|          0|        976|135.0769230769|277.8347599674|77192.1538461539|           0|           0|           0|           1|           0|           0|             0|           0|            0|      140.48|            82.6|           227.3|             0|             0|               0|             0|             0|               0|              15|            1239|              10|            2273|            65535|              233|                6|              32|        0.0|       0.0|         0|         0|         0.0|           0.0|       0|       0|Benign|\n",
            "+--------+--------+-------------------+-------------+------------+------------+---------------+---------------+---------------+---------------+----------------+---------------+---------------+---------------+----------------+---------------+--------------+------------+-------------+----------------+------------+------------+-----------+----------------+----------------+-----------+-----------+-----------+----------------+---------------+-----------+-----------+-------------+-------------+-------------+-------------+--------------+--------------+------------+------------+-----------+-----------+--------------+--------------+----------------+------------+------------+------------+------------+------------+------------+--------------+------------+-------------+------------+----------------+----------------+--------------+--------------+----------------+--------------+--------------+----------------+----------------+----------------+----------------+----------------+-----------------+-----------------+-----------------+----------------+-----------+----------+----------+----------+------------+--------------+--------+--------+------+\n",
            "only showing top 4 rows\n",
            "\n"
          ]
        }
      ]
    },
    {
      "cell_type": "code",
      "metadata": {
        "colab": {
          "base_uri": "https://localhost:8080/"
        },
        "id": "Y-cQSZXjKa0m",
        "outputId": "0baa4d6a-e345-42d7-f222-7a33ece34b0a"
      },
      "source": [
        "bddata.count()"
      ],
      "execution_count": null,
      "outputs": [
        {
          "output_type": "execute_result",
          "data": {
            "text/plain": [
              "6291444"
            ]
          },
          "metadata": {},
          "execution_count": 9
        }
      ]
    },
    {
      "cell_type": "code",
      "metadata": {
        "id": "9S7RjSXJKa3y"
      },
      "source": [
        "#bddata.describe().show()"
      ],
      "execution_count": null,
      "outputs": []
    },
    {
      "cell_type": "markdown",
      "metadata": {
        "id": "HYWMeUuuLpyF"
      },
      "source": [
        "Finding/checking the null values\n"
      ]
    },
    {
      "cell_type": "code",
      "metadata": {
        "id": "KQ21LF-bKbDg"
      },
      "source": [
        "#from pyspark.sql import functions as F\n",
        "#bddata.select([F.count(F.when(F.isnull(c), c)).alias(c) for c in bddata.columns]).show()"
      ],
      "execution_count": null,
      "outputs": []
    },
    {
      "cell_type": "code",
      "metadata": {
        "colab": {
          "base_uri": "https://localhost:8080/"
        },
        "id": "9KTFBPDTQwyE",
        "outputId": "e22f3759-530a-4721-f8d6-9628392596fc"
      },
      "source": [
        "from pyspark.sql import functions as F\n",
        "bddata.select([F.count(F.when(F.isnan(c), c)).alias(c) for c in bddata.columns]).show()"
      ],
      "execution_count": null,
      "outputs": [
        {
          "output_type": "stream",
          "name": "stdout",
          "text": [
            "+--------+--------+---------+-------------+------------+------------+---------------+---------------+---------------+---------------+----------------+---------------+---------------+---------------+----------------+---------------+-----------+-----------+-------------+------------+------------+------------+-----------+------------+-----------+-----------+-----------+-----------+------------+-----------+-----------+-----------+-------------+-------------+-------------+-------------+--------------+--------------+----------+----------+-----------+-----------+------------+-----------+-----------+------------+------------+------------+------------+------------+------------+--------------+------------+-------------+------------+----------------+----------------+--------------+--------------+----------------+--------------+--------------+----------------+----------------+----------------+----------------+----------------+-----------------+-----------------+-----------------+----------------+-----------+----------+----------+----------+---------+--------+--------+--------+-----+\n",
            "|Dst Port|Protocol|Timestamp|Flow Duration|Tot Fwd Pkts|Tot Bwd Pkts|TotLen Fwd Pkts|TotLen Bwd Pkts|Fwd Pkt Len Max|Fwd Pkt Len Min|Fwd Pkt Len Mean|Fwd Pkt Len Std|Bwd Pkt Len Max|Bwd Pkt Len Min|Bwd Pkt Len Mean|Bwd Pkt Len Std|Flow Byts/s|Flow Pkts/s|Flow IAT Mean|Flow IAT Std|Flow IAT Max|Flow IAT Min|Fwd IAT Tot|Fwd IAT Mean|Fwd IAT Std|Fwd IAT Max|Fwd IAT Min|Bwd IAT Tot|Bwd IAT Mean|Bwd IAT Std|Bwd IAT Max|Bwd IAT Min|Fwd PSH Flags|Bwd PSH Flags|Fwd URG Flags|Bwd URG Flags|Fwd Header Len|Bwd Header Len|Fwd Pkts/s|Bwd Pkts/s|Pkt Len Min|Pkt Len Max|Pkt Len Mean|Pkt Len Std|Pkt Len Var|FIN Flag Cnt|SYN Flag Cnt|RST Flag Cnt|PSH Flag Cnt|ACK Flag Cnt|URG Flag Cnt|CWE Flag Count|ECE Flag Cnt|Down/Up Ratio|Pkt Size Avg|Fwd Seg Size Avg|Bwd Seg Size Avg|Fwd Byts/b Avg|Fwd Pkts/b Avg|Fwd Blk Rate Avg|Bwd Byts/b Avg|Bwd Pkts/b Avg|Bwd Blk Rate Avg|Subflow Fwd Pkts|Subflow Fwd Byts|Subflow Bwd Pkts|Subflow Bwd Byts|Init Fwd Win Byts|Init Bwd Win Byts|Fwd Act Data Pkts|Fwd Seg Size Min|Active Mean|Active Std|Active Max|Active Min|Idle Mean|Idle Std|Idle Max|Idle Min|Label|\n",
            "+--------+--------+---------+-------------+------------+------------+---------------+---------------+---------------+---------------+----------------+---------------+---------------+---------------+----------------+---------------+-----------+-----------+-------------+------------+------------+------------+-----------+------------+-----------+-----------+-----------+-----------+------------+-----------+-----------+-----------+-------------+-------------+-------------+-------------+--------------+--------------+----------+----------+-----------+-----------+------------+-----------+-----------+------------+------------+------------+------------+------------+------------+--------------+------------+-------------+------------+----------------+----------------+--------------+--------------+----------------+--------------+--------------+----------------+----------------+----------------+----------------+----------------+-----------------+-----------------+-----------------+----------------+-----------+----------+----------+----------+---------+--------+--------+--------+-----+\n",
            "|       0|       0|        0|            0|           0|           0|              0|              0|              0|              0|               0|              0|              0|              0|               0|              0|      14521|          0|            0|           0|           0|           0|          0|           0|          0|          0|          0|          0|           0|          0|          0|          0|            0|            0|            0|            0|             0|             0|         0|         0|          0|          0|           0|          0|          0|           0|           0|           0|           0|           0|           0|             0|           0|            0|           0|               0|               0|             0|             0|               0|             0|             0|               0|               0|               0|               0|               0|                0|                0|                0|               0|          0|         0|         0|         0|        0|       0|       0|       0|    0|\n",
            "+--------+--------+---------+-------------+------------+------------+---------------+---------------+---------------+---------------+----------------+---------------+---------------+---------------+----------------+---------------+-----------+-----------+-------------+------------+------------+------------+-----------+------------+-----------+-----------+-----------+-----------+------------+-----------+-----------+-----------+-------------+-------------+-------------+-------------+--------------+--------------+----------+----------+-----------+-----------+------------+-----------+-----------+------------+------------+------------+------------+------------+------------+--------------+------------+-------------+------------+----------------+----------------+--------------+--------------+----------------+--------------+--------------+----------------+----------------+----------------+----------------+----------------+-----------------+-----------------+-----------------+----------------+-----------+----------+----------+----------+---------+--------+--------+--------+-----+\n",
            "\n"
          ]
        }
      ]
    },
    {
      "cell_type": "code",
      "metadata": {
        "colab": {
          "base_uri": "https://localhost:8080/",
          "height": 425
        },
        "id": "tjaSfZ05KbE_",
        "outputId": "d6beb5ef-8622-4442-bc42-41ebf0863ccd"
      },
      "source": [
        "bddata.groupby('Label').count().toPandas()"
      ],
      "execution_count": null,
      "outputs": [
        {
          "output_type": "execute_result",
          "data": {
            "text/html": [
              "<div>\n",
              "<style scoped>\n",
              "    .dataframe tbody tr th:only-of-type {\n",
              "        vertical-align: middle;\n",
              "    }\n",
              "\n",
              "    .dataframe tbody tr th {\n",
              "        vertical-align: top;\n",
              "    }\n",
              "\n",
              "    .dataframe thead th {\n",
              "        text-align: right;\n",
              "    }\n",
              "</style>\n",
              "<table border=\"1\" class=\"dataframe\">\n",
              "  <thead>\n",
              "    <tr style=\"text-align: right;\">\n",
              "      <th></th>\n",
              "      <th>Label</th>\n",
              "      <th>count</th>\n",
              "    </tr>\n",
              "  </thead>\n",
              "  <tbody>\n",
              "    <tr>\n",
              "      <th>0</th>\n",
              "      <td>SSH-Bruteforce</td>\n",
              "      <td>187589</td>\n",
              "    </tr>\n",
              "    <tr>\n",
              "      <th>1</th>\n",
              "      <td>SQL Injection</td>\n",
              "      <td>87</td>\n",
              "    </tr>\n",
              "    <tr>\n",
              "      <th>2</th>\n",
              "      <td>DoS attacks-Slowloris</td>\n",
              "      <td>10990</td>\n",
              "    </tr>\n",
              "    <tr>\n",
              "      <th>3</th>\n",
              "      <td>Benign</td>\n",
              "      <td>4567525</td>\n",
              "    </tr>\n",
              "    <tr>\n",
              "      <th>4</th>\n",
              "      <td>DoS attacks-SlowHTTPTest</td>\n",
              "      <td>139890</td>\n",
              "    </tr>\n",
              "    <tr>\n",
              "      <th>5</th>\n",
              "      <td>DoS attacks-GoldenEye</td>\n",
              "      <td>41508</td>\n",
              "    </tr>\n",
              "    <tr>\n",
              "      <th>6</th>\n",
              "      <td>Brute Force -XSS</td>\n",
              "      <td>230</td>\n",
              "    </tr>\n",
              "    <tr>\n",
              "      <th>7</th>\n",
              "      <td>FTP-BruteForce</td>\n",
              "      <td>193360</td>\n",
              "    </tr>\n",
              "    <tr>\n",
              "      <th>8</th>\n",
              "      <td>DDOS attack-LOIC-UDP</td>\n",
              "      <td>1730</td>\n",
              "    </tr>\n",
              "    <tr>\n",
              "      <th>9</th>\n",
              "      <td>DoS attacks-Hulk</td>\n",
              "      <td>461912</td>\n",
              "    </tr>\n",
              "    <tr>\n",
              "      <th>10</th>\n",
              "      <td>Brute Force -Web</td>\n",
              "      <td>611</td>\n",
              "    </tr>\n",
              "    <tr>\n",
              "      <th>11</th>\n",
              "      <td>DDOS attack-HOIC</td>\n",
              "      <td>686012</td>\n",
              "    </tr>\n",
              "  </tbody>\n",
              "</table>\n",
              "</div>"
            ],
            "text/plain": [
              "                       Label    count\n",
              "0             SSH-Bruteforce   187589\n",
              "1              SQL Injection       87\n",
              "2      DoS attacks-Slowloris    10990\n",
              "3                     Benign  4567525\n",
              "4   DoS attacks-SlowHTTPTest   139890\n",
              "5      DoS attacks-GoldenEye    41508\n",
              "6           Brute Force -XSS      230\n",
              "7             FTP-BruteForce   193360\n",
              "8       DDOS attack-LOIC-UDP     1730\n",
              "9           DoS attacks-Hulk   461912\n",
              "10          Brute Force -Web      611\n",
              "11          DDOS attack-HOIC   686012"
            ]
          },
          "metadata": {},
          "execution_count": 13
        }
      ]
    },
    {
      "cell_type": "markdown",
      "metadata": {
        "id": "S09hCgbxMJPw"
      },
      "source": [
        "Categorical and Numerical column"
      ]
    },
    {
      "cell_type": "code",
      "metadata": {
        "colab": {
          "base_uri": "https://localhost:8080/"
        },
        "id": "3CJBFYJVKbJ7",
        "outputId": "017b45f3-3436-4a53-d320-37b63ece0054"
      },
      "source": [
        "## [Categorical and Numerical column] ##\n",
        "\n",
        "# See how many categorical + numerical features:\n",
        "cat_cols = [item[0] for item in bddata.dtypes if item[1].startswith('string')] \n",
        "num_cols = [item[0] for item in bddata.dtypes if item[1].startswith('int') | item[1].startswith('double')][1:]\n",
        "\n",
        "print(str(len(cat_cols)) + '  categorical features')\n",
        "print(str(len(num_cols)) + '  numerical features')"
      ],
      "execution_count": null,
      "outputs": [
        {
          "output_type": "stream",
          "name": "stdout",
          "text": [
            "2  categorical features\n",
            "69  numerical features\n"
          ]
        }
      ]
    },
    {
      "cell_type": "code",
      "metadata": {
        "colab": {
          "base_uri": "https://localhost:8080/"
        },
        "id": "uZWu4d2SMXsk",
        "outputId": "6ef9b176-1909-418c-d75b-64f3b586bb8f"
      },
      "source": [
        "cat_cols"
      ],
      "execution_count": null,
      "outputs": [
        {
          "output_type": "execute_result",
          "data": {
            "text/plain": [
              "['Timestamp', 'Label']"
            ]
          },
          "metadata": {},
          "execution_count": 16
        }
      ]
    },
    {
      "cell_type": "code",
      "metadata": {
        "id": "0ymZ261eMXvb"
      },
      "source": [
        "bddata=bddata.drop('Timestamp')\n",
        "\n",
        "bddata=bddata.drop('Flow Byts/s')\n"
      ],
      "execution_count": null,
      "outputs": []
    },
    {
      "cell_type": "code",
      "metadata": {
        "colab": {
          "base_uri": "https://localhost:8080/"
        },
        "id": "hDpzulPPMX0O",
        "outputId": "f2f2ee83-c932-4cda-b942-6499c6988a60"
      },
      "source": [
        "## [Categorical and Numerical column] ##\n",
        "\n",
        "# See how many categorical + numerical features:\n",
        "cat_cols = [item[0] for item in bddata.dtypes if item[1].startswith('string')] \n",
        "num_cols = [item[0] for item in bddata.dtypes if item[1].startswith('int') | item[1].startswith('double')][1:]\n",
        "\n",
        "print(str(len(cat_cols)) + '  categorical features')\n",
        "print(str(len(num_cols)) + '  numerical features')\n",
        "\n",
        "cat_cols"
      ],
      "execution_count": null,
      "outputs": [
        {
          "output_type": "stream",
          "name": "stdout",
          "text": [
            "1  categorical features\n",
            "68  numerical features\n"
          ]
        },
        {
          "output_type": "execute_result",
          "data": {
            "text/plain": [
              "['Label']"
            ]
          },
          "metadata": {},
          "execution_count": 18
        }
      ]
    },
    {
      "cell_type": "code",
      "metadata": {
        "id": "iAE1IloRJVC4"
      },
      "source": [
        "from pyspark.ml.classification import RandomForestClassificationModel, RandomForestClassifier\n",
        "from pyspark.ml import feature\n",
        "from pyspark.ml import Pipeline\n",
        "from pyspark.ml.feature import StringIndexer, VectorAssembler, OneHotEncoder"
      ],
      "execution_count": null,
      "outputs": []
    },
    {
      "cell_type": "code",
      "metadata": {
        "id": "9_HOnBn9JVPq"
      },
      "source": [
        "# we use the OneHotEncoderEstimator from MLlib in spark to convert #aech v=categorical feature into one-hot vectors\n",
        "# next, we use VectorAssembler to combine the resulted one-hot ector #and the rest of numerical features into a \n",
        "# single vector column. we append every step of the process in a #stages array\n",
        "from pyspark.ml.feature import OneHotEncoder, StringIndexer, VectorAssembler\n",
        "stages = []\n",
        "for categoricalCol in cat_cols:\n",
        "    stringIndexer = StringIndexer(inputCol = categoricalCol, outputCol = categoricalCol + 'Index')\n",
        "    encoder = OneHotEncoder(inputCols=[stringIndexer.getOutputCol()], outputCols=[categoricalCol + \"classVec\"])\n",
        "    stages += [stringIndexer, encoder]\n",
        "    \n",
        "assemblerInputs = [c + \"classVec\" for c in cat_cols] + num_cols\n",
        "assembler = VectorAssembler(inputCols=assemblerInputs, outputCol=\"features\")\n",
        "stages += [assembler]\n"
      ],
      "execution_count": null,
      "outputs": []
    },
    {
      "cell_type": "code",
      "metadata": {
        "id": "p6WxyXNRJVRr"
      },
      "source": [
        "from pyspark.ml import Pipeline\n",
        "cols = bddata.columns\n",
        "pipeline = Pipeline(stages = stages)\n",
        "pipelineModel = pipeline.fit(bddata)\n",
        "df2 = pipelineModel.transform(bddata)"
      ],
      "execution_count": null,
      "outputs": []
    },
    {
      "cell_type": "code",
      "metadata": {
        "id": "pnbbnrflJVVx"
      },
      "source": [
        "selectedCols = ['features']+cols\n",
        "df2 = df2.select(selectedCols)"
      ],
      "execution_count": null,
      "outputs": []
    },
    {
      "cell_type": "code",
      "metadata": {
        "colab": {
          "base_uri": "https://localhost:8080/",
          "height": 322
        },
        "id": "XiuCHcxPJVYD",
        "outputId": "2160cbd3-81f9-425c-96df-78089662817c"
      },
      "source": [
        "# New dataset after feature engineering:\n",
        "import pandas as pd\n",
        "\n",
        "pd.DataFrame(df2.take(2), columns=df2.columns)"
      ],
      "execution_count": null,
      "outputs": [
        {
          "output_type": "execute_result",
          "data": {
            "text/html": [
              "<div>\n",
              "<style scoped>\n",
              "    .dataframe tbody tr th:only-of-type {\n",
              "        vertical-align: middle;\n",
              "    }\n",
              "\n",
              "    .dataframe tbody tr th {\n",
              "        vertical-align: top;\n",
              "    }\n",
              "\n",
              "    .dataframe thead th {\n",
              "        text-align: right;\n",
              "    }\n",
              "</style>\n",
              "<table border=\"1\" class=\"dataframe\">\n",
              "  <thead>\n",
              "    <tr style=\"text-align: right;\">\n",
              "      <th></th>\n",
              "      <th>features</th>\n",
              "      <th>Dst Port</th>\n",
              "      <th>Protocol</th>\n",
              "      <th>Flow Duration</th>\n",
              "      <th>Tot Fwd Pkts</th>\n",
              "      <th>Tot Bwd Pkts</th>\n",
              "      <th>TotLen Fwd Pkts</th>\n",
              "      <th>TotLen Bwd Pkts</th>\n",
              "      <th>Fwd Pkt Len Max</th>\n",
              "      <th>Fwd Pkt Len Min</th>\n",
              "      <th>Fwd Pkt Len Mean</th>\n",
              "      <th>Fwd Pkt Len Std</th>\n",
              "      <th>Bwd Pkt Len Max</th>\n",
              "      <th>Bwd Pkt Len Min</th>\n",
              "      <th>Bwd Pkt Len Mean</th>\n",
              "      <th>Bwd Pkt Len Std</th>\n",
              "      <th>Flow Pkts/s</th>\n",
              "      <th>Flow IAT Mean</th>\n",
              "      <th>Flow IAT Std</th>\n",
              "      <th>Flow IAT Max</th>\n",
              "      <th>Flow IAT Min</th>\n",
              "      <th>Fwd IAT Tot</th>\n",
              "      <th>Fwd IAT Mean</th>\n",
              "      <th>Fwd IAT Std</th>\n",
              "      <th>Fwd IAT Max</th>\n",
              "      <th>Fwd IAT Min</th>\n",
              "      <th>Bwd IAT Tot</th>\n",
              "      <th>Bwd IAT Mean</th>\n",
              "      <th>Bwd IAT Std</th>\n",
              "      <th>Bwd IAT Max</th>\n",
              "      <th>Bwd IAT Min</th>\n",
              "      <th>Fwd PSH Flags</th>\n",
              "      <th>Bwd PSH Flags</th>\n",
              "      <th>Fwd URG Flags</th>\n",
              "      <th>Bwd URG Flags</th>\n",
              "      <th>Fwd Header Len</th>\n",
              "      <th>Bwd Header Len</th>\n",
              "      <th>Fwd Pkts/s</th>\n",
              "      <th>Bwd Pkts/s</th>\n",
              "      <th>Pkt Len Min</th>\n",
              "      <th>Pkt Len Max</th>\n",
              "      <th>Pkt Len Mean</th>\n",
              "      <th>Pkt Len Std</th>\n",
              "      <th>Pkt Len Var</th>\n",
              "      <th>FIN Flag Cnt</th>\n",
              "      <th>SYN Flag Cnt</th>\n",
              "      <th>RST Flag Cnt</th>\n",
              "      <th>PSH Flag Cnt</th>\n",
              "      <th>ACK Flag Cnt</th>\n",
              "      <th>URG Flag Cnt</th>\n",
              "      <th>CWE Flag Count</th>\n",
              "      <th>ECE Flag Cnt</th>\n",
              "      <th>Down/Up Ratio</th>\n",
              "      <th>Pkt Size Avg</th>\n",
              "      <th>Fwd Seg Size Avg</th>\n",
              "      <th>Bwd Seg Size Avg</th>\n",
              "      <th>Fwd Byts/b Avg</th>\n",
              "      <th>Fwd Pkts/b Avg</th>\n",
              "      <th>Fwd Blk Rate Avg</th>\n",
              "      <th>Bwd Byts/b Avg</th>\n",
              "      <th>Bwd Pkts/b Avg</th>\n",
              "      <th>Bwd Blk Rate Avg</th>\n",
              "      <th>Subflow Fwd Pkts</th>\n",
              "      <th>Subflow Fwd Byts</th>\n",
              "      <th>Subflow Bwd Pkts</th>\n",
              "      <th>Subflow Bwd Byts</th>\n",
              "      <th>Init Fwd Win Byts</th>\n",
              "      <th>Init Bwd Win Byts</th>\n",
              "      <th>Fwd Act Data Pkts</th>\n",
              "      <th>Fwd Seg Size Min</th>\n",
              "      <th>Active Mean</th>\n",
              "      <th>Active Std</th>\n",
              "      <th>Active Max</th>\n",
              "      <th>Active Min</th>\n",
              "      <th>Idle Mean</th>\n",
              "      <th>Idle Std</th>\n",
              "      <th>Idle Max</th>\n",
              "      <th>Idle Min</th>\n",
              "      <th>Label</th>\n",
              "    </tr>\n",
              "  </thead>\n",
              "  <tbody>\n",
              "    <tr>\n",
              "      <th>0</th>\n",
              "      <td>(1.0, 0.0, 0.0, 0.0, 0.0, 0.0, 0.0, 0.0, 0.0, ...</td>\n",
              "      <td>0</td>\n",
              "      <td>0</td>\n",
              "      <td>112641719</td>\n",
              "      <td>3</td>\n",
              "      <td>0</td>\n",
              "      <td>0</td>\n",
              "      <td>0</td>\n",
              "      <td>0</td>\n",
              "      <td>0</td>\n",
              "      <td>0.0</td>\n",
              "      <td>0.0</td>\n",
              "      <td>0</td>\n",
              "      <td>0</td>\n",
              "      <td>0.0</td>\n",
              "      <td>0.0</td>\n",
              "      <td>0.026633</td>\n",
              "      <td>56320859.5</td>\n",
              "      <td>139.300036</td>\n",
              "      <td>56320958</td>\n",
              "      <td>56320761</td>\n",
              "      <td>112641719</td>\n",
              "      <td>56320859.5</td>\n",
              "      <td>139.300036</td>\n",
              "      <td>56320958</td>\n",
              "      <td>56320761</td>\n",
              "      <td>0</td>\n",
              "      <td>0.0</td>\n",
              "      <td>0.0</td>\n",
              "      <td>0</td>\n",
              "      <td>0</td>\n",
              "      <td>0</td>\n",
              "      <td>0</td>\n",
              "      <td>0</td>\n",
              "      <td>0</td>\n",
              "      <td>0</td>\n",
              "      <td>0</td>\n",
              "      <td>0.026633</td>\n",
              "      <td>0.0</td>\n",
              "      <td>0</td>\n",
              "      <td>0</td>\n",
              "      <td>0.0</td>\n",
              "      <td>0.0</td>\n",
              "      <td>0.0</td>\n",
              "      <td>0</td>\n",
              "      <td>0</td>\n",
              "      <td>0</td>\n",
              "      <td>0</td>\n",
              "      <td>0</td>\n",
              "      <td>0</td>\n",
              "      <td>0</td>\n",
              "      <td>0</td>\n",
              "      <td>0</td>\n",
              "      <td>0.0</td>\n",
              "      <td>0.0</td>\n",
              "      <td>0.0</td>\n",
              "      <td>0</td>\n",
              "      <td>0</td>\n",
              "      <td>0</td>\n",
              "      <td>0</td>\n",
              "      <td>0</td>\n",
              "      <td>0</td>\n",
              "      <td>3</td>\n",
              "      <td>0</td>\n",
              "      <td>0</td>\n",
              "      <td>0</td>\n",
              "      <td>-1</td>\n",
              "      <td>-1</td>\n",
              "      <td>0</td>\n",
              "      <td>0</td>\n",
              "      <td>0.0</td>\n",
              "      <td>0.0</td>\n",
              "      <td>0</td>\n",
              "      <td>0</td>\n",
              "      <td>56320859.5</td>\n",
              "      <td>139.300036</td>\n",
              "      <td>56320958</td>\n",
              "      <td>56320761</td>\n",
              "      <td>Benign</td>\n",
              "    </tr>\n",
              "    <tr>\n",
              "      <th>1</th>\n",
              "      <td>(1.0, 0.0, 0.0, 0.0, 0.0, 0.0, 0.0, 0.0, 0.0, ...</td>\n",
              "      <td>0</td>\n",
              "      <td>0</td>\n",
              "      <td>112641466</td>\n",
              "      <td>3</td>\n",
              "      <td>0</td>\n",
              "      <td>0</td>\n",
              "      <td>0</td>\n",
              "      <td>0</td>\n",
              "      <td>0</td>\n",
              "      <td>0.0</td>\n",
              "      <td>0.0</td>\n",
              "      <td>0</td>\n",
              "      <td>0</td>\n",
              "      <td>0.0</td>\n",
              "      <td>0.0</td>\n",
              "      <td>0.026633</td>\n",
              "      <td>56320733.0</td>\n",
              "      <td>114.551299</td>\n",
              "      <td>56320814</td>\n",
              "      <td>56320652</td>\n",
              "      <td>112641466</td>\n",
              "      <td>56320733.0</td>\n",
              "      <td>114.551299</td>\n",
              "      <td>56320814</td>\n",
              "      <td>56320652</td>\n",
              "      <td>0</td>\n",
              "      <td>0.0</td>\n",
              "      <td>0.0</td>\n",
              "      <td>0</td>\n",
              "      <td>0</td>\n",
              "      <td>0</td>\n",
              "      <td>0</td>\n",
              "      <td>0</td>\n",
              "      <td>0</td>\n",
              "      <td>0</td>\n",
              "      <td>0</td>\n",
              "      <td>0.026633</td>\n",
              "      <td>0.0</td>\n",
              "      <td>0</td>\n",
              "      <td>0</td>\n",
              "      <td>0.0</td>\n",
              "      <td>0.0</td>\n",
              "      <td>0.0</td>\n",
              "      <td>0</td>\n",
              "      <td>0</td>\n",
              "      <td>0</td>\n",
              "      <td>0</td>\n",
              "      <td>0</td>\n",
              "      <td>0</td>\n",
              "      <td>0</td>\n",
              "      <td>0</td>\n",
              "      <td>0</td>\n",
              "      <td>0.0</td>\n",
              "      <td>0.0</td>\n",
              "      <td>0.0</td>\n",
              "      <td>0</td>\n",
              "      <td>0</td>\n",
              "      <td>0</td>\n",
              "      <td>0</td>\n",
              "      <td>0</td>\n",
              "      <td>0</td>\n",
              "      <td>3</td>\n",
              "      <td>0</td>\n",
              "      <td>0</td>\n",
              "      <td>0</td>\n",
              "      <td>-1</td>\n",
              "      <td>-1</td>\n",
              "      <td>0</td>\n",
              "      <td>0</td>\n",
              "      <td>0.0</td>\n",
              "      <td>0.0</td>\n",
              "      <td>0</td>\n",
              "      <td>0</td>\n",
              "      <td>56320733.0</td>\n",
              "      <td>114.551299</td>\n",
              "      <td>56320814</td>\n",
              "      <td>56320652</td>\n",
              "      <td>Benign</td>\n",
              "    </tr>\n",
              "  </tbody>\n",
              "</table>\n",
              "</div>"
            ],
            "text/plain": [
              "                                            features  ...   Label\n",
              "0  (1.0, 0.0, 0.0, 0.0, 0.0, 0.0, 0.0, 0.0, 0.0, ...  ...  Benign\n",
              "1  (1.0, 0.0, 0.0, 0.0, 0.0, 0.0, 0.0, 0.0, 0.0, ...  ...  Benign\n",
              "\n",
              "[2 rows x 79 columns]"
            ]
          },
          "metadata": {},
          "execution_count": 22
        }
      ]
    },
    {
      "cell_type": "code",
      "metadata": {
        "id": "965_w-cwasAU"
      },
      "source": [
        ""
      ],
      "execution_count": null,
      "outputs": []
    },
    {
      "cell_type": "code",
      "metadata": {
        "colab": {
          "base_uri": "https://localhost:8080/"
        },
        "id": "0WOMxhlvJVcE",
        "outputId": "de205043-bfc4-4703-8fe1-9f81413a6e5f"
      },
      "source": [
        "df2.dtypes"
      ],
      "execution_count": null,
      "outputs": [
        {
          "output_type": "execute_result",
          "data": {
            "text/plain": [
              "[('features', 'vector'),\n",
              " ('Dst Port', 'int'),\n",
              " ('Protocol', 'int'),\n",
              " ('Flow Duration', 'bigint'),\n",
              " ('Tot Fwd Pkts', 'int'),\n",
              " ('Tot Bwd Pkts', 'int'),\n",
              " ('TotLen Fwd Pkts', 'int'),\n",
              " ('TotLen Bwd Pkts', 'int'),\n",
              " ('Fwd Pkt Len Max', 'int'),\n",
              " ('Fwd Pkt Len Min', 'int'),\n",
              " ('Fwd Pkt Len Mean', 'double'),\n",
              " ('Fwd Pkt Len Std', 'double'),\n",
              " ('Bwd Pkt Len Max', 'int'),\n",
              " ('Bwd Pkt Len Min', 'int'),\n",
              " ('Bwd Pkt Len Mean', 'double'),\n",
              " ('Bwd Pkt Len Std', 'double'),\n",
              " ('Flow Pkts/s', 'double'),\n",
              " ('Flow IAT Mean', 'double'),\n",
              " ('Flow IAT Std', 'double'),\n",
              " ('Flow IAT Max', 'bigint'),\n",
              " ('Flow IAT Min', 'bigint'),\n",
              " ('Fwd IAT Tot', 'bigint'),\n",
              " ('Fwd IAT Mean', 'double'),\n",
              " ('Fwd IAT Std', 'double'),\n",
              " ('Fwd IAT Max', 'bigint'),\n",
              " ('Fwd IAT Min', 'bigint'),\n",
              " ('Bwd IAT Tot', 'int'),\n",
              " ('Bwd IAT Mean', 'double'),\n",
              " ('Bwd IAT Std', 'double'),\n",
              " ('Bwd IAT Max', 'int'),\n",
              " ('Bwd IAT Min', 'int'),\n",
              " ('Fwd PSH Flags', 'int'),\n",
              " ('Bwd PSH Flags', 'int'),\n",
              " ('Fwd URG Flags', 'int'),\n",
              " ('Bwd URG Flags', 'int'),\n",
              " ('Fwd Header Len', 'int'),\n",
              " ('Bwd Header Len', 'int'),\n",
              " ('Fwd Pkts/s', 'double'),\n",
              " ('Bwd Pkts/s', 'double'),\n",
              " ('Pkt Len Min', 'int'),\n",
              " ('Pkt Len Max', 'int'),\n",
              " ('Pkt Len Mean', 'double'),\n",
              " ('Pkt Len Std', 'double'),\n",
              " ('Pkt Len Var', 'double'),\n",
              " ('FIN Flag Cnt', 'int'),\n",
              " ('SYN Flag Cnt', 'int'),\n",
              " ('RST Flag Cnt', 'int'),\n",
              " ('PSH Flag Cnt', 'int'),\n",
              " ('ACK Flag Cnt', 'int'),\n",
              " ('URG Flag Cnt', 'int'),\n",
              " ('CWE Flag Count', 'int'),\n",
              " ('ECE Flag Cnt', 'int'),\n",
              " ('Down/Up Ratio', 'int'),\n",
              " ('Pkt Size Avg', 'double'),\n",
              " ('Fwd Seg Size Avg', 'double'),\n",
              " ('Bwd Seg Size Avg', 'double'),\n",
              " ('Fwd Byts/b Avg', 'int'),\n",
              " ('Fwd Pkts/b Avg', 'int'),\n",
              " ('Fwd Blk Rate Avg', 'int'),\n",
              " ('Bwd Byts/b Avg', 'int'),\n",
              " ('Bwd Pkts/b Avg', 'int'),\n",
              " ('Bwd Blk Rate Avg', 'int'),\n",
              " ('Subflow Fwd Pkts', 'int'),\n",
              " ('Subflow Fwd Byts', 'int'),\n",
              " ('Subflow Bwd Pkts', 'int'),\n",
              " ('Subflow Bwd Byts', 'int'),\n",
              " ('Init Fwd Win Byts', 'int'),\n",
              " ('Init Bwd Win Byts', 'int'),\n",
              " ('Fwd Act Data Pkts', 'int'),\n",
              " ('Fwd Seg Size Min', 'int'),\n",
              " ('Active Mean', 'double'),\n",
              " ('Active Std', 'double'),\n",
              " ('Active Max', 'int'),\n",
              " ('Active Min', 'int'),\n",
              " ('Idle Mean', 'double'),\n",
              " ('Idle Std', 'double'),\n",
              " ('Idle Max', 'bigint'),\n",
              " ('Idle Min', 'bigint'),\n",
              " ('Label', 'string')]"
            ]
          },
          "metadata": {},
          "execution_count": 25
        }
      ]
    },
    {
      "cell_type": "code",
      "metadata": {
        "colab": {
          "base_uri": "https://localhost:8080/"
        },
        "id": "FeNcEL_nNvFM",
        "outputId": "67532567-a3b2-460b-dd9c-dd67674d37b4"
      },
      "source": [
        "from pyspark.ml.feature import StringIndexer\n",
        "l_indexer = StringIndexer(inputCol=\"Label\", outputCol=\"labelIndex\")\n",
        "newdf = l_indexer.fit(df2).transform(df2)\n",
        "newdf.show(4)"
      ],
      "execution_count": null,
      "outputs": [
        {
          "output_type": "stream",
          "name": "stdout",
          "text": [
            "+--------------------+--------+--------+-------------+------------+------------+---------------+---------------+---------------+---------------+----------------+---------------+---------------+---------------+----------------+---------------+------------+-------------+----------------+------------+------------+-----------+----------------+----------------+-----------+-----------+-----------+----------------+---------------+-----------+-----------+-------------+-------------+-------------+-------------+--------------+--------------+------------+------------+-----------+-----------+--------------+--------------+----------------+------------+------------+------------+------------+------------+------------+--------------+------------+-------------+------------+----------------+----------------+--------------+--------------+----------------+--------------+--------------+----------------+----------------+----------------+----------------+----------------+-----------------+-----------------+-----------------+----------------+-----------+----------+----------+----------+------------+--------------+--------+--------+------+----------+\n",
            "|            features|Dst Port|Protocol|Flow Duration|Tot Fwd Pkts|Tot Bwd Pkts|TotLen Fwd Pkts|TotLen Bwd Pkts|Fwd Pkt Len Max|Fwd Pkt Len Min|Fwd Pkt Len Mean|Fwd Pkt Len Std|Bwd Pkt Len Max|Bwd Pkt Len Min|Bwd Pkt Len Mean|Bwd Pkt Len Std| Flow Pkts/s|Flow IAT Mean|    Flow IAT Std|Flow IAT Max|Flow IAT Min|Fwd IAT Tot|    Fwd IAT Mean|     Fwd IAT Std|Fwd IAT Max|Fwd IAT Min|Bwd IAT Tot|    Bwd IAT Mean|    Bwd IAT Std|Bwd IAT Max|Bwd IAT Min|Fwd PSH Flags|Bwd PSH Flags|Fwd URG Flags|Bwd URG Flags|Fwd Header Len|Bwd Header Len|  Fwd Pkts/s|  Bwd Pkts/s|Pkt Len Min|Pkt Len Max|  Pkt Len Mean|   Pkt Len Std|     Pkt Len Var|FIN Flag Cnt|SYN Flag Cnt|RST Flag Cnt|PSH Flag Cnt|ACK Flag Cnt|URG Flag Cnt|CWE Flag Count|ECE Flag Cnt|Down/Up Ratio|Pkt Size Avg|Fwd Seg Size Avg|Bwd Seg Size Avg|Fwd Byts/b Avg|Fwd Pkts/b Avg|Fwd Blk Rate Avg|Bwd Byts/b Avg|Bwd Pkts/b Avg|Bwd Blk Rate Avg|Subflow Fwd Pkts|Subflow Fwd Byts|Subflow Bwd Pkts|Subflow Bwd Byts|Init Fwd Win Byts|Init Bwd Win Byts|Fwd Act Data Pkts|Fwd Seg Size Min|Active Mean|Active Std|Active Max|Active Min|   Idle Mean|      Idle Std|Idle Max|Idle Min| Label|labelIndex|\n",
            "+--------------------+--------+--------+-------------+------------+------------+---------------+---------------+---------------+---------------+----------------+---------------+---------------+---------------+----------------+---------------+------------+-------------+----------------+------------+------------+-----------+----------------+----------------+-----------+-----------+-----------+----------------+---------------+-----------+-----------+-------------+-------------+-------------+-------------+--------------+--------------+------------+------------+-----------+-----------+--------------+--------------+----------------+------------+------------+------------+------------+------------+------------+--------------+------------+-------------+------------+----------------+----------------+--------------+--------------+----------------+--------------+--------------+----------------+----------------+----------------+----------------+----------------+-----------------+-----------------+-----------------+----------------+-----------+----------+----------+----------+------------+--------------+--------+--------+------+----------+\n",
            "|(79,[0,12,24,25,2...|       0|       0|    112641719|           3|           0|              0|              0|              0|              0|             0.0|            0.0|              0|              0|             0.0|            0.0|0.0266331163| 5.63208595E7|  139.3000358938|    56320958|    56320761|  112641719|    5.63208595E7|  139.3000358938|   56320958|   56320761|          0|             0.0|            0.0|          0|          0|            0|            0|            0|            0|             0|             0|0.0266331163|         0.0|          0|          0|           0.0|           0.0|             0.0|           0|           0|           0|           0|           0|           0|             0|           0|            0|         0.0|             0.0|             0.0|             0|             0|               0|             0|             0|               0|               3|               0|               0|               0|               -1|               -1|                0|               0|        0.0|       0.0|         0|         0|5.63208595E7|139.3000358938|56320958|56320761|Benign|       0.0|\n",
            "|(79,[0,12,24,25,2...|       0|       0|    112641466|           3|           0|              0|              0|              0|              0|             0.0|            0.0|              0|              0|             0.0|            0.0|0.0266331761|  5.6320733E7|  114.5512985522|    56320814|    56320652|  112641466|     5.6320733E7|  114.5512985522|   56320814|   56320652|          0|             0.0|            0.0|          0|          0|            0|            0|            0|            0|             0|             0|0.0266331761|         0.0|          0|          0|           0.0|           0.0|             0.0|           0|           0|           0|           0|           0|           0|             0|           0|            0|         0.0|             0.0|             0.0|             0|             0|               0|             0|             0|               0|               3|               0|               0|               0|               -1|               -1|                0|               0|        0.0|       0.0|         0|         0| 5.6320733E7|114.5512985522|56320814|56320652|Benign|       0.0|\n",
            "|(79,[0,12,24,25,2...|       0|       0|    112638623|           3|           0|              0|              0|              0|              0|             0.0|            0.0|              0|              0|             0.0|            0.0|0.0266338483| 5.63193115E7|  301.9345955667|    56319525|    56319098|  112638623|    5.63193115E7|  301.9345955667|   56319525|   56319098|          0|             0.0|            0.0|          0|          0|            0|            0|            0|            0|             0|             0|0.0266338483|         0.0|          0|          0|           0.0|           0.0|             0.0|           0|           0|           0|           0|           0|           0|             0|           0|            0|         0.0|             0.0|             0.0|             0|             0|               0|             0|             0|               0|               3|               0|               0|               0|               -1|               -1|                0|               0|        0.0|       0.0|         0|         0|5.63193115E7|301.9345955667|56319525|56319098|Benign|       0.0|\n",
            "|(79,[0,11,12,13,1...|      22|       6|      6453966|          15|          10|           1239|           2273|            744|              0|            82.6| 196.7412368715|            976|              0|           227.3| 371.6778922072|3.8735871865|    268915.25|247443.778966007|      673900|          22|    6453966|460997.571428571|123109.423587757|     673900|     229740|    5637902|626433.555555556|455082.21422401|    1167293|        554|            0|            0|            0|            0|           488|           328|2.3241523119|1.5494348746|          0|        976|135.0769230769|277.8347599674|77192.1538461539|           0|           0|           0|           1|           0|           0|             0|           0|            0|      140.48|            82.6|           227.3|             0|             0|               0|             0|             0|               0|              15|            1239|              10|            2273|            65535|              233|                6|              32|        0.0|       0.0|         0|         0|         0.0|           0.0|       0|       0|Benign|       0.0|\n",
            "+--------------------+--------+--------+-------------+------------+------------+---------------+---------------+---------------+---------------+----------------+---------------+---------------+---------------+----------------+---------------+------------+-------------+----------------+------------+------------+-----------+----------------+----------------+-----------+-----------+-----------+----------------+---------------+-----------+-----------+-------------+-------------+-------------+-------------+--------------+--------------+------------+------------+-----------+-----------+--------------+--------------+----------------+------------+------------+------------+------------+------------+------------+--------------+------------+-------------+------------+----------------+----------------+--------------+--------------+----------------+--------------+--------------+----------------+----------------+----------------+----------------+----------------+-----------------+-----------------+-----------------+----------------+-----------+----------+----------+----------+------------+--------------+--------+--------+------+----------+\n",
            "only showing top 4 rows\n",
            "\n"
          ]
        }
      ]
    },
    {
      "cell_type": "code",
      "metadata": {
        "id": "qcdm33z8NvIQ"
      },
      "source": [
        "# Train/Test Split\n",
        "splits = [.75, .25]\n",
        "train_data, test_data = newdf.randomSplit(splits)"
      ],
      "execution_count": null,
      "outputs": []
    },
    {
      "cell_type": "code",
      "metadata": {
        "id": "wG_wPD_OOpMk"
      },
      "source": [
        "forest_model = RandomForestClassifier(featuresCol='features', labelCol='labelIndex', \n",
        "                            predictionCol='prediction', maxDepth=30, \n",
        "                            impurity='gini', subsamplingRate= .5).fit(train_data)"
      ],
      "execution_count": null,
      "outputs": []
    },
    {
      "cell_type": "code",
      "metadata": {
        "id": "qVynNfhXOpPK"
      },
      "source": [
        "predictions = forest_model.transform(test_data).select('labelIndex', 'prediction')"
      ],
      "execution_count": null,
      "outputs": []
    },
    {
      "cell_type": "code",
      "metadata": {
        "id": "ngSdWNTUb4d0"
      },
      "source": [
        "from pyspark.ml.evaluation import MulticlassClassificationEvaluator\n",
        "evaluator = MulticlassClassificationEvaluator(predictionCol='prediction', labelCol='labelIndex')"
      ],
      "execution_count": null,
      "outputs": []
    },
    {
      "cell_type": "code",
      "metadata": {
        "colab": {
          "base_uri": "https://localhost:8080/"
        },
        "id": "3MSSiCWdbnrI",
        "outputId": "347e336a-2833-4ef7-e9bd-62d7e8507984"
      },
      "source": [
        "# inspect F1 and accuracy scores\n",
        "print('F1 Score:',evaluator.evaluate(predictions,{evaluator.metricName: 'f1'}))\n",
        "print('Accuracy:',evaluator.evaluate(predictions,{evaluator.metricName: 'accuracy'}))"
      ],
      "execution_count": null,
      "outputs": [
        {
          "output_type": "stream",
          "name": "stdout",
          "text": [
            "F1 Score: 0.9999917025498746\n",
            "F1 Score: 0.9999917025498746\n",
            "Accuracy: 0.999991730890087\n",
            "Accuracy: 0.999991730890087\n"
          ]
        }
      ]
    },
    {
      "cell_type": "code",
      "metadata": {
        "id": "5z3FK-3hc6K9"
      },
      "source": [
        "# Inspect feature importance\n",
        "sorted(list(zip(forest_model.featureImportances,features)),reverse=True)"
      ],
      "execution_count": null,
      "outputs": []
    },
    {
      "cell_type": "code",
      "metadata": {
        "id": "yqyebi3XnByP"
      },
      "source": [
        "import six\n",
        "\n",
        "for i in newdf.select(num_cols_NewDF).columns:\n",
        "    if not( isinstance(newdf.select(i).take(1)[0][0], six.string_types)):\n",
        "        print( \"Correlation to Label for \", i, newdf.stat.corr('labelIndex',i))"
      ],
      "execution_count": null,
      "outputs": []
    },
    {
      "cell_type": "markdown",
      "metadata": {
        "id": "BJPcxRuVwB_h"
      },
      "source": [
        "# **Correlation and Graph**"
      ]
    },
    {
      "cell_type": "code",
      "metadata": {
        "id": "ZgTag5vG0YZZ"
      },
      "source": [
        "from pyspark.ml.stat import Correlation\n",
        "from pyspark.ml.linalg import DenseMatrix, Vectors\n",
        "from pyspark.ml.feature import VectorAssembler\n",
        "from pyspark.sql.functions import *\n",
        "from pyspark.ml.feature import StringIndexer\n",
        "\n",
        "from pyspark.sql.functions import expr , when , lit , col\n",
        "\n",
        "bddata.filter(col(\"Flow Byts/s\").isNotNull())\n",
        "\n",
        "l_indexer = StringIndexer(inputCol=\"Label\", outputCol=\"labelIndex\")\n",
        "bddata = l_indexer.fit(bddata).transform(bddata)\n",
        "\n",
        "bddata=bddata.drop('Label')\n",
        "\n",
        "assembler = VectorAssembler(inputCols=bddata.columns, \n",
        "outputCol=\"features\",handleInvalid='keep')\n",
        "df = assembler.transform(bddata).select(\"features\")\n",
        "\n",
        "# correlation will be in Dense Matrix\n",
        "correlation = Correlation.corr(df,\"features\",\"pearson\").collect()[0][0]\n",
        "\n",
        "# To convert Dense Matrix into DataFrame\n",
        "rows = correlation.toArray().tolist()\n",
        "df = spark.createDataFrame(rows,bddata.columns)"
      ],
      "execution_count": null,
      "outputs": []
    },
    {
      "cell_type": "code",
      "metadata": {
        "colab": {
          "base_uri": "https://localhost:8080/"
        },
        "id": "pnKuiDAL3Ofs",
        "outputId": "7195e82a-381b-4608-cd05-3443b5d3a6b3"
      },
      "source": [
        "df.show()"
      ],
      "execution_count": null,
      "outputs": [
        {
          "output_type": "stream",
          "name": "stdout",
          "text": [
            "+--------------------+--------------------+--------------------+--------------------+--------------------+--------------------+--------------------+--------------------+--------------------+--------------------+--------------------+--------------------+--------------------+--------------------+--------------------+-----------+--------------------+--------------------+--------------------+--------------------+--------------------+--------------------+--------------------+--------------------+--------------------+--------------------+--------------------+--------------------+--------------------+--------------------+--------------------+-------------+-------------+-------------+--------------------+--------------------+--------------------+--------------------+--------------------+--------------------+--------------------+--------------------+--------------------+--------------------+--------------------+--------------------+--------------------+--------------------+--------------------+--------------+--------------------+--------------------+--------------------+--------------------+--------------------+--------------+--------------+----------------+--------------+--------------+----------------+--------------------+--------------------+--------------------+--------------------+--------------------+--------------------+--------------------+--------------------+--------------------+--------------------+--------------------+--------------------+--------------------+--------------------+--------------------+--------------------+--------------------+\n",
            "|            Dst Port|            Protocol|       Flow Duration|        Tot Fwd Pkts|        Tot Bwd Pkts|     TotLen Fwd Pkts|     TotLen Bwd Pkts|     Fwd Pkt Len Max|     Fwd Pkt Len Min|    Fwd Pkt Len Mean|     Fwd Pkt Len Std|     Bwd Pkt Len Max|     Bwd Pkt Len Min|    Bwd Pkt Len Mean|     Bwd Pkt Len Std|Flow Pkts/s|       Flow IAT Mean|        Flow IAT Std|        Flow IAT Max|        Flow IAT Min|         Fwd IAT Tot|        Fwd IAT Mean|         Fwd IAT Std|         Fwd IAT Max|         Fwd IAT Min|         Bwd IAT Tot|        Bwd IAT Mean|         Bwd IAT Std|         Bwd IAT Max|         Bwd IAT Min|       Fwd PSH Flags|Bwd PSH Flags|Fwd URG Flags|Bwd URG Flags|      Fwd Header Len|      Bwd Header Len|          Fwd Pkts/s|          Bwd Pkts/s|         Pkt Len Min|         Pkt Len Max|        Pkt Len Mean|         Pkt Len Std|         Pkt Len Var|        FIN Flag Cnt|        SYN Flag Cnt|        RST Flag Cnt|        PSH Flag Cnt|        ACK Flag Cnt|        URG Flag Cnt|CWE Flag Count|        ECE Flag Cnt|       Down/Up Ratio|        Pkt Size Avg|    Fwd Seg Size Avg|    Bwd Seg Size Avg|Fwd Byts/b Avg|Fwd Pkts/b Avg|Fwd Blk Rate Avg|Bwd Byts/b Avg|Bwd Pkts/b Avg|Bwd Blk Rate Avg|    Subflow Fwd Pkts|    Subflow Fwd Byts|    Subflow Bwd Pkts|    Subflow Bwd Byts|   Init Fwd Win Byts|   Init Bwd Win Byts|   Fwd Act Data Pkts|    Fwd Seg Size Min|         Active Mean|          Active Std|          Active Max|          Active Min|           Idle Mean|            Idle Std|            Idle Max|            Idle Min|          labelIndex|\n",
            "+--------------------+--------------------+--------------------+--------------------+--------------------+--------------------+--------------------+--------------------+--------------------+--------------------+--------------------+--------------------+--------------------+--------------------+--------------------+-----------+--------------------+--------------------+--------------------+--------------------+--------------------+--------------------+--------------------+--------------------+--------------------+--------------------+--------------------+--------------------+--------------------+--------------------+--------------------+-------------+-------------+-------------+--------------------+--------------------+--------------------+--------------------+--------------------+--------------------+--------------------+--------------------+--------------------+--------------------+--------------------+--------------------+--------------------+--------------------+--------------------+--------------+--------------------+--------------------+--------------------+--------------------+--------------------+--------------+--------------+----------------+--------------+--------------+----------------+--------------------+--------------------+--------------------+--------------------+--------------------+--------------------+--------------------+--------------------+--------------------+--------------------+--------------------+--------------------+--------------------+--------------------+--------------------+--------------------+--------------------+\n",
            "|                 1.0|-0.24485658453881665|-0.00125819268992...|-0.00918817590218...|-0.01290179388585...|-0.00718836296006...|-0.00985164680704...| 0.47058909273433525| -0.1898861608170715| 0.42670946729104237|  0.5586602081073967|-0.11343836670084727|-0.22711734248980364|-0.06576682855350904|0.008352244776303377|        NaN|0.003609684164442029|-9.86189543149271E-4|1.136047803857231...|0.001821085244607...|-0.00108963578227...|0.003483842113138...|-8.52746246740386...|2.087166354309649E-4|0.001775764447323...|-0.12214703260344616|-0.06650968011521208|-0.07554379661013168|-0.08902575074065935|-0.02890618628676997| 0.05920845730305818|          NaN|          NaN|          NaN| -0.0093137471308912|  -0.012426094669993| 0.05851943784375015|-0.10718466973003835| -0.2002174562497293|  0.1913647411230776| 0.08568707588047758| 0.23415781575297967| 0.11014706564699753| 0.05220680792743857| 0.05920845730305818| 0.24793609374641104|-0.08450559075373333| 0.28809037296978796| 0.20063213760898618|           NaN|  0.2479342170897851| -0.2515752410617774| 0.08798251097648108| 0.42670946729104237|-0.06576682855350906|           NaN|           NaN|             NaN|           NaN|           NaN|             NaN|-0.00918817590218...|-0.00718836296006...|-0.01290179388585...|-0.00985164680704...|  0.2518584929644713|  0.1188856907719046|-0.00907818147050...| 0.15512454084399327|-0.03442591736866...|-0.04199379597430048|-0.04826600543192842|-0.02519639002224146|0.001781171728617...|-8.81456794835028E-4|3.091343757610009E-4|0.010635516374993104|-0.26994780323942486|\n",
            "|-0.24485658453881665|                 1.0|-0.00463735538543...|0.032750005722468875|-0.01274371111433243| 0.03053012818462462|-0.00851356420461...|-0.25272917730889355|  0.7491507216606036|-0.07540811696192713| -0.2895246362550314|-0.19980254943491962|  0.8565897265336933|0.014106662685229965|-0.29740546898731157|        NaN|-0.00507339878920...|-0.00310427514423...|-0.00487502585605...|8.826852961101018E-4|-0.00449776836825...|-0.00536252821899...|-0.00318565670805...|-0.00480445329960...|8.625002061395792E-4|-0.11023244826822039|-0.06409149760374735|-0.09229812039973131|-0.09165728295867547|-0.01794025460974...|-0.07385336273921984|          NaN|          NaN|          NaN| 0.03050758994707686|-0.01629555787793...|-0.09681691917026332|-0.10024379338307698|  0.7807440249874481| -0.2515249418582939|-0.03436036502157547|-0.24426331668140264| -0.1722168916366018|-0.02697645633447...|-0.07385336273921984|-0.18178956297145393|-0.35545331466760316|-0.38745383979762654|-0.09992238039295592|           NaN|-0.18178883809800994| 0.40887187541315484| 0.04503576360908266|-0.07540811696192713|0.014106662685229967|           NaN|           NaN|             NaN|           NaN|           NaN|             NaN|0.032750005722468875| 0.03053012818462462|-0.01274371111433243|-0.00851356420461...| -0.3075604718235925|-0.18113401736672752|0.033364841589898796| -0.6482630025222352|-0.02213293774947...|-0.02495650179353198|-0.03148730704074767|-0.01809921905138...|-0.00803309384387...|-0.00243325965602733|-0.00472019978212...|-0.02465506077163...|-0.21776593019076246|\n",
            "|-0.00125819268992...|-0.00463735538543...|                 1.0|0.002230917201519477|0.002144348657180048|0.002265154900139...|0.001750401255768...|0.002576255187655313|-0.00263793472500...|-2.25772335732947...|6.010595252816984E-4| 0.01045472570445865|-0.00458824002546...|0.009596743631779847|0.009004378699002303|        NaN|  0.5431488868050781| -0.7163667909925164| -0.4992269921162275|  0.8152942544250382|  0.9999947964765918|   0.543205997484944| -0.7163526929181157| -0.4992322273658396|  0.8153009826499806|0.027329395525072724| 0.01446103051180182|0.019261847524211374| 0.02038006168323388|0.004954033786466975|8.191360116700828E-4|          NaN|          NaN|          NaN|0.002417501662642...|0.002248250367169...|-0.00263853972279...|-0.00276455047057...|-0.00273858154452...|0.008402908785694435|0.008974259097343769| 0.00820757104773648|0.007554480927573789|-6.90427164283401...|8.191360116700828E-4|-0.00329214988215...|0.004127315092360426|5.497427440582497E-4|-0.00202955093202...|           NaN|-0.00329215345391...|-6.84286126619358...|0.007900799048713292|-2.25772335732947...| 0.00959674363177985|           NaN|           NaN|             NaN|           NaN|           NaN|             NaN|0.002230917201519477|0.002265154900139...|0.002144348657180048|0.001750401255768...|0.003113885514875...|-0.00269267668773...|0.002234999070802...|-1.33852149586927...|0.006325529310960371|0.008935403033575403|0.009686928969846558| 0.00427206168622244| -0.6684155983862431| -0.6689071344190188| -0.6852577161050967|-0.16320021077075242|-0.00424415483454...|\n",
            "|-0.00918817590218...|0.032750005722468875|0.002230917201519477|                 1.0|0.025277706496394062|  0.9780549133880091|0.025151776441566492|-0.00780393376092...|0.017032990459398874|-0.00460138913247...|-0.00940979461730...|-0.00788788234608...|-0.00731631582884...|-0.00533799337073...|-0.00880210978496...|        NaN|-1.79576788678140...|3.379831412274826...|1.024595718184531...|-1.04234587199926...|0.002231488097575813|-1.89094821790695...|3.353484650898916E-5|-1.68591656532411...|-1.05691019306681...|-8.89355308086258...|-0.00210761948234...|-0.00240674272726...|-9.72598195364595...|-8.96765280506507E-4|-0.00207800937884...|          NaN|          NaN|          NaN|  0.9984928329419941|0.025234244495454933|-0.00387360224092...|-0.00419130491161...|0.017796908140010653|-0.00860679732664...|-0.00132266592761...|-0.00922738380168...|-0.00333347388784...|-0.00105985757921...|-0.00207800937884...|-0.00608051530104...|-0.01106900333820...|-0.01462607205115...|-0.00397565115072...|           NaN|-0.00608048444058449|-0.00986886675370...|-0.00289852817527...|-0.00460138913247...|-0.00533799337073...|           NaN|           NaN|             NaN|           NaN|           NaN|             NaN|                 1.0|  0.9780549133880091|0.025277706496394062|0.025151776441566492|-0.01102219881522...|-0.00570176617328...|   0.999534543795081|-0.02333607351623...|0.002299366913171...|5.440980377948492E-4|0.002032747188040...|0.002356946503467739|-7.33154733057749...|6.171693110625666E-5|1.299732214496990...|-5.44956892264396...| 0.09170926430074706|\n",
            "|-0.01290179388585...|-0.01274371111433243|0.002144348657180048|0.025277706496394062|                 1.0|0.007499012472545541|  0.9979330517465327|0.030045909048290367|-0.01041983221328...|0.007323647545398598|0.009319284923037536| 0.06667495640488454|-0.00628156364450...| 0.15593109585651754|0.026899798968506763|        NaN|-3.09854379335554...|1.515829618341118...|4.300431566700375E-4|-5.44166455074395...|0.001812920935527...|-2.69765782614063...|5.642041219576235E-5|2.031440261862912...|-5.58974416865090...| 0.07947072710681286|0.004646690100779535|0.015806773108628415|  0.0679806590386751|-8.84745692937840...|0.018816561812140923|          NaN|          NaN|          NaN| 0.07141151800160549|   0.999910575600025|-0.00687182898712...|-0.00668951287213...|-0.01074826544528...| 0.06012702533508439|  0.1761683918126713| 0.06836545640264459|  0.0781521563383125|-0.00181001914843...|0.018816561812140923|-0.00203224551102...|0.028688126045925272|-0.01680976523295...| -0.0061037352126447|           NaN|-0.00203215640649...| 0.13658864639220386| 0.16550330185166087|0.007323647545398593|  0.1559310958565176|           NaN|           NaN|             NaN|           NaN|           NaN|             NaN|0.025277706496394062|0.007499012472545541|                 1.0|  0.9979330517465327|-0.00493786399628812|0.002885795417242...|-2.90867256130945...|3.549228186903877...|  0.1328225270004962| 0.05686170817108209| 0.12914078240852184| 0.12840192655701627|0.001016844947795...|1.075632491504819...|4.344503562994823...|0.004089964102571347|-0.00874080935008...|\n",
            "|-0.00718836296006...| 0.03053012818462462|0.002265154900139...|  0.9780549133880091|0.007499012472545541|                 1.0|0.001869833454096...|0.034983388289377866| 0.01630754309317599| 0.04168077009062675|0.014185684967890282|-0.00255080366140...|-0.00870142908217...|-0.00413083248767...|-0.00420770410823...|        NaN|-2.14742636457743...|-4.12140147863222...|-9.45748731490438...|-3.36492183757124...|0.002272766453044...|-2.20433174541574...|-3.76914557461881...|-9.16906508497937...|-3.53668964931446...|2.564847181492568E-4|-0.00137988204058...|-0.00102214639954...|-5.14496475879655...|-8.04415146720565...|-0.00255290885870...|          NaN|          NaN|          NaN|  0.9754216012726586|0.008446971034680057|-0.00473009463835...|-0.00505763924175...| 0.01659939403618769| 0.02254189426319851|0.008706653732843917|0.006348049527590818|   0.104140277455064|-0.00129457906778...|-0.00255290885870...|-0.00312258210115...|-0.00742308669501...|-0.01619668550459654|-0.00465903469252...|           NaN|-0.00312253026599...|-0.01014962800563...|0.006796495159519...| 0.04168077009062671|-0.00413083248767...|           NaN|           NaN|             NaN|           NaN|           NaN|             NaN|  0.9780549133880091|                 1.0|0.007499012472545541|0.001869833454096...|-0.00958001835544...|-0.00212066684765...|  0.9784448043057294|-0.02182018585398...|0.001402626545383...|0.001831639253078...|0.002056731618815...| 9.37265358216303E-4|-1.82334236379233...|-2.59891606191842...|-9.18517554134181...|-6.65032149814060...| 0.08903843410017086|\n",
            "|-0.00985164680704...|-0.00851356420461...|0.001750401255768...|0.025151776441566492|  0.9979330517465327|0.001869833454096...|                 1.0|0.013304031479440488|-0.00687173871619...|-0.00707074156072...|-0.00159441749174...|0.048088607231623934|-0.00241049414851...| 0.14483739524656988|0.010665093646697328|        NaN|-1.85532939903508...|-5.51217683423514...|4.166657892583687E-4|-2.97269172036647...|0.001419622110768...|-1.75389223291893...|2.241265633811864E-5|1.876525660392398E-4|-3.13383673718902...| 0.06352478546343553|-7.62561195282887E-4|0.006095748396344915| 0.05771613442597785|-0.00104876617401...|0.020253605218031292|          NaN|          NaN|          NaN| 0.07080572780641779|  0.9974995338162231|-0.00425083684399...|-0.00443027320530...|-0.00707321628906205| 0.04012970554700039|  0.1639906975580299|0.052528987393689275| 0.05605114757407406|-0.00114016735763...|0.020253605218031292|-0.00570541546939...|0.015282399091196174|-0.00755427834651...|-0.00422623998287...|           NaN|-0.00570537850152...|  0.1263384123346025| 0.15407829233694237|-0.00707074156072...|  0.1448373952465699|           NaN|           NaN|             NaN|           NaN|           NaN|             NaN|0.025151776441566492|0.001869833454096...|  0.9979330517465327|  1.0000000000000002|-0.00456916712632...|-0.00340386983631...|-1.00071437819935...|-0.00169702661767...|   0.128898013997832|   0.050290569963799| 0.12252795098958856| 0.12612843852511615|9.514100511449216E-4|1.107981492189317...|4.149355718258801...|0.003786010075927477|-0.00864710696944...|\n",
            "| 0.47058909273433525|-0.25272917730889355|0.002576255187655313|-0.00780393376092...|0.030045909048290367|0.034983388289377866|0.013304031479440488|                 1.0|-0.17778936758537922|  0.9197387435413215|  0.9650932129388583|  0.5628466268443355|-0.23009023817258167|  0.4154751055665387|  0.6238515464358915|        NaN|-0.00587259784793...|-1.09540430044266...|-0.00148120682944...|-0.00103263552149...|0.002591631646463...|-0.00537200794943...|3.247248949720155...|-0.00141806949662...|-0.00107060454189...| 0.14595094355068342|0.047077924936618935| 0.11413885037749566| 0.09791140557543043|-0.02209736810813...|-0.07790434969187895|          NaN|          NaN|          NaN|-0.00395365210321736| 0.03569238407086914| -0.1444446343241197|-0.15475877391747245|-0.18871506915108396|  0.8421691908002054|  0.5926061180761708|  0.8065900003635104|  0.5640685002314672|-0.03736042834207658|-0.07790434969187895|  0.5053032955956526|  0.4196388089408129|-0.18693601281502267|-0.11457178372824099|           NaN|  0.5053066339379539|-0.17546230511679795|  0.5925750771016157|  0.9197387435413215| 0.41547510556653877|           NaN|           NaN|             NaN|           NaN|           NaN|             NaN|-0.00780393376092...|0.034983388289377866|0.030045909048290367|0.013304031479440485|  0.2294940212690561| 0.49770565469150724|-0.00869392307098...| 0.19971962663913212| 0.03564726892652666|0.048406465348897136| 0.05744035202693453|0.026389237418903852|-0.00340547214215...|-7.50903649805847...|-0.00190245423833...|-0.01141689230090...|-0.20079430702055734|\n",
            "| -0.1898861608170715|  0.7491507216606036|-0.00263793472500...|0.017032990459398874|-0.01041983221328...| 0.01630754309317599|-0.00687173871619...|-0.17778936758537922|                 1.0| 0.06824236068162384|-0.23213038443838616|-0.16171113164158468|  0.6828366468329926|0.009375189570756615|-0.23945130756707902|        NaN|-0.00249272080326...|-6.69593810570070...|-0.00175765823942...|-3.20473553871764...|-0.00252908679402...|-0.00268832458654...|-7.61624333492094...|-0.00170324270185...|-3.18562472101148...|-0.08651060561775505|-0.04494652515807022| -0.0742998181058272|-0.07095164256376048|-0.00652352044046...|-0.03383992459400...|          NaN|          NaN|          NaN|0.015242831500483613|-0.01317305468340...|-0.07428279371071343| -0.0713031284825001|  0.9640807928084525|-0.18802515074466183| 0.05153721244311224|-0.19853376921999688|-0.13641394183374972|-0.02176359472741...|-0.03383992459400...|-0.14666101155503716|-0.28676642287724546| -0.3016791769391138|-0.07153931927210377|           NaN|-0.14666042675428836| 0.29859160453205985| 0.13028661532037975| 0.06824236068162384|0.009375189570756616|           NaN|           NaN|             NaN|           NaN|           NaN|             NaN|0.017032990459398874| 0.01630754309317599|-0.01041983221328...|-0.00687173871619...| -0.2472205394653624|-0.14594098242569836|0.017498459453874297| -0.5253122120992822| 0.04332130008950065|-0.01597544211814059| 0.02156815325159683| 0.05131180855129405|-0.00301085298129...|2.507523595784074E-6|-0.00134929969631...|-0.01203847014233...|-0.17166242172468538|\n",
            "| 0.42670946729104237|-0.07540811696192713|-2.25772335732947...|-0.00460138913247...|0.007323647545398598| 0.04168077009062675|-0.00707074156072...|  0.9197387435413215| 0.06824236068162384|                 1.0|  0.9173758318776684|  0.4801087914117007|-0.06766223942052703|  0.3888794929926221|  0.5546831971828833|        NaN|-0.00667298313090...|-3.23538344087047...|-0.00204158590785...|-0.00113438115822...|-1.97863087254774...|-0.00631389883685...|3.580964902294869E-5|-0.00198080471256...|-0.00114889642315...|0.044050251014935954| 0.03022380768411848| 0.07639487826384825| 0.05752340060523301|-0.00534079788131332|-0.04964105554349642|          NaN|          NaN|          NaN|-0.00255085406532...| 0.01117472760170888| -0.1615866767596391|-0.17553113811820859| 0.04295060165945397|   0.764462167542932|  0.6021725372809393|  0.7491679242910181|  0.5339945704800532|-0.04270081144869647|-0.04964105554349642|  0.4711939860904859| 0.34706709754269927|-0.25288377008132035|-0.13301716458072985|           NaN| 0.47119751755360967|-0.08383758516424988|  0.6274589231541711|  0.9999999999999998|  0.3888794929926222|           NaN|           NaN|             NaN|           NaN|           NaN|             NaN|-0.00460138913247...| 0.04168077009062675|0.007323647545398598|-0.00707074156072...| 0.19736590488067493|   0.417762412674092|-0.00478849769929...| 0.06597445092133732|0.058235238562718866|0.039476465615799226| 0.06130406161713948| 0.05114339771910315|-0.00478811853342...|-6.93971278944715...|-0.00247889077081...|-0.01706182092817...|-0.24880290372137082|\n",
            "|  0.5586602081073967| -0.2895246362550314|6.010595252816984E-4|-0.00940979461730...|0.009319284923037536|0.014185684967890282|-0.00159441749174...|  0.9650932129388583|-0.23213038443838616|  0.9173758318776684|                 1.0| 0.45840355037476593| -0.2636215911349102|  0.3533276759306782|  0.5717043252786699|        NaN|-0.00560726941011...|-1.73890106392195...|-0.00162999339838...|-9.81099644968916...|6.123452865068401E-4|-0.00519773803702878| 1.95229082983443E-4|-0.00158177615178...|-0.00100748687073...| 0.07171286754779042|0.025958496779706308| 0.07701149125101846|0.053531537248489386|-0.02079669547611...|-0.06599116224638227|          NaN|          NaN|          NaN|-0.00703409507137...|0.013496583201377152|-0.13376727591743456|-0.14537609466989884|-0.24022746490886898|  0.7759690485742154|  0.5407700332151637|  0.7816812525566914|   0.492064800162576|-0.03412972250030597|-0.06599116224638227|  0.5068864772436428|  0.3745702754010756|-0.11493849046882995|-0.10190402232619367|           NaN|  0.5068897021418308|-0.19008889185061023|  0.5447553312989538|   0.917375831877668| 0.35332767593067826|           NaN|           NaN|             NaN|           NaN|           NaN|             NaN|-0.00940979461730...|0.014185684967890282| 0.00931928492303753|-0.00159441749174...|  0.2885610186189192|   0.413401172688761|-0.00981210562768...|  0.2413518411068702|0.016490350619150183|0.026763765013770705| 0.03038926054097398|0.011345257438181069|-0.00390862010149...|-8.04000599953729...|-0.00210878688542...|-0.01342279664956...|-0.20704518755067433|\n",
            "|-0.11343836670084727|-0.19980254943491962| 0.01045472570445865|-0.00788788234608...| 0.06667495640488454|-0.00255080366140...|0.048088607231623934|  0.5628466268443355|-0.16171113164158468|  0.4801087914117007| 0.45840355037476593|                 1.0|-0.16013446125812872|  0.7823801699826782|  0.9597970856871804|        NaN|-0.00555530498252516|6.082231771252928E-4|3.526001757576004...|-0.00103446861800...| 0.01026630663574571|-0.00465398176721...|0.001318576963663...|3.274915022893608E-4|-0.00108485223211...|   0.435887523656652|  0.1366156096180035| 0.33761985656752336| 0.34891259439552436|-0.02465414344605139|-0.09625744794815339|          NaN|          NaN|          NaN|-0.00241945092928...| 0.07176604233292477|-0.14688524163739103|-0.15326233207849313|-0.16611294220318704|  0.9006500624826227|  0.7436492234939278|  0.8512022057645141|  0.5674138594762702|-0.03307212421665...|-0.09625744794815339|  0.3803650103412574|   0.642243136396402| -0.4489978263893968|-0.12481018335829987|           NaN| 0.38036796446924387| 0.07878712569700955|  0.7229677529123228|  0.4801087914117008|  0.7823801699826785|           NaN|           NaN|             NaN|           NaN|           NaN|             NaN|-0.00788788234608027|-0.00255080366140...| 0.06667495640488454|0.048088607231623934| 0.07366803809897889| 0.47984836635420003|-0.00964884823272...|0.015117186092464964| 0.08231209505497866| 0.12086068573089076| 0.12923393765516214|0.056294838909727196| 0.00126255983255193|-4.48399777632996...|1.114836447449429...|0.007414183104423066|-0.13454200049331527|\n",
            "|-0.22711734248980364|  0.8565897265336933|-0.00458824002546...|-0.00731631582884...|-0.00628156364450...|-0.00870142908217...|-0.00241049414851...|-0.23009023817258167|  0.6828366468329926|-0.06766223942052703| -0.2636215911349102|-0.16013446125812872|                 1.0| 0.07804084595965961| -0.2715672519791624|        NaN|-0.00414797232651...|-0.00102718021855...|-0.00263238915597...|-6.32846352720469...|-0.00446222434675005|-0.00436542940861...|-0.00108829081339...|-0.00256874988436...|-6.44210352356298...| -0.0941094345885868|-0.04135188234440813| -0.0832666059759884|-0.07573355225545136|0.003573531290835473|-0.04919542537844728|          NaN|          NaN|          NaN|-0.00899546114826...|-0.00959468302694...|-0.08883897165880826|-0.09195233353953618|  0.7101498016194265|  -0.211951444635498|3.369235585927867...|-0.19198155575473885|-0.15125131667982872|-0.02462530779103...|-0.04919542537844728| -0.1661840411644285| -0.3249348057378686| -0.3479872555425165| -0.0913210485542114|           NaN|-0.16618337851693493|  0.3789950166998808| 0.08404995255732454|-0.06766223942052703| 0.07804084595965963|           NaN|           NaN|             NaN|           NaN|           NaN|             NaN|-0.00731631582884...|-0.00870142908217...|-0.00628156364450...|-0.00241049414851...|-0.28091844040735425|-0.16506961840981893|-0.00696317845051...| -0.5998725445375106|-0.02108170940281167|-0.01048658845079916|-0.02394294806466...|-0.02225697387347482|-0.00440963482590...|-6.77301796677412...|-0.00219023875046...|-0.01616021904803455|-0.20332301632899527|\n",
            "|-0.06576682855350904|0.014106662685229965|0.009596743631779847|-0.00533799337073...| 0.15593109585651754|-0.00413083248767...| 0.14483739524656988|  0.4154751055665387|0.009375189570756615|  0.3888794929926221|  0.3533276759306782|  0.7823801699826782| 0.07804084595965961|                 1.0|  0.7730628981231455|        NaN|-0.00550380935014...|5.099952327560054E-4|7.790502620020749E-4|-9.87399678844297...| 0.00938603119890589|-0.00473585971312...|0.001315171808482...|7.162275449018852E-4|-0.00103146793214...|  0.3898793011830571| 0.07368278829471164|  0.2718102320386572|  0.3505470992636638|-0.02146655530038...|-0.08260576693626001|          NaN|          NaN|          NaN|0.003445978371929...| 0.15818570828564335| -0.1397036838939982|-0.14570078126276512|0.011281570061836296|  0.7295699130228661|  0.9424815968970175|  0.8146582219944323|   0.647293767706207|-0.03312843732026...|-0.08260576693626001| 0.23344298520747786| 0.44349463971156045|-0.42486013874779743|-0.12654807336412577|           NaN| 0.23344543250455901|  0.2240789107624675|  0.9337923670871606|  0.3888794929926221|                 1.0|           NaN|           NaN|             NaN|           NaN|           NaN|             NaN|-0.00533799337073...|-0.00413083248767...| 0.15593109585651754| 0.14483739524656988| 0.03149814737348869| 0.22954665965606827|-0.00948387374791...|-0.12319115468257383| 0.10474512123384848| 0.15145122577424122| 0.16168956311632415| 0.07145343531088952|0.001802250179998026|-3.10097604647898...|3.827979967915161E-4|0.009372574994709814|-0.20472579099470878|\n",
            "|0.008352244776303377|-0.29740546898731157|0.009004378699002303|-0.00880210978496...|0.026899798968506763|-0.00420770410823...|0.010665093646697328|  0.6238515464358915|-0.23945130756707902|  0.5546831971828833|  0.5717043252786699|  0.9597970856871804| -0.2715672519791624|  0.7730628981231455|                 1.0|        NaN|-0.00545261561697...|5.829545213667612E-4|2.298102992533690...|-0.00101023096896...|0.008819859499457853|-0.00461973118152...|0.001269946535079...|1.935434416795021...|-0.00106106651832...| 0.37802022798953167| 0.11795299358165638|   0.312768271548406|  0.3124423603344815|-0.02690771886020528|-0.09692971635360319|          NaN|          NaN|          NaN|-0.00540297836792...| 0.03134763999888314|-0.14309787453238393|-0.14933643984483344|-0.24707402015181285|  0.9240325765323507|   0.750524769264292|  0.9151883875866702|   0.608654839120507|-0.03056824263266...|-0.09692971635360319|  0.4466743705102469|  0.6664385922764696|-0.39581972204388327|-0.11809849216770907|           NaN|  0.4466774716195576|0.012830891793270275|  0.7300328760552738|  0.5546831971828834|   0.773062898123146|           NaN|           NaN|             NaN|           NaN|           NaN|             NaN|-0.00880210978496...|-0.00420770410823...|0.026899798968506763|0.010665093646697328| 0.18272531360896643|  0.4477328263591512|-0.00960924755074...| 0.08930883002989573|0.061399741840423384| 0.10090083259761912| 0.10348689938669196| 0.03954659622198285|7.218108032392565E-4|-4.87145578023187...|-1.17029608070648...|0.005218488152612356| -0.1401118961496375|\n",
            "|                 NaN|                 NaN|                 NaN|                 NaN|                 NaN|                 NaN|                 NaN|                 NaN|                 NaN|                 NaN|                 NaN|                 NaN|                 NaN|                 NaN|                 NaN|        1.0|                 NaN|                 NaN|                 NaN|                 NaN|                 NaN|                 NaN|                 NaN|                 NaN|                 NaN|                 NaN|                 NaN|                 NaN|                 NaN|                 NaN|                 NaN|          NaN|          NaN|          NaN|                 NaN|                 NaN|                 NaN|                 NaN|                 NaN|                 NaN|                 NaN|                 NaN|                 NaN|                 NaN|                 NaN|                 NaN|                 NaN|                 NaN|                 NaN|           NaN|                 NaN|                 NaN|                 NaN|                 NaN|                 NaN|           NaN|           NaN|             NaN|           NaN|           NaN|             NaN|                 NaN|                 NaN|                 NaN|                 NaN|                 NaN|                 NaN|                 NaN|                 NaN|                 NaN|                 NaN|                 NaN|                 NaN|                 NaN|                 NaN|                 NaN|                 NaN|                 NaN|\n",
            "|0.003609684164442029|-0.00507339878920...|  0.5431488868050781|-1.79576788678140...|-3.09854379335554...|-2.14742636457743...|-1.85532939903508...|-0.00587259784793...|-0.00249272080326...|-0.00667298313090...|-0.00560726941011...|-0.00555530498252516|-0.00414797232651...|-0.00550380935014...|-0.00545261561697...|        NaN|                 1.0|-0.10119373067489636| 0.28687189143229647|  0.3476786875882865|  0.5431479661562499|  0.9999822295323005|-0.10120624258692394|  0.2868693148661354|  0.3476836122019711|-1.66891981929800...|0.001662080248388638|-1.40932561806524...|3.801055971671905E-4|0.002067289985889823|-7.78885436565156...|          NaN|          NaN|          NaN|-2.07232205498656...|-3.34053547707674...|-0.00227349994197...|-0.00238192694537...|-0.00257313742120...|-0.00641877689569...|-0.00593218865131...|-0.00643535588976...|-0.00326308177824...|-6.02027497911982...|-7.78885436565156...|-0.00400310879153...|-0.00694927755514...|0.009578450215535567|-0.00202612373535...|           NaN|-0.00400312452294...|-0.00638976856610...|-0.00647071410487...|-0.00667298313090...|-0.00550380935014...|           NaN|           NaN|             NaN|           NaN|           NaN|             NaN|-1.79576788678140...|-2.14742636457743...|-3.09854379335554...|-1.85532939903508...|0.011511621434133559|-0.00389387504788...|-1.72616950038410...|-0.00199508215394...|1.958992561935150...|-2.01203407011851...|-1.33965235779390...|5.750136996010346...|-0.02788066046336...|-0.02744954435420...|-0.02509899320359...|-0.01365116157592...|-0.00423661112707...|\n",
            "|-9.86189543149271E-4|-0.00310427514423...| -0.7163667909925164|3.379831412274826...|1.515829618341118...|-4.12140147863222...|-5.51217683423514...|-1.09540430044266...|-6.69593810570070...|-3.23538344087047...|-1.73890106392195...|6.082231771252928E-4|-0.00102718021855...|5.099952327560054E-4|5.829545213667612E-4|        NaN|-0.10119373067489636|                 1.0|  0.8958384368006681| -0.9577202059470596| -0.7163764647936904|-0.10117355893860329|  0.9999906776398964|  0.8958351890322819| -0.9577110858987351|0.002985310024531857|0.003817425758013...|0.003370134334644...|0.003950476932508199|0.002836424481632...|5.978465610121858E-4|          NaN|          NaN|          NaN|-4.37948897103543...|1.982187320591107...|-6.32107845807157...|-6.62251756640562...|-7.04977330033755...|4.343529805054744E-4|4.309021579650315E-4|4.430071031707765E-4|5.935454051800185E-4|-1.59710322555624...|5.978465610121858E-4|-9.50022215812753...|-3.94090185050889...|-0.00138444049048...|-3.68167824631265...|           NaN|-9.50025277650149E-4|-8.64922350009464...|2.650964863894955...|-3.23538344087047...|5.099952327560055E-4|           NaN|           NaN|             NaN|           NaN|           NaN|             NaN|3.379831412274827E-5|-4.12140147863222...|1.515829618341118...|-5.51217683423514...|-0.00150214563782401|-8.61817203276659E-4|-4.42672404279537...|-0.00300207072928...|7.972360579204838E-4| 7.36803571088195E-4| 8.68851648731523E-4|6.310083431506203E-4|  0.9753850817246049|  0.9568210500033558|  0.9566499577537102|  0.4925933652895269|-8.61346031106839...|\n",
            "|1.136047803857231...|-0.00487502585605...| -0.4992269921162275|1.024595718184531...|4.300431566700375E-4|-9.45748731490438...|4.166657892583687E-4|-0.00148120682944...|-0.00175765823942...|-0.00204158590785...|-0.00162999339838...|3.526001757576004...|-0.00263238915597...|7.790502620020749E-4|2.298102992533690...|        NaN| 0.28687189143229647|  0.8958384368006681|                 1.0|  -0.783935620238722| -0.4992347077153359| 0.28688655520811474|  0.8958387748690168|  0.9999976199666893| -0.7839282878970841|0.004808242768834294|0.004376657390177571|0.005991144858677438|0.006973835366372203|0.002624373514197...|1.553648247389093...|          NaN|          NaN|          NaN|-6.69732581531095...|4.268077204504413E-4|-0.00149938614616...|-0.00157088596158...|-0.00182082576364...|-2.93462339981786...|4.796184424170679E-4|-1.35956335733117...|9.114389990454365E-4|-3.88994047210083...|1.553648247389093...|-0.00234841621373...|-0.00188172988807...|0.001451397617734...|-0.00107925095367...|           NaN|-0.00234841821651...|-0.00244001183875...|3.576096247205446...|-0.00204158590785...|7.790502620020743E-4|           NaN|           NaN|             NaN|           NaN|           NaN|             NaN|1.024595718184531...|-9.45748731490438...|4.300431566700375E-4|4.166657892583687E-4|0.002328458926348...|-0.00224352327463...|-9.73136542820050...|-0.00338322521970...|0.001743588008614649|0.001556755901095723|0.001751189744155...|0.001364029915236...|  0.9312776165335788|  0.9410900837322115|  0.9482258232334176| 0.31417762068600974|-0.00258336742321...|\n",
            "|0.001821085244607...|8.826852961101018E-4|  0.8152942544250382|-1.04234587199926...|-5.44166455074395...|-3.36492183757124...|-2.97269172036647...|-0.00103263552149...|-3.20473553871764...|-0.00113438115822...|-9.81099644968916...|-0.00103446861800...|-6.32846352720469...|-9.87399678844297...|-0.00101023096896...|        NaN|  0.3476786875882865| -0.9577202059470596|  -0.783935620238722|                 1.0|  0.8152985730154797|  0.3476690624105569| -0.9577188508922339| -0.7839363723547379|  0.9999973964090302|-3.82820319921918...|-2.46974315544271...|-3.27754095992854...|-3.27682713675313...|-8.59613330024642...|-2.26458453429425...|          NaN|          NaN|          NaN|-2.94696851064523...|-5.97479902797096...|-3.37607833882637...|-3.53709856209562...|-3.28290374799990...|-0.00117072098855...|-0.00104933809478...|-0.00116824006676...|-6.13521864306862...|-8.95584994123949...|-2.26458453429425...|-6.15994258506445...|-0.00119460213300...|0.003940742588390008|-3.08775478812332...|           NaN|-6.15998906720895...|-0.00104387836800...|-0.00112242673692...|-0.00113438115822...|-9.87399678844298E-4|           NaN|           NaN|             NaN|           NaN|           NaN|             NaN|-1.04234587199926...|-3.36492183757124...|-5.44166455074395...|-2.97269172036647...|0.004392920328246082|-6.14229038525652E-4|-2.60183759660918...|0.002311065130056...|-9.61399826355539...|-1.13813746966265...|-1.33509180567565...|-7.18071684975990...| -0.9384479806978232| -0.9237218823851872| -0.9281624455069707|-0.43396626526254317|-6.42362074716053...|\n",
            "+--------------------+--------------------+--------------------+--------------------+--------------------+--------------------+--------------------+--------------------+--------------------+--------------------+--------------------+--------------------+--------------------+--------------------+--------------------+-----------+--------------------+--------------------+--------------------+--------------------+--------------------+--------------------+--------------------+--------------------+--------------------+--------------------+--------------------+--------------------+--------------------+--------------------+--------------------+-------------+-------------+-------------+--------------------+--------------------+--------------------+--------------------+--------------------+--------------------+--------------------+--------------------+--------------------+--------------------+--------------------+--------------------+--------------------+--------------------+--------------------+--------------+--------------------+--------------------+--------------------+--------------------+--------------------+--------------+--------------+----------------+--------------+--------------+----------------+--------------------+--------------------+--------------------+--------------------+--------------------+--------------------+--------------------+--------------------+--------------------+--------------------+--------------------+--------------------+--------------------+--------------------+--------------------+--------------------+--------------------+\n",
            "only showing top 20 rows\n",
            "\n"
          ]
        }
      ]
    },
    {
      "cell_type": "code",
      "metadata": {
        "colab": {
          "base_uri": "https://localhost:8080/",
          "height": 1000
        },
        "id": "RGnQza8lp3ux",
        "outputId": "dcf717b6-e98a-4ccc-f113-f1f5b27b7ec6"
      },
      "source": [
        "%matplotlib inline\n",
        "import matplotlib.pyplot as plt\n",
        "\n",
        "plt.rcParams['figure.figsize']=[15,18]\n",
        "\n",
        "def plot_corr_matrix(correlations,attr,fig_no):\n",
        "    fig=plt.figure(fig_no)\n",
        "    ax=fig.add_subplot(111)\n",
        "    ax.set_title(\"Correlation Matrix for Specified Attributes\")\n",
        "    ax.set_xticklabels(['']+attr)\n",
        "    ax.set_yticklabels(['']+attr)\n",
        "    cax=ax.matshow(correlations,vmax=1,vmin=-1)\n",
        "    fig.colorbar(cax)\n",
        "    #plt.figure(figsize=(40,20))\n",
        "    plt.show()\n",
        "\n",
        "plot_corr_matrix(rows, bddata.columns, 444)"
      ],
      "execution_count": null,
      "outputs": [
        {
          "output_type": "display_data",
          "data": {
            "image/png": "[encoded data removed]",
            "text/plain": [
              "<Figure size 1080x1296 with 2 Axes>"
            ]
          },
          "metadata": {
            "needs_background": "light"
          }
        }
      ]
    },
    {
      "cell_type": "markdown",
      "metadata": {
        "id": "5c1HOPEVY7vW"
      },
      "source": [
        "# **Stastical analysis method-2**"
      ]
    },
    {
      "cell_type": "code",
      "metadata": {
        "colab": {
          "base_uri": "https://localhost:8080/",
          "height": 244
        },
        "id": "40ETdkOHuKtx",
        "outputId": "c66d5411-2655-4745-a62b-71da0b010cef"
      },
      "source": [
        "seriesX = sc.parallelize([1.0, 2.0, 3.0, 3.0, 5.0])  # a series\n",
        "# seriesY must have the same number of partitions and cardinality as seriesX\n",
        "seriesY = sc.parallelize([11.0, 22.0, 33.0, 33.0, 555.0])\n",
        "\n",
        "# Compute the correlation using Pearson's method. Enter \"spearman\" for Spearman's method.\n",
        "# If a method is not specified, Pearson's method will be used by default.\n",
        "print(\"Correlation is: \" + str(Statistics.corr(seriesX, seriesY, method=\"pearson\")))"
      ],
      "execution_count": null,
      "outputs": [
        {
          "output_type": "error",
          "ename": "NameError",
          "evalue": "ignored",
          "traceback": [
            "\u001b[0;31m---------------------------------------------------------------------------\u001b[0m",
            "\u001b[0;31mNameError\u001b[0m                                 Traceback (most recent call last)",
            "\u001b[0;32m<ipython-input-5-499f06a12586>\u001b[0m in \u001b[0;36m<module>\u001b[0;34m()\u001b[0m\n\u001b[0;32m----> 1\u001b[0;31m \u001b[0mseriesX\u001b[0m \u001b[0;34m=\u001b[0m \u001b[0msc\u001b[0m\u001b[0;34m.\u001b[0m\u001b[0mparallelize\u001b[0m\u001b[0;34m(\u001b[0m\u001b[0;34m[\u001b[0m\u001b[0;36m1.0\u001b[0m\u001b[0;34m,\u001b[0m \u001b[0;36m2.0\u001b[0m\u001b[0;34m,\u001b[0m \u001b[0;36m3.0\u001b[0m\u001b[0;34m,\u001b[0m \u001b[0;36m3.0\u001b[0m\u001b[0;34m,\u001b[0m \u001b[0;36m5.0\u001b[0m\u001b[0;34m]\u001b[0m\u001b[0;34m)\u001b[0m  \u001b[0;31m# a series\u001b[0m\u001b[0;34m\u001b[0m\u001b[0;34m\u001b[0m\u001b[0m\n\u001b[0m\u001b[1;32m      2\u001b[0m \u001b[0;31m# seriesY must have the same number of partitions and cardinality as seriesX\u001b[0m\u001b[0;34m\u001b[0m\u001b[0;34m\u001b[0m\u001b[0;34m\u001b[0m\u001b[0m\n\u001b[1;32m      3\u001b[0m \u001b[0mseriesY\u001b[0m \u001b[0;34m=\u001b[0m \u001b[0msc\u001b[0m\u001b[0;34m.\u001b[0m\u001b[0mparallelize\u001b[0m\u001b[0;34m(\u001b[0m\u001b[0;34m[\u001b[0m\u001b[0;36m11.0\u001b[0m\u001b[0;34m,\u001b[0m \u001b[0;36m22.0\u001b[0m\u001b[0;34m,\u001b[0m \u001b[0;36m33.0\u001b[0m\u001b[0;34m,\u001b[0m \u001b[0;36m33.0\u001b[0m\u001b[0;34m,\u001b[0m \u001b[0;36m555.0\u001b[0m\u001b[0;34m]\u001b[0m\u001b[0;34m)\u001b[0m\u001b[0;34m\u001b[0m\u001b[0;34m\u001b[0m\u001b[0m\n\u001b[1;32m      4\u001b[0m \u001b[0;34m\u001b[0m\u001b[0m\n\u001b[1;32m      5\u001b[0m \u001b[0;31m# Compute the correlation using Pearson's method. Enter \"spearman\" for Spearman's method.\u001b[0m\u001b[0;34m\u001b[0m\u001b[0;34m\u001b[0m\u001b[0;34m\u001b[0m\u001b[0m\n",
            "\u001b[0;31mNameError\u001b[0m: name 'sc' is not defined"
          ]
        }
      ]
    },
    {
      "cell_type": "code",
      "metadata": {
        "id": "rwVIH78-X-j0"
      },
      "source": [
        "pandas_df = df.toPandas()\n",
        "\n",
        "import seaborn as sns\n",
        "import matplotlib.pyplot as plt\n",
        "\n",
        "#Using Pearson Correlation\n",
        "plt.figure(figsize=(20,20))\n",
        "#cor = df4.corr()\n",
        "sns.heatmap(rows, annot=True, cmap=plt.cm.Reds)\n",
        "plt.show()\n",
        "\n"
      ],
      "execution_count": null,
      "outputs": []
    },
    {
      "cell_type": "code",
      "metadata": {
        "colab": {
          "base_uri": "https://localhost:8080/"
        },
        "id": "KQ5UpScPf6Kg",
        "outputId": "a9e01b69-58b2-4fe0-c831-c71df3413277"
      },
      "source": [
        "\n",
        "df.createOrReplaceTempView(\"crView\") \n",
        "crdF = spark.sql(\"SELECT * FROM crView\") \n",
        "crdF.show(4)"
      ],
      "execution_count": null,
      "outputs": [
        {
          "output_type": "stream",
          "name": "stdout",
          "text": [
            "+--------------------+--------------------+--------------------+--------------------+--------------------+--------------------+--------------------+--------------------+--------------------+--------------------+--------------------+--------------------+--------------------+--------------------+--------------------+-----------+--------------------+--------------------+--------------------+--------------------+--------------------+--------------------+--------------------+--------------------+--------------------+--------------------+--------------------+--------------------+--------------------+--------------------+--------------------+-------------+-------------+-------------+--------------------+--------------------+--------------------+--------------------+--------------------+--------------------+--------------------+--------------------+--------------------+--------------------+--------------------+--------------------+--------------------+--------------------+--------------------+--------------+--------------------+--------------------+--------------------+--------------------+--------------------+--------------+--------------+----------------+--------------+--------------+----------------+--------------------+--------------------+--------------------+--------------------+--------------------+--------------------+--------------------+--------------------+--------------------+--------------------+--------------------+--------------------+--------------------+--------------------+--------------------+--------------------+--------------------+\n",
            "|            Dst Port|            Protocol|       Flow Duration|        Tot Fwd Pkts|        Tot Bwd Pkts|     TotLen Fwd Pkts|     TotLen Bwd Pkts|     Fwd Pkt Len Max|     Fwd Pkt Len Min|    Fwd Pkt Len Mean|     Fwd Pkt Len Std|     Bwd Pkt Len Max|     Bwd Pkt Len Min|    Bwd Pkt Len Mean|     Bwd Pkt Len Std|Flow Pkts/s|       Flow IAT Mean|        Flow IAT Std|        Flow IAT Max|        Flow IAT Min|         Fwd IAT Tot|        Fwd IAT Mean|         Fwd IAT Std|         Fwd IAT Max|         Fwd IAT Min|         Bwd IAT Tot|        Bwd IAT Mean|         Bwd IAT Std|         Bwd IAT Max|         Bwd IAT Min|       Fwd PSH Flags|Bwd PSH Flags|Fwd URG Flags|Bwd URG Flags|      Fwd Header Len|      Bwd Header Len|          Fwd Pkts/s|          Bwd Pkts/s|         Pkt Len Min|         Pkt Len Max|        Pkt Len Mean|         Pkt Len Std|         Pkt Len Var|        FIN Flag Cnt|        SYN Flag Cnt|        RST Flag Cnt|        PSH Flag Cnt|        ACK Flag Cnt|        URG Flag Cnt|CWE Flag Count|        ECE Flag Cnt|       Down/Up Ratio|        Pkt Size Avg|    Fwd Seg Size Avg|    Bwd Seg Size Avg|Fwd Byts/b Avg|Fwd Pkts/b Avg|Fwd Blk Rate Avg|Bwd Byts/b Avg|Bwd Pkts/b Avg|Bwd Blk Rate Avg|    Subflow Fwd Pkts|    Subflow Fwd Byts|    Subflow Bwd Pkts|    Subflow Bwd Byts|   Init Fwd Win Byts|   Init Bwd Win Byts|   Fwd Act Data Pkts|    Fwd Seg Size Min|         Active Mean|          Active Std|          Active Max|          Active Min|           Idle Mean|            Idle Std|            Idle Max|            Idle Min|          labelIndex|\n",
            "+--------------------+--------------------+--------------------+--------------------+--------------------+--------------------+--------------------+--------------------+--------------------+--------------------+--------------------+--------------------+--------------------+--------------------+--------------------+-----------+--------------------+--------------------+--------------------+--------------------+--------------------+--------------------+--------------------+--------------------+--------------------+--------------------+--------------------+--------------------+--------------------+--------------------+--------------------+-------------+-------------+-------------+--------------------+--------------------+--------------------+--------------------+--------------------+--------------------+--------------------+--------------------+--------------------+--------------------+--------------------+--------------------+--------------------+--------------------+--------------------+--------------+--------------------+--------------------+--------------------+--------------------+--------------------+--------------+--------------+----------------+--------------+--------------+----------------+--------------------+--------------------+--------------------+--------------------+--------------------+--------------------+--------------------+--------------------+--------------------+--------------------+--------------------+--------------------+--------------------+--------------------+--------------------+--------------------+--------------------+\n",
            "|                 1.0|-0.24485658453881665|-0.00125819268992...|-0.00918817590218...|-0.01290179388585...|-0.00718836296006...|-0.00985164680704...| 0.47058909273433525| -0.1898861608170715| 0.42670946729104237|  0.5586602081073967|-0.11343836670084727|-0.22711734248980364|-0.06576682855350904|0.008352244776303377|        NaN|0.003609684164442029|-9.86189543149271E-4|1.136047803857231...|0.001821085244607...|-0.00108963578227...|0.003483842113138...|-8.52746246740386...|2.087166354309649E-4|0.001775764447323...|-0.12214703260344616|-0.06650968011521208|-0.07554379661013168|-0.08902575074065935|-0.02890618628676997| 0.05920845730305818|          NaN|          NaN|          NaN| -0.0093137471308912|  -0.012426094669993| 0.05851943784375015|-0.10718466973003835| -0.2002174562497293|  0.1913647411230776| 0.08568707588047758| 0.23415781575297967| 0.11014706564699753| 0.05220680792743857| 0.05920845730305818| 0.24793609374641104|-0.08450559075373333| 0.28809037296978796| 0.20063213760898618|           NaN|  0.2479342170897851| -0.2515752410617774| 0.08798251097648108| 0.42670946729104237|-0.06576682855350906|           NaN|           NaN|             NaN|           NaN|           NaN|             NaN|-0.00918817590218...|-0.00718836296006...|-0.01290179388585...|-0.00985164680704...|  0.2518584929644713|  0.1188856907719046|-0.00907818147050...| 0.15512454084399327|-0.03442591736866...|-0.04199379597430048|-0.04826600543192842|-0.02519639002224146|0.001781171728617...|-8.81456794835028E-4|3.091343757610009E-4|0.010635516374993104|-0.26994780323942486|\n",
            "|-0.24485658453881665|                 1.0|-0.00463735538543...|0.032750005722468875|-0.01274371111433243| 0.03053012818462462|-0.00851356420461...|-0.25272917730889355|  0.7491507216606036|-0.07540811696192713| -0.2895246362550314|-0.19980254943491962|  0.8565897265336933|0.014106662685229965|-0.29740546898731157|        NaN|-0.00507339878920...|-0.00310427514423...|-0.00487502585605...|8.826852961101018E-4|-0.00449776836825...|-0.00536252821899...|-0.00318565670805...|-0.00480445329960...|8.625002061395792E-4|-0.11023244826822039|-0.06409149760374735|-0.09229812039973131|-0.09165728295867547|-0.01794025460974...|-0.07385336273921984|          NaN|          NaN|          NaN| 0.03050758994707686|-0.01629555787793...|-0.09681691917026332|-0.10024379338307698|  0.7807440249874481| -0.2515249418582939|-0.03436036502157547|-0.24426331668140264| -0.1722168916366018|-0.02697645633447...|-0.07385336273921984|-0.18178956297145393|-0.35545331466760316|-0.38745383979762654|-0.09992238039295592|           NaN|-0.18178883809800994| 0.40887187541315484| 0.04503576360908266|-0.07540811696192713|0.014106662685229967|           NaN|           NaN|             NaN|           NaN|           NaN|             NaN|0.032750005722468875| 0.03053012818462462|-0.01274371111433243|-0.00851356420461...| -0.3075604718235925|-0.18113401736672752|0.033364841589898796| -0.6482630025222352|-0.02213293774947...|-0.02495650179353198|-0.03148730704074767|-0.01809921905138...|-0.00803309384387...|-0.00243325965602733|-0.00472019978212...|-0.02465506077163...|-0.21776593019076246|\n",
            "|-0.00125819268992...|-0.00463735538543...|                 1.0|0.002230917201519477|0.002144348657180048|0.002265154900139...|0.001750401255768...|0.002576255187655313|-0.00263793472500...|-2.25772335732947...|6.010595252816984E-4| 0.01045472570445865|-0.00458824002546...|0.009596743631779847|0.009004378699002303|        NaN|  0.5431488868050781| -0.7163667909925164| -0.4992269921162275|  0.8152942544250382|  0.9999947964765918|   0.543205997484944| -0.7163526929181157| -0.4992322273658396|  0.8153009826499806|0.027329395525072724| 0.01446103051180182|0.019261847524211374| 0.02038006168323388|0.004954033786466975|8.191360116700828E-4|          NaN|          NaN|          NaN|0.002417501662642...|0.002248250367169...|-0.00263853972279...|-0.00276455047057...|-0.00273858154452...|0.008402908785694435|0.008974259097343769| 0.00820757104773648|0.007554480927573789|-6.90427164283401...|8.191360116700828E-4|-0.00329214988215...|0.004127315092360426|5.497427440582497E-4|-0.00202955093202...|           NaN|-0.00329215345391...|-6.84286126619358...|0.007900799048713292|-2.25772335732947...| 0.00959674363177985|           NaN|           NaN|             NaN|           NaN|           NaN|             NaN|0.002230917201519477|0.002265154900139...|0.002144348657180048|0.001750401255768...|0.003113885514875...|-0.00269267668773...|0.002234999070802...|-1.33852149586927...|0.006325529310960371|0.008935403033575403|0.009686928969846558| 0.00427206168622244| -0.6684155983862431| -0.6689071344190188| -0.6852577161050967|-0.16320021077075242|-0.00424415483454...|\n",
            "|-0.00918817590218...|0.032750005722468875|0.002230917201519477|                 1.0|0.025277706496394062|  0.9780549133880091|0.025151776441566492|-0.00780393376092...|0.017032990459398874|-0.00460138913247...|-0.00940979461730...|-0.00788788234608...|-0.00731631582884...|-0.00533799337073...|-0.00880210978496...|        NaN|-1.79576788678140...|3.379831412274826...|1.024595718184531...|-1.04234587199926...|0.002231488097575813|-1.89094821790695...|3.353484650898916E-5|-1.68591656532411...|-1.05691019306681...|-8.89355308086258...|-0.00210761948234...|-0.00240674272726...|-9.72598195364595...|-8.96765280506507E-4|-0.00207800937884...|          NaN|          NaN|          NaN|  0.9984928329419941|0.025234244495454933|-0.00387360224092...|-0.00419130491161...|0.017796908140010653|-0.00860679732664...|-0.00132266592761...|-0.00922738380168...|-0.00333347388784...|-0.00105985757921...|-0.00207800937884...|-0.00608051530104...|-0.01106900333820...|-0.01462607205115...|-0.00397565115072...|           NaN|-0.00608048444058449|-0.00986886675370...|-0.00289852817527...|-0.00460138913247...|-0.00533799337073...|           NaN|           NaN|             NaN|           NaN|           NaN|             NaN|                 1.0|  0.9780549133880091|0.025277706496394062|0.025151776441566492|-0.01102219881522...|-0.00570176617328...|   0.999534543795081|-0.02333607351623...|0.002299366913171...|5.440980377948492E-4|0.002032747188040...|0.002356946503467739|-7.33154733057749...|6.171693110625666E-5|1.299732214496990...|-5.44956892264396...| 0.09170926430074706|\n",
            "+--------------------+--------------------+--------------------+--------------------+--------------------+--------------------+--------------------+--------------------+--------------------+--------------------+--------------------+--------------------+--------------------+--------------------+--------------------+-----------+--------------------+--------------------+--------------------+--------------------+--------------------+--------------------+--------------------+--------------------+--------------------+--------------------+--------------------+--------------------+--------------------+--------------------+--------------------+-------------+-------------+-------------+--------------------+--------------------+--------------------+--------------------+--------------------+--------------------+--------------------+--------------------+--------------------+--------------------+--------------------+--------------------+--------------------+--------------------+--------------------+--------------+--------------------+--------------------+--------------------+--------------------+--------------------+--------------+--------------+----------------+--------------+--------------+----------------+--------------------+--------------------+--------------------+--------------------+--------------------+--------------------+--------------------+--------------------+--------------------+--------------------+--------------------+--------------------+--------------------+--------------------+--------------------+--------------------+--------------------+\n",
            "only showing top 4 rows\n",
            "\n"
          ]
        }
      ]
    },
    {
      "cell_type": "code",
      "metadata": {
        "id": "yFf_T00zm6E9"
      },
      "source": [
        "crdF = spark.sql(\"SELECT labelIndex from crView \") \n",
        "crdF.show()\n"
      ],
      "execution_count": null,
      "outputs": []
    },
    {
      "cell_type": "code",
      "metadata": {
        "colab": {
          "base_uri": "https://localhost:8080/",
          "height": 286
        },
        "id": "X8ZqbzOxX-pT",
        "outputId": "8df0047a-0747-48da-acbc-f6e6cdf65360"
      },
      "source": [
        "pandas_df = crdF.toPandas()\n",
        "pandas_df.sort_values(by='labelIndex',ascending=False).plot( y='labelIndex', kind = 'bar',logy=True)\n"
      ],
      "execution_count": null,
      "outputs": [
        {
          "output_type": "execute_result",
          "data": {
            "text/plain": [
              "<matplotlib.axes._subplots.AxesSubplot at 0x7f8ea5625b90>"
            ]
          },
          "metadata": {},
          "execution_count": 46
        },
        {
          "output_type": "display_data",
          "data": {
            "image/png": "[encoded data removed]",
            "text/plain": [
              "<Figure size 432x288 with 1 Axes>"
            ]
          },
          "metadata": {
            "needs_background": "light"
          }
        }
      ]
    },
    {
      "cell_type": "code",
      "metadata": {
        "colab": {
          "base_uri": "https://localhost:8080/"
        },
        "id": "XIQZh7G9nB9r",
        "outputId": "874d4e06-df6d-48b6-dc9e-e5ce0dcfe2bc"
      },
      "source": [
        "from pyspark.sql.functions import col, countDistinct\n",
        "\n",
        "newdf.agg(countDistinct(col(\"labelIndex\")).alias(\"count\")).show()\n",
        "newdf.groupBy(\"labelIndex\").count().show()"
      ],
      "execution_count": null,
      "outputs": [
        {
          "output_type": "stream",
          "name": "stdout",
          "text": [
            "+-----+\n",
            "|count|\n",
            "+-----+\n",
            "|   12|\n",
            "+-----+\n",
            "\n",
            "+----------+-------+\n",
            "|labelIndex|  count|\n",
            "+----------+-------+\n",
            "|       8.0|   1730|\n",
            "|       0.0|4567525|\n",
            "|       7.0|  10990|\n",
            "|       1.0| 686012|\n",
            "|       4.0| 187589|\n",
            "|      11.0|     87|\n",
            "|       3.0| 193360|\n",
            "|       2.0| 461912|\n",
            "|      10.0|    230|\n",
            "|       6.0|  41508|\n",
            "|       5.0| 139890|\n",
            "|       9.0|    611|\n",
            "+----------+-------+\n",
            "\n"
          ]
        }
      ]
    },
    {
      "cell_type": "code",
      "metadata": {
        "colab": {
          "base_uri": "https://localhost:8080/",
          "height": 171
        },
        "id": "HB9op3L8RylU",
        "outputId": "60c68259-2403-487d-ae5c-aa492bf1ca74"
      },
      "source": [
        "df.count()"
      ],
      "execution_count": null,
      "outputs": [
        {
          "output_type": "error",
          "ename": "NameError",
          "evalue": "ignored",
          "traceback": [
            "\u001b[0;31m---------------------------------------------------------------------------\u001b[0m",
            "\u001b[0;31mNameError\u001b[0m                                 Traceback (most recent call last)",
            "\u001b[0;32m<ipython-input-1-3c9a60fd698f>\u001b[0m in \u001b[0;36m<module>\u001b[0;34m()\u001b[0m\n\u001b[0;32m----> 1\u001b[0;31m \u001b[0mdf\u001b[0m\u001b[0;34m.\u001b[0m\u001b[0mcount\u001b[0m\u001b[0;34m(\u001b[0m\u001b[0;34m)\u001b[0m\u001b[0;34m\u001b[0m\u001b[0;34m\u001b[0m\u001b[0m\n\u001b[0m",
            "\u001b[0;31mNameError\u001b[0m: name 'df' is not defined"
          ]
        }
      ]
    },
    {
      "cell_type": "code",
      "metadata": {
        "id": "tU7D-uCBTTJD"
      },
      "source": [
        ""
      ],
      "execution_count": null,
      "outputs": []
    },
    {
      "cell_type": "code",
      "metadata": {
        "colab": {
          "base_uri": "https://localhost:8080/"
        },
        "id": "Db5VSDqXnCC0",
        "outputId": "58a4c3ce-be18-40f7-be25-3116b80456eb"
      },
      "source": [
        "bddata.groupBy(\"Label\").count().show()"
      ],
      "execution_count": null,
      "outputs": [
        {
          "output_type": "stream",
          "name": "stdout",
          "text": [
            "+--------------------+-------+\n",
            "|               Label|  count|\n",
            "+--------------------+-------+\n",
            "|      SSH-Bruteforce| 187589|\n",
            "|       SQL Injection|     87|\n",
            "|DoS attacks-Slowl...|  10990|\n",
            "|              Benign|4567525|\n",
            "|DoS attacks-SlowH...| 139890|\n",
            "|DoS attacks-Golde...|  41508|\n",
            "|    Brute Force -XSS|    230|\n",
            "|      FTP-BruteForce| 193360|\n",
            "|DDOS attack-LOIC-UDP|   1730|\n",
            "|    DoS attacks-Hulk| 461912|\n",
            "|    Brute Force -Web|    611|\n",
            "|    DDOS attack-HOIC| 686012|\n",
            "+--------------------+-------+\n",
            "\n"
          ]
        }
      ]
    },
    {
      "cell_type": "code",
      "metadata": {
        "id": "08jj2mH2nCFU"
      },
      "source": [
        "(trainingData, testData) = newdf.randomSplit([0.7, 0.3])\n",
        "from pyspark.ml.classification import DecisionTreeClassifier\n",
        "from pyspark.ml.evaluation import MulticlassClassificationEvaluator\n",
        "dt = DecisionTreeClassifier(labelCol=\"labelIndex\", featuresCol=\"features\")\n",
        "model = dt.fit(trainingData)"
      ],
      "execution_count": null,
      "outputs": []
    },
    {
      "cell_type": "code",
      "metadata": {
        "colab": {
          "base_uri": "https://localhost:8080/"
        },
        "id": "fPQA-rrBnCI3",
        "outputId": "5dee440b-a7c1-4e21-f11f-1fa6c2864e87"
      },
      "source": [
        "predictions = model.transform(testData)\n",
        "predictions.select(\"prediction\", \"labelIndex\", \"features\").show(5)"
      ],
      "execution_count": null,
      "outputs": [
        {
          "output_type": "stream",
          "name": "stdout",
          "text": [
            "+----------+----------+--------------------+\n",
            "|prediction|labelIndex|            features|\n",
            "+----------+----------+--------------------+\n",
            "|       0.0|       0.0|(79,[0,11,12,13,1...|\n",
            "|       0.0|       0.0|(79,[0,11,12,13,1...|\n",
            "|       0.0|       0.0|(79,[0,11,12,13,1...|\n",
            "|       0.0|       0.0|(79,[0,11,12,13,1...|\n",
            "|       0.0|       0.0|(79,[0,11,12,13,1...|\n",
            "+----------+----------+--------------------+\n",
            "only showing top 5 rows\n",
            "\n"
          ]
        }
      ]
    },
    {
      "cell_type": "code",
      "metadata": {
        "colab": {
          "base_uri": "https://localhost:8080/"
        },
        "id": "UCsmcc-CnCPN",
        "outputId": "11f041a3-ab63-433e-fa3a-6ae760cc809a"
      },
      "source": [
        "from pyspark.ml.evaluation import MulticlassClassificationEvaluator\n",
        "evaluator = MulticlassClassificationEvaluator(labelCol=\"labelIndex\",\n",
        "predictionCol=\"prediction\",metricName=\"accuracy\")\n",
        "accuracy = evaluator.evaluate(predictions)\n",
        "print(\"accuracy =\", accuracy)\n",
        "print(\"Test Error = %g \" % (1.0 - accuracy))\n",
        "print(model)"
      ],
      "execution_count": null,
      "outputs": [
        {
          "output_type": "stream",
          "name": "stdout",
          "text": [
            "accuracy = 0.9912674810591516\n",
            "Test Error = 0.00873252 \n",
            "DecisionTreeClassificationModel: uid=DecisionTreeClassifier_8527c3ee5042, depth=5, numNodes=11, numClasses=12, numFeatures=79\n"
          ]
        }
      ]
    },
    {
      "cell_type": "markdown",
      "metadata": {
        "id": "mt6ThBQip13t"
      },
      "source": [
        "# **NaiveBayes**"
      ]
    },
    {
      "cell_type": "code",
      "metadata": {
        "colab": {
          "base_uri": "https://localhost:8080/"
        },
        "id": "m6fO5BLO1Afz",
        "outputId": "3e5572d1-f1e5-41c0-e5ef-80c3b82d4e6a"
      },
      "source": [
        "from pyspark.sql import functions as F\n",
        "newdf.select([F.count(F.when(F.isnull(c), c)).alias(c) for c in newdf.columns]).show()"
      ],
      "execution_count": null,
      "outputs": [
        {
          "output_type": "stream",
          "name": "stdout",
          "text": [
            "+--------+--------+--------+-------------+------------+------------+---------------+---------------+---------------+---------------+----------------+---------------+---------------+---------------+----------------+---------------+-----------+-------------+------------+------------+------------+-----------+------------+-----------+-----------+-----------+-----------+------------+-----------+-----------+-----------+-------------+-------------+-------------+-------------+--------------+--------------+----------+----------+-----------+-----------+------------+-----------+-----------+------------+------------+------------+------------+------------+------------+--------------+------------+-------------+------------+----------------+----------------+--------------+--------------+----------------+--------------+--------------+----------------+----------------+----------------+----------------+----------------+-----------------+-----------------+-----------------+----------------+-----------+----------+----------+----------+---------+--------+--------+--------+-----+----------+\n",
            "|features|Dst Port|Protocol|Flow Duration|Tot Fwd Pkts|Tot Bwd Pkts|TotLen Fwd Pkts|TotLen Bwd Pkts|Fwd Pkt Len Max|Fwd Pkt Len Min|Fwd Pkt Len Mean|Fwd Pkt Len Std|Bwd Pkt Len Max|Bwd Pkt Len Min|Bwd Pkt Len Mean|Bwd Pkt Len Std|Flow Pkts/s|Flow IAT Mean|Flow IAT Std|Flow IAT Max|Flow IAT Min|Fwd IAT Tot|Fwd IAT Mean|Fwd IAT Std|Fwd IAT Max|Fwd IAT Min|Bwd IAT Tot|Bwd IAT Mean|Bwd IAT Std|Bwd IAT Max|Bwd IAT Min|Fwd PSH Flags|Bwd PSH Flags|Fwd URG Flags|Bwd URG Flags|Fwd Header Len|Bwd Header Len|Fwd Pkts/s|Bwd Pkts/s|Pkt Len Min|Pkt Len Max|Pkt Len Mean|Pkt Len Std|Pkt Len Var|FIN Flag Cnt|SYN Flag Cnt|RST Flag Cnt|PSH Flag Cnt|ACK Flag Cnt|URG Flag Cnt|CWE Flag Count|ECE Flag Cnt|Down/Up Ratio|Pkt Size Avg|Fwd Seg Size Avg|Bwd Seg Size Avg|Fwd Byts/b Avg|Fwd Pkts/b Avg|Fwd Blk Rate Avg|Bwd Byts/b Avg|Bwd Pkts/b Avg|Bwd Blk Rate Avg|Subflow Fwd Pkts|Subflow Fwd Byts|Subflow Bwd Pkts|Subflow Bwd Byts|Init Fwd Win Byts|Init Bwd Win Byts|Fwd Act Data Pkts|Fwd Seg Size Min|Active Mean|Active Std|Active Max|Active Min|Idle Mean|Idle Std|Idle Max|Idle Min|Label|labelIndex|\n",
            "+--------+--------+--------+-------------+------------+------------+---------------+---------------+---------------+---------------+----------------+---------------+---------------+---------------+----------------+---------------+-----------+-------------+------------+------------+------------+-----------+------------+-----------+-----------+-----------+-----------+------------+-----------+-----------+-----------+-------------+-------------+-------------+-------------+--------------+--------------+----------+----------+-----------+-----------+------------+-----------+-----------+------------+------------+------------+------------+------------+------------+--------------+------------+-------------+------------+----------------+----------------+--------------+--------------+----------------+--------------+--------------+----------------+----------------+----------------+----------------+----------------+-----------------+-----------------+-----------------+----------------+-----------+----------+----------+----------+---------+--------+--------+--------+-----+----------+\n",
            "|       0|       0|       0|            0|           0|           0|              0|              0|              0|              0|               0|              0|              0|              0|               0|              0|          0|            0|           0|           0|           0|          0|           0|          0|          0|          0|          0|           0|          0|          0|          0|            0|            0|            0|            0|             0|             0|         0|         0|          0|          0|           0|          0|          0|           0|           0|           0|           0|           0|           0|             0|           0|            0|           0|               0|               0|             0|             0|               0|             0|             0|               0|               0|               0|               0|               0|                0|                0|                0|               0|          0|         0|         0|         0|        0|       0|       0|       0|    0|         0|\n",
            "+--------+--------+--------+-------------+------------+------------+---------------+---------------+---------------+---------------+----------------+---------------+---------------+---------------+----------------+---------------+-----------+-------------+------------+------------+------------+-----------+------------+-----------+-----------+-----------+-----------+------------+-----------+-----------+-----------+-------------+-------------+-------------+-------------+--------------+--------------+----------+----------+-----------+-----------+------------+-----------+-----------+------------+------------+------------+------------+------------+------------+--------------+------------+-------------+------------+----------------+----------------+--------------+--------------+----------------+--------------+--------------+----------------+----------------+----------------+----------------+----------------+-----------------+-----------------+-----------------+----------------+-----------+----------+----------+----------+---------+--------+--------+--------+-----+----------+\n",
            "\n"
          ]
        }
      ]
    },
    {
      "cell_type": "code",
      "metadata": {
        "colab": {
          "base_uri": "https://localhost:8080/"
        },
        "id": "D34fWqAi1K3k",
        "outputId": "6449c16b-2dfc-4af9-e1c4-1c82df82a8e7"
      },
      "source": [
        "from pyspark.sql import functions as F\n",
        "bddata.select([F.count(F.when(F.isnan(c), c)).alias(c) for c in bddata.columns]).show()"
      ],
      "execution_count": null,
      "outputs": [
        {
          "output_type": "stream",
          "name": "stdout",
          "text": [
            "+--------+--------+-------------+------------+------------+---------------+---------------+---------------+---------------+----------------+---------------+---------------+---------------+----------------+---------------+-----------+-------------+------------+------------+------------+-----------+------------+-----------+-----------+-----------+-----------+------------+-----------+-----------+-----------+-------------+-------------+-------------+-------------+--------------+--------------+----------+----------+-----------+-----------+------------+-----------+-----------+------------+------------+------------+------------+------------+------------+--------------+------------+-------------+------------+----------------+----------------+--------------+--------------+----------------+--------------+--------------+----------------+----------------+----------------+----------------+----------------+-----------------+-----------------+-----------------+----------------+-----------+----------+----------+----------+---------+--------+--------+--------+-----+\n",
            "|Dst Port|Protocol|Flow Duration|Tot Fwd Pkts|Tot Bwd Pkts|TotLen Fwd Pkts|TotLen Bwd Pkts|Fwd Pkt Len Max|Fwd Pkt Len Min|Fwd Pkt Len Mean|Fwd Pkt Len Std|Bwd Pkt Len Max|Bwd Pkt Len Min|Bwd Pkt Len Mean|Bwd Pkt Len Std|Flow Pkts/s|Flow IAT Mean|Flow IAT Std|Flow IAT Max|Flow IAT Min|Fwd IAT Tot|Fwd IAT Mean|Fwd IAT Std|Fwd IAT Max|Fwd IAT Min|Bwd IAT Tot|Bwd IAT Mean|Bwd IAT Std|Bwd IAT Max|Bwd IAT Min|Fwd PSH Flags|Bwd PSH Flags|Fwd URG Flags|Bwd URG Flags|Fwd Header Len|Bwd Header Len|Fwd Pkts/s|Bwd Pkts/s|Pkt Len Min|Pkt Len Max|Pkt Len Mean|Pkt Len Std|Pkt Len Var|FIN Flag Cnt|SYN Flag Cnt|RST Flag Cnt|PSH Flag Cnt|ACK Flag Cnt|URG Flag Cnt|CWE Flag Count|ECE Flag Cnt|Down/Up Ratio|Pkt Size Avg|Fwd Seg Size Avg|Bwd Seg Size Avg|Fwd Byts/b Avg|Fwd Pkts/b Avg|Fwd Blk Rate Avg|Bwd Byts/b Avg|Bwd Pkts/b Avg|Bwd Blk Rate Avg|Subflow Fwd Pkts|Subflow Fwd Byts|Subflow Bwd Pkts|Subflow Bwd Byts|Init Fwd Win Byts|Init Bwd Win Byts|Fwd Act Data Pkts|Fwd Seg Size Min|Active Mean|Active Std|Active Max|Active Min|Idle Mean|Idle Std|Idle Max|Idle Min|Label|\n",
            "+--------+--------+-------------+------------+------------+---------------+---------------+---------------+---------------+----------------+---------------+---------------+---------------+----------------+---------------+-----------+-------------+------------+------------+------------+-----------+------------+-----------+-----------+-----------+-----------+------------+-----------+-----------+-----------+-------------+-------------+-------------+-------------+--------------+--------------+----------+----------+-----------+-----------+------------+-----------+-----------+------------+------------+------------+------------+------------+------------+--------------+------------+-------------+------------+----------------+----------------+--------------+--------------+----------------+--------------+--------------+----------------+----------------+----------------+----------------+----------------+-----------------+-----------------+-----------------+----------------+-----------+----------+----------+----------+---------+--------+--------+--------+-----+\n",
            "|       0|       0|            0|           0|           0|              0|              0|              0|              0|               0|              0|              0|              0|               0|              0|          0|            0|           0|           0|           0|          0|           0|          0|          0|          0|          0|           0|          0|          0|          0|            0|            0|            0|            0|             0|             0|         0|         0|          0|          0|           0|          0|          0|           0|           0|           0|           0|           0|           0|             0|           0|            0|           0|               0|               0|             0|             0|               0|             0|             0|               0|               0|               0|               0|               0|                0|                0|                0|               0|          0|         0|         0|         0|        0|       0|       0|       0|    0|\n",
            "+--------+--------+-------------+------------+------------+---------------+---------------+---------------+---------------+----------------+---------------+---------------+---------------+----------------+---------------+-----------+-------------+------------+------------+------------+-----------+------------+-----------+-----------+-----------+-----------+------------+-----------+-----------+-----------+-------------+-------------+-------------+-------------+--------------+--------------+----------+----------+-----------+-----------+------------+-----------+-----------+------------+------------+------------+------------+------------+------------+--------------+------------+-------------+------------+----------------+----------------+--------------+--------------+----------------+--------------+--------------+----------------+----------------+----------------+----------------+----------------+-----------------+-----------------+-----------------+----------------+-----------+----------+----------+----------+---------+--------+--------+--------+-----+\n",
            "\n"
          ]
        }
      ]
    },
    {
      "cell_type": "code",
      "metadata": {
        "colab": {
          "base_uri": "https://localhost:8080/"
        },
        "id": "wyOd6RVH258n",
        "outputId": "e8b32935-bbb2-48c6-9799-aebc986b069a"
      },
      "source": [
        "from pyspark.ml.feature import StringIndexer\n",
        "l_indexer = StringIndexer(inputCol=\"Label\", outputCol=\"labelIndex\")\n",
        "nvdata = l_indexer.fit(bddata).transform(bddata)\n",
        "nvdata.show(4)"
      ],
      "execution_count": null,
      "outputs": [
        {
          "output_type": "stream",
          "name": "stdout",
          "text": [
            "+--------+--------+-------------+------------+------------+---------------+---------------+---------------+---------------+----------------+---------------+---------------+---------------+----------------+---------------+------------+-------------+----------------+------------+------------+-----------+----------------+----------------+-----------+-----------+-----------+----------------+---------------+-----------+-----------+-------------+-------------+-------------+-------------+--------------+--------------+------------+------------+-----------+-----------+--------------+--------------+----------------+------------+------------+------------+------------+------------+------------+--------------+------------+-------------+------------+----------------+----------------+--------------+--------------+----------------+--------------+--------------+----------------+----------------+----------------+----------------+----------------+-----------------+-----------------+-----------------+----------------+-----------+----------+----------+----------+------------+--------------+--------+--------+------+----------+\n",
            "|Dst Port|Protocol|Flow Duration|Tot Fwd Pkts|Tot Bwd Pkts|TotLen Fwd Pkts|TotLen Bwd Pkts|Fwd Pkt Len Max|Fwd Pkt Len Min|Fwd Pkt Len Mean|Fwd Pkt Len Std|Bwd Pkt Len Max|Bwd Pkt Len Min|Bwd Pkt Len Mean|Bwd Pkt Len Std| Flow Pkts/s|Flow IAT Mean|    Flow IAT Std|Flow IAT Max|Flow IAT Min|Fwd IAT Tot|    Fwd IAT Mean|     Fwd IAT Std|Fwd IAT Max|Fwd IAT Min|Bwd IAT Tot|    Bwd IAT Mean|    Bwd IAT Std|Bwd IAT Max|Bwd IAT Min|Fwd PSH Flags|Bwd PSH Flags|Fwd URG Flags|Bwd URG Flags|Fwd Header Len|Bwd Header Len|  Fwd Pkts/s|  Bwd Pkts/s|Pkt Len Min|Pkt Len Max|  Pkt Len Mean|   Pkt Len Std|     Pkt Len Var|FIN Flag Cnt|SYN Flag Cnt|RST Flag Cnt|PSH Flag Cnt|ACK Flag Cnt|URG Flag Cnt|CWE Flag Count|ECE Flag Cnt|Down/Up Ratio|Pkt Size Avg|Fwd Seg Size Avg|Bwd Seg Size Avg|Fwd Byts/b Avg|Fwd Pkts/b Avg|Fwd Blk Rate Avg|Bwd Byts/b Avg|Bwd Pkts/b Avg|Bwd Blk Rate Avg|Subflow Fwd Pkts|Subflow Fwd Byts|Subflow Bwd Pkts|Subflow Bwd Byts|Init Fwd Win Byts|Init Bwd Win Byts|Fwd Act Data Pkts|Fwd Seg Size Min|Active Mean|Active Std|Active Max|Active Min|   Idle Mean|      Idle Std|Idle Max|Idle Min| Label|labelIndex|\n",
            "+--------+--------+-------------+------------+------------+---------------+---------------+---------------+---------------+----------------+---------------+---------------+---------------+----------------+---------------+------------+-------------+----------------+------------+------------+-----------+----------------+----------------+-----------+-----------+-----------+----------------+---------------+-----------+-----------+-------------+-------------+-------------+-------------+--------------+--------------+------------+------------+-----------+-----------+--------------+--------------+----------------+------------+------------+------------+------------+------------+------------+--------------+------------+-------------+------------+----------------+----------------+--------------+--------------+----------------+--------------+--------------+----------------+----------------+----------------+----------------+----------------+-----------------+-----------------+-----------------+----------------+-----------+----------+----------+----------+------------+--------------+--------+--------+------+----------+\n",
            "|       0|       0|    112641719|           3|           0|              0|              0|              0|              0|             0.0|            0.0|              0|              0|             0.0|            0.0|0.0266331163| 5.63208595E7|  139.3000358938|    56320958|    56320761|  112641719|    5.63208595E7|  139.3000358938|   56320958|   56320761|          0|             0.0|            0.0|          0|          0|            0|            0|            0|            0|             0|             0|0.0266331163|         0.0|          0|          0|           0.0|           0.0|             0.0|           0|           0|           0|           0|           0|           0|             0|           0|            0|         0.0|             0.0|             0.0|             0|             0|               0|             0|             0|               0|               3|               0|               0|               0|               -1|               -1|                0|               0|        0.0|       0.0|         0|         0|5.63208595E7|139.3000358938|56320958|56320761|Benign|       0.0|\n",
            "|       0|       0|    112641466|           3|           0|              0|              0|              0|              0|             0.0|            0.0|              0|              0|             0.0|            0.0|0.0266331761|  5.6320733E7|  114.5512985522|    56320814|    56320652|  112641466|     5.6320733E7|  114.5512985522|   56320814|   56320652|          0|             0.0|            0.0|          0|          0|            0|            0|            0|            0|             0|             0|0.0266331761|         0.0|          0|          0|           0.0|           0.0|             0.0|           0|           0|           0|           0|           0|           0|             0|           0|            0|         0.0|             0.0|             0.0|             0|             0|               0|             0|             0|               0|               3|               0|               0|               0|               -1|               -1|                0|               0|        0.0|       0.0|         0|         0| 5.6320733E7|114.5512985522|56320814|56320652|Benign|       0.0|\n",
            "|       0|       0|    112638623|           3|           0|              0|              0|              0|              0|             0.0|            0.0|              0|              0|             0.0|            0.0|0.0266338483| 5.63193115E7|  301.9345955667|    56319525|    56319098|  112638623|    5.63193115E7|  301.9345955667|   56319525|   56319098|          0|             0.0|            0.0|          0|          0|            0|            0|            0|            0|             0|             0|0.0266338483|         0.0|          0|          0|           0.0|           0.0|             0.0|           0|           0|           0|           0|           0|           0|             0|           0|            0|         0.0|             0.0|             0.0|             0|             0|               0|             0|             0|               0|               3|               0|               0|               0|               -1|               -1|                0|               0|        0.0|       0.0|         0|         0|5.63193115E7|301.9345955667|56319525|56319098|Benign|       0.0|\n",
            "|      22|       6|      6453966|          15|          10|           1239|           2273|            744|              0|            82.6| 196.7412368715|            976|              0|           227.3| 371.6778922072|3.8735871865|    268915.25|247443.778966007|      673900|          22|    6453966|460997.571428571|123109.423587757|     673900|     229740|    5637902|626433.555555556|455082.21422401|    1167293|        554|            0|            0|            0|            0|           488|           328|2.3241523119|1.5494348746|          0|        976|135.0769230769|277.8347599674|77192.1538461539|           0|           0|           0|           1|           0|           0|             0|           0|            0|      140.48|            82.6|           227.3|             0|             0|               0|             0|             0|               0|              15|            1239|              10|            2273|            65535|              233|                6|              32|        0.0|       0.0|         0|         0|         0.0|           0.0|       0|       0|Benign|       0.0|\n",
            "+--------+--------+-------------+------------+------------+---------------+---------------+---------------+---------------+----------------+---------------+---------------+---------------+----------------+---------------+------------+-------------+----------------+------------+------------+-----------+----------------+----------------+-----------+-----------+-----------+----------------+---------------+-----------+-----------+-------------+-------------+-------------+-------------+--------------+--------------+------------+------------+-----------+-----------+--------------+--------------+----------------+------------+------------+------------+------------+------------+------------+--------------+------------+-------------+------------+----------------+----------------+--------------+--------------+----------------+--------------+--------------+----------------+----------------+----------------+----------------+----------------+-----------------+-----------------+-----------------+----------------+-----------+----------+----------+----------+------------+--------------+--------+--------+------+----------+\n",
            "only showing top 4 rows\n",
            "\n"
          ]
        }
      ]
    },
    {
      "cell_type": "code",
      "metadata": {
        "colab": {
          "base_uri": "https://localhost:8080/"
        },
        "id": "j9GPYNm73Iqn",
        "outputId": "5449eb0a-d484-436c-c9f7-19a0302c9d31"
      },
      "source": [
        "nvdata=nvdata.drop('Label')\n",
        "\n",
        "nvdata.show(4)"
      ],
      "execution_count": null,
      "outputs": [
        {
          "output_type": "stream",
          "name": "stdout",
          "text": [
            "+--------+--------+-------------+------------+------------+---------------+---------------+---------------+---------------+----------------+---------------+---------------+---------------+----------------+---------------+------------+-------------+----------------+------------+------------+-----------+----------------+----------------+-----------+-----------+-----------+----------------+---------------+-----------+-----------+-------------+-------------+-------------+-------------+--------------+--------------+------------+------------+-----------+-----------+--------------+--------------+----------------+------------+------------+------------+------------+------------+------------+--------------+------------+-------------+------------+----------------+----------------+--------------+--------------+----------------+--------------+--------------+----------------+----------------+----------------+----------------+----------------+-----------------+-----------------+-----------------+----------------+-----------+----------+----------+----------+------------+--------------+--------+--------+----------+\n",
            "|Dst Port|Protocol|Flow Duration|Tot Fwd Pkts|Tot Bwd Pkts|TotLen Fwd Pkts|TotLen Bwd Pkts|Fwd Pkt Len Max|Fwd Pkt Len Min|Fwd Pkt Len Mean|Fwd Pkt Len Std|Bwd Pkt Len Max|Bwd Pkt Len Min|Bwd Pkt Len Mean|Bwd Pkt Len Std| Flow Pkts/s|Flow IAT Mean|    Flow IAT Std|Flow IAT Max|Flow IAT Min|Fwd IAT Tot|    Fwd IAT Mean|     Fwd IAT Std|Fwd IAT Max|Fwd IAT Min|Bwd IAT Tot|    Bwd IAT Mean|    Bwd IAT Std|Bwd IAT Max|Bwd IAT Min|Fwd PSH Flags|Bwd PSH Flags|Fwd URG Flags|Bwd URG Flags|Fwd Header Len|Bwd Header Len|  Fwd Pkts/s|  Bwd Pkts/s|Pkt Len Min|Pkt Len Max|  Pkt Len Mean|   Pkt Len Std|     Pkt Len Var|FIN Flag Cnt|SYN Flag Cnt|RST Flag Cnt|PSH Flag Cnt|ACK Flag Cnt|URG Flag Cnt|CWE Flag Count|ECE Flag Cnt|Down/Up Ratio|Pkt Size Avg|Fwd Seg Size Avg|Bwd Seg Size Avg|Fwd Byts/b Avg|Fwd Pkts/b Avg|Fwd Blk Rate Avg|Bwd Byts/b Avg|Bwd Pkts/b Avg|Bwd Blk Rate Avg|Subflow Fwd Pkts|Subflow Fwd Byts|Subflow Bwd Pkts|Subflow Bwd Byts|Init Fwd Win Byts|Init Bwd Win Byts|Fwd Act Data Pkts|Fwd Seg Size Min|Active Mean|Active Std|Active Max|Active Min|   Idle Mean|      Idle Std|Idle Max|Idle Min|labelIndex|\n",
            "+--------+--------+-------------+------------+------------+---------------+---------------+---------------+---------------+----------------+---------------+---------------+---------------+----------------+---------------+------------+-------------+----------------+------------+------------+-----------+----------------+----------------+-----------+-----------+-----------+----------------+---------------+-----------+-----------+-------------+-------------+-------------+-------------+--------------+--------------+------------+------------+-----------+-----------+--------------+--------------+----------------+------------+------------+------------+------------+------------+------------+--------------+------------+-------------+------------+----------------+----------------+--------------+--------------+----------------+--------------+--------------+----------------+----------------+----------------+----------------+----------------+-----------------+-----------------+-----------------+----------------+-----------+----------+----------+----------+------------+--------------+--------+--------+----------+\n",
            "|       0|       0|    112641719|           3|           0|              0|              0|              0|              0|             0.0|            0.0|              0|              0|             0.0|            0.0|0.0266331163| 5.63208595E7|  139.3000358938|    56320958|    56320761|  112641719|    5.63208595E7|  139.3000358938|   56320958|   56320761|          0|             0.0|            0.0|          0|          0|            0|            0|            0|            0|             0|             0|0.0266331163|         0.0|          0|          0|           0.0|           0.0|             0.0|           0|           0|           0|           0|           0|           0|             0|           0|            0|         0.0|             0.0|             0.0|             0|             0|               0|             0|             0|               0|               3|               0|               0|               0|               -1|               -1|                0|               0|        0.0|       0.0|         0|         0|5.63208595E7|139.3000358938|56320958|56320761|       0.0|\n",
            "|       0|       0|    112641466|           3|           0|              0|              0|              0|              0|             0.0|            0.0|              0|              0|             0.0|            0.0|0.0266331761|  5.6320733E7|  114.5512985522|    56320814|    56320652|  112641466|     5.6320733E7|  114.5512985522|   56320814|   56320652|          0|             0.0|            0.0|          0|          0|            0|            0|            0|            0|             0|             0|0.0266331761|         0.0|          0|          0|           0.0|           0.0|             0.0|           0|           0|           0|           0|           0|           0|             0|           0|            0|         0.0|             0.0|             0.0|             0|             0|               0|             0|             0|               0|               3|               0|               0|               0|               -1|               -1|                0|               0|        0.0|       0.0|         0|         0| 5.6320733E7|114.5512985522|56320814|56320652|       0.0|\n",
            "|       0|       0|    112638623|           3|           0|              0|              0|              0|              0|             0.0|            0.0|              0|              0|             0.0|            0.0|0.0266338483| 5.63193115E7|  301.9345955667|    56319525|    56319098|  112638623|    5.63193115E7|  301.9345955667|   56319525|   56319098|          0|             0.0|            0.0|          0|          0|            0|            0|            0|            0|             0|             0|0.0266338483|         0.0|          0|          0|           0.0|           0.0|             0.0|           0|           0|           0|           0|           0|           0|             0|           0|            0|         0.0|             0.0|             0.0|             0|             0|               0|             0|             0|               0|               3|               0|               0|               0|               -1|               -1|                0|               0|        0.0|       0.0|         0|         0|5.63193115E7|301.9345955667|56319525|56319098|       0.0|\n",
            "|      22|       6|      6453966|          15|          10|           1239|           2273|            744|              0|            82.6| 196.7412368715|            976|              0|           227.3| 371.6778922072|3.8735871865|    268915.25|247443.778966007|      673900|          22|    6453966|460997.571428571|123109.423587757|     673900|     229740|    5637902|626433.555555556|455082.21422401|    1167293|        554|            0|            0|            0|            0|           488|           328|2.3241523119|1.5494348746|          0|        976|135.0769230769|277.8347599674|77192.1538461539|           0|           0|           0|           1|           0|           0|             0|           0|            0|      140.48|            82.6|           227.3|             0|             0|               0|             0|             0|               0|              15|            1239|              10|            2273|            65535|              233|                6|              32|        0.0|       0.0|         0|         0|         0.0|           0.0|       0|       0|       0.0|\n",
            "+--------+--------+-------------+------------+------------+---------------+---------------+---------------+---------------+----------------+---------------+---------------+---------------+----------------+---------------+------------+-------------+----------------+------------+------------+-----------+----------------+----------------+-----------+-----------+-----------+----------------+---------------+-----------+-----------+-------------+-------------+-------------+-------------+--------------+--------------+------------+------------+-----------+-----------+--------------+--------------+----------------+------------+------------+------------+------------+------------+------------+--------------+------------+-------------+------------+----------------+----------------+--------------+--------------+----------------+--------------+--------------+----------------+----------------+----------------+----------------+----------------+-----------------+-----------------+-----------------+----------------+-----------+----------+----------+----------+------------+--------------+--------+--------+----------+\n",
            "only showing top 4 rows\n",
            "\n"
          ]
        }
      ]
    },
    {
      "cell_type": "code",
      "metadata": {
        "id": "st5pZ56ryfMc"
      },
      "source": [
        "splits = nvdata.randomSplit([0.7, 0.3], 1234)\n",
        "train = splits[0]\n",
        "test = splits[1]"
      ],
      "execution_count": null,
      "outputs": []
    },
    {
      "cell_type": "code",
      "metadata": {
        "colab": {
          "base_uri": "https://localhost:8080/",
          "height": 413
        },
        "id": "53BMvpw80gUq",
        "outputId": "6386f437-655f-494c-e172-174a9fefaf82"
      },
      "source": [
        "from pyspark.ml.classification import NaiveBayes\n",
        "nb = NaiveBayes(smoothing=1.0,modelType=\"multinomial\")\n",
        "model = nb.fit(train)"
      ],
      "execution_count": null,
      "outputs": [
        {
          "output_type": "error",
          "ename": "IllegalArgumentException",
          "evalue": "ignored",
          "traceback": [
            "\u001b[0;31m---------------------------------------------------------------------------\u001b[0m",
            "\u001b[0;31mIllegalArgumentException\u001b[0m                  Traceback (most recent call last)",
            "\u001b[0;32m<ipython-input-61-32e2a81a03d3>\u001b[0m in \u001b[0;36m<module>\u001b[0;34m()\u001b[0m\n\u001b[1;32m      1\u001b[0m \u001b[0;32mfrom\u001b[0m \u001b[0mpyspark\u001b[0m\u001b[0;34m.\u001b[0m\u001b[0mml\u001b[0m\u001b[0;34m.\u001b[0m\u001b[0mclassification\u001b[0m \u001b[0;32mimport\u001b[0m \u001b[0mNaiveBayes\u001b[0m\u001b[0;34m\u001b[0m\u001b[0;34m\u001b[0m\u001b[0m\n\u001b[1;32m      2\u001b[0m \u001b[0mnb\u001b[0m \u001b[0;34m=\u001b[0m \u001b[0mNaiveBayes\u001b[0m\u001b[0;34m(\u001b[0m\u001b[0msmoothing\u001b[0m\u001b[0;34m=\u001b[0m\u001b[0;36m1.0\u001b[0m\u001b[0;34m,\u001b[0m\u001b[0mmodelType\u001b[0m\u001b[0;34m=\u001b[0m\u001b[0;34m\"multinomial\"\u001b[0m\u001b[0;34m)\u001b[0m\u001b[0;34m\u001b[0m\u001b[0;34m\u001b[0m\u001b[0m\n\u001b[0;32m----> 3\u001b[0;31m \u001b[0mmodel\u001b[0m \u001b[0;34m=\u001b[0m \u001b[0mnb\u001b[0m\u001b[0;34m.\u001b[0m\u001b[0mfit\u001b[0m\u001b[0;34m(\u001b[0m\u001b[0mtrain\u001b[0m\u001b[0;34m)\u001b[0m\u001b[0;34m\u001b[0m\u001b[0;34m\u001b[0m\u001b[0m\n\u001b[0m",
            "\u001b[0;32m/content/spark-3.0.0-bin-hadoop3.2/python/pyspark/ml/base.py\u001b[0m in \u001b[0;36mfit\u001b[0;34m(self, dataset, params)\u001b[0m\n\u001b[1;32m    127\u001b[0m                 \u001b[0;32mreturn\u001b[0m \u001b[0mself\u001b[0m\u001b[0;34m.\u001b[0m\u001b[0mcopy\u001b[0m\u001b[0;34m(\u001b[0m\u001b[0mparams\u001b[0m\u001b[0;34m)\u001b[0m\u001b[0;34m.\u001b[0m\u001b[0m_fit\u001b[0m\u001b[0;34m(\u001b[0m\u001b[0mdataset\u001b[0m\u001b[0;34m)\u001b[0m\u001b[0;34m\u001b[0m\u001b[0;34m\u001b[0m\u001b[0m\n\u001b[1;32m    128\u001b[0m             \u001b[0;32melse\u001b[0m\u001b[0;34m:\u001b[0m\u001b[0;34m\u001b[0m\u001b[0;34m\u001b[0m\u001b[0m\n\u001b[0;32m--> 129\u001b[0;31m                 \u001b[0;32mreturn\u001b[0m \u001b[0mself\u001b[0m\u001b[0;34m.\u001b[0m\u001b[0m_fit\u001b[0m\u001b[0;34m(\u001b[0m\u001b[0mdataset\u001b[0m\u001b[0;34m)\u001b[0m\u001b[0;34m\u001b[0m\u001b[0;34m\u001b[0m\u001b[0m\n\u001b[0m\u001b[1;32m    130\u001b[0m         \u001b[0;32melse\u001b[0m\u001b[0;34m:\u001b[0m\u001b[0;34m\u001b[0m\u001b[0;34m\u001b[0m\u001b[0m\n\u001b[1;32m    131\u001b[0m             raise ValueError(\"Params must be either a param map or a list/tuple of param maps, \"\n",
            "\u001b[0;32m/content/spark-3.0.0-bin-hadoop3.2/python/pyspark/ml/wrapper.py\u001b[0m in \u001b[0;36m_fit\u001b[0;34m(self, dataset)\u001b[0m\n\u001b[1;32m    319\u001b[0m \u001b[0;34m\u001b[0m\u001b[0m\n\u001b[1;32m    320\u001b[0m     \u001b[0;32mdef\u001b[0m \u001b[0m_fit\u001b[0m\u001b[0;34m(\u001b[0m\u001b[0mself\u001b[0m\u001b[0;34m,\u001b[0m \u001b[0mdataset\u001b[0m\u001b[0;34m)\u001b[0m\u001b[0;34m:\u001b[0m\u001b[0;34m\u001b[0m\u001b[0;34m\u001b[0m\u001b[0m\n\u001b[0;32m--> 321\u001b[0;31m         \u001b[0mjava_model\u001b[0m \u001b[0;34m=\u001b[0m \u001b[0mself\u001b[0m\u001b[0;34m.\u001b[0m\u001b[0m_fit_java\u001b[0m\u001b[0;34m(\u001b[0m\u001b[0mdataset\u001b[0m\u001b[0;34m)\u001b[0m\u001b[0;34m\u001b[0m\u001b[0;34m\u001b[0m\u001b[0m\n\u001b[0m\u001b[1;32m    322\u001b[0m         \u001b[0mmodel\u001b[0m \u001b[0;34m=\u001b[0m \u001b[0mself\u001b[0m\u001b[0;34m.\u001b[0m\u001b[0m_create_model\u001b[0m\u001b[0;34m(\u001b[0m\u001b[0mjava_model\u001b[0m\u001b[0;34m)\u001b[0m\u001b[0;34m\u001b[0m\u001b[0;34m\u001b[0m\u001b[0m\n\u001b[1;32m    323\u001b[0m         \u001b[0;32mreturn\u001b[0m \u001b[0mself\u001b[0m\u001b[0;34m.\u001b[0m\u001b[0m_copyValues\u001b[0m\u001b[0;34m(\u001b[0m\u001b[0mmodel\u001b[0m\u001b[0;34m)\u001b[0m\u001b[0;34m\u001b[0m\u001b[0;34m\u001b[0m\u001b[0m\n",
            "\u001b[0;32m/content/spark-3.0.0-bin-hadoop3.2/python/pyspark/ml/wrapper.py\u001b[0m in \u001b[0;36m_fit_java\u001b[0;34m(self, dataset)\u001b[0m\n\u001b[1;32m    316\u001b[0m         \"\"\"\n\u001b[1;32m    317\u001b[0m         \u001b[0mself\u001b[0m\u001b[0;34m.\u001b[0m\u001b[0m_transfer_params_to_java\u001b[0m\u001b[0;34m(\u001b[0m\u001b[0;34m)\u001b[0m\u001b[0;34m\u001b[0m\u001b[0;34m\u001b[0m\u001b[0m\n\u001b[0;32m--> 318\u001b[0;31m         \u001b[0;32mreturn\u001b[0m \u001b[0mself\u001b[0m\u001b[0;34m.\u001b[0m\u001b[0m_java_obj\u001b[0m\u001b[0;34m.\u001b[0m\u001b[0mfit\u001b[0m\u001b[0;34m(\u001b[0m\u001b[0mdataset\u001b[0m\u001b[0;34m.\u001b[0m\u001b[0m_jdf\u001b[0m\u001b[0;34m)\u001b[0m\u001b[0;34m\u001b[0m\u001b[0;34m\u001b[0m\u001b[0m\n\u001b[0m\u001b[1;32m    319\u001b[0m \u001b[0;34m\u001b[0m\u001b[0m\n\u001b[1;32m    320\u001b[0m     \u001b[0;32mdef\u001b[0m \u001b[0m_fit\u001b[0m\u001b[0;34m(\u001b[0m\u001b[0mself\u001b[0m\u001b[0;34m,\u001b[0m \u001b[0mdataset\u001b[0m\u001b[0;34m)\u001b[0m\u001b[0;34m:\u001b[0m\u001b[0;34m\u001b[0m\u001b[0;34m\u001b[0m\u001b[0m\n",
            "\u001b[0;32m/content/spark-3.0.0-bin-hadoop3.2/python/lib/py4j-0.10.9-src.zip/py4j/java_gateway.py\u001b[0m in \u001b[0;36m__call__\u001b[0;34m(self, *args)\u001b[0m\n\u001b[1;32m   1303\u001b[0m         \u001b[0manswer\u001b[0m \u001b[0;34m=\u001b[0m \u001b[0mself\u001b[0m\u001b[0;34m.\u001b[0m\u001b[0mgateway_client\u001b[0m\u001b[0;34m.\u001b[0m\u001b[0msend_command\u001b[0m\u001b[0;34m(\u001b[0m\u001b[0mcommand\u001b[0m\u001b[0;34m)\u001b[0m\u001b[0;34m\u001b[0m\u001b[0;34m\u001b[0m\u001b[0m\n\u001b[1;32m   1304\u001b[0m         return_value = get_return_value(\n\u001b[0;32m-> 1305\u001b[0;31m             answer, self.gateway_client, self.target_id, self.name)\n\u001b[0m\u001b[1;32m   1306\u001b[0m \u001b[0;34m\u001b[0m\u001b[0m\n\u001b[1;32m   1307\u001b[0m         \u001b[0;32mfor\u001b[0m \u001b[0mtemp_arg\u001b[0m \u001b[0;32min\u001b[0m \u001b[0mtemp_args\u001b[0m\u001b[0;34m:\u001b[0m\u001b[0;34m\u001b[0m\u001b[0;34m\u001b[0m\u001b[0m\n",
            "\u001b[0;32m/content/spark-3.0.0-bin-hadoop3.2/python/pyspark/sql/utils.py\u001b[0m in \u001b[0;36mdeco\u001b[0;34m(*a, **kw)\u001b[0m\n\u001b[1;32m    135\u001b[0m                 \u001b[0;31m# Hide where the exception came from that shows a non-Pythonic\u001b[0m\u001b[0;34m\u001b[0m\u001b[0;34m\u001b[0m\u001b[0;34m\u001b[0m\u001b[0m\n\u001b[1;32m    136\u001b[0m                 \u001b[0;31m# JVM exception message.\u001b[0m\u001b[0;34m\u001b[0m\u001b[0;34m\u001b[0m\u001b[0;34m\u001b[0m\u001b[0m\n\u001b[0;32m--> 137\u001b[0;31m                 \u001b[0mraise_from\u001b[0m\u001b[0;34m(\u001b[0m\u001b[0mconverted\u001b[0m\u001b[0;34m)\u001b[0m\u001b[0;34m\u001b[0m\u001b[0;34m\u001b[0m\u001b[0m\n\u001b[0m\u001b[1;32m    138\u001b[0m             \u001b[0;32melse\u001b[0m\u001b[0;34m:\u001b[0m\u001b[0;34m\u001b[0m\u001b[0;34m\u001b[0m\u001b[0m\n\u001b[1;32m    139\u001b[0m                 \u001b[0;32mraise\u001b[0m\u001b[0;34m\u001b[0m\u001b[0;34m\u001b[0m\u001b[0m\n",
            "\u001b[0;32m/content/spark-3.0.0-bin-hadoop3.2/python/pyspark/sql/utils.py\u001b[0m in \u001b[0;36mraise_from\u001b[0;34m(e)\u001b[0m\n",
            "\u001b[0;31mIllegalArgumentException\u001b[0m: features does not exist. Available: Dst Port, Protocol, Flow Duration, Tot Fwd Pkts, Tot Bwd Pkts, TotLen Fwd Pkts, TotLen Bwd Pkts, Fwd Pkt Len Max, Fwd Pkt Len Min, Fwd Pkt Len Mean, Fwd Pkt Len Std, Bwd Pkt Len Max, Bwd Pkt Len Min, Bwd Pkt Len Mean, Bwd Pkt Len Std, Flow Pkts/s, Flow IAT Mean, Flow IAT Std, Flow IAT Max, Flow IAT Min, Fwd IAT Tot, Fwd IAT Mean, Fwd IAT Std, Fwd IAT Max, Fwd IAT Min, Bwd IAT Tot, Bwd IAT Mean, Bwd IAT Std, Bwd IAT Max, Bwd IAT Min, Fwd PSH Flags, Bwd PSH Flags, Fwd URG Flags, Bwd URG Flags, Fwd Header Len, Bwd Header Len, Fwd Pkts/s, Bwd Pkts/s, Pkt Len Min, Pkt Len Max, Pkt Len Mean, Pkt Len Std, Pkt Len Var, FIN Flag Cnt, SYN Flag Cnt, RST Flag Cnt, PSH Flag Cnt, ACK Flag Cnt, URG Flag Cnt, CWE Flag Count, ECE Flag Cnt, Down/Up Ratio, Pkt Size Avg, Fwd Seg Size Avg, Bwd Seg Size Avg, Fwd Byts/b Avg, Fwd Pkts/b Avg, Fwd Blk Rate Avg, Bwd Byts/b Avg, Bwd Pkts/b Avg, Bwd Blk Rate Avg, Subflow Fwd Pkts, Subflow Fwd Byts, Subflow Bwd Pkts, Subflow Bwd Byts, Init Fwd Win Byts, Init Bwd Win Byts, Fwd Act Data Pkts, Fwd Seg Size Min, Active Mean, Active Std, Active Max, Active Min, Idle Mean, Idle Std, Idle Max, Idle Min, labelIndex"
          ]
        }
      ]
    },
    {
      "cell_type": "code",
      "metadata": {
        "id": "tvi26YUx0gXl"
      },
      "source": [
        ""
      ],
      "execution_count": null,
      "outputs": []
    },
    {
      "cell_type": "markdown",
      "metadata": {
        "id": "sL7XOLs6EKK9"
      },
      "source": [
        "# ***SQL Quries part***"
      ]
    },
    {
      "cell_type": "code",
      "metadata": {
        "colab": {
          "base_uri": "https://localhost:8080/"
        },
        "id": "YRS_jWhHEI9_",
        "outputId": "0001c69a-d74c-494b-b44d-d6a7cabcd5cf"
      },
      "source": [
        "!pip3 install pyspark -q"
      ],
      "execution_count": null,
      "outputs": [
        {
          "output_type": "stream",
          "name": "stdout",
          "text": [
            "\u001b[K     |████████████████████████████████| 281.3 MB 37 kB/s \n",
            "\u001b[K     |████████████████████████████████| 198 kB 55.8 MB/s \n",
            "\u001b[?25h  Building wheel for pyspark (setup.py) ... \u001b[?25l\u001b[?25hdone\n"
          ]
        }
      ]
    },
    {
      "cell_type": "code",
      "metadata": {
        "id": "PISvVbWxEpzG"
      },
      "source": [
        "from pyspark.sql import SparkSession\n",
        "spark = SparkSession \\\n",
        "    .builder \\\n",
        ".appName(\"Python Spark SQL basic example\") \\\n",
        "    .config(\"spark.some.config.option\", \"some-value\") \\\n",
        "    .getOrCreate()\n"
      ],
      "execution_count": null,
      "outputs": []
    },
    {
      "cell_type": "code",
      "metadata": {
        "colab": {
          "base_uri": "https://localhost:8080/"
        },
        "id": "dBDkdc0zEqEj",
        "outputId": "1db25fe3-a7ee-4fc0-8974-70f9086215de"
      },
      "source": [
        "!unzip \"/content/drive/MyDrive/CRWK_BD/archive_IDS2018.zip\""
      ],
      "execution_count": null,
      "outputs": [
        {
          "output_type": "stream",
          "name": "stdout",
          "text": [
            "Archive:  /content/drive/MyDrive/CRWK_BD/archive_IDS2018.zip\n",
            " extracting: archive_IDS2018/02-14-2018.csv  \n",
            " extracting: archive_IDS2018/02-15-2018.csv  \n",
            " extracting: archive_IDS2018/02-16-2018.csv  \n",
            " extracting: archive_IDS2018/02-21-2018.csv  \n",
            " extracting: archive_IDS2018/02-22-2018.csv  \n",
            " extracting: archive_IDS2018/02-23-2018.csv  \n",
            " extracting: archive_IDS2018/03-02-2018.csv  \n"
          ]
        }
      ]
    },
    {
      "cell_type": "code",
      "metadata": {
        "id": "ngJKVIgLOk2G"
      },
      "source": [
        "\n",
        "data1=spark.read.csv('/content/archive_IDS2018/02-14-2018.csv',inferSchema=True,header=True)\n",
        "data2=spark.read.csv('/content/archive_IDS2018/02-15-2018.csv',inferSchema=True,header=True)\n",
        "data3=spark.read.csv('/content/archive_IDS2018/02-16-2018.csv',inferSchema=True,header=True)\n",
        "data4=spark.read.csv('/content/archive_IDS2018/02-21-2018.csv',inferSchema=True,header=True)\n",
        "data5=spark.read.csv('/content/archive_IDS2018/02-22-2018.csv',inferSchema=True,header=True)\n",
        "data6=spark.read.csv('/content/archive_IDS2018/02-23-2018.csv',inferSchema=True,header=True)\n",
        "#data7=spark.read.csv('/content/archive_IDS2018/03-02-2018.csv',inferSchema=True,header=True)\n"
      ],
      "execution_count": null,
      "outputs": []
    },
    {
      "cell_type": "code",
      "metadata": {
        "id": "g9d8DE_TOk55"
      },
      "source": [
        "from functools import reduce\n",
        "\n",
        "bdsql=reduce(lambda x,y:x.union(y), [data1,data2,data3,data4,data5,data6])"
      ],
      "execution_count": null,
      "outputs": []
    },
    {
      "cell_type": "code",
      "metadata": {
        "colab": {
          "base_uri": "https://localhost:8080/"
        },
        "id": "1FciaGMcOk-A",
        "outputId": "8e4bc485-ef1e-40e4-8954-77be02876b52"
      },
      "source": [
        "type(bdsql)"
      ],
      "execution_count": null,
      "outputs": [
        {
          "output_type": "execute_result",
          "data": {
            "text/plain": [
              "pyspark.sql.dataframe.DataFrame"
            ]
          },
          "metadata": {},
          "execution_count": 6
        }
      ]
    },
    {
      "cell_type": "code",
      "metadata": {
        "colab": {
          "base_uri": "https://localhost:8080/"
        },
        "id": "zQWkkBgSOlBt",
        "outputId": "61f78fbe-68f5-4ef5-fa23-06a32d7a4716"
      },
      "source": [
        "bdsql.printSchema()"
      ],
      "execution_count": null,
      "outputs": [
        {
          "output_type": "stream",
          "name": "stdout",
          "text": [
            "root\n",
            " |-- Dst Port: integer (nullable = true)\n",
            " |-- Protocol: integer (nullable = true)\n",
            " |-- Timestamp: string (nullable = true)\n",
            " |-- Flow Duration: long (nullable = true)\n",
            " |-- Tot Fwd Pkts: integer (nullable = true)\n",
            " |-- Tot Bwd Pkts: integer (nullable = true)\n",
            " |-- TotLen Fwd Pkts: integer (nullable = true)\n",
            " |-- TotLen Bwd Pkts: integer (nullable = true)\n",
            " |-- Fwd Pkt Len Max: integer (nullable = true)\n",
            " |-- Fwd Pkt Len Min: integer (nullable = true)\n",
            " |-- Fwd Pkt Len Mean: double (nullable = true)\n",
            " |-- Fwd Pkt Len Std: double (nullable = true)\n",
            " |-- Bwd Pkt Len Max: integer (nullable = true)\n",
            " |-- Bwd Pkt Len Min: integer (nullable = true)\n",
            " |-- Bwd Pkt Len Mean: double (nullable = true)\n",
            " |-- Bwd Pkt Len Std: double (nullable = true)\n",
            " |-- Flow Byts/s: double (nullable = true)\n",
            " |-- Flow Pkts/s: double (nullable = true)\n",
            " |-- Flow IAT Mean: double (nullable = true)\n",
            " |-- Flow IAT Std: double (nullable = true)\n",
            " |-- Flow IAT Max: long (nullable = true)\n",
            " |-- Flow IAT Min: long (nullable = true)\n",
            " |-- Fwd IAT Tot: long (nullable = true)\n",
            " |-- Fwd IAT Mean: double (nullable = true)\n",
            " |-- Fwd IAT Std: double (nullable = true)\n",
            " |-- Fwd IAT Max: long (nullable = true)\n",
            " |-- Fwd IAT Min: long (nullable = true)\n",
            " |-- Bwd IAT Tot: integer (nullable = true)\n",
            " |-- Bwd IAT Mean: double (nullable = true)\n",
            " |-- Bwd IAT Std: double (nullable = true)\n",
            " |-- Bwd IAT Max: integer (nullable = true)\n",
            " |-- Bwd IAT Min: integer (nullable = true)\n",
            " |-- Fwd PSH Flags: integer (nullable = true)\n",
            " |-- Bwd PSH Flags: integer (nullable = true)\n",
            " |-- Fwd URG Flags: integer (nullable = true)\n",
            " |-- Bwd URG Flags: integer (nullable = true)\n",
            " |-- Fwd Header Len: integer (nullable = true)\n",
            " |-- Bwd Header Len: integer (nullable = true)\n",
            " |-- Fwd Pkts/s: double (nullable = true)\n",
            " |-- Bwd Pkts/s: double (nullable = true)\n",
            " |-- Pkt Len Min: integer (nullable = true)\n",
            " |-- Pkt Len Max: integer (nullable = true)\n",
            " |-- Pkt Len Mean: double (nullable = true)\n",
            " |-- Pkt Len Std: double (nullable = true)\n",
            " |-- Pkt Len Var: double (nullable = true)\n",
            " |-- FIN Flag Cnt: integer (nullable = true)\n",
            " |-- SYN Flag Cnt: integer (nullable = true)\n",
            " |-- RST Flag Cnt: integer (nullable = true)\n",
            " |-- PSH Flag Cnt: integer (nullable = true)\n",
            " |-- ACK Flag Cnt: integer (nullable = true)\n",
            " |-- URG Flag Cnt: integer (nullable = true)\n",
            " |-- CWE Flag Count: integer (nullable = true)\n",
            " |-- ECE Flag Cnt: integer (nullable = true)\n",
            " |-- Down/Up Ratio: integer (nullable = true)\n",
            " |-- Pkt Size Avg: double (nullable = true)\n",
            " |-- Fwd Seg Size Avg: double (nullable = true)\n",
            " |-- Bwd Seg Size Avg: double (nullable = true)\n",
            " |-- Fwd Byts/b Avg: integer (nullable = true)\n",
            " |-- Fwd Pkts/b Avg: integer (nullable = true)\n",
            " |-- Fwd Blk Rate Avg: integer (nullable = true)\n",
            " |-- Bwd Byts/b Avg: integer (nullable = true)\n",
            " |-- Bwd Pkts/b Avg: integer (nullable = true)\n",
            " |-- Bwd Blk Rate Avg: integer (nullable = true)\n",
            " |-- Subflow Fwd Pkts: integer (nullable = true)\n",
            " |-- Subflow Fwd Byts: integer (nullable = true)\n",
            " |-- Subflow Bwd Pkts: integer (nullable = true)\n",
            " |-- Subflow Bwd Byts: integer (nullable = true)\n",
            " |-- Init Fwd Win Byts: integer (nullable = true)\n",
            " |-- Init Bwd Win Byts: integer (nullable = true)\n",
            " |-- Fwd Act Data Pkts: integer (nullable = true)\n",
            " |-- Fwd Seg Size Min: integer (nullable = true)\n",
            " |-- Active Mean: double (nullable = true)\n",
            " |-- Active Std: double (nullable = true)\n",
            " |-- Active Max: integer (nullable = true)\n",
            " |-- Active Min: integer (nullable = true)\n",
            " |-- Idle Mean: double (nullable = true)\n",
            " |-- Idle Std: double (nullable = true)\n",
            " |-- Idle Max: long (nullable = true)\n",
            " |-- Idle Min: long (nullable = true)\n",
            " |-- Label: string (nullable = true)\n",
            "\n"
          ]
        }
      ]
    },
    {
      "cell_type": "code",
      "metadata": {
        "colab": {
          "base_uri": "https://localhost:8080/"
        },
        "id": "hVAC8OJ9T-r1",
        "outputId": "dd983da8-a5c2-4f76-db76-a6341e938130"
      },
      "source": [
        "from pyspark.sql.types import TimestampType\n",
        "from pyspark.sql.functions import unix_timestamp\n",
        "df_conv=bdsql.withColumn(\"Timestamp\",unix_timestamp(\"Timestamp\", 'dd/MM/yyyy HH:mm:ss').cast(TimestampType()))\n",
        "\n",
        "df_conv.printSchema()\n",
        "df_conv.show(5)"
      ],
      "execution_count": null,
      "outputs": [
        {
          "output_type": "stream",
          "name": "stdout",
          "text": [
            "root\n",
            " |-- Dst Port: integer (nullable = true)\n",
            " |-- Protocol: integer (nullable = true)\n",
            " |-- Timestamp: timestamp (nullable = true)\n",
            " |-- Flow Duration: long (nullable = true)\n",
            " |-- Tot Fwd Pkts: integer (nullable = true)\n",
            " |-- Tot Bwd Pkts: integer (nullable = true)\n",
            " |-- TotLen Fwd Pkts: integer (nullable = true)\n",
            " |-- TotLen Bwd Pkts: integer (nullable = true)\n",
            " |-- Fwd Pkt Len Max: integer (nullable = true)\n",
            " |-- Fwd Pkt Len Min: integer (nullable = true)\n",
            " |-- Fwd Pkt Len Mean: double (nullable = true)\n",
            " |-- Fwd Pkt Len Std: double (nullable = true)\n",
            " |-- Bwd Pkt Len Max: integer (nullable = true)\n",
            " |-- Bwd Pkt Len Min: integer (nullable = true)\n",
            " |-- Bwd Pkt Len Mean: double (nullable = true)\n",
            " |-- Bwd Pkt Len Std: double (nullable = true)\n",
            " |-- Flow Byts/s: double (nullable = true)\n",
            " |-- Flow Pkts/s: double (nullable = true)\n",
            " |-- Flow IAT Mean: double (nullable = true)\n",
            " |-- Flow IAT Std: double (nullable = true)\n",
            " |-- Flow IAT Max: long (nullable = true)\n",
            " |-- Flow IAT Min: long (nullable = true)\n",
            " |-- Fwd IAT Tot: long (nullable = true)\n",
            " |-- Fwd IAT Mean: double (nullable = true)\n",
            " |-- Fwd IAT Std: double (nullable = true)\n",
            " |-- Fwd IAT Max: long (nullable = true)\n",
            " |-- Fwd IAT Min: long (nullable = true)\n",
            " |-- Bwd IAT Tot: integer (nullable = true)\n",
            " |-- Bwd IAT Mean: double (nullable = true)\n",
            " |-- Bwd IAT Std: double (nullable = true)\n",
            " |-- Bwd IAT Max: integer (nullable = true)\n",
            " |-- Bwd IAT Min: integer (nullable = true)\n",
            " |-- Fwd PSH Flags: integer (nullable = true)\n",
            " |-- Bwd PSH Flags: integer (nullable = true)\n",
            " |-- Fwd URG Flags: integer (nullable = true)\n",
            " |-- Bwd URG Flags: integer (nullable = true)\n",
            " |-- Fwd Header Len: integer (nullable = true)\n",
            " |-- Bwd Header Len: integer (nullable = true)\n",
            " |-- Fwd Pkts/s: double (nullable = true)\n",
            " |-- Bwd Pkts/s: double (nullable = true)\n",
            " |-- Pkt Len Min: integer (nullable = true)\n",
            " |-- Pkt Len Max: integer (nullable = true)\n",
            " |-- Pkt Len Mean: double (nullable = true)\n",
            " |-- Pkt Len Std: double (nullable = true)\n",
            " |-- Pkt Len Var: double (nullable = true)\n",
            " |-- FIN Flag Cnt: integer (nullable = true)\n",
            " |-- SYN Flag Cnt: integer (nullable = true)\n",
            " |-- RST Flag Cnt: integer (nullable = true)\n",
            " |-- PSH Flag Cnt: integer (nullable = true)\n",
            " |-- ACK Flag Cnt: integer (nullable = true)\n",
            " |-- URG Flag Cnt: integer (nullable = true)\n",
            " |-- CWE Flag Count: integer (nullable = true)\n",
            " |-- ECE Flag Cnt: integer (nullable = true)\n",
            " |-- Down/Up Ratio: integer (nullable = true)\n",
            " |-- Pkt Size Avg: double (nullable = true)\n",
            " |-- Fwd Seg Size Avg: double (nullable = true)\n",
            " |-- Bwd Seg Size Avg: double (nullable = true)\n",
            " |-- Fwd Byts/b Avg: integer (nullable = true)\n",
            " |-- Fwd Pkts/b Avg: integer (nullable = true)\n",
            " |-- Fwd Blk Rate Avg: integer (nullable = true)\n",
            " |-- Bwd Byts/b Avg: integer (nullable = true)\n",
            " |-- Bwd Pkts/b Avg: integer (nullable = true)\n",
            " |-- Bwd Blk Rate Avg: integer (nullable = true)\n",
            " |-- Subflow Fwd Pkts: integer (nullable = true)\n",
            " |-- Subflow Fwd Byts: integer (nullable = true)\n",
            " |-- Subflow Bwd Pkts: integer (nullable = true)\n",
            " |-- Subflow Bwd Byts: integer (nullable = true)\n",
            " |-- Init Fwd Win Byts: integer (nullable = true)\n",
            " |-- Init Bwd Win Byts: integer (nullable = true)\n",
            " |-- Fwd Act Data Pkts: integer (nullable = true)\n",
            " |-- Fwd Seg Size Min: integer (nullable = true)\n",
            " |-- Active Mean: double (nullable = true)\n",
            " |-- Active Std: double (nullable = true)\n",
            " |-- Active Max: integer (nullable = true)\n",
            " |-- Active Min: integer (nullable = true)\n",
            " |-- Idle Mean: double (nullable = true)\n",
            " |-- Idle Std: double (nullable = true)\n",
            " |-- Idle Max: long (nullable = true)\n",
            " |-- Idle Min: long (nullable = true)\n",
            " |-- Label: string (nullable = true)\n",
            "\n",
            "+--------+--------+-------------------+-------------+------------+------------+---------------+---------------+---------------+---------------+----------------+---------------+---------------+---------------+----------------+---------------+--------------+------------+----------------+----------------+------------+------------+-----------+----------------+----------------+-----------+-----------+-----------+----------------+----------------+-----------+-----------+-------------+-------------+-------------+-------------+--------------+--------------+------------+------------+-----------+-----------+--------------+--------------+----------------+------------+------------+------------+------------+------------+------------+--------------+------------+-------------+------------+----------------+----------------+--------------+--------------+----------------+--------------+--------------+----------------+----------------+----------------+----------------+----------------+-----------------+-----------------+-----------------+----------------+-----------+----------+----------+----------+------------+--------------+--------+--------+------+\n",
            "|Dst Port|Protocol|          Timestamp|Flow Duration|Tot Fwd Pkts|Tot Bwd Pkts|TotLen Fwd Pkts|TotLen Bwd Pkts|Fwd Pkt Len Max|Fwd Pkt Len Min|Fwd Pkt Len Mean|Fwd Pkt Len Std|Bwd Pkt Len Max|Bwd Pkt Len Min|Bwd Pkt Len Mean|Bwd Pkt Len Std|   Flow Byts/s| Flow Pkts/s|   Flow IAT Mean|    Flow IAT Std|Flow IAT Max|Flow IAT Min|Fwd IAT Tot|    Fwd IAT Mean|     Fwd IAT Std|Fwd IAT Max|Fwd IAT Min|Bwd IAT Tot|    Bwd IAT Mean|     Bwd IAT Std|Bwd IAT Max|Bwd IAT Min|Fwd PSH Flags|Bwd PSH Flags|Fwd URG Flags|Bwd URG Flags|Fwd Header Len|Bwd Header Len|  Fwd Pkts/s|  Bwd Pkts/s|Pkt Len Min|Pkt Len Max|  Pkt Len Mean|   Pkt Len Std|     Pkt Len Var|FIN Flag Cnt|SYN Flag Cnt|RST Flag Cnt|PSH Flag Cnt|ACK Flag Cnt|URG Flag Cnt|CWE Flag Count|ECE Flag Cnt|Down/Up Ratio|Pkt Size Avg|Fwd Seg Size Avg|Bwd Seg Size Avg|Fwd Byts/b Avg|Fwd Pkts/b Avg|Fwd Blk Rate Avg|Bwd Byts/b Avg|Bwd Pkts/b Avg|Bwd Blk Rate Avg|Subflow Fwd Pkts|Subflow Fwd Byts|Subflow Bwd Pkts|Subflow Bwd Byts|Init Fwd Win Byts|Init Bwd Win Byts|Fwd Act Data Pkts|Fwd Seg Size Min|Active Mean|Active Std|Active Max|Active Min|   Idle Mean|      Idle Std|Idle Max|Idle Min| Label|\n",
            "+--------+--------+-------------------+-------------+------------+------------+---------------+---------------+---------------+---------------+----------------+---------------+---------------+---------------+----------------+---------------+--------------+------------+----------------+----------------+------------+------------+-----------+----------------+----------------+-----------+-----------+-----------+----------------+----------------+-----------+-----------+-------------+-------------+-------------+-------------+--------------+--------------+------------+------------+-----------+-----------+--------------+--------------+----------------+------------+------------+------------+------------+------------+------------+--------------+------------+-------------+------------+----------------+----------------+--------------+--------------+----------------+--------------+--------------+----------------+----------------+----------------+----------------+----------------+-----------------+-----------------+-----------------+----------------+-----------+----------+----------+----------+------------+--------------+--------+--------+------+\n",
            "|       0|       0|2018-02-14 08:31:01|    112641719|           3|           0|              0|              0|              0|              0|             0.0|            0.0|              0|              0|             0.0|            0.0|           0.0|0.0266331163|    5.63208595E7|  139.3000358938|    56320958|    56320761|  112641719|    5.63208595E7|  139.3000358938|   56320958|   56320761|          0|             0.0|             0.0|          0|          0|            0|            0|            0|            0|             0|             0|0.0266331163|         0.0|          0|          0|           0.0|           0.0|             0.0|           0|           0|           0|           0|           0|           0|             0|           0|            0|         0.0|             0.0|             0.0|             0|             0|               0|             0|             0|               0|               3|               0|               0|               0|               -1|               -1|                0|               0|        0.0|       0.0|         0|         0|5.63208595E7|139.3000358938|56320958|56320761|Benign|\n",
            "|       0|       0|2018-02-14 08:33:50|    112641466|           3|           0|              0|              0|              0|              0|             0.0|            0.0|              0|              0|             0.0|            0.0|           0.0|0.0266331761|     5.6320733E7|  114.5512985522|    56320814|    56320652|  112641466|     5.6320733E7|  114.5512985522|   56320814|   56320652|          0|             0.0|             0.0|          0|          0|            0|            0|            0|            0|             0|             0|0.0266331761|         0.0|          0|          0|           0.0|           0.0|             0.0|           0|           0|           0|           0|           0|           0|             0|           0|            0|         0.0|             0.0|             0.0|             0|             0|               0|             0|             0|               0|               3|               0|               0|               0|               -1|               -1|                0|               0|        0.0|       0.0|         0|         0| 5.6320733E7|114.5512985522|56320814|56320652|Benign|\n",
            "|       0|       0|2018-02-14 08:36:39|    112638623|           3|           0|              0|              0|              0|              0|             0.0|            0.0|              0|              0|             0.0|            0.0|           0.0|0.0266338483|    5.63193115E7|  301.9345955667|    56319525|    56319098|  112638623|    5.63193115E7|  301.9345955667|   56319525|   56319098|          0|             0.0|             0.0|          0|          0|            0|            0|            0|            0|             0|             0|0.0266338483|         0.0|          0|          0|           0.0|           0.0|             0.0|           0|           0|           0|           0|           0|           0|             0|           0|            0|         0.0|             0.0|             0.0|             0|             0|               0|             0|             0|               0|               3|               0|               0|               0|               -1|               -1|                0|               0|        0.0|       0.0|         0|         0|5.63193115E7|301.9345955667|56319525|56319098|Benign|\n",
            "|      22|       6|2018-02-14 08:40:13|      6453966|          15|          10|           1239|           2273|            744|              0|            82.6| 196.7412368715|            976|              0|           227.3| 371.6778922072|544.1615279659|3.8735871865|       268915.25|247443.778966007|      673900|          22|    6453966|460997.571428571|123109.423587757|     673900|     229740|    5637902|626433.555555556| 455082.21422401|    1167293|        554|            0|            0|            0|            0|           488|           328|2.3241523119|1.5494348746|          0|        976|135.0769230769|277.8347599674|77192.1538461539|           0|           0|           0|           1|           0|           0|             0|           0|            0|      140.48|            82.6|           227.3|             0|             0|               0|             0|             0|               0|              15|            1239|              10|            2273|            65535|              233|                6|              32|        0.0|       0.0|         0|         0|         0.0|           0.0|       0|       0|Benign|\n",
            "|      22|       6|2018-02-14 08:40:23|      8804066|          14|          11|           1143|           2209|            744|              0|   81.6428571429| 203.7455453568|            976|              0|  200.8181818182| 362.2498635422|380.7331748762| 2.839597068|366836.083333333|511356.609732762|     1928102|          21|    8804066|677235.846153846|532416.970958985|    1928102|     246924|    7715481|        771548.1|755543.082716951|    2174893|         90|            0|            0|            0|            0|           456|           360|1.5901743581|1.2494227099|          0|        976|128.9230769231|279.7630315931|78267.3538461539|           0|           0|           0|           1|           0|           0|             0|           0|            0|      134.08|   81.6428571429|  200.8181818182|             0|             0|               0|             0|             0|               0|              14|            1143|              11|            2209|             5808|              233|                6|              32|        0.0|       0.0|         0|         0|         0.0|           0.0|       0|       0|Benign|\n",
            "+--------+--------+-------------------+-------------+------------+------------+---------------+---------------+---------------+---------------+----------------+---------------+---------------+---------------+----------------+---------------+--------------+------------+----------------+----------------+------------+------------+-----------+----------------+----------------+-----------+-----------+-----------+----------------+----------------+-----------+-----------+-------------+-------------+-------------+-------------+--------------+--------------+------------+------------+-----------+-----------+--------------+--------------+----------------+------------+------------+------------+------------+------------+------------+--------------+------------+-------------+------------+----------------+----------------+--------------+--------------+----------------+--------------+--------------+----------------+----------------+----------------+----------------+----------------+-----------------+-----------------+-----------------+----------------+-----------+----------+----------+----------+------------+--------------+--------+--------+------+\n",
            "only showing top 5 rows\n",
            "\n"
          ]
        }
      ]
    },
    {
      "cell_type": "code",
      "metadata": {
        "colab": {
          "base_uri": "https://localhost:8080/"
        },
        "id": "QcaCiPtCRRcF",
        "outputId": "5b37d7f7-06e1-4a99-b7bd-f63af0022595"
      },
      "source": [
        "from pyspark.sql.functions import *\n",
        "df_conv = (df_conv.select(\"Timestamp\",\"Label\").withColumn(\"weekofyear\", weekofyear(\"Timestamp\")))\n",
        "df_conv.show(4)"
      ],
      "execution_count": null,
      "outputs": [
        {
          "output_type": "stream",
          "name": "stdout",
          "text": [
            "+-------------------+------+----------+\n",
            "|          Timestamp| Label|weekofyear|\n",
            "+-------------------+------+----------+\n",
            "|2018-02-14 08:31:01|Benign|         7|\n",
            "|2018-02-14 08:33:50|Benign|         7|\n",
            "|2018-02-14 08:36:39|Benign|         7|\n",
            "|2018-02-14 08:40:13|Benign|         7|\n",
            "+-------------------+------+----------+\n",
            "only showing top 4 rows\n",
            "\n"
          ]
        }
      ]
    },
    {
      "cell_type": "code",
      "metadata": {
        "colab": {
          "base_uri": "https://localhost:8080/"
        },
        "id": "s8_EtufyHtqo",
        "outputId": "e70a2161-bab4-4c86-979c-7e6150ef7e9d"
      },
      "source": [
        "df_conv.printSchema()"
      ],
      "execution_count": null,
      "outputs": [
        {
          "output_type": "stream",
          "name": "stdout",
          "text": [
            "root\n",
            " |-- Timestamp: timestamp (nullable = true)\n",
            " |-- Label: string (nullable = true)\n",
            " |-- weekofyear: integer (nullable = true)\n",
            "\n"
          ]
        }
      ]
    },
    {
      "cell_type": "code",
      "metadata": {
        "colab": {
          "base_uri": "https://localhost:8080/"
        },
        "id": "PbUS9tvPTltt",
        "outputId": "a8af68ad-1fd9-4379-951d-7921a0092d20"
      },
      "source": [
        "df_conv = (df_conv.select(\"Timestamp\",\"Label\",\"weekofyear\").withColumn(\"month\", month(\"Timestamp\")))\n",
        "df_conv.show(4)"
      ],
      "execution_count": null,
      "outputs": [
        {
          "output_type": "stream",
          "name": "stdout",
          "text": [
            "+-------------------+------+----------+-----+\n",
            "|          Timestamp| Label|weekofyear|month|\n",
            "+-------------------+------+----------+-----+\n",
            "|2018-02-14 08:31:01|Benign|         7|    2|\n",
            "|2018-02-14 08:33:50|Benign|         7|    2|\n",
            "|2018-02-14 08:36:39|Benign|         7|    2|\n",
            "|2018-02-14 08:40:13|Benign|         7|    2|\n",
            "+-------------------+------+----------+-----+\n",
            "only showing top 4 rows\n",
            "\n"
          ]
        }
      ]
    },
    {
      "cell_type": "code",
      "metadata": {
        "colab": {
          "base_uri": "https://localhost:8080/"
        },
        "id": "yPIlFeHls0W0",
        "outputId": "d6d94b27-86a8-4f2c-855c-6cb986a1b34c"
      },
      "source": [
        "df_conv = (df_conv.select(\"Timestamp\",\"Label\",\"weekofyear\").withColumn(\"Day\", dayofmonth(\"Timestamp\")))\n",
        "\n",
        "df_conv.show(2)"
      ],
      "execution_count": null,
      "outputs": [
        {
          "output_type": "stream",
          "name": "stdout",
          "text": [
            "+-------------------+------+----------+---+\n",
            "|          Timestamp| Label|weekofyear|Day|\n",
            "+-------------------+------+----------+---+\n",
            "|2018-02-14 08:31:01|Benign|         7| 14|\n",
            "|2018-02-14 08:33:50|Benign|         7| 14|\n",
            "+-------------------+------+----------+---+\n",
            "only showing top 2 rows\n",
            "\n"
          ]
        }
      ]
    },
    {
      "cell_type": "code",
      "metadata": {
        "colab": {
          "base_uri": "https://localhost:8080/"
        },
        "id": "-w-9p5oRtwfr",
        "outputId": "319b01a3-5c4c-48e6-b1d8-f2a2de3bc6de"
      },
      "source": [
        "#df_conv2 = (df_conv.select(\"Timestamp\",\"Label\",\"weekofyear\",\"month\").withColumn(\"date\", to_date(\"Timestamp\")))\n",
        "#df_conv2.show(4)\n",
        "\n",
        "from pyspark.sql.functions import date_format\n",
        "\n",
        "df1=df_conv.withColumn(\"DateOnly\", date_format(unix_timestamp(\"Timestamp\").cast(TimestampType()), \"yyyy-MM-dd\"))\n",
        "df1.show(2)"
      ],
      "execution_count": null,
      "outputs": [
        {
          "output_type": "stream",
          "name": "stdout",
          "text": [
            "+-------------------+----------+----------+\n",
            "|          Timestamp|      date|  DateOnly|\n",
            "+-------------------+----------+----------+\n",
            "|2018-02-14 08:31:01|2018-02-14|2018-02-14|\n",
            "|2018-02-14 08:33:50|2018-02-14|2018-02-14|\n",
            "+-------------------+----------+----------+\n",
            "only showing top 2 rows\n",
            "\n"
          ]
        }
      ]
    },
    {
      "cell_type": "code",
      "metadata": {
        "id": "gcxox2vukAog"
      },
      "source": [
        "# importing window from pyspark.sql.window\n",
        "from pyspark.sql.window import Window\n",
        "\n",
        "# importing aggregate functions\n",
        "# from pyspark.sql.functions\n",
        "from pyspark.sql.functions import col,avg,sum,min,max,row_number\n",
        "\n",
        "# creating a window partition of dataframe\n",
        "windowPartitionAgg = Window.partitionBy(\"Department\")\n",
        "\n",
        "# applying window aggregate function\n",
        "# to df3 with the help of withColumn\n",
        "\n",
        "# this is average()\n",
        "df3.withColumn(\"Sum\", sum(col(\"salary\")).over(windowPartitionAgg)).withColumn(\"Avg\",avg(col(\"salary\")).over(windowPartitionAgg)).withColumn(\"Min\",\tmin(col(\"salary\")).over(windowPartitionAgg)).withColumn(\"Max\",\tmax(col(\"salary\")).over(windowPartitionAgg)).show()\n",
        "\n",
        "\t  #this is sum()\n",
        "    #\n",
        "\t   #this is min()\n",
        "   \n",
        "\t  #this is max()\n",
        "   "
      ],
      "execution_count": null,
      "outputs": []
    },
    {
      "cell_type": "code",
      "metadata": {
        "id": "Q8BXgyNPkAsY"
      },
      "source": [
        ""
      ],
      "execution_count": null,
      "outputs": []
    },
    {
      "cell_type": "code",
      "metadata": {
        "id": "ZPWwYqiLkAx1"
      },
      "source": [
        ""
      ],
      "execution_count": null,
      "outputs": []
    },
    {
      "cell_type": "code",
      "metadata": {
        "id": "uU2Z3ezYkA2A"
      },
      "source": [
        ""
      ],
      "execution_count": null,
      "outputs": []
    },
    {
      "cell_type": "code",
      "metadata": {
        "colab": {
          "base_uri": "https://localhost:8080/"
        },
        "id": "RBgv5fZUTlxq",
        "outputId": "d0c7168b-974e-4f5f-da9c-6b9c8df8d474"
      },
      "source": [
        "df_conv.groupBy('Label').count().orderBy('count', ascending=False)\n",
        "df_conv.show(4)"
      ],
      "execution_count": null,
      "outputs": [
        {
          "output_type": "stream",
          "name": "stdout",
          "text": [
            "+-------------------+------+----------+-----+\n",
            "|          Timestamp| Label|weekofyear|month|\n",
            "+-------------------+------+----------+-----+\n",
            "|2018-02-14 08:31:01|Benign|         7|    2|\n",
            "|2018-02-14 08:33:50|Benign|         7|    2|\n",
            "|2018-02-14 08:36:39|Benign|         7|    2|\n",
            "|2018-02-14 08:40:13|Benign|         7|    2|\n",
            "+-------------------+------+----------+-----+\n",
            "only showing top 4 rows\n",
            "\n"
          ]
        }
      ]
    },
    {
      "cell_type": "code",
      "metadata": {
        "colab": {
          "base_uri": "https://localhost:8080/"
        },
        "id": "qY00WL7eTl6V",
        "outputId": "e1ba8ec0-7345-4021-a57a-6bdca0a1ad0e"
      },
      "source": [
        "df_conv.groupby(['weekofyear','Label','Day'])\n",
        "df_conv.show(4)"
      ],
      "execution_count": null,
      "outputs": [
        {
          "output_type": "stream",
          "name": "stdout",
          "text": [
            "+-------------------+------+----------+---+\n",
            "|          Timestamp| Label|weekofyear|Day|\n",
            "+-------------------+------+----------+---+\n",
            "|2018-02-14 08:31:01|Benign|         7| 14|\n",
            "|2018-02-14 08:33:50|Benign|         7| 14|\n",
            "|2018-02-14 08:36:39|Benign|         7| 14|\n",
            "|2018-02-14 08:40:13|Benign|         7| 14|\n",
            "+-------------------+------+----------+---+\n",
            "only showing top 4 rows\n",
            "\n"
          ]
        }
      ]
    },
    {
      "cell_type": "code",
      "metadata": {
        "colab": {
          "base_uri": "https://localhost:8080/"
        },
        "id": "YcM-BotFTl-G",
        "outputId": "a25cb599-c429-46c5-d435-9e2e05c95c7c"
      },
      "source": [
        "df_conv.printSchema()"
      ],
      "execution_count": null,
      "outputs": [
        {
          "output_type": "stream",
          "name": "stdout",
          "text": [
            "root\n",
            " |-- Timestamp: timestamp (nullable = true)\n",
            " |-- Label: string (nullable = true)\n",
            " |-- weekofyear: integer (nullable = true)\n",
            " |-- Day: integer (nullable = true)\n",
            "\n"
          ]
        }
      ]
    },
    {
      "cell_type": "code",
      "metadata": {
        "colab": {
          "base_uri": "https://localhost:8080/"
        },
        "id": "Msu_hZEUTmB1",
        "outputId": "174ecc11-52f8-4d5d-a6ad-841be797f9ab"
      },
      "source": [
        "df_conv.show(5)"
      ],
      "execution_count": null,
      "outputs": [
        {
          "output_type": "stream",
          "name": "stdout",
          "text": [
            "+-------------------+------+----------+---+\n",
            "|          Timestamp| Label|weekofyear|Day|\n",
            "+-------------------+------+----------+---+\n",
            "|2018-02-14 08:31:01|Benign|         7| 14|\n",
            "|2018-02-14 08:33:50|Benign|         7| 14|\n",
            "|2018-02-14 08:36:39|Benign|         7| 14|\n",
            "|2018-02-14 08:40:13|Benign|         7| 14|\n",
            "|2018-02-14 08:40:23|Benign|         7| 14|\n",
            "+-------------------+------+----------+---+\n",
            "only showing top 5 rows\n",
            "\n"
          ]
        }
      ]
    },
    {
      "cell_type": "code",
      "metadata": {
        "colab": {
          "base_uri": "https://localhost:8080/"
        },
        "id": "LnS_yMsRqtIm",
        "outputId": "753fc026-3df5-4602-c781-e46d05a334cb"
      },
      "source": [
        "\n",
        "df_conv.groupBy(\"Label\", \"weekofyear\").agg(count(\"*\").alias(\"cnt\")).show()"
      ],
      "execution_count": null,
      "outputs": [
        {
          "output_type": "stream",
          "name": "stdout",
          "text": [
            "+--------------------+----------+-------+\n",
            "|               Label|weekofyear|    cnt|\n",
            "+--------------------+----------+-------+\n",
            "|              Benign|         7|2110468|\n",
            "|              Benign|         3|      8|\n",
            "|              Benign|         2|      6|\n",
            "|      FTP-BruteForce|         7| 193360|\n",
            "|      SSH-Bruteforce|         7| 187589|\n",
            "|DoS attacks-Golde...|         7|  41508|\n",
            "|DoS attacks-Slowl...|         7|  10990|\n",
            "|DoS attacks-SlowH...|         7| 139890|\n",
            "|    DoS attacks-Hulk|         7| 461912|\n",
            "|    DDOS attack-HOIC|         8| 686012|\n",
            "|DDOS attack-LOIC-UDP|         8|   1730|\n",
            "|              Benign|         8|2457043|\n",
            "|    Brute Force -XSS|         8|    230|\n",
            "|    Brute Force -Web|         8|    611|\n",
            "|       SQL Injection|         8|     87|\n",
            "+--------------------+----------+-------+\n",
            "\n"
          ]
        }
      ]
    },
    {
      "cell_type": "code",
      "metadata": {
        "colab": {
          "base_uri": "https://localhost:8080/"
        },
        "id": "yovvLBp-JrRr",
        "outputId": "9ae45b41-91da-47e9-d8dc-09a853d27a00"
      },
      "source": [
        "\n",
        "df_conv.groupBy(\"Day\",\"Label\", \"weekofyear\").agg(count(\"*\").alias(\"cnt\")).show()"
      ],
      "execution_count": null,
      "outputs": [
        {
          "output_type": "stream",
          "name": "stdout",
          "text": [
            "+---+--------------------+----------+-------+\n",
            "|Day|               Label|weekofyear|    cnt|\n",
            "+---+--------------------+----------+-------+\n",
            "| 12|              Benign|         3|      8|\n",
            "| 14|      SSH-Bruteforce|         7| 187589|\n",
            "|  5|              Benign|         2|      1|\n",
            "| 14|      FTP-BruteForce|         7| 193360|\n",
            "|  8|              Benign|         2|      1|\n",
            "| 14|              Benign|         7| 667621|\n",
            "| 15|              Benign|         7| 996076|\n",
            "| 15|DoS attacks-Slowl...|         7|  10990|\n",
            "| 15|DoS attacks-Golde...|         7|  41508|\n",
            "| 16|DoS attacks-SlowH...|         7| 139890|\n",
            "| 16|    DoS attacks-Hulk|         7| 461912|\n",
            "| 16|              Benign|         7| 446771|\n",
            "| 21|    DDOS attack-HOIC|         8| 686012|\n",
            "| 21|DDOS attack-LOIC-UDP|         8|   1730|\n",
            "| 21|              Benign|         8| 360832|\n",
            "| 10|              Benign|         2|      1|\n",
            "| 22|              Benign|         8|1048203|\n",
            "| 11|              Benign|         2|      3|\n",
            "| 22|    Brute Force -XSS|         8|     79|\n",
            "| 22|    Brute Force -Web|         8|    249|\n",
            "+---+--------------------+----------+-------+\n",
            "only showing top 20 rows\n",
            "\n"
          ]
        }
      ]
    },
    {
      "cell_type": "code",
      "metadata": {
        "colab": {
          "base_uri": "https://localhost:8080/"
        },
        "id": "SqWCog_KqtY8",
        "outputId": "8fbd2a13-0bf8-43ca-8ee0-077f9cbbb75c"
      },
      "source": [
        "# Counts the number of distinct rows in dataframe\n",
        "df_conv.distinct().count()"
      ],
      "execution_count": null,
      "outputs": [
        {
          "output_type": "execute_result",
          "data": {
            "text/plain": [
              "155260"
            ]
          },
          "metadata": {},
          "execution_count": 10
        }
      ]
    },
    {
      "cell_type": "code",
      "metadata": {
        "colab": {
          "base_uri": "https://localhost:8080/"
        },
        "id": "aSRs0S6gQu1M",
        "outputId": "464cc636-a647-4e63-cb8e-e9277565a5a2"
      },
      "source": [
        "df_conv.printSchema()"
      ],
      "execution_count": null,
      "outputs": [
        {
          "output_type": "stream",
          "name": "stdout",
          "text": [
            "root\n",
            " |-- Timestamp: timestamp (nullable = true)\n",
            " |-- Label: string (nullable = true)\n",
            " |-- weekofyear: integer (nullable = true)\n",
            " |-- month: integer (nullable = true)\n",
            "\n"
          ]
        }
      ]
    },
    {
      "cell_type": "code",
      "metadata": {
        "colab": {
          "base_uri": "https://localhost:8080/"
        },
        "id": "PSnfI9SvQuob",
        "outputId": "d3ae845f-2448-4dcf-f242-7f51170ce5d2"
      },
      "source": [
        "df_conv.groupBy(\"Label\", \"weekofyear\").agg(count(\"*\")).show()"
      ],
      "execution_count": null,
      "outputs": [
        {
          "output_type": "stream",
          "name": "stdout",
          "text": [
            "+--------------------+----------+--------+\n",
            "|               Label|weekofyear|count(1)|\n",
            "+--------------------+----------+--------+\n",
            "|              Benign|         7| 2110468|\n",
            "|              Benign|         3|       8|\n",
            "|              Benign|         2|       6|\n",
            "|      FTP-BruteForce|         7|  193360|\n",
            "|      SSH-Bruteforce|         7|  187589|\n",
            "|DoS attacks-Golde...|         7|   41508|\n",
            "|DoS attacks-Slowl...|         7|   10990|\n",
            "|DoS attacks-SlowH...|         7|  139890|\n",
            "|    DoS attacks-Hulk|         7|  461912|\n",
            "|    DDOS attack-HOIC|         8|  686012|\n",
            "|DDOS attack-LOIC-UDP|         8|    1730|\n",
            "|              Benign|         8| 2457043|\n",
            "|    Brute Force -XSS|         8|     230|\n",
            "|    Brute Force -Web|         8|     611|\n",
            "|       SQL Injection|         8|      87|\n",
            "+--------------------+----------+--------+\n",
            "\n"
          ]
        }
      ]
    },
    {
      "cell_type": "code",
      "metadata": {
        "colab": {
          "base_uri": "https://localhost:8080/"
        },
        "id": "aYECIUPXQu5E",
        "outputId": "48251866-c128-4229-a00c-ed2abacce1ec"
      },
      "source": [
        "df_conv.groupBy(\"weekofyear\",\"Label\").agg(count(\"*\")).show()"
      ],
      "execution_count": null,
      "outputs": [
        {
          "output_type": "stream",
          "name": "stdout",
          "text": [
            "+----------+--------------------+--------+\n",
            "|weekofyear|               Label|count(1)|\n",
            "+----------+--------------------+--------+\n",
            "|         7|      FTP-BruteForce|  193360|\n",
            "|         7|              Benign| 2110468|\n",
            "|         2|              Benign|       6|\n",
            "|         3|              Benign|       8|\n",
            "|         7|      SSH-Bruteforce|  187589|\n",
            "|         7|DoS attacks-Slowl...|   10990|\n",
            "|         7|DoS attacks-Golde...|   41508|\n",
            "|         7|DoS attacks-SlowH...|  139890|\n",
            "|         7|    DoS attacks-Hulk|  461912|\n",
            "|         8|              Benign| 2457043|\n",
            "|         8|    DDOS attack-HOIC|  686012|\n",
            "|         8|DDOS attack-LOIC-UDP|    1730|\n",
            "|         8|       SQL Injection|      87|\n",
            "|         8|    Brute Force -Web|     611|\n",
            "|         8|    Brute Force -XSS|     230|\n",
            "+----------+--------------------+--------+\n",
            "\n"
          ]
        }
      ]
    },
    {
      "cell_type": "code",
      "metadata": {
        "colab": {
          "base_uri": "https://localhost:8080/"
        },
        "id": "WodvsktMRdRh",
        "outputId": "8182dff6-e35d-4d51-d149-ed2be9944ed2"
      },
      "source": [
        "df_conv.groupBy(\"weekofyear\",\"Day\",\"Label\").agg(count(\"*\")).show(100, False)"
      ],
      "execution_count": null,
      "outputs": [
        {
          "output_type": "stream",
          "name": "stdout",
          "text": [
            "+----------+---+------------------------+--------+\n",
            "|weekofyear|Day|Label                   |count(1)|\n",
            "+----------+---+------------------------+--------+\n",
            "|7         |14 |Benign                  |667621  |\n",
            "|3         |12 |Benign                  |8       |\n",
            "|2         |5  |Benign                  |1       |\n",
            "|7         |14 |FTP-BruteForce          |193360  |\n",
            "|7         |14 |SSH-Bruteforce          |187589  |\n",
            "|2         |8  |Benign                  |1       |\n",
            "|7         |15 |DoS attacks-Slowloris   |10990   |\n",
            "|7         |15 |DoS attacks-GoldenEye   |41508   |\n",
            "|7         |15 |Benign                  |996076  |\n",
            "|7         |16 |DoS attacks-Hulk        |461912  |\n",
            "|7         |16 |Benign                  |446771  |\n",
            "|7         |16 |DoS attacks-SlowHTTPTest|139890  |\n",
            "|8         |21 |DDOS attack-HOIC        |686012  |\n",
            "|8         |21 |DDOS attack-LOIC-UDP    |1730    |\n",
            "|8         |21 |Benign                  |360832  |\n",
            "|2         |10 |Benign                  |1       |\n",
            "|2         |11 |Benign                  |3       |\n",
            "|8         |22 |Benign                  |1048203 |\n",
            "|8         |22 |Brute Force -XSS        |79      |\n",
            "|8         |22 |SQL Injection           |34      |\n",
            "|8         |22 |Brute Force -Web        |249     |\n",
            "|8         |23 |Brute Force -XSS        |151     |\n",
            "|8         |23 |Brute Force -Web        |362     |\n",
            "|8         |23 |Benign                  |1048008 |\n",
            "|8         |23 |SQL Injection           |53      |\n",
            "+----------+---+------------------------+--------+\n",
            "\n"
          ]
        }
      ]
    },
    {
      "cell_type": "code",
      "metadata": {
        "colab": {
          "base_uri": "https://localhost:8080/"
        },
        "id": "f45x4IVVRdjs",
        "outputId": "24a8bdc6-5bf4-4014-a3b1-e1e20e807b8c"
      },
      "source": [
        "#df_conv['month'].distinct()\n",
        "\n",
        "df_conv.select('Day').distinct().show(100, False)"
      ],
      "execution_count": null,
      "outputs": [
        {
          "output_type": "stream",
          "name": "stdout",
          "text": [
            "+---+\n",
            "|Day|\n",
            "+---+\n",
            "|12 |\n",
            "|5  |\n",
            "|8  |\n",
            "|14 |\n",
            "|15 |\n",
            "|16 |\n",
            "|21 |\n",
            "|22 |\n",
            "|10 |\n",
            "|11 |\n",
            "|23 |\n",
            "+---+\n",
            "\n"
          ]
        }
      ]
    },
    {
      "cell_type": "code",
      "metadata": {
        "colab": {
          "base_uri": "https://localhost:8080/"
        },
        "id": "GJiWvmIpTTy6",
        "outputId": "5de1ec17-21f1-4c2d-eb67-fb6c2e1fa9c7"
      },
      "source": [
        "\n",
        "df_conv.select('weekofyear').distinct().show(100, False)"
      ],
      "execution_count": null,
      "outputs": [
        {
          "output_type": "stream",
          "name": "stdout",
          "text": [
            "+----------+\n",
            "|weekofyear|\n",
            "+----------+\n",
            "|3         |\n",
            "|7         |\n",
            "|2         |\n",
            "|8         |\n",
            "+----------+\n",
            "\n"
          ]
        }
      ]
    },
    {
      "cell_type": "code",
      "metadata": {
        "colab": {
          "base_uri": "https://localhost:8080/"
        },
        "id": "qhmjTo9-LYbb",
        "outputId": "9e00d81f-0ac7-4500-b013-c723ebdc1dbc"
      },
      "source": [
        "df_conv.groupBy(\"weekofyear\",\"Day\").agg(count(\"*\")).show(100, False)"
      ],
      "execution_count": null,
      "outputs": [
        {
          "output_type": "stream",
          "name": "stdout",
          "text": [
            "+----------+---+--------+\n",
            "|weekofyear|Day|count(1)|\n",
            "+----------+---+--------+\n",
            "|7         |14 |1048570 |\n",
            "|2         |5  |1       |\n",
            "|3         |12 |8       |\n",
            "|2         |8  |1       |\n",
            "|7         |15 |1048574 |\n",
            "|7         |16 |1048573 |\n",
            "|8         |21 |1048574 |\n",
            "|2         |11 |3       |\n",
            "|2         |10 |1       |\n",
            "|8         |22 |1048565 |\n",
            "|8         |23 |1048574 |\n",
            "+----------+---+--------+\n",
            "\n"
          ]
        }
      ]
    },
    {
      "cell_type": "code",
      "metadata": {
        "colab": {
          "base_uri": "https://localhost:8080/"
        },
        "id": "tJ2LpSm2Lzna",
        "outputId": "692e21f9-76de-47bd-aa24-58ec7856a033"
      },
      "source": [
        "df_conv.groupBy(\"weekofyear\").agg(count(\"*\")).show(100, False)"
      ],
      "execution_count": null,
      "outputs": [
        {
          "output_type": "stream",
          "name": "stdout",
          "text": [
            "+----------+--------+\n",
            "|weekofyear|count(1)|\n",
            "+----------+--------+\n",
            "|3         |8       |\n",
            "|7         |3145717 |\n",
            "|2         |6       |\n",
            "|8         |3145713 |\n",
            "+----------+--------+\n",
            "\n"
          ]
        }
      ]
    },
    {
      "cell_type": "code",
      "metadata": {
        "colab": {
          "base_uri": "https://localhost:8080/"
        },
        "id": "RjdkNcV2VNu7",
        "outputId": "5f4c78ef-19ca-4bcd-8644-2d153866509d"
      },
      "source": [
        "df_conv.groupBy(\"weekofyear\").pivot(\"Day\").count().orderBy(\"weekofyear\",ascending=False).show()"
      ],
      "execution_count": null,
      "outputs": [
        {
          "output_type": "stream",
          "name": "stdout",
          "text": [
            "+----------+----+----+----+----+----+-------+-------+-------+-------+-------+-------+\n",
            "|weekofyear|   5|   8|  10|  11|  12|     14|     15|     16|     21|     22|     23|\n",
            "+----------+----+----+----+----+----+-------+-------+-------+-------+-------+-------+\n",
            "|         8|null|null|null|null|null|   null|   null|   null|1048574|1048565|1048574|\n",
            "|         7|null|null|null|null|null|1048570|1048574|1048573|   null|   null|   null|\n",
            "|         3|null|null|null|null|   8|   null|   null|   null|   null|   null|   null|\n",
            "|         2|   1|   1|   1|   3|null|   null|   null|   null|   null|   null|   null|\n",
            "+----------+----+----+----+----+----+-------+-------+-------+-------+-------+-------+\n",
            "\n"
          ]
        }
      ]
    },
    {
      "cell_type": "code",
      "metadata": {
        "colab": {
          "base_uri": "https://localhost:8080/"
        },
        "id": "E4QHCTlMVldH",
        "outputId": "76e24f5a-c74e-4e9e-c21e-4dbdd4cec409"
      },
      "source": [
        "df_conv.groupBy(\"Day\").pivot(\"Label\").count().orderBy(\"Day\",ascending=False).show(100,False)"
      ],
      "execution_count": null,
      "outputs": [
        {
          "output_type": "stream",
          "name": "stdout",
          "text": [
            "+---+-------+----------------+----------------+----------------+--------------------+---------------------+----------------+------------------------+---------------------+--------------+-------------+--------------+\n",
            "|Day|Benign |Brute Force -Web|Brute Force -XSS|DDOS attack-HOIC|DDOS attack-LOIC-UDP|DoS attacks-GoldenEye|DoS attacks-Hulk|DoS attacks-SlowHTTPTest|DoS attacks-Slowloris|FTP-BruteForce|SQL Injection|SSH-Bruteforce|\n",
            "+---+-------+----------------+----------------+----------------+--------------------+---------------------+----------------+------------------------+---------------------+--------------+-------------+--------------+\n",
            "|23 |1048008|362             |151             |null            |null                |null                 |null            |null                    |null                 |null          |53           |null          |\n",
            "|22 |1048203|249             |79              |null            |null                |null                 |null            |null                    |null                 |null          |34           |null          |\n",
            "|21 |360832 |null            |null            |686012          |1730                |null                 |null            |null                    |null                 |null          |null         |null          |\n",
            "|16 |446771 |null            |null            |null            |null                |null                 |461912          |139890                  |null                 |null          |null         |null          |\n",
            "|15 |996076 |null            |null            |null            |null                |41508                |null            |null                    |10990                |null          |null         |null          |\n",
            "|14 |667621 |null            |null            |null            |null                |null                 |null            |null                    |null                 |193360        |null         |187589        |\n",
            "|12 |8      |null            |null            |null            |null                |null                 |null            |null                    |null                 |null          |null         |null          |\n",
            "|11 |3      |null            |null            |null            |null                |null                 |null            |null                    |null                 |null          |null         |null          |\n",
            "|10 |1      |null            |null            |null            |null                |null                 |null            |null                    |null                 |null          |null         |null          |\n",
            "|8  |1      |null            |null            |null            |null                |null                 |null            |null                    |null                 |null          |null         |null          |\n",
            "|5  |1      |null            |null            |null            |null                |null                 |null            |null                    |null                 |null          |null         |null          |\n",
            "+---+-------+----------------+----------------+----------------+--------------------+---------------------+----------------+------------------------+---------------------+--------------+-------------+--------------+\n",
            "\n"
          ]
        }
      ]
    },
    {
      "cell_type": "code",
      "metadata": {
        "colab": {
          "base_uri": "https://localhost:8080/"
        },
        "id": "QWrfYagXXBjR",
        "outputId": "c30659e2-b120-40be-8bf6-7e04ca60d099"
      },
      "source": [
        "df_conv.groupBy(\"weekofyear\").pivot(\"Label\").count().orderBy(\"weekofyear\",ascending=False).show(100,False)"
      ],
      "execution_count": null,
      "outputs": [
        {
          "output_type": "stream",
          "name": "stdout",
          "text": [
            "+----------+-------+----------------+----------------+----------------+--------------------+---------------------+----------------+------------------------+---------------------+--------------+-------------+--------------+\n",
            "|weekofyear|Benign |Brute Force -Web|Brute Force -XSS|DDOS attack-HOIC|DDOS attack-LOIC-UDP|DoS attacks-GoldenEye|DoS attacks-Hulk|DoS attacks-SlowHTTPTest|DoS attacks-Slowloris|FTP-BruteForce|SQL Injection|SSH-Bruteforce|\n",
            "+----------+-------+----------------+----------------+----------------+--------------------+---------------------+----------------+------------------------+---------------------+--------------+-------------+--------------+\n",
            "|8         |2457043|611             |230             |686012          |1730                |null                 |null            |null                    |null                 |null          |87           |null          |\n",
            "|7         |2110468|null            |null            |null            |null                |41508                |461912          |139890                  |10990                |193360        |null         |187589        |\n",
            "|3         |8      |null            |null            |null            |null                |null                 |null            |null                    |null                 |null          |null         |null          |\n",
            "|2         |6      |null            |null            |null            |null                |null                 |null            |null                    |null                 |null          |null         |null          |\n",
            "+----------+-------+----------------+----------------+----------------+--------------------+---------------------+----------------+------------------------+---------------------+--------------+-------------+--------------+\n",
            "\n"
          ]
        }
      ]
    },
    {
      "cell_type": "code",
      "metadata": {
        "colab": {
          "base_uri": "https://localhost:8080/"
        },
        "id": "HGUR3txvXW2I",
        "outputId": "a5371e56-4b09-493c-bf99-990cba0c11cc"
      },
      "source": [
        "df_conv.groupBy(\"Label\").pivot(\"weekofyear\").count().orderBy(\"Label\",ascending=False).show(100,False)"
      ],
      "execution_count": null,
      "outputs": [
        {
          "output_type": "stream",
          "name": "stdout",
          "text": [
            "+------------------------+----+----+-------+-------+\n",
            "|Label                   |2   |3   |7      |8      |\n",
            "+------------------------+----+----+-------+-------+\n",
            "|SSH-Bruteforce          |null|null|187589 |null   |\n",
            "|SQL Injection           |null|null|null   |87     |\n",
            "|FTP-BruteForce          |null|null|193360 |null   |\n",
            "|DoS attacks-Slowloris   |null|null|10990  |null   |\n",
            "|DoS attacks-SlowHTTPTest|null|null|139890 |null   |\n",
            "|DoS attacks-Hulk        |null|null|461912 |null   |\n",
            "|DoS attacks-GoldenEye   |null|null|41508  |null   |\n",
            "|DDOS attack-LOIC-UDP    |null|null|null   |1730   |\n",
            "|DDOS attack-HOIC        |null|null|null   |686012 |\n",
            "|Brute Force -XSS        |null|null|null   |230    |\n",
            "|Brute Force -Web        |null|null|null   |611    |\n",
            "|Benign                  |6   |8   |2110468|2457043|\n",
            "+------------------------+----+----+-------+-------+\n",
            "\n"
          ]
        }
      ]
    },
    {
      "cell_type": "code",
      "metadata": {
        "colab": {
          "base_uri": "https://localhost:8080/"
        },
        "id": "hhBtTRheXWri",
        "outputId": "9589b0ec-7262-40c7-94fc-5a2e6fcf1d39"
      },
      "source": [
        "df_conv.groupBy(\"Label\").pivot(\"Day\").count().orderBy(\"Label\",ascending=False).show(100,False)"
      ],
      "execution_count": null,
      "outputs": [
        {
          "output_type": "stream",
          "name": "stdout",
          "text": [
            "+------------------------+----+----+----+----+----+------+------+------+------+-------+-------+\n",
            "|Label                   |5   |8   |10  |11  |12  |14    |15    |16    |21    |22     |23     |\n",
            "+------------------------+----+----+----+----+----+------+------+------+------+-------+-------+\n",
            "|SSH-Bruteforce          |null|null|null|null|null|187589|null  |null  |null  |null   |null   |\n",
            "|SQL Injection           |null|null|null|null|null|null  |null  |null  |null  |34     |53     |\n",
            "|FTP-BruteForce          |null|null|null|null|null|193360|null  |null  |null  |null   |null   |\n",
            "|DoS attacks-Slowloris   |null|null|null|null|null|null  |10990 |null  |null  |null   |null   |\n",
            "|DoS attacks-SlowHTTPTest|null|null|null|null|null|null  |null  |139890|null  |null   |null   |\n",
            "|DoS attacks-Hulk        |null|null|null|null|null|null  |null  |461912|null  |null   |null   |\n",
            "|DoS attacks-GoldenEye   |null|null|null|null|null|null  |41508 |null  |null  |null   |null   |\n",
            "|DDOS attack-LOIC-UDP    |null|null|null|null|null|null  |null  |null  |1730  |null   |null   |\n",
            "|DDOS attack-HOIC        |null|null|null|null|null|null  |null  |null  |686012|null   |null   |\n",
            "|Brute Force -XSS        |null|null|null|null|null|null  |null  |null  |null  |79     |151    |\n",
            "|Brute Force -Web        |null|null|null|null|null|null  |null  |null  |null  |249    |362    |\n",
            "|Benign                  |1   |1   |1   |3   |8   |667621|996076|446771|360832|1048203|1048008|\n",
            "+------------------------+----+----+----+----+----+------+------+------+------+-------+-------+\n",
            "\n"
          ]
        }
      ]
    },
    {
      "cell_type": "code",
      "metadata": {
        "colab": {
          "base_uri": "https://localhost:8080/",
          "height": 417
        },
        "id": "LtBOC7SaXW72",
        "outputId": "e88f91b4-4d83-4cb3-d35b-3ba0f1e199ca"
      },
      "source": [
        "df_conv.groupBy(\"Label\").pivot(\"Day\").count().orderBy(\"Label\",ascending=False).show(100,False)\n",
        "\n",
        "\"\"\"\n",
        "df_conv.groupBy(\"Day\").pivot(\"Label\").count().orderBy(\"Day\",ascending=False).show(100,False)\n",
        "\n",
        "import pyspark.sql.functions as F\n",
        "\n",
        "col_list = [\"Benign\",\"Brute Force -Web\",\"Brute Force -XSS\",\"DDOS attack-HOIC\",\"DDOS attack-LOIC-UDP\",\"DoS attacks-GoldenEye\",\"DoS attacks-Hulk\",\"DoS attacks-SlowHTTPTest\",\"DoS attacks-Slowloris\",\"FTP-BruteForce\",\"SQL Injection\",\"SSH-Bruteforce\"]\n",
        "# or col_list = df.columns[16:20]\n",
        "\n",
        "df2 = df_conv.withColumn('SUM1',sum(F.udf(col(c) for c in col_list)))\n",
        "\n",
        "df2.show()\n",
        "\n",
        "#df_conv.groupBy(\"Label\").pivot(\"Day\").count().orderBy(\"Label\",ascending=False).withColumn('accumulating_sum',F.sum('Day'))\n",
        "\n",
        "#sum(cast(Label#95 as double)) AS accumulating_sum#21337]\n",
        "\n",
        "\"\"\""
      ],
      "execution_count": null,
      "outputs": [
        {
          "output_type": "stream",
          "name": "stdout",
          "text": [
            "+------------------------+----+----+----+----+----+------+------+------+------+-------+-------+\n",
            "|Label                   |5   |8   |10  |11  |12  |14    |15    |16    |21    |22     |23     |\n",
            "+------------------------+----+----+----+----+----+------+------+------+------+-------+-------+\n",
            "|SSH-Bruteforce          |null|null|null|null|null|187589|null  |null  |null  |null   |null   |\n",
            "|SQL Injection           |null|null|null|null|null|null  |null  |null  |null  |34     |53     |\n",
            "|FTP-BruteForce          |null|null|null|null|null|193360|null  |null  |null  |null   |null   |\n",
            "|DoS attacks-Slowloris   |null|null|null|null|null|null  |10990 |null  |null  |null   |null   |\n",
            "|DoS attacks-SlowHTTPTest|null|null|null|null|null|null  |null  |139890|null  |null   |null   |\n",
            "|DoS attacks-Hulk        |null|null|null|null|null|null  |null  |461912|null  |null   |null   |\n",
            "|DoS attacks-GoldenEye   |null|null|null|null|null|null  |41508 |null  |null  |null   |null   |\n",
            "|DDOS attack-LOIC-UDP    |null|null|null|null|null|null  |null  |null  |1730  |null   |null   |\n",
            "|DDOS attack-HOIC        |null|null|null|null|null|null  |null  |null  |686012|null   |null   |\n",
            "|Brute Force -XSS        |null|null|null|null|null|null  |null  |null  |null  |79     |151    |\n",
            "|Brute Force -Web        |null|null|null|null|null|null  |null  |null  |null  |249    |362    |\n",
            "|Benign                  |1   |1   |1   |3   |8   |667621|996076|446771|360832|1048203|1048008|\n",
            "+------------------------+----+----+----+----+----+------+------+------+------+-------+-------+\n",
            "\n"
          ]
        },
        {
          "output_type": "execute_result",
          "data": {
            "application/vnd.google.colaboratory.intrinsic+json": {
              "type": "string"
            },
            "text/plain": [
              "'\\ndf_conv.groupBy(\"Day\").pivot(\"Label\").count().orderBy(\"Day\",ascending=False).show(100,False)\\n\\nimport pyspark.sql.functions as F\\n\\ncol_list = [\"Benign\",\"Brute Force -Web\",\"Brute Force -XSS\",\"DDOS attack-HOIC\",\"DDOS attack-LOIC-UDP\",\"DoS attacks-GoldenEye\",\"DoS attacks-Hulk\",\"DoS attacks-SlowHTTPTest\",\"DoS attacks-Slowloris\",\"FTP-BruteForce\",\"SQL Injection\",\"SSH-Bruteforce\"]\\n# or col_list = df.columns[16:20]\\n\\ndf2 = df_conv.withColumn(\\'SUM1\\',sum(F.udf(col(c) for c in col_list)))\\n\\ndf2.show()\\n\\n#df_conv.groupBy(\"Label\").pivot(\"Day\").count().orderBy(\"Label\",ascending=False).withColumn(\\'accumulating_sum\\',F.sum(\\'Day\\'))\\n\\n#sum(cast(Label#95 as double)) AS accumulating_sum#21337]\\n\\n'"
            ]
          },
          "metadata": {},
          "execution_count": 113
        }
      ]
    },
    {
      "cell_type": "code",
      "metadata": {
        "colab": {
          "base_uri": "https://localhost:8080/"
        },
        "id": "1phyPTuOTkSJ",
        "outputId": "c5597897-99d2-4d5d-acd4-3ddf1b0909e3"
      },
      "source": [
        "df_conv.groupBy(\"month\",\"weekofyear\").agg(count(\"*\")).show(100, False)"
      ],
      "execution_count": null,
      "outputs": [
        {
          "output_type": "stream",
          "name": "stdout",
          "text": [
            "+-----+----------+--------+\n",
            "|month|weekofyear|count(1)|\n",
            "+-----+----------+--------+\n",
            "|1    |2         |6       |\n",
            "|1    |3         |8       |\n",
            "|2    |7         |3145717 |\n",
            "|2    |8         |3145713 |\n",
            "+-----+----------+--------+\n",
            "\n"
          ]
        }
      ]
    },
    {
      "cell_type": "code",
      "metadata": {
        "colab": {
          "base_uri": "https://localhost:8080/"
        },
        "id": "3K8EKX4BWCop",
        "outputId": "ae982335-1285-455c-9cd6-13320489f20f"
      },
      "source": [
        "num_cols_NewDF = [item[0] for item in bdsql.dtypes if item[1].startswith('int') | item[1].startswith('double')][1:]\n",
        "\n",
        "print(str(len(num_cols_NewDF)) + '  numerical features')"
      ],
      "execution_count": null,
      "outputs": [
        {
          "output_type": "stream",
          "name": "stdout",
          "text": [
            "69  numerical features\n"
          ]
        }
      ]
    },
    {
      "cell_type": "code",
      "metadata": {
        "colab": {
          "base_uri": "https://localhost:8080/"
        },
        "id": "9tz6pnCvbIM8",
        "outputId": "453ccb58-ee7b-4a9c-dfe3-a40c81b10be6"
      },
      "source": [
        "from pyspark.ml.feature import StringIndexer\n",
        "l_indexer = StringIndexer(inputCol=\"Label\", outputCol=\"labelIndex\")\n",
        "newdf = l_indexer.fit(bdsql).transform(bdsql)\n",
        "newdf.show(4)"
      ],
      "execution_count": null,
      "outputs": [
        {
          "output_type": "stream",
          "name": "stdout",
          "text": [
            "+--------+--------+-------------------+-------------+------------+------------+---------------+---------------+---------------+---------------+----------------+---------------+---------------+---------------+----------------+---------------+--------------+------------+-------------+----------------+------------+------------+-----------+----------------+----------------+-----------+-----------+-----------+----------------+---------------+-----------+-----------+-------------+-------------+-------------+-------------+--------------+--------------+------------+------------+-----------+-----------+--------------+--------------+----------------+------------+------------+------------+------------+------------+------------+--------------+------------+-------------+------------+----------------+----------------+--------------+--------------+----------------+--------------+--------------+----------------+----------------+----------------+----------------+----------------+-----------------+-----------------+-----------------+----------------+-----------+----------+----------+----------+------------+--------------+--------+--------+------+----------+\n",
            "|Dst Port|Protocol|          Timestamp|Flow Duration|Tot Fwd Pkts|Tot Bwd Pkts|TotLen Fwd Pkts|TotLen Bwd Pkts|Fwd Pkt Len Max|Fwd Pkt Len Min|Fwd Pkt Len Mean|Fwd Pkt Len Std|Bwd Pkt Len Max|Bwd Pkt Len Min|Bwd Pkt Len Mean|Bwd Pkt Len Std|   Flow Byts/s| Flow Pkts/s|Flow IAT Mean|    Flow IAT Std|Flow IAT Max|Flow IAT Min|Fwd IAT Tot|    Fwd IAT Mean|     Fwd IAT Std|Fwd IAT Max|Fwd IAT Min|Bwd IAT Tot|    Bwd IAT Mean|    Bwd IAT Std|Bwd IAT Max|Bwd IAT Min|Fwd PSH Flags|Bwd PSH Flags|Fwd URG Flags|Bwd URG Flags|Fwd Header Len|Bwd Header Len|  Fwd Pkts/s|  Bwd Pkts/s|Pkt Len Min|Pkt Len Max|  Pkt Len Mean|   Pkt Len Std|     Pkt Len Var|FIN Flag Cnt|SYN Flag Cnt|RST Flag Cnt|PSH Flag Cnt|ACK Flag Cnt|URG Flag Cnt|CWE Flag Count|ECE Flag Cnt|Down/Up Ratio|Pkt Size Avg|Fwd Seg Size Avg|Bwd Seg Size Avg|Fwd Byts/b Avg|Fwd Pkts/b Avg|Fwd Blk Rate Avg|Bwd Byts/b Avg|Bwd Pkts/b Avg|Bwd Blk Rate Avg|Subflow Fwd Pkts|Subflow Fwd Byts|Subflow Bwd Pkts|Subflow Bwd Byts|Init Fwd Win Byts|Init Bwd Win Byts|Fwd Act Data Pkts|Fwd Seg Size Min|Active Mean|Active Std|Active Max|Active Min|   Idle Mean|      Idle Std|Idle Max|Idle Min| Label|labelIndex|\n",
            "+--------+--------+-------------------+-------------+------------+------------+---------------+---------------+---------------+---------------+----------------+---------------+---------------+---------------+----------------+---------------+--------------+------------+-------------+----------------+------------+------------+-----------+----------------+----------------+-----------+-----------+-----------+----------------+---------------+-----------+-----------+-------------+-------------+-------------+-------------+--------------+--------------+------------+------------+-----------+-----------+--------------+--------------+----------------+------------+------------+------------+------------+------------+------------+--------------+------------+-------------+------------+----------------+----------------+--------------+--------------+----------------+--------------+--------------+----------------+----------------+----------------+----------------+----------------+-----------------+-----------------+-----------------+----------------+-----------+----------+----------+----------+------------+--------------+--------+--------+------+----------+\n",
            "|       0|       0|14/02/2018 08:31:01|    112641719|           3|           0|              0|              0|              0|              0|             0.0|            0.0|              0|              0|             0.0|            0.0|           0.0|0.0266331163| 5.63208595E7|  139.3000358938|    56320958|    56320761|  112641719|    5.63208595E7|  139.3000358938|   56320958|   56320761|          0|             0.0|            0.0|          0|          0|            0|            0|            0|            0|             0|             0|0.0266331163|         0.0|          0|          0|           0.0|           0.0|             0.0|           0|           0|           0|           0|           0|           0|             0|           0|            0|         0.0|             0.0|             0.0|             0|             0|               0|             0|             0|               0|               3|               0|               0|               0|               -1|               -1|                0|               0|        0.0|       0.0|         0|         0|5.63208595E7|139.3000358938|56320958|56320761|Benign|       0.0|\n",
            "|       0|       0|14/02/2018 08:33:50|    112641466|           3|           0|              0|              0|              0|              0|             0.0|            0.0|              0|              0|             0.0|            0.0|           0.0|0.0266331761|  5.6320733E7|  114.5512985522|    56320814|    56320652|  112641466|     5.6320733E7|  114.5512985522|   56320814|   56320652|          0|             0.0|            0.0|          0|          0|            0|            0|            0|            0|             0|             0|0.0266331761|         0.0|          0|          0|           0.0|           0.0|             0.0|           0|           0|           0|           0|           0|           0|             0|           0|            0|         0.0|             0.0|             0.0|             0|             0|               0|             0|             0|               0|               3|               0|               0|               0|               -1|               -1|                0|               0|        0.0|       0.0|         0|         0| 5.6320733E7|114.5512985522|56320814|56320652|Benign|       0.0|\n",
            "|       0|       0|14/02/2018 08:36:39|    112638623|           3|           0|              0|              0|              0|              0|             0.0|            0.0|              0|              0|             0.0|            0.0|           0.0|0.0266338483| 5.63193115E7|  301.9345955667|    56319525|    56319098|  112638623|    5.63193115E7|  301.9345955667|   56319525|   56319098|          0|             0.0|            0.0|          0|          0|            0|            0|            0|            0|             0|             0|0.0266338483|         0.0|          0|          0|           0.0|           0.0|             0.0|           0|           0|           0|           0|           0|           0|             0|           0|            0|         0.0|             0.0|             0.0|             0|             0|               0|             0|             0|               0|               3|               0|               0|               0|               -1|               -1|                0|               0|        0.0|       0.0|         0|         0|5.63193115E7|301.9345955667|56319525|56319098|Benign|       0.0|\n",
            "|      22|       6|14/02/2018 08:40:13|      6453966|          15|          10|           1239|           2273|            744|              0|            82.6| 196.7412368715|            976|              0|           227.3| 371.6778922072|544.1615279659|3.8735871865|    268915.25|247443.778966007|      673900|          22|    6453966|460997.571428571|123109.423587757|     673900|     229740|    5637902|626433.555555556|455082.21422401|    1167293|        554|            0|            0|            0|            0|           488|           328|2.3241523119|1.5494348746|          0|        976|135.0769230769|277.8347599674|77192.1538461539|           0|           0|           0|           1|           0|           0|             0|           0|            0|      140.48|            82.6|           227.3|             0|             0|               0|             0|             0|               0|              15|            1239|              10|            2273|            65535|              233|                6|              32|        0.0|       0.0|         0|         0|         0.0|           0.0|       0|       0|Benign|       0.0|\n",
            "+--------+--------+-------------------+-------------+------------+------------+---------------+---------------+---------------+---------------+----------------+---------------+---------------+---------------+----------------+---------------+--------------+------------+-------------+----------------+------------+------------+-----------+----------------+----------------+-----------+-----------+-----------+----------------+---------------+-----------+-----------+-------------+-------------+-------------+-------------+--------------+--------------+------------+------------+-----------+-----------+--------------+--------------+----------------+------------+------------+------------+------------+------------+------------+--------------+------------+-------------+------------+----------------+----------------+--------------+--------------+----------------+--------------+--------------+----------------+----------------+----------------+----------------+----------------+-----------------+-----------------+-----------------+----------------+-----------+----------+----------+----------+------------+--------------+--------+--------+------+----------+\n",
            "only showing top 4 rows\n",
            "\n"
          ]
        }
      ]
    },
    {
      "cell_type": "code",
      "metadata": {
        "colab": {
          "base_uri": "https://localhost:8080/"
        },
        "id": "R-FEEU-bTkW6",
        "outputId": "b833331f-ad3a-4fc4-df1b-e5dd0c55f897"
      },
      "source": [
        "import six\n",
        "\n",
        "for i in newdf.select(num_cols_NewDF).columns:\n",
        "    if not( isinstance(newdf.select(i).take(1)[0][0], six.string_types)):\n",
        "        print( \"Correlation to Label for \", i, newdf.stat.corr('labelIndex',i))"
      ],
      "execution_count": null,
      "outputs": [
        {
          "output_type": "stream",
          "name": "stdout",
          "text": [
            "Correlation to Label for  Protocol -0.21776593019075915\n",
            "Correlation to Label for  Tot Fwd Pkts 0.09170926430074579\n",
            "Correlation to Label for  Tot Bwd Pkts -0.008740809350083182\n",
            "Correlation to Label for  TotLen Fwd Pkts 0.08903843409996233\n",
            "Correlation to Label for  TotLen Bwd Pkts -0.008647106969432864\n",
            "Correlation to Label for  Fwd Pkt Len Max -0.20079430702056464\n",
            "Correlation to Label for  Fwd Pkt Len Min -0.17166242172468912\n",
            "Correlation to Label for  Fwd Pkt Len Mean -0.24880290372137678\n",
            "Correlation to Label for  Fwd Pkt Len Std -0.20704518755090368\n",
            "Correlation to Label for  Bwd Pkt Len Max -0.13454200049332007\n",
            "Correlation to Label for  Bwd Pkt Len Min -0.20332301632899855\n",
            "Correlation to Label for  Bwd Pkt Len Mean -0.20472579099477653\n",
            "Correlation to Label for  Bwd Pkt Len Std -0.14011189614960237\n",
            "Correlation to Label for  Flow Byts/s nan\n",
            "Correlation to Label for  Flow Pkts/s nan\n",
            "Correlation to Label for  Flow IAT Mean -0.004236611127079728\n",
            "Correlation to Label for  Flow IAT Std -0.000861346031106851\n",
            "Correlation to Label for  Fwd IAT Mean -0.0040518643898243625\n",
            "Correlation to Label for  Fwd IAT Std -0.0012478929702154416\n",
            "Correlation to Label for  Bwd IAT Tot -0.0837407144307577\n",
            "Correlation to Label for  Bwd IAT Mean 0.05873608710241692\n",
            "Correlation to Label for  Bwd IAT Std -0.03477588501508199\n",
            "Correlation to Label for  Bwd IAT Max -0.026885933914022442\n",
            "Correlation to Label for  Bwd IAT Min 0.0886073541413003\n",
            "Correlation to Label for  Fwd PSH Flags -0.06078560738118477\n",
            "Correlation to Label for  Bwd PSH Flags nan\n",
            "Correlation to Label for  Fwd URG Flags nan\n",
            "Correlation to Label for  Bwd URG Flags nan\n",
            "Correlation to Label for  Fwd Header Len 0.09188752966358574\n",
            "Correlation to Label for  Bwd Header Len -0.005973048072434766\n",
            "Correlation to Label for  Fwd Pkts/s 0.2826859274761579\n",
            "Correlation to Label for  Bwd Pkts/s 0.49777156535244776\n",
            "Correlation to Label for  Pkt Len Min -0.17865234798032348\n",
            "Correlation to Label for  Pkt Len Max -0.19917150897638197\n",
            "Correlation to Label for  Pkt Len Mean -0.2288613677595469\n",
            "Correlation to Label for  Pkt Len Std -0.21806645696901328\n",
            "Correlation to Label for  Pkt Len Var -0.12859890341533756\n",
            "Correlation to Label for  FIN Flag Cnt -0.022196868394059908\n",
            "Correlation to Label for  SYN Flag Cnt -0.06078560738118477\n",
            "Correlation to Label for  RST Flag Cnt -0.1375185020786932\n",
            "Correlation to Label for  PSH Flag Cnt 0.13742803688226055\n",
            "Correlation to Label for  ACK Flag Cnt 0.054968432344121736\n",
            "Correlation to Label for  URG Flag Cnt 0.12317267435368541\n",
            "Correlation to Label for  CWE Flag Count nan\n",
            "Correlation to Label for  ECE Flag Cnt -0.1375175429866099\n",
            "Correlation to Label for  Down/Up Ratio 0.09776052388258755\n",
            "Correlation to Label for  Pkt Size Avg -0.25472622735343114\n",
            "Correlation to Label for  Fwd Seg Size Avg -0.24880290372137678\n",
            "Correlation to Label for  Bwd Seg Size Avg -0.20472579099477645\n",
            "Correlation to Label for  Fwd Byts/b Avg nan\n",
            "Correlation to Label for  Fwd Pkts/b Avg nan\n",
            "Correlation to Label for  Fwd Blk Rate Avg nan\n",
            "Correlation to Label for  Bwd Byts/b Avg nan\n",
            "Correlation to Label for  Bwd Pkts/b Avg nan\n",
            "Correlation to Label for  Bwd Blk Rate Avg nan\n",
            "Correlation to Label for  Subflow Fwd Pkts 0.09170926430074576\n",
            "Correlation to Label for  Subflow Fwd Byts 0.08903843409996233\n",
            "Correlation to Label for  Subflow Bwd Pkts -0.008740809350083182\n",
            "Correlation to Label for  Subflow Bwd Byts -0.008647106969432864\n",
            "Correlation to Label for  Init Fwd Win Byts 0.12573844394684947\n",
            "Correlation to Label for  Init Bwd Win Byts -0.19453471408353612\n",
            "Correlation to Label for  Fwd Act Data Pkts 0.09208448185781253\n",
            "Correlation to Label for  Fwd Seg Size Min 0.6382358604871561\n",
            "Correlation to Label for  Active Mean 0.006630794294399529\n",
            "Correlation to Label for  Active Std -0.007220246490411128\n",
            "Correlation to Label for  Active Max -0.00837214911698692\n",
            "Correlation to Label for  Active Min 0.007517876900763337\n",
            "Correlation to Label for  Idle Mean -0.00430598248853044\n",
            "Correlation to Label for  Idle Std -0.0005085891421239771\n"
          ]
        }
      ]
    },
    {
      "cell_type": "code",
      "metadata": {
        "colab": {
          "base_uri": "https://localhost:8080/",
          "height": 335
        },
        "id": "jryUOlxhWCtl",
        "outputId": "bb372bac-1853-40e8-f375-cd1e334d325f"
      },
      "source": [
        "bdsql.createOrReplaceTempView(\"trerView\") \n",
        "sqlDF = spark.sql(\"SELECT * FROM trerView\") \n",
        "sqlDF.show(4)\n"
      ],
      "execution_count": null,
      "outputs": [
        {
          "output_type": "error",
          "ename": "AttributeError",
          "evalue": "ignored",
          "traceback": [
            "\u001b[0;31m---------------------------------------------------------------------------\u001b[0m",
            "\u001b[0;31mAttributeError\u001b[0m                            Traceback (most recent call last)",
            "\u001b[0;32m<ipython-input-128-1e1eb7bb4b22>\u001b[0m in \u001b[0;36m<module>\u001b[0;34m()\u001b[0m\n\u001b[0;32m----> 1\u001b[0;31m \u001b[0mbdsql\u001b[0m\u001b[0;34m.\u001b[0m\u001b[0mcreateOrReplaceTempView\u001b[0m\u001b[0;34m(\u001b[0m\u001b[0;34m\"trerView\"\u001b[0m\u001b[0;34m)\u001b[0m\u001b[0;34m\u001b[0m\u001b[0;34m\u001b[0m\u001b[0m\n\u001b[0m\u001b[1;32m      2\u001b[0m \u001b[0msqlDF\u001b[0m \u001b[0;34m=\u001b[0m \u001b[0mspark\u001b[0m\u001b[0;34m.\u001b[0m\u001b[0msql\u001b[0m\u001b[0;34m(\u001b[0m\u001b[0;34m\"SELECT * FROM trerView\"\u001b[0m\u001b[0;34m)\u001b[0m\u001b[0;34m\u001b[0m\u001b[0;34m\u001b[0m\u001b[0m\n\u001b[1;32m      3\u001b[0m \u001b[0msqlDF\u001b[0m\u001b[0;34m.\u001b[0m\u001b[0mshow\u001b[0m\u001b[0;34m(\u001b[0m\u001b[0;36m4\u001b[0m\u001b[0;34m)\u001b[0m\u001b[0;34m\u001b[0m\u001b[0;34m\u001b[0m\u001b[0m\n",
            "\u001b[0;32m/usr/local/lib/python3.7/dist-packages/pyspark/sql/dataframe.py\u001b[0m in \u001b[0;36mcreateOrReplaceTempView\u001b[0;34m(self, name)\u001b[0m\n\u001b[1;32m    186\u001b[0m \u001b[0;34m\u001b[0m\u001b[0m\n\u001b[1;32m    187\u001b[0m         \"\"\"\n\u001b[0;32m--> 188\u001b[0;31m         \u001b[0mself\u001b[0m\u001b[0;34m.\u001b[0m\u001b[0m_jdf\u001b[0m\u001b[0;34m.\u001b[0m\u001b[0mcreateOrReplaceTempView\u001b[0m\u001b[0;34m(\u001b[0m\u001b[0mname\u001b[0m\u001b[0;34m)\u001b[0m\u001b[0;34m\u001b[0m\u001b[0;34m\u001b[0m\u001b[0m\n\u001b[0m\u001b[1;32m    189\u001b[0m \u001b[0;34m\u001b[0m\u001b[0m\n\u001b[1;32m    190\u001b[0m     \u001b[0;32mdef\u001b[0m \u001b[0mcreateGlobalTempView\u001b[0m\u001b[0;34m(\u001b[0m\u001b[0mself\u001b[0m\u001b[0;34m,\u001b[0m \u001b[0mname\u001b[0m\u001b[0;34m)\u001b[0m\u001b[0;34m:\u001b[0m\u001b[0;34m\u001b[0m\u001b[0;34m\u001b[0m\u001b[0m\n",
            "\u001b[0;31mAttributeError\u001b[0m: 'str' object has no attribute 'createOrReplaceTempView'"
          ]
        }
      ]
    },
    {
      "cell_type": "markdown",
      "metadata": {
        "id": "xHlVPJzWto5d"
      },
      "source": [
        "# **Drop Duplicate values if any**"
      ]
    },
    {
      "cell_type": "code",
      "metadata": {
        "id": "T4CEIrE6tQ0j"
      },
      "source": [
        "bdsql = bdsql.dropDuplicates() "
      ],
      "execution_count": null,
      "outputs": []
    },
    {
      "cell_type": "code",
      "metadata": {
        "colab": {
          "base_uri": "https://localhost:8080/"
        },
        "id": "90Aas6nBWCyA",
        "outputId": "bd8643cf-ae01-4143-c19a-abc519a326f3"
      },
      "source": [
        "bdsql.select('Fwd Seg Size Min','Bwd Pkts/s','Fwd Pkts/s','PSH Flag Cnt','Init Fwd Win Byts','URG Flag Cnt','Down/Up Ratio','Fwd Act Data Pkts','Fwd Header Len','Tot Fwd Pkts','Subflow Fwd Pkts','Label').show()\n",
        "\n"
      ],
      "execution_count": null,
      "outputs": [
        {
          "output_type": "stream",
          "name": "stdout",
          "text": [
            "+----------------+------------+-------------+------------+-----------------+------------+-------------+-----------------+--------------+------------+----------------+------+\n",
            "|Fwd Seg Size Min|  Bwd Pkts/s|   Fwd Pkts/s|PSH Flag Cnt|Init Fwd Win Byts|URG Flag Cnt|Down/Up Ratio|Fwd Act Data Pkts|Fwd Header Len|Tot Fwd Pkts|Subflow Fwd Pkts| Label|\n",
            "+----------------+------------+-------------+------------+-----------------+------------+-------------+-----------------+--------------+------------+----------------+------+\n",
            "|               0|         0.0| 0.0266331163|           0|               -1|           0|            0|                0|             0|           3|               3|Benign|\n",
            "|               0|         0.0| 0.0266331761|           0|               -1|           0|            0|                0|             0|           3|               3|Benign|\n",
            "|               0|         0.0| 0.0266338483|           0|               -1|           0|            0|                0|             0|           3|               3|Benign|\n",
            "|              32|1.5494348746| 2.3241523119|           1|            65535|           0|            0|                6|           488|          15|              15|Benign|\n",
            "|              32|1.2494227099| 1.5901743581|           1|             5808|           0|            0|                6|           456|          14|              14|Benign|\n",
            "|              20|1.7169000625| 2.2892000834|           1|             5808|           0|            0|                7|           332|          16|              16|Benign|\n",
            "|               0|         0.0| 0.0266334092|           0|               -1|           0|            0|                0|             0|           3|               3|Benign|\n",
            "|               0|         0.0| 0.0266332286|           0|               -1|           0|            0|                0|             0|           3|               3|Benign|\n",
            "|              32|6.2957358981|10.4928931635|           1|            14600|           0|            0|                1|           168|           5|               5|Benign|\n",
            "|              32| 6.315151311| 10.525252185|           1|            14600|           0|            0|                1|           168|           5|               5|Benign|\n",
            "|              32|6.3167735605|10.5279559342|           1|            14480|           0|            0|                1|           168|           5|               5|Benign|\n",
            "|              32|6.2831041048|10.4718401746|           1|            14480|           0|            0|                1|           168|           5|               5|Benign|\n",
            "|              32|5.8507132019| 9.7511886699|           1|            14480|           0|            0|                1|           168|           5|               5|Benign|\n",
            "|              32|6.2931209894|10.4885349824|           1|            14480|           0|            0|                1|           168|           5|               5|Benign|\n",
            "|              32|6.2943753462| 10.490625577|           1|            14480|           0|            0|                1|           168|           5|               5|Benign|\n",
            "|              32| 6.287186086|10.4786434767|           1|            14480|           0|            0|                1|           168|           5|               5|Benign|\n",
            "|              32|6.3201803358| 10.533633893|           1|            14480|           0|            0|                1|           168|           5|               5|Benign|\n",
            "|              32|6.2944809991|10.4908016651|           1|            14480|           0|            0|                1|           168|           5|               5|Benign|\n",
            "|              32|6.2597939693|10.4329899489|           1|            14480|           0|            0|                1|           168|           5|               5|Benign|\n",
            "|              32|6.3029579782|10.5049299636|           1|            14480|           0|            0|                1|           168|           5|               5|Benign|\n",
            "+----------------+------------+-------------+------------+-----------------+------------+-------------+-----------------+--------------+------------+----------------+------+\n",
            "only showing top 20 rows\n",
            "\n"
          ]
        }
      ]
    },
    {
      "cell_type": "code",
      "metadata": {
        "colab": {
          "base_uri": "https://localhost:8080/",
          "height": 335
        },
        "id": "kvxvw1LCsZQr",
        "outputId": "d1586315-5e0a-465e-f14c-21fe38167c7f"
      },
      "source": [
        "bdsql.select('Fwd Seg Size Min','Bwd Pkts/s','Fwd Pkts/s','PSH Flag Cnt','Init Fwd Win Byts','URG Flag Cnt','Down/Up Ratio','Fwd Act Data Pkts','Fwd Header Len','Tot Fwd Pkts','Subflow Fwd Pkts','Label').show()\n",
        "\n"
      ],
      "execution_count": null,
      "outputs": [
        {
          "output_type": "error",
          "ename": "AttributeError",
          "evalue": "ignored",
          "traceback": [
            "\u001b[0;31m---------------------------------------------------------------------------\u001b[0m",
            "\u001b[0;31mAttributeError\u001b[0m                            Traceback (most recent call last)",
            "\u001b[0;32m<ipython-input-127-b1bd5f9c93b1>\u001b[0m in \u001b[0;36m<module>\u001b[0;34m()\u001b[0m\n\u001b[0;32m----> 1\u001b[0;31m \u001b[0mbdsql\u001b[0m\u001b[0;34m.\u001b[0m\u001b[0mselect\u001b[0m\u001b[0;34m(\u001b[0m\u001b[0;34m'Fwd Seg Size Min'\u001b[0m\u001b[0;34m,\u001b[0m\u001b[0;34m'Bwd Pkts/s'\u001b[0m\u001b[0;34m,\u001b[0m\u001b[0;34m'Fwd Pkts/s'\u001b[0m\u001b[0;34m,\u001b[0m\u001b[0;34m'PSH Flag Cnt'\u001b[0m\u001b[0;34m,\u001b[0m\u001b[0;34m'Init Fwd Win Byts'\u001b[0m\u001b[0;34m,\u001b[0m\u001b[0;34m'URG Flag Cnt'\u001b[0m\u001b[0;34m,\u001b[0m\u001b[0;34m'Down/Up Ratio'\u001b[0m\u001b[0;34m,\u001b[0m\u001b[0;34m'Fwd Act Data Pkts'\u001b[0m\u001b[0;34m,\u001b[0m\u001b[0;34m'Fwd Header Len'\u001b[0m\u001b[0;34m,\u001b[0m\u001b[0;34m'Tot Fwd Pkts'\u001b[0m\u001b[0;34m,\u001b[0m\u001b[0;34m'Subflow Fwd Pkts'\u001b[0m\u001b[0;34m,\u001b[0m\u001b[0;34m'Label'\u001b[0m\u001b[0;34m)\u001b[0m\u001b[0;34m.\u001b[0m\u001b[0mshow\u001b[0m\u001b[0;34m(\u001b[0m\u001b[0;34m)\u001b[0m\u001b[0;34m\u001b[0m\u001b[0;34m\u001b[0m\u001b[0m\n\u001b[0m\u001b[1;32m      2\u001b[0m \u001b[0;34m\u001b[0m\u001b[0m\n",
            "\u001b[0;32m/usr/local/lib/python3.7/dist-packages/pyspark/sql/dataframe.py\u001b[0m in \u001b[0;36mselect\u001b[0;34m(self, *cols)\u001b[0m\n\u001b[1;32m   1683\u001b[0m         \u001b[0;34m[\u001b[0m\u001b[0mRow\u001b[0m\u001b[0;34m(\u001b[0m\u001b[0mname\u001b[0m\u001b[0;34m=\u001b[0m\u001b[0;34m'Alice'\u001b[0m\u001b[0;34m,\u001b[0m \u001b[0mage\u001b[0m\u001b[0;34m=\u001b[0m\u001b[0;36m12\u001b[0m\u001b[0;34m)\u001b[0m\u001b[0;34m,\u001b[0m \u001b[0mRow\u001b[0m\u001b[0;34m(\u001b[0m\u001b[0mname\u001b[0m\u001b[0;34m=\u001b[0m\u001b[0;34m'Bob'\u001b[0m\u001b[0;34m,\u001b[0m \u001b[0mage\u001b[0m\u001b[0;34m=\u001b[0m\u001b[0;36m15\u001b[0m\u001b[0;34m)\u001b[0m\u001b[0;34m]\u001b[0m\u001b[0;34m\u001b[0m\u001b[0;34m\u001b[0m\u001b[0m\n\u001b[1;32m   1684\u001b[0m         \"\"\"\n\u001b[0;32m-> 1685\u001b[0;31m         \u001b[0mjdf\u001b[0m \u001b[0;34m=\u001b[0m \u001b[0mself\u001b[0m\u001b[0;34m.\u001b[0m\u001b[0m_jdf\u001b[0m\u001b[0;34m.\u001b[0m\u001b[0mselect\u001b[0m\u001b[0;34m(\u001b[0m\u001b[0mself\u001b[0m\u001b[0;34m.\u001b[0m\u001b[0m_jcols\u001b[0m\u001b[0;34m(\u001b[0m\u001b[0;34m*\u001b[0m\u001b[0mcols\u001b[0m\u001b[0;34m)\u001b[0m\u001b[0;34m)\u001b[0m\u001b[0;34m\u001b[0m\u001b[0;34m\u001b[0m\u001b[0m\n\u001b[0m\u001b[1;32m   1686\u001b[0m         \u001b[0;32mreturn\u001b[0m \u001b[0mDataFrame\u001b[0m\u001b[0;34m(\u001b[0m\u001b[0mjdf\u001b[0m\u001b[0;34m,\u001b[0m \u001b[0mself\u001b[0m\u001b[0;34m.\u001b[0m\u001b[0msql_ctx\u001b[0m\u001b[0;34m)\u001b[0m\u001b[0;34m\u001b[0m\u001b[0;34m\u001b[0m\u001b[0m\n\u001b[1;32m   1687\u001b[0m \u001b[0;34m\u001b[0m\u001b[0m\n",
            "\u001b[0;31mAttributeError\u001b[0m: 'str' object has no attribute 'select'"
          ]
        }
      ]
    },
    {
      "cell_type": "code",
      "metadata": {
        "id": "7WjQi-hgWDKu"
      },
      "source": [
        "q4 = sqlContext.sql(\"\"\"SELECT Label,\n",
        "                                     COUNT(*) as total_freq,\n",
        "                                     ROUND(AVG(duration), 2) as mean_duration,\n",
        "                                     SUM(num_failed_logins) as total_failed_logins,\n",
        "                                     SUM(num_file_creations) as total_file_creations,\n",
        "                                     SUM(su_attempted) as total_root_attempts,\n",
        "                                     SUM(num_root) as total_root_acceses\n",
        "                                   FROM connections\n",
        "                                   WHERE protocol_type = 'tcp'\n",
        "                                   AND label != 'normal.'\n",
        "                                   GROUP BY service, attack_type\n",
        "                                   ORDER BY total_freq DESC\n",
        "                                   \"\"\")\n",
        "q4.show()"
      ],
      "execution_count": null,
      "outputs": []
    },
    {
      "cell_type": "code",
      "metadata": {
        "id": "ItKdne7coCvk"
      },
      "source": [
        "psdf.groupby(['A', 'B']).sum()"
      ],
      "execution_count": null,
      "outputs": []
    },
    {
      "cell_type": "code",
      "metadata": {
        "id": "k6laEMD7oC0s"
      },
      "source": [
        ""
      ],
      "execution_count": null,
      "outputs": []
    },
    {
      "cell_type": "code",
      "metadata": {
        "colab": {
          "base_uri": "https://localhost:8080/"
        },
        "id": "ocahMmMUoC-y",
        "outputId": "aba1f116-2b9e-4069-d300-e9efbdf84fc8"
      },
      "source": [
        "q2=spark.sql(\"select Label,count(*) as count FROM trView where Day==8 group by Label having count>0\").show()\n"
      ],
      "execution_count": null,
      "outputs": [
        {
          "output_type": "stream",
          "name": "stdout",
          "text": [
            "+------+-----+\n",
            "| Label|count|\n",
            "+------+-----+\n",
            "|Benign|    8|\n",
            "+------+-----+\n",
            "\n"
          ]
        }
      ]
    },
    {
      "cell_type": "code",
      "metadata": {
        "colab": {
          "base_uri": "https://localhost:8080/"
        },
        "id": "Ipr8meLfoDXT",
        "outputId": "86dc2be1-a8b1-4530-836c-3293802731ec"
      },
      "source": [
        "q1=spark.sql(\"select Label,count(*) as count FROM trView where Day==14 group by Label having count>10\").show()"
      ],
      "execution_count": null,
      "outputs": [
        {
          "output_type": "stream",
          "name": "stdout",
          "text": [
            "+--------------+------+\n",
            "|         Label| count|\n",
            "+--------------+------+\n",
            "|SSH-Bruteforce|187589|\n",
            "|        Benign|667621|\n",
            "|FTP-BruteForce|193360|\n",
            "+--------------+------+\n",
            "\n"
          ]
        }
      ]
    },
    {
      "cell_type": "code",
      "metadata": {
        "colab": {
          "base_uri": "https://localhost:8080/"
        },
        "id": "0F3vs28omze0",
        "outputId": "fb2abe62-bde9-4f1f-d825-0008d265c427"
      },
      "source": [
        "df_conv.createOrReplaceTempView(\"trView\") \n",
        "sqlDF = spark.sql(\"SELECT * FROM trView\") \n",
        "sqlDF.show(4)\n"
      ],
      "execution_count": null,
      "outputs": [
        {
          "output_type": "stream",
          "name": "stdout",
          "text": [
            "+-------------------+------+----------+---+\n",
            "|          Timestamp| Label|weekofyear|Day|\n",
            "+-------------------+------+----------+---+\n",
            "|2018-02-14 08:31:01|Benign|         7| 14|\n",
            "|2018-02-14 08:33:50|Benign|         7| 14|\n",
            "|2018-02-14 08:36:39|Benign|         7| 14|\n",
            "|2018-02-14 08:40:13|Benign|         7| 14|\n",
            "+-------------------+------+----------+---+\n",
            "only showing top 4 rows\n",
            "\n"
          ]
        }
      ]
    },
    {
      "cell_type": "code",
      "metadata": {
        "colab": {
          "base_uri": "https://localhost:8080/"
        },
        "id": "M8yYPJRBmzlL",
        "outputId": "d3e78f7a-515e-45d9-fd48-6f4096dd63f2"
      },
      "source": [
        "sqlDF = spark.sql(\"SELECT Label, count(*) FROM trView GROUP BY Label\") \n",
        "sqlDF.show()\n"
      ],
      "execution_count": null,
      "outputs": [
        {
          "output_type": "stream",
          "name": "stdout",
          "text": [
            "+--------------------+--------+\n",
            "|               Label|count(1)|\n",
            "+--------------------+--------+\n",
            "|      SSH-Bruteforce|  187589|\n",
            "|              Benign| 4567525|\n",
            "|      FTP-BruteForce|  193360|\n",
            "|DoS attacks-Slowl...|   10990|\n",
            "|DoS attacks-Golde...|   41508|\n",
            "|DoS attacks-SlowH...|  139890|\n",
            "|    DoS attacks-Hulk|  461912|\n",
            "|DDOS attack-LOIC-UDP|    1730|\n",
            "|    DDOS attack-HOIC|  686012|\n",
            "|       SQL Injection|      87|\n",
            "|    Brute Force -XSS|     230|\n",
            "|    Brute Force -Web|     611|\n",
            "+--------------------+--------+\n",
            "\n"
          ]
        }
      ]
    },
    {
      "cell_type": "code",
      "metadata": {
        "colab": {
          "base_uri": "https://localhost:8080/"
        },
        "id": "DMXC_vszMeD1",
        "outputId": "1ce4d5c6-0510-44ad-ff8f-bfeaf8d4d223"
      },
      "source": [
        "sqlDF = spark.sql(\"SELECT Label, count(*) FROM trView GROUP BY Label,weekofyear\").show(100)\n"
      ],
      "execution_count": null,
      "outputs": [
        {
          "output_type": "stream",
          "name": "stdout",
          "text": [
            "+--------------------+--------+\n",
            "|               Label|count(1)|\n",
            "+--------------------+--------+\n",
            "|              Benign| 2110468|\n",
            "|              Benign|       8|\n",
            "|              Benign|       6|\n",
            "|      FTP-BruteForce|  193360|\n",
            "|      SSH-Bruteforce|  187589|\n",
            "|DoS attacks-Golde...|   41508|\n",
            "|DoS attacks-Slowl...|   10990|\n",
            "|DoS attacks-SlowH...|  139890|\n",
            "|    DoS attacks-Hulk|  461912|\n",
            "|    DDOS attack-HOIC|  686012|\n",
            "|DDOS attack-LOIC-UDP|    1730|\n",
            "|              Benign| 2457043|\n",
            "|    Brute Force -XSS|     230|\n",
            "|    Brute Force -Web|     611|\n",
            "|       SQL Injection|      87|\n",
            "+--------------------+--------+\n",
            "\n"
          ]
        }
      ]
    },
    {
      "cell_type": "markdown",
      "metadata": {
        "id": "suIMplbaMuZq"
      },
      "source": [
        "# **Need to find which day has more attacks happen**"
      ]
    },
    {
      "cell_type": "code",
      "metadata": {
        "colab": {
          "base_uri": "https://localhost:8080/"
        },
        "id": "K9eMtYpeNAfM",
        "outputId": "7a2a5007-ddf6-44d6-8d6f-d0c3c1e2b907"
      },
      "source": [
        "sqlDF = spark.sql(\"SELECT Label,weekofyear, count(*) FROM trView GROUP BY Label,weekofyear\").show(100)\n"
      ],
      "execution_count": null,
      "outputs": [
        {
          "output_type": "stream",
          "name": "stdout",
          "text": [
            "+--------------------+----------+--------+\n",
            "|               Label|weekofyear|count(1)|\n",
            "+--------------------+----------+--------+\n",
            "|              Benign|         7| 2110468|\n",
            "|              Benign|         3|       8|\n",
            "|              Benign|         2|       6|\n",
            "|      FTP-BruteForce|         7|  193360|\n",
            "|      SSH-Bruteforce|         7|  187589|\n",
            "|DoS attacks-Golde...|         7|   41508|\n",
            "|DoS attacks-Slowl...|         7|   10990|\n",
            "|DoS attacks-SlowH...|         7|  139890|\n",
            "|    DoS attacks-Hulk|         7|  461912|\n",
            "|    DDOS attack-HOIC|         8|  686012|\n",
            "|DDOS attack-LOIC-UDP|         8|    1730|\n",
            "|              Benign|         8| 2457043|\n",
            "|    Brute Force -XSS|         8|     230|\n",
            "|    Brute Force -Web|         8|     611|\n",
            "|       SQL Injection|         8|      87|\n",
            "+--------------------+----------+--------+\n",
            "\n"
          ]
        }
      ]
    },
    {
      "cell_type": "code",
      "metadata": {
        "colab": {
          "base_uri": "https://localhost:8080/"
        },
        "id": "VbiyEpJcO0MX",
        "outputId": "2340e801-4b63-4bf4-8ca4-7af1735c3890"
      },
      "source": [
        "#ORDER BY total_freq DESC\n",
        "\n",
        "sqlDF = spark.sql(\"SELECT Label,weekofyear, count(*) FROM trView GROUP BY Label,weekofyear\").sort(col(\"weekofyear\").desc()).show(100,False)\n"
      ],
      "execution_count": null,
      "outputs": [
        {
          "output_type": "stream",
          "name": "stdout",
          "text": [
            "+------------------------+----------+--------+\n",
            "|Label                   |weekofyear|count(1)|\n",
            "+------------------------+----------+--------+\n",
            "|Brute Force -XSS        |8         |230     |\n",
            "|DDOS attack-LOIC-UDP    |8         |1730    |\n",
            "|Brute Force -Web        |8         |611     |\n",
            "|SQL Injection           |8         |87      |\n",
            "|DDOS attack-HOIC        |8         |686012  |\n",
            "|Benign                  |8         |2457043 |\n",
            "|FTP-BruteForce          |7         |193360  |\n",
            "|SSH-Bruteforce          |7         |187589  |\n",
            "|DoS attacks-GoldenEye   |7         |41508   |\n",
            "|DoS attacks-Hulk        |7         |461912  |\n",
            "|Benign                  |7         |2110468 |\n",
            "|DoS attacks-Slowloris   |7         |10990   |\n",
            "|DoS attacks-SlowHTTPTest|7         |139890  |\n",
            "|Benign                  |3         |8       |\n",
            "|Benign                  |2         |6       |\n",
            "+------------------------+----------+--------+\n",
            "\n"
          ]
        }
      ]
    },
    {
      "cell_type": "code",
      "metadata": {
        "colab": {
          "base_uri": "https://localhost:8080/"
        },
        "id": "7WL3TuKnm0qT",
        "outputId": "431e8868-6df0-4dc9-c72a-6d41338124a6"
      },
      "source": [
        "#ORDER BY ASC\n",
        "\n",
        "sqlDF = spark.sql(\"SELECT Label,weekofyear, count(*) FROM trView GROUP BY Label,weekofyear\").sort(col(\"weekofyear\").asc()).show(100,False)\n",
        "\n",
        "\n",
        "\n",
        "#sqlDF = spark.sql(\"SELECT Label,weekofyear count(*) FROM trView GROUP BY weekofyear,label\") \n",
        "#sqlDF.show()\n",
        "\n"
      ],
      "execution_count": null,
      "outputs": [
        {
          "output_type": "stream",
          "name": "stdout",
          "text": [
            "+------------------------+----------+--------+\n",
            "|Label                   |weekofyear|count(1)|\n",
            "+------------------------+----------+--------+\n",
            "|Benign                  |2         |6       |\n",
            "|Benign                  |3         |8       |\n",
            "|DoS attacks-SlowHTTPTest|7         |139890  |\n",
            "|Benign                  |7         |2110468 |\n",
            "|DoS attacks-Hulk        |7         |461912  |\n",
            "|SSH-Bruteforce          |7         |187589  |\n",
            "|FTP-BruteForce          |7         |193360  |\n",
            "|DoS attacks-GoldenEye   |7         |41508   |\n",
            "|DoS attacks-Slowloris   |7         |10990   |\n",
            "|DDOS attack-HOIC        |8         |686012  |\n",
            "|DDOS attack-LOIC-UDP    |8         |1730    |\n",
            "|Benign                  |8         |2457043 |\n",
            "|Brute Force -XSS        |8         |230     |\n",
            "|Brute Force -Web        |8         |611     |\n",
            "|SQL Injection           |8         |87      |\n",
            "+------------------------+----------+--------+\n",
            "\n"
          ]
        }
      ]
    },
    {
      "cell_type": "code",
      "metadata": {
        "id": "0pRFQxeVR7W9"
      },
      "source": [
        "#sqlDF = spark.sql(\"SELECT Label,weekofyear,count(*) FROM trView GROUP BY Label,weekofyear orderBy(weekofyear,ascending=False)\").show()\n",
        "\n"
      ],
      "execution_count": null,
      "outputs": []
    },
    {
      "cell_type": "code",
      "metadata": {
        "id": "Vay2n_kpR7ky"
      },
      "source": [
        ""
      ],
      "execution_count": null,
      "outputs": []
    },
    {
      "cell_type": "code",
      "metadata": {
        "id": "JHsQCsCqR7rC"
      },
      "source": [
        ""
      ],
      "execution_count": null,
      "outputs": []
    },
    {
      "cell_type": "code",
      "metadata": {
        "colab": {
          "base_uri": "https://localhost:8080/"
        },
        "id": "_HR8l1idOlFT",
        "outputId": "c7cf6549-259e-4dbf-d49c-7ae648401e0a"
      },
      "source": [
        "bdsql.createOrReplaceTempView(\"bdView\") \n",
        "sqlDF = spark.sql(\"SELECT * FROM bdView\") \n",
        "sqlDF.show(4)\n"
      ],
      "execution_count": null,
      "outputs": [
        {
          "output_type": "stream",
          "name": "stdout",
          "text": [
            "+--------+--------+-------------------+-------------+------------+------------+---------------+---------------+---------------+---------------+----------------+---------------+---------------+---------------+----------------+---------------+--------------+------------+-------------+----------------+------------+------------+-----------+----------------+----------------+-----------+-----------+-----------+----------------+---------------+-----------+-----------+-------------+-------------+-------------+-------------+--------------+--------------+------------+------------+-----------+-----------+--------------+--------------+----------------+------------+------------+------------+------------+------------+------------+--------------+------------+-------------+------------+----------------+----------------+--------------+--------------+----------------+--------------+--------------+----------------+----------------+----------------+----------------+----------------+-----------------+-----------------+-----------------+----------------+-----------+----------+----------+----------+------------+--------------+--------+--------+------+\n",
            "|Dst Port|Protocol|          Timestamp|Flow Duration|Tot Fwd Pkts|Tot Bwd Pkts|TotLen Fwd Pkts|TotLen Bwd Pkts|Fwd Pkt Len Max|Fwd Pkt Len Min|Fwd Pkt Len Mean|Fwd Pkt Len Std|Bwd Pkt Len Max|Bwd Pkt Len Min|Bwd Pkt Len Mean|Bwd Pkt Len Std|   Flow Byts/s| Flow Pkts/s|Flow IAT Mean|    Flow IAT Std|Flow IAT Max|Flow IAT Min|Fwd IAT Tot|    Fwd IAT Mean|     Fwd IAT Std|Fwd IAT Max|Fwd IAT Min|Bwd IAT Tot|    Bwd IAT Mean|    Bwd IAT Std|Bwd IAT Max|Bwd IAT Min|Fwd PSH Flags|Bwd PSH Flags|Fwd URG Flags|Bwd URG Flags|Fwd Header Len|Bwd Header Len|  Fwd Pkts/s|  Bwd Pkts/s|Pkt Len Min|Pkt Len Max|  Pkt Len Mean|   Pkt Len Std|     Pkt Len Var|FIN Flag Cnt|SYN Flag Cnt|RST Flag Cnt|PSH Flag Cnt|ACK Flag Cnt|URG Flag Cnt|CWE Flag Count|ECE Flag Cnt|Down/Up Ratio|Pkt Size Avg|Fwd Seg Size Avg|Bwd Seg Size Avg|Fwd Byts/b Avg|Fwd Pkts/b Avg|Fwd Blk Rate Avg|Bwd Byts/b Avg|Bwd Pkts/b Avg|Bwd Blk Rate Avg|Subflow Fwd Pkts|Subflow Fwd Byts|Subflow Bwd Pkts|Subflow Bwd Byts|Init Fwd Win Byts|Init Bwd Win Byts|Fwd Act Data Pkts|Fwd Seg Size Min|Active Mean|Active Std|Active Max|Active Min|   Idle Mean|      Idle Std|Idle Max|Idle Min| Label|\n",
            "+--------+--------+-------------------+-------------+------------+------------+---------------+---------------+---------------+---------------+----------------+---------------+---------------+---------------+----------------+---------------+--------------+------------+-------------+----------------+------------+------------+-----------+----------------+----------------+-----------+-----------+-----------+----------------+---------------+-----------+-----------+-------------+-------------+-------------+-------------+--------------+--------------+------------+------------+-----------+-----------+--------------+--------------+----------------+------------+------------+------------+------------+------------+------------+--------------+------------+-------------+------------+----------------+----------------+--------------+--------------+----------------+--------------+--------------+----------------+----------------+----------------+----------------+----------------+-----------------+-----------------+-----------------+----------------+-----------+----------+----------+----------+------------+--------------+--------+--------+------+\n",
            "|       0|       0|14/02/2018 08:31:01|    112641719|           3|           0|              0|              0|              0|              0|             0.0|            0.0|              0|              0|             0.0|            0.0|           0.0|0.0266331163| 5.63208595E7|  139.3000358938|    56320958|    56320761|  112641719|    5.63208595E7|  139.3000358938|   56320958|   56320761|          0|             0.0|            0.0|          0|          0|            0|            0|            0|            0|             0|             0|0.0266331163|         0.0|          0|          0|           0.0|           0.0|             0.0|           0|           0|           0|           0|           0|           0|             0|           0|            0|         0.0|             0.0|             0.0|             0|             0|               0|             0|             0|               0|               3|               0|               0|               0|               -1|               -1|                0|               0|        0.0|       0.0|         0|         0|5.63208595E7|139.3000358938|56320958|56320761|Benign|\n",
            "|       0|       0|14/02/2018 08:33:50|    112641466|           3|           0|              0|              0|              0|              0|             0.0|            0.0|              0|              0|             0.0|            0.0|           0.0|0.0266331761|  5.6320733E7|  114.5512985522|    56320814|    56320652|  112641466|     5.6320733E7|  114.5512985522|   56320814|   56320652|          0|             0.0|            0.0|          0|          0|            0|            0|            0|            0|             0|             0|0.0266331761|         0.0|          0|          0|           0.0|           0.0|             0.0|           0|           0|           0|           0|           0|           0|             0|           0|            0|         0.0|             0.0|             0.0|             0|             0|               0|             0|             0|               0|               3|               0|               0|               0|               -1|               -1|                0|               0|        0.0|       0.0|         0|         0| 5.6320733E7|114.5512985522|56320814|56320652|Benign|\n",
            "|       0|       0|14/02/2018 08:36:39|    112638623|           3|           0|              0|              0|              0|              0|             0.0|            0.0|              0|              0|             0.0|            0.0|           0.0|0.0266338483| 5.63193115E7|  301.9345955667|    56319525|    56319098|  112638623|    5.63193115E7|  301.9345955667|   56319525|   56319098|          0|             0.0|            0.0|          0|          0|            0|            0|            0|            0|             0|             0|0.0266338483|         0.0|          0|          0|           0.0|           0.0|             0.0|           0|           0|           0|           0|           0|           0|             0|           0|            0|         0.0|             0.0|             0.0|             0|             0|               0|             0|             0|               0|               3|               0|               0|               0|               -1|               -1|                0|               0|        0.0|       0.0|         0|         0|5.63193115E7|301.9345955667|56319525|56319098|Benign|\n",
            "|      22|       6|14/02/2018 08:40:13|      6453966|          15|          10|           1239|           2273|            744|              0|            82.6| 196.7412368715|            976|              0|           227.3| 371.6778922072|544.1615279659|3.8735871865|    268915.25|247443.778966007|      673900|          22|    6453966|460997.571428571|123109.423587757|     673900|     229740|    5637902|626433.555555556|455082.21422401|    1167293|        554|            0|            0|            0|            0|           488|           328|2.3241523119|1.5494348746|          0|        976|135.0769230769|277.8347599674|77192.1538461539|           0|           0|           0|           1|           0|           0|             0|           0|            0|      140.48|            82.6|           227.3|             0|             0|               0|             0|             0|               0|              15|            1239|              10|            2273|            65535|              233|                6|              32|        0.0|       0.0|         0|         0|         0.0|           0.0|       0|       0|Benign|\n",
            "+--------+--------+-------------------+-------------+------------+------------+---------------+---------------+---------------+---------------+----------------+---------------+---------------+---------------+----------------+---------------+--------------+------------+-------------+----------------+------------+------------+-----------+----------------+----------------+-----------+-----------+-----------+----------------+---------------+-----------+-----------+-------------+-------------+-------------+-------------+--------------+--------------+------------+------------+-----------+-----------+--------------+--------------+----------------+------------+------------+------------+------------+------------+------------+--------------+------------+-------------+------------+----------------+----------------+--------------+--------------+----------------+--------------+--------------+----------------+----------------+----------------+----------------+----------------+-----------------+-----------------+-----------------+----------------+-----------+----------+----------+----------+------------+--------------+--------+--------+------+\n",
            "only showing top 4 rows\n",
            "\n"
          ]
        }
      ]
    },
    {
      "cell_type": "markdown",
      "metadata": {
        "id": "IbFzqxYuQbOT"
      },
      "source": [
        " List the number of attacks of each category wise total count"
      ]
    },
    {
      "cell_type": "code",
      "metadata": {
        "colab": {
          "base_uri": "https://localhost:8080/"
        },
        "id": "Fjry50UzOlJE",
        "outputId": "b7684841-ab44-463a-e42d-0859662e935b"
      },
      "source": [
        "sqlDF = spark.sql(\"SELECT Label, count(*) FROM bdView GROUP BY Label\") \n",
        "sqlDF.show()\n"
      ],
      "execution_count": null,
      "outputs": [
        {
          "output_type": "stream",
          "name": "stdout",
          "text": [
            "+--------------------+--------+\n",
            "|               Label|count(1)|\n",
            "+--------------------+--------+\n",
            "|      SSH-Bruteforce|  187589|\n",
            "|              Benign| 4567525|\n",
            "|      FTP-BruteForce|  193360|\n",
            "|DoS attacks-Slowl...|   10990|\n",
            "|DoS attacks-Golde...|   41508|\n",
            "|DoS attacks-SlowH...|  139890|\n",
            "|    DoS attacks-Hulk|  461912|\n",
            "|DDOS attack-LOIC-UDP|    1730|\n",
            "|    DDOS attack-HOIC|  686012|\n",
            "|       SQL Injection|      87|\n",
            "|    Brute Force -XSS|     230|\n",
            "|    Brute Force -Web|     611|\n",
            "+--------------------+--------+\n",
            "\n"
          ]
        }
      ]
    },
    {
      "cell_type": "code",
      "metadata": {
        "colab": {
          "base_uri": "https://localhost:8080/",
          "height": 430
        },
        "id": "1jkjSGdxQTnK",
        "outputId": "f00f77f7-4b5d-40bd-9b63-7ecba099c9af"
      },
      "source": [
        "import numpy as np \n",
        "import matplotlib.pyplot as plt \n",
        "import pandas as pd\n",
        "pandas_df = sqlDF.toPandas()\n",
        "pandas_df.sort_values(by='count(1)',ascending=False).plot(x ='Label', y='count(1)', kind = 'bar')\n"
      ],
      "execution_count": null,
      "outputs": [
        {
          "output_type": "execute_result",
          "data": {
            "text/plain": [
              "<matplotlib.axes._subplots.AxesSubplot at 0x7f65b30be610>"
            ]
          },
          "metadata": {},
          "execution_count": 42
        },
        {
          "output_type": "display_data",
          "data": {
            "image/png": "[encoded data removed]",
            "text/plain": [
              "<Figure size 432x288 with 1 Axes>"
            ]
          },
          "metadata": {
            "needs_background": "light"
          }
        }
      ]
    },
    {
      "cell_type": "code",
      "metadata": {
        "colab": {
          "base_uri": "https://localhost:8080/",
          "height": 419
        },
        "id": "MtKOTASPQTrg",
        "outputId": "95ec5381-22d8-47e8-82db-8e757702970a"
      },
      "source": [
        "pandas_df.sort_values(by='count(1)',ascending=False).plot(x ='Label', y='count(1)', kind = 'bar', logy=True)"
      ],
      "execution_count": null,
      "outputs": [
        {
          "output_type": "execute_result",
          "data": {
            "text/plain": [
              "<matplotlib.axes._subplots.AxesSubplot at 0x7f65b2fb7790>"
            ]
          },
          "metadata": {},
          "execution_count": 43
        },
        {
          "output_type": "display_data",
          "data": {
            "image/png": "[encoded data removed]",
            "text/plain": [
              "<Figure size 432x288 with 1 Axes>"
            ]
          },
          "metadata": {
            "needs_background": "light"
          }
        }
      ]
    },
    {
      "cell_type": "code",
      "metadata": {
        "id": "WEztTC8_QTwW"
      },
      "source": [
        ""
      ],
      "execution_count": null,
      "outputs": []
    },
    {
      "cell_type": "markdown",
      "metadata": {
        "id": "9aA1mO7bVCYq"
      },
      "source": [
        "# **SQL Windows quires**"
      ]
    },
    {
      "cell_type": "code",
      "metadata": {
        "colab": {
          "base_uri": "https://localhost:8080/"
        },
        "id": "Gv1Gqb9BYrpu",
        "outputId": "afde8ad0-c9d0-479c-8262-f5ee775a833c"
      },
      "source": [
        "type(bdsql)"
      ],
      "execution_count": null,
      "outputs": [
        {
          "output_type": "execute_result",
          "data": {
            "text/plain": [
              "pyspark.sql.dataframe.DataFrame"
            ]
          },
          "metadata": {},
          "execution_count": 88
        }
      ]
    },
    {
      "cell_type": "code",
      "metadata": {
        "colab": {
          "base_uri": "https://localhost:8080/"
        },
        "id": "7aGh4xVJfYtw",
        "outputId": "e34e41d8-d09d-4d91-d2af-acbe4591ed05"
      },
      "source": [
        "bdsql.show(2)"
      ],
      "execution_count": null,
      "outputs": [
        {
          "output_type": "stream",
          "name": "stdout",
          "text": [
            "+--------+--------+-------------------+-------------+------------+------------+---------------+---------------+---------------+---------------+----------------+---------------+---------------+---------------+----------------+---------------+-----------+------------+-------------+--------------+------------+------------+-----------+------------+--------------+-----------+-----------+-----------+------------+-----------+-----------+-----------+-------------+-------------+-------------+-------------+--------------+--------------+------------+----------+-----------+-----------+------------+-----------+-----------+------------+------------+------------+------------+------------+------------+--------------+------------+-------------+------------+----------------+----------------+--------------+--------------+----------------+--------------+--------------+----------------+----------------+----------------+----------------+----------------+-----------------+-----------------+-----------------+----------------+-----------+----------+----------+----------+------------+--------------+--------+--------+------+\n",
            "|Dst Port|Protocol|          Timestamp|Flow Duration|Tot Fwd Pkts|Tot Bwd Pkts|TotLen Fwd Pkts|TotLen Bwd Pkts|Fwd Pkt Len Max|Fwd Pkt Len Min|Fwd Pkt Len Mean|Fwd Pkt Len Std|Bwd Pkt Len Max|Bwd Pkt Len Min|Bwd Pkt Len Mean|Bwd Pkt Len Std|Flow Byts/s| Flow Pkts/s|Flow IAT Mean|  Flow IAT Std|Flow IAT Max|Flow IAT Min|Fwd IAT Tot|Fwd IAT Mean|   Fwd IAT Std|Fwd IAT Max|Fwd IAT Min|Bwd IAT Tot|Bwd IAT Mean|Bwd IAT Std|Bwd IAT Max|Bwd IAT Min|Fwd PSH Flags|Bwd PSH Flags|Fwd URG Flags|Bwd URG Flags|Fwd Header Len|Bwd Header Len|  Fwd Pkts/s|Bwd Pkts/s|Pkt Len Min|Pkt Len Max|Pkt Len Mean|Pkt Len Std|Pkt Len Var|FIN Flag Cnt|SYN Flag Cnt|RST Flag Cnt|PSH Flag Cnt|ACK Flag Cnt|URG Flag Cnt|CWE Flag Count|ECE Flag Cnt|Down/Up Ratio|Pkt Size Avg|Fwd Seg Size Avg|Bwd Seg Size Avg|Fwd Byts/b Avg|Fwd Pkts/b Avg|Fwd Blk Rate Avg|Bwd Byts/b Avg|Bwd Pkts/b Avg|Bwd Blk Rate Avg|Subflow Fwd Pkts|Subflow Fwd Byts|Subflow Bwd Pkts|Subflow Bwd Byts|Init Fwd Win Byts|Init Bwd Win Byts|Fwd Act Data Pkts|Fwd Seg Size Min|Active Mean|Active Std|Active Max|Active Min|   Idle Mean|      Idle Std|Idle Max|Idle Min| Label|\n",
            "+--------+--------+-------------------+-------------+------------+------------+---------------+---------------+---------------+---------------+----------------+---------------+---------------+---------------+----------------+---------------+-----------+------------+-------------+--------------+------------+------------+-----------+------------+--------------+-----------+-----------+-----------+------------+-----------+-----------+-----------+-------------+-------------+-------------+-------------+--------------+--------------+------------+----------+-----------+-----------+------------+-----------+-----------+------------+------------+------------+------------+------------+------------+--------------+------------+-------------+------------+----------------+----------------+--------------+--------------+----------------+--------------+--------------+----------------+----------------+----------------+----------------+----------------+-----------------+-----------------+-----------------+----------------+-----------+----------+----------+----------+------------+--------------+--------+--------+------+\n",
            "|       0|       0|14/02/2018 08:31:01|    112641719|           3|           0|              0|              0|              0|              0|             0.0|            0.0|              0|              0|             0.0|            0.0|        0.0|0.0266331163| 5.63208595E7|139.3000358938|    56320958|    56320761|  112641719|5.63208595E7|139.3000358938|   56320958|   56320761|          0|         0.0|        0.0|          0|          0|            0|            0|            0|            0|             0|             0|0.0266331163|       0.0|          0|          0|         0.0|        0.0|        0.0|           0|           0|           0|           0|           0|           0|             0|           0|            0|         0.0|             0.0|             0.0|             0|             0|               0|             0|             0|               0|               3|               0|               0|               0|               -1|               -1|                0|               0|        0.0|       0.0|         0|         0|5.63208595E7|139.3000358938|56320958|56320761|Benign|\n",
            "|       0|       0|14/02/2018 08:33:50|    112641466|           3|           0|              0|              0|              0|              0|             0.0|            0.0|              0|              0|             0.0|            0.0|        0.0|0.0266331761|  5.6320733E7|114.5512985522|    56320814|    56320652|  112641466| 5.6320733E7|114.5512985522|   56320814|   56320652|          0|         0.0|        0.0|          0|          0|            0|            0|            0|            0|             0|             0|0.0266331761|       0.0|          0|          0|         0.0|        0.0|        0.0|           0|           0|           0|           0|           0|           0|             0|           0|            0|         0.0|             0.0|             0.0|             0|             0|               0|             0|             0|               0|               3|               0|               0|               0|               -1|               -1|                0|               0|        0.0|       0.0|         0|         0| 5.6320733E7|114.5512985522|56320814|56320652|Benign|\n",
            "+--------+--------+-------------------+-------------+------------+------------+---------------+---------------+---------------+---------------+----------------+---------------+---------------+---------------+----------------+---------------+-----------+------------+-------------+--------------+------------+------------+-----------+------------+--------------+-----------+-----------+-----------+------------+-----------+-----------+-----------+-------------+-------------+-------------+-------------+--------------+--------------+------------+----------+-----------+-----------+------------+-----------+-----------+------------+------------+------------+------------+------------+------------+--------------+------------+-------------+------------+----------------+----------------+--------------+--------------+----------------+--------------+--------------+----------------+----------------+----------------+----------------+----------------+-----------------+-----------------+-----------------+----------------+-----------+----------+----------+----------+------------+--------------+--------+--------+------+\n",
            "only showing top 2 rows\n",
            "\n"
          ]
        }
      ]
    },
    {
      "cell_type": "code",
      "metadata": {
        "colab": {
          "base_uri": "https://localhost:8080/"
        },
        "id": "pUHw3ryDfYyk",
        "outputId": "34d53677-5b30-440d-d49e-cb9c34c3e9a6"
      },
      "source": [
        "from pyspark.sql.types import TimestampType\n",
        "from pyspark.sql.functions import unix_timestamp\n",
        "df_conv=bdsql.withColumn(\"Timestamp\",unix_timestamp(\"Timestamp\", 'dd/MM/yyyy HH:mm:ss').cast(TimestampType()))\n",
        "df_conv.printSchema()\n",
        "df_conv.show(5)"
      ],
      "execution_count": null,
      "outputs": [
        {
          "output_type": "stream",
          "name": "stdout",
          "text": [
            "root\n",
            " |-- Dst Port: integer (nullable = true)\n",
            " |-- Protocol: integer (nullable = true)\n",
            " |-- Timestamp: timestamp (nullable = true)\n",
            " |-- Flow Duration: long (nullable = true)\n",
            " |-- Tot Fwd Pkts: integer (nullable = true)\n",
            " |-- Tot Bwd Pkts: integer (nullable = true)\n",
            " |-- TotLen Fwd Pkts: integer (nullable = true)\n",
            " |-- TotLen Bwd Pkts: integer (nullable = true)\n",
            " |-- Fwd Pkt Len Max: integer (nullable = true)\n",
            " |-- Fwd Pkt Len Min: integer (nullable = true)\n",
            " |-- Fwd Pkt Len Mean: double (nullable = true)\n",
            " |-- Fwd Pkt Len Std: double (nullable = true)\n",
            " |-- Bwd Pkt Len Max: integer (nullable = true)\n",
            " |-- Bwd Pkt Len Min: integer (nullable = true)\n",
            " |-- Bwd Pkt Len Mean: double (nullable = true)\n",
            " |-- Bwd Pkt Len Std: double (nullable = true)\n",
            " |-- Flow Byts/s: double (nullable = true)\n",
            " |-- Flow Pkts/s: double (nullable = true)\n",
            " |-- Flow IAT Mean: double (nullable = true)\n",
            " |-- Flow IAT Std: double (nullable = true)\n",
            " |-- Flow IAT Max: long (nullable = true)\n",
            " |-- Flow IAT Min: long (nullable = true)\n",
            " |-- Fwd IAT Tot: long (nullable = true)\n",
            " |-- Fwd IAT Mean: double (nullable = true)\n",
            " |-- Fwd IAT Std: double (nullable = true)\n",
            " |-- Fwd IAT Max: long (nullable = true)\n",
            " |-- Fwd IAT Min: long (nullable = true)\n",
            " |-- Bwd IAT Tot: integer (nullable = true)\n",
            " |-- Bwd IAT Mean: double (nullable = true)\n",
            " |-- Bwd IAT Std: double (nullable = true)\n",
            " |-- Bwd IAT Max: integer (nullable = true)\n",
            " |-- Bwd IAT Min: integer (nullable = true)\n",
            " |-- Fwd PSH Flags: integer (nullable = true)\n",
            " |-- Bwd PSH Flags: integer (nullable = true)\n",
            " |-- Fwd URG Flags: integer (nullable = true)\n",
            " |-- Bwd URG Flags: integer (nullable = true)\n",
            " |-- Fwd Header Len: integer (nullable = true)\n",
            " |-- Bwd Header Len: integer (nullable = true)\n",
            " |-- Fwd Pkts/s: double (nullable = true)\n",
            " |-- Bwd Pkts/s: double (nullable = true)\n",
            " |-- Pkt Len Min: integer (nullable = true)\n",
            " |-- Pkt Len Max: integer (nullable = true)\n",
            " |-- Pkt Len Mean: double (nullable = true)\n",
            " |-- Pkt Len Std: double (nullable = true)\n",
            " |-- Pkt Len Var: double (nullable = true)\n",
            " |-- FIN Flag Cnt: integer (nullable = true)\n",
            " |-- SYN Flag Cnt: integer (nullable = true)\n",
            " |-- RST Flag Cnt: integer (nullable = true)\n",
            " |-- PSH Flag Cnt: integer (nullable = true)\n",
            " |-- ACK Flag Cnt: integer (nullable = true)\n",
            " |-- URG Flag Cnt: integer (nullable = true)\n",
            " |-- CWE Flag Count: integer (nullable = true)\n",
            " |-- ECE Flag Cnt: integer (nullable = true)\n",
            " |-- Down/Up Ratio: integer (nullable = true)\n",
            " |-- Pkt Size Avg: double (nullable = true)\n",
            " |-- Fwd Seg Size Avg: double (nullable = true)\n",
            " |-- Bwd Seg Size Avg: double (nullable = true)\n",
            " |-- Fwd Byts/b Avg: integer (nullable = true)\n",
            " |-- Fwd Pkts/b Avg: integer (nullable = true)\n",
            " |-- Fwd Blk Rate Avg: integer (nullable = true)\n",
            " |-- Bwd Byts/b Avg: integer (nullable = true)\n",
            " |-- Bwd Pkts/b Avg: integer (nullable = true)\n",
            " |-- Bwd Blk Rate Avg: integer (nullable = true)\n",
            " |-- Subflow Fwd Pkts: integer (nullable = true)\n",
            " |-- Subflow Fwd Byts: integer (nullable = true)\n",
            " |-- Subflow Bwd Pkts: integer (nullable = true)\n",
            " |-- Subflow Bwd Byts: integer (nullable = true)\n",
            " |-- Init Fwd Win Byts: integer (nullable = true)\n",
            " |-- Init Bwd Win Byts: integer (nullable = true)\n",
            " |-- Fwd Act Data Pkts: integer (nullable = true)\n",
            " |-- Fwd Seg Size Min: integer (nullable = true)\n",
            " |-- Active Mean: double (nullable = true)\n",
            " |-- Active Std: double (nullable = true)\n",
            " |-- Active Max: integer (nullable = true)\n",
            " |-- Active Min: integer (nullable = true)\n",
            " |-- Idle Mean: double (nullable = true)\n",
            " |-- Idle Std: double (nullable = true)\n",
            " |-- Idle Max: long (nullable = true)\n",
            " |-- Idle Min: long (nullable = true)\n",
            " |-- Label: string (nullable = true)\n",
            "\n",
            "+--------+--------+-------------------+-------------+------------+------------+---------------+---------------+---------------+---------------+----------------+---------------+---------------+---------------+----------------+---------------+--------------+------------+----------------+----------------+------------+------------+-----------+----------------+----------------+-----------+-----------+-----------+----------------+----------------+-----------+-----------+-------------+-------------+-------------+-------------+--------------+--------------+------------+------------+-----------+-----------+--------------+--------------+----------------+------------+------------+------------+------------+------------+------------+--------------+------------+-------------+------------+----------------+----------------+--------------+--------------+----------------+--------------+--------------+----------------+----------------+----------------+----------------+----------------+-----------------+-----------------+-----------------+----------------+-----------+----------+----------+----------+------------+--------------+--------+--------+------+\n",
            "|Dst Port|Protocol|          Timestamp|Flow Duration|Tot Fwd Pkts|Tot Bwd Pkts|TotLen Fwd Pkts|TotLen Bwd Pkts|Fwd Pkt Len Max|Fwd Pkt Len Min|Fwd Pkt Len Mean|Fwd Pkt Len Std|Bwd Pkt Len Max|Bwd Pkt Len Min|Bwd Pkt Len Mean|Bwd Pkt Len Std|   Flow Byts/s| Flow Pkts/s|   Flow IAT Mean|    Flow IAT Std|Flow IAT Max|Flow IAT Min|Fwd IAT Tot|    Fwd IAT Mean|     Fwd IAT Std|Fwd IAT Max|Fwd IAT Min|Bwd IAT Tot|    Bwd IAT Mean|     Bwd IAT Std|Bwd IAT Max|Bwd IAT Min|Fwd PSH Flags|Bwd PSH Flags|Fwd URG Flags|Bwd URG Flags|Fwd Header Len|Bwd Header Len|  Fwd Pkts/s|  Bwd Pkts/s|Pkt Len Min|Pkt Len Max|  Pkt Len Mean|   Pkt Len Std|     Pkt Len Var|FIN Flag Cnt|SYN Flag Cnt|RST Flag Cnt|PSH Flag Cnt|ACK Flag Cnt|URG Flag Cnt|CWE Flag Count|ECE Flag Cnt|Down/Up Ratio|Pkt Size Avg|Fwd Seg Size Avg|Bwd Seg Size Avg|Fwd Byts/b Avg|Fwd Pkts/b Avg|Fwd Blk Rate Avg|Bwd Byts/b Avg|Bwd Pkts/b Avg|Bwd Blk Rate Avg|Subflow Fwd Pkts|Subflow Fwd Byts|Subflow Bwd Pkts|Subflow Bwd Byts|Init Fwd Win Byts|Init Bwd Win Byts|Fwd Act Data Pkts|Fwd Seg Size Min|Active Mean|Active Std|Active Max|Active Min|   Idle Mean|      Idle Std|Idle Max|Idle Min| Label|\n",
            "+--------+--------+-------------------+-------------+------------+------------+---------------+---------------+---------------+---------------+----------------+---------------+---------------+---------------+----------------+---------------+--------------+------------+----------------+----------------+------------+------------+-----------+----------------+----------------+-----------+-----------+-----------+----------------+----------------+-----------+-----------+-------------+-------------+-------------+-------------+--------------+--------------+------------+------------+-----------+-----------+--------------+--------------+----------------+------------+------------+------------+------------+------------+------------+--------------+------------+-------------+------------+----------------+----------------+--------------+--------------+----------------+--------------+--------------+----------------+----------------+----------------+----------------+----------------+-----------------+-----------------+-----------------+----------------+-----------+----------+----------+----------+------------+--------------+--------+--------+------+\n",
            "|       0|       0|2018-02-14 08:31:01|    112641719|           3|           0|              0|              0|              0|              0|             0.0|            0.0|              0|              0|             0.0|            0.0|           0.0|0.0266331163|    5.63208595E7|  139.3000358938|    56320958|    56320761|  112641719|    5.63208595E7|  139.3000358938|   56320958|   56320761|          0|             0.0|             0.0|          0|          0|            0|            0|            0|            0|             0|             0|0.0266331163|         0.0|          0|          0|           0.0|           0.0|             0.0|           0|           0|           0|           0|           0|           0|             0|           0|            0|         0.0|             0.0|             0.0|             0|             0|               0|             0|             0|               0|               3|               0|               0|               0|               -1|               -1|                0|               0|        0.0|       0.0|         0|         0|5.63208595E7|139.3000358938|56320958|56320761|Benign|\n",
            "|       0|       0|2018-02-14 08:33:50|    112641466|           3|           0|              0|              0|              0|              0|             0.0|            0.0|              0|              0|             0.0|            0.0|           0.0|0.0266331761|     5.6320733E7|  114.5512985522|    56320814|    56320652|  112641466|     5.6320733E7|  114.5512985522|   56320814|   56320652|          0|             0.0|             0.0|          0|          0|            0|            0|            0|            0|             0|             0|0.0266331761|         0.0|          0|          0|           0.0|           0.0|             0.0|           0|           0|           0|           0|           0|           0|             0|           0|            0|         0.0|             0.0|             0.0|             0|             0|               0|             0|             0|               0|               3|               0|               0|               0|               -1|               -1|                0|               0|        0.0|       0.0|         0|         0| 5.6320733E7|114.5512985522|56320814|56320652|Benign|\n",
            "|       0|       0|2018-02-14 08:36:39|    112638623|           3|           0|              0|              0|              0|              0|             0.0|            0.0|              0|              0|             0.0|            0.0|           0.0|0.0266338483|    5.63193115E7|  301.9345955667|    56319525|    56319098|  112638623|    5.63193115E7|  301.9345955667|   56319525|   56319098|          0|             0.0|             0.0|          0|          0|            0|            0|            0|            0|             0|             0|0.0266338483|         0.0|          0|          0|           0.0|           0.0|             0.0|           0|           0|           0|           0|           0|           0|             0|           0|            0|         0.0|             0.0|             0.0|             0|             0|               0|             0|             0|               0|               3|               0|               0|               0|               -1|               -1|                0|               0|        0.0|       0.0|         0|         0|5.63193115E7|301.9345955667|56319525|56319098|Benign|\n",
            "|      22|       6|2018-02-14 08:40:13|      6453966|          15|          10|           1239|           2273|            744|              0|            82.6| 196.7412368715|            976|              0|           227.3| 371.6778922072|544.1615279659|3.8735871865|       268915.25|247443.778966007|      673900|          22|    6453966|460997.571428571|123109.423587757|     673900|     229740|    5637902|626433.555555556| 455082.21422401|    1167293|        554|            0|            0|            0|            0|           488|           328|2.3241523119|1.5494348746|          0|        976|135.0769230769|277.8347599674|77192.1538461539|           0|           0|           0|           1|           0|           0|             0|           0|            0|      140.48|            82.6|           227.3|             0|             0|               0|             0|             0|               0|              15|            1239|              10|            2273|            65535|              233|                6|              32|        0.0|       0.0|         0|         0|         0.0|           0.0|       0|       0|Benign|\n",
            "|      22|       6|2018-02-14 08:40:23|      8804066|          14|          11|           1143|           2209|            744|              0|   81.6428571429| 203.7455453568|            976|              0|  200.8181818182| 362.2498635422|380.7331748762| 2.839597068|366836.083333333|511356.609732762|     1928102|          21|    8804066|677235.846153846|532416.970958985|    1928102|     246924|    7715481|        771548.1|755543.082716951|    2174893|         90|            0|            0|            0|            0|           456|           360|1.5901743581|1.2494227099|          0|        976|128.9230769231|279.7630315931|78267.3538461539|           0|           0|           0|           1|           0|           0|             0|           0|            0|      134.08|   81.6428571429|  200.8181818182|             0|             0|               0|             0|             0|               0|              14|            1143|              11|            2209|             5808|              233|                6|              32|        0.0|       0.0|         0|         0|         0.0|           0.0|       0|       0|Benign|\n",
            "+--------+--------+-------------------+-------------+------------+------------+---------------+---------------+---------------+---------------+----------------+---------------+---------------+---------------+----------------+---------------+--------------+------------+----------------+----------------+------------+------------+-----------+----------------+----------------+-----------+-----------+-----------+----------------+----------------+-----------+-----------+-------------+-------------+-------------+-------------+--------------+--------------+------------+------------+-----------+-----------+--------------+--------------+----------------+------------+------------+------------+------------+------------+------------+--------------+------------+-------------+------------+----------------+----------------+--------------+--------------+----------------+--------------+--------------+----------------+----------------+----------------+----------------+----------------+-----------------+-----------------+-----------------+----------------+-----------+----------+----------+----------+------------+--------------+--------+--------+------+\n",
            "only showing top 5 rows\n",
            "\n"
          ]
        }
      ]
    },
    {
      "cell_type": "code",
      "metadata": {
        "colab": {
          "base_uri": "https://localhost:8080/"
        },
        "id": "Fc_21xewOlUu",
        "outputId": "7ddcf4ac-7338-49c0-9316-d209e8667d09"
      },
      "source": [
        "df_conv.show(5)"
      ],
      "execution_count": null,
      "outputs": [
        {
          "output_type": "stream",
          "name": "stdout",
          "text": [
            "+--------+--------+-------------------+-------------+------------+------------+---------------+---------------+---------------+---------------+----------------+---------------+---------------+---------------+----------------+---------------+--------------+------------+----------------+----------------+------------+------------+-----------+----------------+----------------+-----------+-----------+-----------+----------------+----------------+-----------+-----------+-------------+-------------+-------------+-------------+--------------+--------------+------------+------------+-----------+-----------+--------------+--------------+----------------+------------+------------+------------+------------+------------+------------+--------------+------------+-------------+------------+----------------+----------------+--------------+--------------+----------------+--------------+--------------+----------------+----------------+----------------+----------------+----------------+-----------------+-----------------+-----------------+----------------+-----------+----------+----------+----------+------------+--------------+--------+--------+------+\n",
            "|Dst Port|Protocol|          Timestamp|Flow Duration|Tot Fwd Pkts|Tot Bwd Pkts|TotLen Fwd Pkts|TotLen Bwd Pkts|Fwd Pkt Len Max|Fwd Pkt Len Min|Fwd Pkt Len Mean|Fwd Pkt Len Std|Bwd Pkt Len Max|Bwd Pkt Len Min|Bwd Pkt Len Mean|Bwd Pkt Len Std|   Flow Byts/s| Flow Pkts/s|   Flow IAT Mean|    Flow IAT Std|Flow IAT Max|Flow IAT Min|Fwd IAT Tot|    Fwd IAT Mean|     Fwd IAT Std|Fwd IAT Max|Fwd IAT Min|Bwd IAT Tot|    Bwd IAT Mean|     Bwd IAT Std|Bwd IAT Max|Bwd IAT Min|Fwd PSH Flags|Bwd PSH Flags|Fwd URG Flags|Bwd URG Flags|Fwd Header Len|Bwd Header Len|  Fwd Pkts/s|  Bwd Pkts/s|Pkt Len Min|Pkt Len Max|  Pkt Len Mean|   Pkt Len Std|     Pkt Len Var|FIN Flag Cnt|SYN Flag Cnt|RST Flag Cnt|PSH Flag Cnt|ACK Flag Cnt|URG Flag Cnt|CWE Flag Count|ECE Flag Cnt|Down/Up Ratio|Pkt Size Avg|Fwd Seg Size Avg|Bwd Seg Size Avg|Fwd Byts/b Avg|Fwd Pkts/b Avg|Fwd Blk Rate Avg|Bwd Byts/b Avg|Bwd Pkts/b Avg|Bwd Blk Rate Avg|Subflow Fwd Pkts|Subflow Fwd Byts|Subflow Bwd Pkts|Subflow Bwd Byts|Init Fwd Win Byts|Init Bwd Win Byts|Fwd Act Data Pkts|Fwd Seg Size Min|Active Mean|Active Std|Active Max|Active Min|   Idle Mean|      Idle Std|Idle Max|Idle Min| Label|\n",
            "+--------+--------+-------------------+-------------+------------+------------+---------------+---------------+---------------+---------------+----------------+---------------+---------------+---------------+----------------+---------------+--------------+------------+----------------+----------------+------------+------------+-----------+----------------+----------------+-----------+-----------+-----------+----------------+----------------+-----------+-----------+-------------+-------------+-------------+-------------+--------------+--------------+------------+------------+-----------+-----------+--------------+--------------+----------------+------------+------------+------------+------------+------------+------------+--------------+------------+-------------+------------+----------------+----------------+--------------+--------------+----------------+--------------+--------------+----------------+----------------+----------------+----------------+----------------+-----------------+-----------------+-----------------+----------------+-----------+----------+----------+----------+------------+--------------+--------+--------+------+\n",
            "|       0|       0|2018-02-14 08:31:01|    112641719|           3|           0|              0|              0|              0|              0|             0.0|            0.0|              0|              0|             0.0|            0.0|           0.0|0.0266331163|    5.63208595E7|  139.3000358938|    56320958|    56320761|  112641719|    5.63208595E7|  139.3000358938|   56320958|   56320761|          0|             0.0|             0.0|          0|          0|            0|            0|            0|            0|             0|             0|0.0266331163|         0.0|          0|          0|           0.0|           0.0|             0.0|           0|           0|           0|           0|           0|           0|             0|           0|            0|         0.0|             0.0|             0.0|             0|             0|               0|             0|             0|               0|               3|               0|               0|               0|               -1|               -1|                0|               0|        0.0|       0.0|         0|         0|5.63208595E7|139.3000358938|56320958|56320761|Benign|\n",
            "|       0|       0|2018-02-14 08:33:50|    112641466|           3|           0|              0|              0|              0|              0|             0.0|            0.0|              0|              0|             0.0|            0.0|           0.0|0.0266331761|     5.6320733E7|  114.5512985522|    56320814|    56320652|  112641466|     5.6320733E7|  114.5512985522|   56320814|   56320652|          0|             0.0|             0.0|          0|          0|            0|            0|            0|            0|             0|             0|0.0266331761|         0.0|          0|          0|           0.0|           0.0|             0.0|           0|           0|           0|           0|           0|           0|             0|           0|            0|         0.0|             0.0|             0.0|             0|             0|               0|             0|             0|               0|               3|               0|               0|               0|               -1|               -1|                0|               0|        0.0|       0.0|         0|         0| 5.6320733E7|114.5512985522|56320814|56320652|Benign|\n",
            "|       0|       0|2018-02-14 08:36:39|    112638623|           3|           0|              0|              0|              0|              0|             0.0|            0.0|              0|              0|             0.0|            0.0|           0.0|0.0266338483|    5.63193115E7|  301.9345955667|    56319525|    56319098|  112638623|    5.63193115E7|  301.9345955667|   56319525|   56319098|          0|             0.0|             0.0|          0|          0|            0|            0|            0|            0|             0|             0|0.0266338483|         0.0|          0|          0|           0.0|           0.0|             0.0|           0|           0|           0|           0|           0|           0|             0|           0|            0|         0.0|             0.0|             0.0|             0|             0|               0|             0|             0|               0|               3|               0|               0|               0|               -1|               -1|                0|               0|        0.0|       0.0|         0|         0|5.63193115E7|301.9345955667|56319525|56319098|Benign|\n",
            "|      22|       6|2018-02-14 08:40:13|      6453966|          15|          10|           1239|           2273|            744|              0|            82.6| 196.7412368715|            976|              0|           227.3| 371.6778922072|544.1615279659|3.8735871865|       268915.25|247443.778966007|      673900|          22|    6453966|460997.571428571|123109.423587757|     673900|     229740|    5637902|626433.555555556| 455082.21422401|    1167293|        554|            0|            0|            0|            0|           488|           328|2.3241523119|1.5494348746|          0|        976|135.0769230769|277.8347599674|77192.1538461539|           0|           0|           0|           1|           0|           0|             0|           0|            0|      140.48|            82.6|           227.3|             0|             0|               0|             0|             0|               0|              15|            1239|              10|            2273|            65535|              233|                6|              32|        0.0|       0.0|         0|         0|         0.0|           0.0|       0|       0|Benign|\n",
            "|      22|       6|2018-02-14 08:40:23|      8804066|          14|          11|           1143|           2209|            744|              0|   81.6428571429| 203.7455453568|            976|              0|  200.8181818182| 362.2498635422|380.7331748762| 2.839597068|366836.083333333|511356.609732762|     1928102|          21|    8804066|677235.846153846|532416.970958985|    1928102|     246924|    7715481|        771548.1|755543.082716951|    2174893|         90|            0|            0|            0|            0|           456|           360|1.5901743581|1.2494227099|          0|        976|128.9230769231|279.7630315931|78267.3538461539|           0|           0|           0|           1|           0|           0|             0|           0|            0|      134.08|   81.6428571429|  200.8181818182|             0|             0|               0|             0|             0|               0|              14|            1143|              11|            2209|             5808|              233|                6|              32|        0.0|       0.0|         0|         0|         0.0|           0.0|       0|       0|Benign|\n",
            "+--------+--------+-------------------+-------------+------------+------------+---------------+---------------+---------------+---------------+----------------+---------------+---------------+---------------+----------------+---------------+--------------+------------+----------------+----------------+------------+------------+-----------+----------------+----------------+-----------+-----------+-----------+----------------+----------------+-----------+-----------+-------------+-------------+-------------+-------------+--------------+--------------+------------+------------+-----------+-----------+--------------+--------------+----------------+------------+------------+------------+------------+------------+------------+--------------+------------+-------------+------------+----------------+----------------+--------------+--------------+----------------+--------------+--------------+----------------+----------------+----------------+----------------+----------------+-----------------+-----------------+-----------------+----------------+-----------+----------+----------+----------+------------+--------------+--------+--------+------+\n",
            "only showing top 5 rows\n",
            "\n"
          ]
        }
      ]
    },
    {
      "cell_type": "code",
      "metadata": {
        "id": "JAHiw_bIGS8d"
      },
      "source": [
        ""
      ],
      "execution_count": null,
      "outputs": []
    },
    {
      "cell_type": "code",
      "metadata": {
        "id": "7PF38R-KtJ5A"
      },
      "source": [
        ""
      ],
      "execution_count": null,
      "outputs": []
    },
    {
      "cell_type": "code",
      "metadata": {
        "id": "ksJXv_KetJ9Q"
      },
      "source": [
        ""
      ],
      "execution_count": null,
      "outputs": []
    },
    {
      "cell_type": "code",
      "metadata": {
        "id": "igmrVijdtKAu"
      },
      "source": [
        ""
      ],
      "execution_count": null,
      "outputs": []
    },
    {
      "cell_type": "code",
      "metadata": {
        "id": "wsFCqRZuGS_n"
      },
      "source": [
        ""
      ],
      "execution_count": null,
      "outputs": []
    },
    {
      "cell_type": "code",
      "metadata": {
        "id": "hqY6ipy-GTDz"
      },
      "source": [
        ""
      ],
      "execution_count": null,
      "outputs": []
    },
    {
      "cell_type": "code",
      "metadata": {
        "id": "Z1ZUZ-n4GTG8"
      },
      "source": [
        ""
      ],
      "execution_count": null,
      "outputs": []
    },
    {
      "cell_type": "code",
      "metadata": {
        "id": "w5YMod5aGTLR"
      },
      "source": [
        ""
      ],
      "execution_count": null,
      "outputs": []
    },
    {
      "cell_type": "code",
      "metadata": {
        "id": "ouWzHEQaGTQD"
      },
      "source": [
        ""
      ],
      "execution_count": null,
      "outputs": []
    },
    {
      "cell_type": "code",
      "metadata": {
        "id": "OXGYHW5_GTU7"
      },
      "source": [
        ""
      ],
      "execution_count": null,
      "outputs": []
    },
    {
      "cell_type": "code",
      "metadata": {
        "id": "OLiLlnTXGTYP"
      },
      "source": [
        ""
      ],
      "execution_count": null,
      "outputs": []
    },
    {
      "cell_type": "code",
      "metadata": {
        "id": "6iSPtN7X0gpc"
      },
      "source": [
        ""
      ],
      "execution_count": null,
      "outputs": []
    },
    {
      "cell_type": "code",
      "metadata": {
        "id": "Rw0mP4QrJVeK"
      },
      "source": [
        "stopping"
      ],
      "execution_count": null,
      "outputs": []
    },
    {
      "cell_type": "code",
      "metadata": {
        "id": "3OpLqotjpvhl"
      },
      "source": [
        "from pyspark.ml.classification import NaiveBayes\n",
        "nb = NaiveBayes(labelCol=\"labelIndex\",featuresCol=\"features\",smoothing=1.0,modelType=\"multinomial\")\n",
        "model = nb.fit(train_data)\n",
        "predictions = model.transform(test_data)\n",
        "predictions.select(\"labelIndex\",\"features\",\"probability\", \"prediction\").show(4)"
      ],
      "execution_count": null,
      "outputs": []
    },
    {
      "cell_type": "code",
      "metadata": {
        "id": "RecLxtMMpvkL"
      },
      "source": [
        "import pyspark.sql.functions as F\n",
        "check = predictions.withColumn('correct', F.when(F.col('labelIndex') == F.col('prediction'),1).otherwise(0))\n",
        "check.groupby(\"correct\").count().show()\n",
        "evaluator =MulticlassClassificationEvaluator(labelCol=\"labelIndex\",predictionCol=\"prediction\",metricName=\"accuracy\")\n",
        "accuracy = evaluator.evaluate(predictions)\n",
        "print(\"accuracy = \" + str(accuracy))\n",
        "accuracy = evaluator.evaluate(predictions)\n",
        "print(\"accuracy =\", accuracy)\n",
        "print(\"Test Error = %g \" % (1.0 - accuracy)) \n",
        "print(model)\n"
      ],
      "execution_count": null,
      "outputs": []
    },
    {
      "cell_type": "code",
      "metadata": {
        "id": "G49jLaoepvoH"
      },
      "source": [
        ""
      ],
      "execution_count": null,
      "outputs": []
    },
    {
      "cell_type": "code",
      "metadata": {
        "colab": {
          "base_uri": "https://localhost:8080/",
          "height": 267
        },
        "id": "OsgsNtrWbnut",
        "outputId": "1703fedb-2cd8-4194-c245-5a0ce1f1ab76"
      },
      "source": [
        "from pyspark.ml import Pipeline\n",
        "from pyspark.ml.classification import GBTClassifier\n",
        "\n",
        "(trainingData, testData) = newdf.randomSplit([0.7, 0.3])\n",
        "\n",
        "gbt = GBTClassifier(labelCol='labelIndex', featuresCol='features',maxIter=10)\n",
        "\n",
        "pipeline = Pipeline(stages=[labelIndexer, featureIndexer, gbt])\n",
        "\n",
        "model = pipeline.fit(trainingData)\n",
        "\n",
        "predictions = model.transform(testData)\n",
        "\n",
        "predictions.select(\"prediction\", 'Label', \"features\").show(5)\n",
        "\n",
        "evaluator = MulticlassClassificationEvaluator(labelCol='Label', predictionCol=\"prediction\", metricName=\"accuracy\")\n",
        "accuracy = evaluator.evaluate(predictions)\n",
        "print(\"accuracy =\", accuracy)\n",
        "print(\"Test Error = %g\" % (1.0 - accuracy))\n",
        "gbtModel = model.stages[2]\n",
        "print(gbtModel)  # summary only"
      ],
      "execution_count": null,
      "outputs": [
        {
          "output_type": "error",
          "ename": "IllegalArgumentException",
          "evalue": "ignored",
          "traceback": [
            "\u001b[0;31m---------------------------------------------------------------------------\u001b[0m",
            "\u001b[0;31mIllegalArgumentException\u001b[0m                  Traceback (most recent call last)",
            "\u001b[0;32m<ipython-input-36-6d8618dc4d90>\u001b[0m in \u001b[0;36m<module>\u001b[0;34m()\u001b[0m\n\u001b[1;32m      2\u001b[0m \u001b[0;32mfrom\u001b[0m \u001b[0mpyspark\u001b[0m\u001b[0;34m.\u001b[0m\u001b[0mml\u001b[0m\u001b[0;34m.\u001b[0m\u001b[0mclassification\u001b[0m \u001b[0;32mimport\u001b[0m \u001b[0mLogisticRegression\u001b[0m\u001b[0;34m\u001b[0m\u001b[0;34m\u001b[0m\u001b[0m\n\u001b[1;32m      3\u001b[0m \u001b[0mLR\u001b[0m \u001b[0;34m=\u001b[0m \u001b[0mLogisticRegression\u001b[0m\u001b[0;34m(\u001b[0m\u001b[0mfeaturesCol\u001b[0m \u001b[0;34m=\u001b[0m \u001b[0;34m'features'\u001b[0m\u001b[0;34m,\u001b[0m \u001b[0mlabelCol\u001b[0m \u001b[0;34m=\u001b[0m \u001b[0;34m'labelIndex'\u001b[0m\u001b[0;34m,\u001b[0m \u001b[0mmaxIter\u001b[0m\u001b[0;34m=\u001b[0m\u001b[0;36m15\u001b[0m\u001b[0;34m)\u001b[0m\u001b[0;34m\u001b[0m\u001b[0;34m\u001b[0m\u001b[0m\n\u001b[0;32m----> 4\u001b[0;31m \u001b[0mLR_model\u001b[0m \u001b[0;34m=\u001b[0m \u001b[0mLR\u001b[0m\u001b[0;34m.\u001b[0m\u001b[0mfit\u001b[0m\u001b[0;34m(\u001b[0m\u001b[0mtrain_data\u001b[0m\u001b[0;34m)\u001b[0m\u001b[0;34m\u001b[0m\u001b[0;34m\u001b[0m\u001b[0m\n\u001b[0m",
            "\u001b[0;32m/content/spark-3.0.0-bin-hadoop3.2/python/pyspark/ml/base.py\u001b[0m in \u001b[0;36mfit\u001b[0;34m(self, dataset, params)\u001b[0m\n\u001b[1;32m    127\u001b[0m                 \u001b[0;32mreturn\u001b[0m \u001b[0mself\u001b[0m\u001b[0;34m.\u001b[0m\u001b[0mcopy\u001b[0m\u001b[0;34m(\u001b[0m\u001b[0mparams\u001b[0m\u001b[0;34m)\u001b[0m\u001b[0;34m.\u001b[0m\u001b[0m_fit\u001b[0m\u001b[0;34m(\u001b[0m\u001b[0mdataset\u001b[0m\u001b[0;34m)\u001b[0m\u001b[0;34m\u001b[0m\u001b[0;34m\u001b[0m\u001b[0m\n\u001b[1;32m    128\u001b[0m             \u001b[0;32melse\u001b[0m\u001b[0;34m:\u001b[0m\u001b[0;34m\u001b[0m\u001b[0;34m\u001b[0m\u001b[0m\n\u001b[0;32m--> 129\u001b[0;31m                 \u001b[0;32mreturn\u001b[0m \u001b[0mself\u001b[0m\u001b[0;34m.\u001b[0m\u001b[0m_fit\u001b[0m\u001b[0;34m(\u001b[0m\u001b[0mdataset\u001b[0m\u001b[0;34m)\u001b[0m\u001b[0;34m\u001b[0m\u001b[0;34m\u001b[0m\u001b[0m\n\u001b[0m\u001b[1;32m    130\u001b[0m         \u001b[0;32melse\u001b[0m\u001b[0;34m:\u001b[0m\u001b[0;34m\u001b[0m\u001b[0;34m\u001b[0m\u001b[0m\n\u001b[1;32m    131\u001b[0m             raise ValueError(\"Params must be either a param map or a list/tuple of param maps, \"\n",
            "\u001b[0;32m/content/spark-3.0.0-bin-hadoop3.2/python/pyspark/ml/wrapper.py\u001b[0m in \u001b[0;36m_fit\u001b[0;34m(self, dataset)\u001b[0m\n\u001b[1;32m    319\u001b[0m \u001b[0;34m\u001b[0m\u001b[0m\n\u001b[1;32m    320\u001b[0m     \u001b[0;32mdef\u001b[0m \u001b[0m_fit\u001b[0m\u001b[0;34m(\u001b[0m\u001b[0mself\u001b[0m\u001b[0;34m,\u001b[0m \u001b[0mdataset\u001b[0m\u001b[0;34m)\u001b[0m\u001b[0;34m:\u001b[0m\u001b[0;34m\u001b[0m\u001b[0;34m\u001b[0m\u001b[0m\n\u001b[0;32m--> 321\u001b[0;31m         \u001b[0mjava_model\u001b[0m \u001b[0;34m=\u001b[0m \u001b[0mself\u001b[0m\u001b[0;34m.\u001b[0m\u001b[0m_fit_java\u001b[0m\u001b[0;34m(\u001b[0m\u001b[0mdataset\u001b[0m\u001b[0;34m)\u001b[0m\u001b[0;34m\u001b[0m\u001b[0;34m\u001b[0m\u001b[0m\n\u001b[0m\u001b[1;32m    322\u001b[0m         \u001b[0mmodel\u001b[0m \u001b[0;34m=\u001b[0m \u001b[0mself\u001b[0m\u001b[0;34m.\u001b[0m\u001b[0m_create_model\u001b[0m\u001b[0;34m(\u001b[0m\u001b[0mjava_model\u001b[0m\u001b[0;34m)\u001b[0m\u001b[0;34m\u001b[0m\u001b[0;34m\u001b[0m\u001b[0m\n\u001b[1;32m    323\u001b[0m         \u001b[0;32mreturn\u001b[0m \u001b[0mself\u001b[0m\u001b[0;34m.\u001b[0m\u001b[0m_copyValues\u001b[0m\u001b[0;34m(\u001b[0m\u001b[0mmodel\u001b[0m\u001b[0;34m)\u001b[0m\u001b[0;34m\u001b[0m\u001b[0;34m\u001b[0m\u001b[0m\n",
            "\u001b[0;32m/content/spark-3.0.0-bin-hadoop3.2/python/pyspark/ml/wrapper.py\u001b[0m in \u001b[0;36m_fit_java\u001b[0;34m(self, dataset)\u001b[0m\n\u001b[1;32m    316\u001b[0m         \"\"\"\n\u001b[1;32m    317\u001b[0m         \u001b[0mself\u001b[0m\u001b[0;34m.\u001b[0m\u001b[0m_transfer_params_to_java\u001b[0m\u001b[0;34m(\u001b[0m\u001b[0;34m)\u001b[0m\u001b[0;34m\u001b[0m\u001b[0;34m\u001b[0m\u001b[0m\n\u001b[0;32m--> 318\u001b[0;31m         \u001b[0;32mreturn\u001b[0m \u001b[0mself\u001b[0m\u001b[0;34m.\u001b[0m\u001b[0m_java_obj\u001b[0m\u001b[0;34m.\u001b[0m\u001b[0mfit\u001b[0m\u001b[0;34m(\u001b[0m\u001b[0mdataset\u001b[0m\u001b[0;34m.\u001b[0m\u001b[0m_jdf\u001b[0m\u001b[0;34m)\u001b[0m\u001b[0;34m\u001b[0m\u001b[0;34m\u001b[0m\u001b[0m\n\u001b[0m\u001b[1;32m    319\u001b[0m \u001b[0;34m\u001b[0m\u001b[0m\n\u001b[1;32m    320\u001b[0m     \u001b[0;32mdef\u001b[0m \u001b[0m_fit\u001b[0m\u001b[0;34m(\u001b[0m\u001b[0mself\u001b[0m\u001b[0;34m,\u001b[0m \u001b[0mdataset\u001b[0m\u001b[0;34m)\u001b[0m\u001b[0;34m:\u001b[0m\u001b[0;34m\u001b[0m\u001b[0;34m\u001b[0m\u001b[0m\n",
            "\u001b[0;32m/content/spark-3.0.0-bin-hadoop3.2/python/lib/py4j-0.10.9-src.zip/py4j/java_gateway.py\u001b[0m in \u001b[0;36m__call__\u001b[0;34m(self, *args)\u001b[0m\n\u001b[1;32m   1303\u001b[0m         \u001b[0manswer\u001b[0m \u001b[0;34m=\u001b[0m \u001b[0mself\u001b[0m\u001b[0;34m.\u001b[0m\u001b[0mgateway_client\u001b[0m\u001b[0;34m.\u001b[0m\u001b[0msend_command\u001b[0m\u001b[0;34m(\u001b[0m\u001b[0mcommand\u001b[0m\u001b[0;34m)\u001b[0m\u001b[0;34m\u001b[0m\u001b[0;34m\u001b[0m\u001b[0m\n\u001b[1;32m   1304\u001b[0m         return_value = get_return_value(\n\u001b[0;32m-> 1305\u001b[0;31m             answer, self.gateway_client, self.target_id, self.name)\n\u001b[0m\u001b[1;32m   1306\u001b[0m \u001b[0;34m\u001b[0m\u001b[0m\n\u001b[1;32m   1307\u001b[0m         \u001b[0;32mfor\u001b[0m \u001b[0mtemp_arg\u001b[0m \u001b[0;32min\u001b[0m \u001b[0mtemp_args\u001b[0m\u001b[0;34m:\u001b[0m\u001b[0;34m\u001b[0m\u001b[0;34m\u001b[0m\u001b[0m\n",
            "\u001b[0;32m/content/spark-3.0.0-bin-hadoop3.2/python/pyspark/sql/utils.py\u001b[0m in \u001b[0;36mdeco\u001b[0;34m(*a, **kw)\u001b[0m\n\u001b[1;32m    135\u001b[0m                 \u001b[0;31m# Hide where the exception came from that shows a non-Pythonic\u001b[0m\u001b[0;34m\u001b[0m\u001b[0;34m\u001b[0m\u001b[0;34m\u001b[0m\u001b[0m\n\u001b[1;32m    136\u001b[0m                 \u001b[0;31m# JVM exception message.\u001b[0m\u001b[0;34m\u001b[0m\u001b[0;34m\u001b[0m\u001b[0;34m\u001b[0m\u001b[0m\n\u001b[0;32m--> 137\u001b[0;31m                 \u001b[0mraise_from\u001b[0m\u001b[0;34m(\u001b[0m\u001b[0mconverted\u001b[0m\u001b[0;34m)\u001b[0m\u001b[0;34m\u001b[0m\u001b[0;34m\u001b[0m\u001b[0m\n\u001b[0m\u001b[1;32m    138\u001b[0m             \u001b[0;32melse\u001b[0m\u001b[0;34m:\u001b[0m\u001b[0;34m\u001b[0m\u001b[0;34m\u001b[0m\u001b[0m\n\u001b[1;32m    139\u001b[0m                 \u001b[0;32mraise\u001b[0m\u001b[0;34m\u001b[0m\u001b[0;34m\u001b[0m\u001b[0m\n",
            "\u001b[0;32m/content/spark-3.0.0-bin-hadoop3.2/python/pyspark/sql/utils.py\u001b[0m in \u001b[0;36mraise_from\u001b[0;34m(e)\u001b[0m\n",
            "\u001b[0;31mIllegalArgumentException\u001b[0m: requirement failed: init value should <= bound"
          ]
        }
      ]
    },
    {
      "cell_type": "code",
      "metadata": {
        "id": "5w_Vev_6cImh"
      },
      "source": [
        "predictions = LR_model.transform(test_data)"
      ],
      "execution_count": null,
      "outputs": []
    },
    {
      "cell_type": "code",
      "metadata": {
        "id": "exDgwYrIcIpi"
      },
      "source": [
        "# inspect F1 and accuracy scores\n",
        "print('Logistic Regression F1 Score:',evaluator.evaluate(predictions,{evaluator.metricName: 'f1'}))\n",
        "print('Logistic Regression model Accuracy:',evaluator.evaluate(predictions,{evaluator.metricName: 'accuracy'}))"
      ],
      "execution_count": null,
      "outputs": []
    },
    {
      "cell_type": "code",
      "metadata": {
        "colab": {
          "base_uri": "https://localhost:8080/",
          "height": 1000
        },
        "id": "eCKim2gLNvL2",
        "outputId": "2751e6a5-ba89-446f-f013-8934ce65184c"
      },
      "source": [
        "from pyspark.ml.classification import GBTClassifier\n",
        "gbt = GBTClassifier(featuresCol='features', labelCol='labelIndex',maxIter=15)\n",
        "GBT_Model = gbt.fit(train_data)\n",
        "gbt_predictions = GBT_Model.transform(test_data)\n"
      ],
      "execution_count": null,
      "outputs": [
        {
          "output_type": "error",
          "ename": "Py4JJavaError",
          "evalue": "ignored",
          "traceback": [
            "\u001b[0;31m---------------------------------------------------------------------------\u001b[0m",
            "\u001b[0;31mPy4JJavaError\u001b[0m                             Traceback (most recent call last)",
            "\u001b[0;32m<ipython-input-38-11e4f0c2db34>\u001b[0m in \u001b[0;36m<module>\u001b[0;34m()\u001b[0m\n\u001b[1;32m      1\u001b[0m \u001b[0;32mfrom\u001b[0m \u001b[0mpyspark\u001b[0m\u001b[0;34m.\u001b[0m\u001b[0mml\u001b[0m\u001b[0;34m.\u001b[0m\u001b[0mclassification\u001b[0m \u001b[0;32mimport\u001b[0m \u001b[0mGBTClassifier\u001b[0m\u001b[0;34m\u001b[0m\u001b[0;34m\u001b[0m\u001b[0m\n\u001b[1;32m      2\u001b[0m \u001b[0mgbt\u001b[0m \u001b[0;34m=\u001b[0m \u001b[0mGBTClassifier\u001b[0m\u001b[0;34m(\u001b[0m\u001b[0mfeaturesCol\u001b[0m\u001b[0;34m=\u001b[0m\u001b[0;34m'features'\u001b[0m\u001b[0;34m,\u001b[0m \u001b[0mlabelCol\u001b[0m\u001b[0;34m=\u001b[0m\u001b[0;34m'labelIndex'\u001b[0m\u001b[0;34m,\u001b[0m\u001b[0mmaxIter\u001b[0m\u001b[0;34m=\u001b[0m\u001b[0;36m15\u001b[0m\u001b[0;34m)\u001b[0m\u001b[0;34m\u001b[0m\u001b[0;34m\u001b[0m\u001b[0m\n\u001b[0;32m----> 3\u001b[0;31m \u001b[0mGBT_Model\u001b[0m \u001b[0;34m=\u001b[0m \u001b[0mgbt\u001b[0m\u001b[0;34m.\u001b[0m\u001b[0mfit\u001b[0m\u001b[0;34m(\u001b[0m\u001b[0mtrain_data\u001b[0m\u001b[0;34m)\u001b[0m\u001b[0;34m\u001b[0m\u001b[0;34m\u001b[0m\u001b[0m\n\u001b[0m\u001b[1;32m      4\u001b[0m \u001b[0mgbt_predictions\u001b[0m \u001b[0;34m=\u001b[0m \u001b[0mGBT_Model\u001b[0m\u001b[0;34m.\u001b[0m\u001b[0mtransform\u001b[0m\u001b[0;34m(\u001b[0m\u001b[0mtest_data\u001b[0m\u001b[0;34m)\u001b[0m\u001b[0;34m\u001b[0m\u001b[0;34m\u001b[0m\u001b[0m\n",
            "\u001b[0;32m/content/spark-3.0.0-bin-hadoop3.2/python/pyspark/ml/base.py\u001b[0m in \u001b[0;36mfit\u001b[0;34m(self, dataset, params)\u001b[0m\n\u001b[1;32m    127\u001b[0m                 \u001b[0;32mreturn\u001b[0m \u001b[0mself\u001b[0m\u001b[0;34m.\u001b[0m\u001b[0mcopy\u001b[0m\u001b[0;34m(\u001b[0m\u001b[0mparams\u001b[0m\u001b[0;34m)\u001b[0m\u001b[0;34m.\u001b[0m\u001b[0m_fit\u001b[0m\u001b[0;34m(\u001b[0m\u001b[0mdataset\u001b[0m\u001b[0;34m)\u001b[0m\u001b[0;34m\u001b[0m\u001b[0;34m\u001b[0m\u001b[0m\n\u001b[1;32m    128\u001b[0m             \u001b[0;32melse\u001b[0m\u001b[0;34m:\u001b[0m\u001b[0;34m\u001b[0m\u001b[0;34m\u001b[0m\u001b[0m\n\u001b[0;32m--> 129\u001b[0;31m                 \u001b[0;32mreturn\u001b[0m \u001b[0mself\u001b[0m\u001b[0;34m.\u001b[0m\u001b[0m_fit\u001b[0m\u001b[0;34m(\u001b[0m\u001b[0mdataset\u001b[0m\u001b[0;34m)\u001b[0m\u001b[0;34m\u001b[0m\u001b[0;34m\u001b[0m\u001b[0m\n\u001b[0m\u001b[1;32m    130\u001b[0m         \u001b[0;32melse\u001b[0m\u001b[0;34m:\u001b[0m\u001b[0;34m\u001b[0m\u001b[0;34m\u001b[0m\u001b[0m\n\u001b[1;32m    131\u001b[0m             raise ValueError(\"Params must be either a param map or a list/tuple of param maps, \"\n",
            "\u001b[0;32m/content/spark-3.0.0-bin-hadoop3.2/python/pyspark/ml/wrapper.py\u001b[0m in \u001b[0;36m_fit\u001b[0;34m(self, dataset)\u001b[0m\n\u001b[1;32m    319\u001b[0m \u001b[0;34m\u001b[0m\u001b[0m\n\u001b[1;32m    320\u001b[0m     \u001b[0;32mdef\u001b[0m \u001b[0m_fit\u001b[0m\u001b[0;34m(\u001b[0m\u001b[0mself\u001b[0m\u001b[0;34m,\u001b[0m \u001b[0mdataset\u001b[0m\u001b[0;34m)\u001b[0m\u001b[0;34m:\u001b[0m\u001b[0;34m\u001b[0m\u001b[0;34m\u001b[0m\u001b[0m\n\u001b[0;32m--> 321\u001b[0;31m         \u001b[0mjava_model\u001b[0m \u001b[0;34m=\u001b[0m \u001b[0mself\u001b[0m\u001b[0;34m.\u001b[0m\u001b[0m_fit_java\u001b[0m\u001b[0;34m(\u001b[0m\u001b[0mdataset\u001b[0m\u001b[0;34m)\u001b[0m\u001b[0;34m\u001b[0m\u001b[0;34m\u001b[0m\u001b[0m\n\u001b[0m\u001b[1;32m    322\u001b[0m         \u001b[0mmodel\u001b[0m \u001b[0;34m=\u001b[0m \u001b[0mself\u001b[0m\u001b[0;34m.\u001b[0m\u001b[0m_create_model\u001b[0m\u001b[0;34m(\u001b[0m\u001b[0mjava_model\u001b[0m\u001b[0;34m)\u001b[0m\u001b[0;34m\u001b[0m\u001b[0;34m\u001b[0m\u001b[0m\n\u001b[1;32m    323\u001b[0m         \u001b[0;32mreturn\u001b[0m \u001b[0mself\u001b[0m\u001b[0;34m.\u001b[0m\u001b[0m_copyValues\u001b[0m\u001b[0;34m(\u001b[0m\u001b[0mmodel\u001b[0m\u001b[0;34m)\u001b[0m\u001b[0;34m\u001b[0m\u001b[0;34m\u001b[0m\u001b[0m\n",
            "\u001b[0;32m/content/spark-3.0.0-bin-hadoop3.2/python/pyspark/ml/wrapper.py\u001b[0m in \u001b[0;36m_fit_java\u001b[0;34m(self, dataset)\u001b[0m\n\u001b[1;32m    316\u001b[0m         \"\"\"\n\u001b[1;32m    317\u001b[0m         \u001b[0mself\u001b[0m\u001b[0;34m.\u001b[0m\u001b[0m_transfer_params_to_java\u001b[0m\u001b[0;34m(\u001b[0m\u001b[0;34m)\u001b[0m\u001b[0;34m\u001b[0m\u001b[0;34m\u001b[0m\u001b[0m\n\u001b[0;32m--> 318\u001b[0;31m         \u001b[0;32mreturn\u001b[0m \u001b[0mself\u001b[0m\u001b[0;34m.\u001b[0m\u001b[0m_java_obj\u001b[0m\u001b[0;34m.\u001b[0m\u001b[0mfit\u001b[0m\u001b[0;34m(\u001b[0m\u001b[0mdataset\u001b[0m\u001b[0;34m.\u001b[0m\u001b[0m_jdf\u001b[0m\u001b[0;34m)\u001b[0m\u001b[0;34m\u001b[0m\u001b[0;34m\u001b[0m\u001b[0m\n\u001b[0m\u001b[1;32m    319\u001b[0m \u001b[0;34m\u001b[0m\u001b[0m\n\u001b[1;32m    320\u001b[0m     \u001b[0;32mdef\u001b[0m \u001b[0m_fit\u001b[0m\u001b[0;34m(\u001b[0m\u001b[0mself\u001b[0m\u001b[0;34m,\u001b[0m \u001b[0mdataset\u001b[0m\u001b[0;34m)\u001b[0m\u001b[0;34m:\u001b[0m\u001b[0;34m\u001b[0m\u001b[0;34m\u001b[0m\u001b[0m\n",
            "\u001b[0;32m/content/spark-3.0.0-bin-hadoop3.2/python/lib/py4j-0.10.9-src.zip/py4j/java_gateway.py\u001b[0m in \u001b[0;36m__call__\u001b[0;34m(self, *args)\u001b[0m\n\u001b[1;32m   1303\u001b[0m         \u001b[0manswer\u001b[0m \u001b[0;34m=\u001b[0m \u001b[0mself\u001b[0m\u001b[0;34m.\u001b[0m\u001b[0mgateway_client\u001b[0m\u001b[0;34m.\u001b[0m\u001b[0msend_command\u001b[0m\u001b[0;34m(\u001b[0m\u001b[0mcommand\u001b[0m\u001b[0;34m)\u001b[0m\u001b[0;34m\u001b[0m\u001b[0;34m\u001b[0m\u001b[0m\n\u001b[1;32m   1304\u001b[0m         return_value = get_return_value(\n\u001b[0;32m-> 1305\u001b[0;31m             answer, self.gateway_client, self.target_id, self.name)\n\u001b[0m\u001b[1;32m   1306\u001b[0m \u001b[0;34m\u001b[0m\u001b[0m\n\u001b[1;32m   1307\u001b[0m         \u001b[0;32mfor\u001b[0m \u001b[0mtemp_arg\u001b[0m \u001b[0;32min\u001b[0m \u001b[0mtemp_args\u001b[0m\u001b[0;34m:\u001b[0m\u001b[0;34m\u001b[0m\u001b[0;34m\u001b[0m\u001b[0m\n",
            "\u001b[0;32m/content/spark-3.0.0-bin-hadoop3.2/python/pyspark/sql/utils.py\u001b[0m in \u001b[0;36mdeco\u001b[0;34m(*a, **kw)\u001b[0m\n\u001b[1;32m    129\u001b[0m     \u001b[0;32mdef\u001b[0m \u001b[0mdeco\u001b[0m\u001b[0;34m(\u001b[0m\u001b[0;34m*\u001b[0m\u001b[0ma\u001b[0m\u001b[0;34m,\u001b[0m \u001b[0;34m**\u001b[0m\u001b[0mkw\u001b[0m\u001b[0;34m)\u001b[0m\u001b[0;34m:\u001b[0m\u001b[0;34m\u001b[0m\u001b[0;34m\u001b[0m\u001b[0m\n\u001b[1;32m    130\u001b[0m         \u001b[0;32mtry\u001b[0m\u001b[0;34m:\u001b[0m\u001b[0;34m\u001b[0m\u001b[0;34m\u001b[0m\u001b[0m\n\u001b[0;32m--> 131\u001b[0;31m             \u001b[0;32mreturn\u001b[0m \u001b[0mf\u001b[0m\u001b[0;34m(\u001b[0m\u001b[0;34m*\u001b[0m\u001b[0ma\u001b[0m\u001b[0;34m,\u001b[0m \u001b[0;34m**\u001b[0m\u001b[0mkw\u001b[0m\u001b[0;34m)\u001b[0m\u001b[0;34m\u001b[0m\u001b[0;34m\u001b[0m\u001b[0m\n\u001b[0m\u001b[1;32m    132\u001b[0m         \u001b[0;32mexcept\u001b[0m \u001b[0mpy4j\u001b[0m\u001b[0;34m.\u001b[0m\u001b[0mprotocol\u001b[0m\u001b[0;34m.\u001b[0m\u001b[0mPy4JJavaError\u001b[0m \u001b[0;32mas\u001b[0m \u001b[0me\u001b[0m\u001b[0;34m:\u001b[0m\u001b[0;34m\u001b[0m\u001b[0;34m\u001b[0m\u001b[0m\n\u001b[1;32m    133\u001b[0m             \u001b[0mconverted\u001b[0m \u001b[0;34m=\u001b[0m \u001b[0mconvert_exception\u001b[0m\u001b[0;34m(\u001b[0m\u001b[0me\u001b[0m\u001b[0;34m.\u001b[0m\u001b[0mjava_exception\u001b[0m\u001b[0;34m)\u001b[0m\u001b[0;34m\u001b[0m\u001b[0;34m\u001b[0m\u001b[0m\n",
            "\u001b[0;32m/content/spark-3.0.0-bin-hadoop3.2/python/lib/py4j-0.10.9-src.zip/py4j/protocol.py\u001b[0m in \u001b[0;36mget_return_value\u001b[0;34m(answer, gateway_client, target_id, name)\u001b[0m\n\u001b[1;32m    326\u001b[0m                 raise Py4JJavaError(\n\u001b[1;32m    327\u001b[0m                     \u001b[0;34m\"An error occurred while calling {0}{1}{2}.\\n\"\u001b[0m\u001b[0;34m.\u001b[0m\u001b[0;34m\u001b[0m\u001b[0;34m\u001b[0m\u001b[0m\n\u001b[0;32m--> 328\u001b[0;31m                     format(target_id, \".\", name), value)\n\u001b[0m\u001b[1;32m    329\u001b[0m             \u001b[0;32melse\u001b[0m\u001b[0;34m:\u001b[0m\u001b[0;34m\u001b[0m\u001b[0;34m\u001b[0m\u001b[0m\n\u001b[1;32m    330\u001b[0m                 raise Py4JError(\n",
            "\u001b[0;31mPy4JJavaError\u001b[0m: An error occurred while calling o1115.fit.\n: org.apache.spark.SparkException: Job aborted due to stage failure: Task 0 in stage 84.0 failed 1 times, most recent failure: Lost task 0.0 in stage 84.0 (TID 1319, 0e5e46bd1953, executor driver): java.lang.IllegalArgumentException: requirement failed: GBTClassifier was given dataset with invalid label 3.0.  Labels must be in {0,1}; note that GBTClassifier currently only supports binary classification.\n\tat scala.Predef$.require(Predef.scala:281)\n\tat org.apache.spark.ml.classification.GBTClassifier.$anonfun$train$2(GBTClassifier.scala:177)\n\tat org.apache.spark.ml.classification.GBTClassifier.$anonfun$train$2$adapted(GBTClassifier.scala:174)\n\tat org.apache.spark.ml.PredictorParams.$anonfun$extractInstances$2(Predictor.scala:95)\n\tat scala.collection.Iterator$$anon$10.next(Iterator.scala:459)\n\tat scala.collection.Iterator$$anon$10.next(Iterator.scala:459)\n\tat scala.collection.Iterator.foreach(Iterator.scala:941)\n\tat scala.collection.Iterator.foreach$(Iterator.scala:941)\n\tat scala.collection.AbstractIterator.foreach(Iterator.scala:1429)\n\tat scala.collection.TraversableOnce.foldLeft(TraversableOnce.scala:162)\n\tat scala.collection.TraversableOnce.foldLeft$(TraversableOnce.scala:160)\n\tat scala.collection.AbstractIterator.foldLeft(Iterator.scala:1429)\n\tat scala.collection.TraversableOnce.aggregate(TraversableOnce.scala:219)\n\tat scala.collection.TraversableOnce.aggregate$(TraversableOnce.scala:219)\n\tat scala.collection.AbstractIterator.aggregate(Iterator.scala:1429)\n\tat org.apache.spark.rdd.RDD.$anonfun$aggregate$2(RDD.scala:1181)\n\tat org.apache.spark.SparkContext.$anonfun$runJob$6(SparkContext.scala:2187)\n\tat org.apache.spark.scheduler.ResultTask.runTask(ResultTask.scala:90)\n\tat org.apache.spark.scheduler.Task.run(Task.scala:127)\n\tat org.apache.spark.executor.Executor$TaskRunner.$anonfun$run$3(Executor.scala:444)\n\tat org.apache.spark.util.Utils$.tryWithSafeFinally(Utils.scala:1377)\n\tat org.apache.spark.executor.Executor$TaskRunner.run(Executor.scala:447)\n\tat java.util.concurrent.ThreadPoolExecutor.runWorker(ThreadPoolExecutor.java:1149)\n\tat java.util.concurrent.ThreadPoolExecutor$Worker.run(ThreadPoolExecutor.java:624)\n\tat java.lang.Thread.run(Thread.java:748)\n\nDriver stacktrace:\n\tat org.apache.spark.scheduler.DAGScheduler.failJobAndIndependentStages(DAGScheduler.scala:2023)\n\tat org.apache.spark.scheduler.DAGScheduler.$anonfun$abortStage$2(DAGScheduler.scala:1972)\n\tat org.apache.spark.scheduler.DAGScheduler.$anonfun$abortStage$2$adapted(DAGScheduler.scala:1971)\n\tat scala.collection.mutable.ResizableArray.foreach(ResizableArray.scala:62)\n\tat scala.collection.mutable.ResizableArray.foreach$(ResizableArray.scala:55)\n\tat scala.collection.mutable.ArrayBuffer.foreach(ArrayBuffer.scala:49)\n\tat org.apache.spark.scheduler.DAGScheduler.abortStage(DAGScheduler.scala:1971)\n\tat org.apache.spark.scheduler.DAGScheduler.$anonfun$handleTaskSetFailed$1(DAGScheduler.scala:950)\n\tat org.apache.spark.scheduler.DAGScheduler.$anonfun$handleTaskSetFailed$1$adapted(DAGScheduler.scala:950)\n\tat scala.Option.foreach(Option.scala:407)\n\tat org.apache.spark.scheduler.DAGScheduler.handleTaskSetFailed(DAGScheduler.scala:950)\n\tat org.apache.spark.scheduler.DAGSchedulerEventProcessLoop.doOnReceive(DAGScheduler.scala:2203)\n\tat org.apache.spark.scheduler.DAGSchedulerEventProcessLoop.onReceive(DAGScheduler.scala:2152)\n\tat org.apache.spark.scheduler.DAGSchedulerEventProcessLoop.onReceive(DAGScheduler.scala:2141)\n\tat org.apache.spark.util.EventLoop$$anon$1.run(EventLoop.scala:49)\n\tat org.apache.spark.scheduler.DAGScheduler.runJob(DAGScheduler.scala:752)\n\tat org.apache.spark.SparkContext.runJob(SparkContext.scala:2093)\n\tat org.apache.spark.SparkContext.runJob(SparkContext.scala:2188)\n\tat org.apache.spark.rdd.RDD.$anonfun$aggregate$1(RDD.scala:1183)\n\tat org.apache.spark.rdd.RDDOperationScope$.withScope(RDDOperationScope.scala:151)\n\tat org.apache.spark.rdd.RDDOperationScope$.withScope(RDDOperationScope.scala:112)\n\tat org.apache.spark.rdd.RDD.withScope(RDD.scala:388)\n\tat org.apache.spark.rdd.RDD.aggregate(RDD.scala:1176)\n\tat org.apache.spark.ml.tree.impl.DecisionTreeMetadata$.buildMetadata(DecisionTreeMetadata.scala:125)\n\tat org.apache.spark.ml.tree.impl.GradientBoostedTrees$.boost(GradientBoostedTrees.scala:333)\n\tat org.apache.spark.ml.tree.impl.GradientBoostedTrees$.run(GradientBoostedTrees.scala:61)\n\tat org.apache.spark.ml.classification.GBTClassifier.$anonfun$train$1(GBTClassifier.scala:210)\n\tat org.apache.spark.ml.util.Instrumentation$.$anonfun$instrumented$1(Instrumentation.scala:191)\n\tat scala.util.Try$.apply(Try.scala:213)\n\tat org.apache.spark.ml.util.Instrumentation$.instrumented(Instrumentation.scala:191)\n\tat org.apache.spark.ml.classification.GBTClassifier.train(GBTClassifier.scala:171)\n\tat org.apache.spark.ml.classification.GBTClassifier.train(GBTClassifier.scala:59)\n\tat org.apache.spark.ml.Predictor.fit(Predictor.scala:150)\n\tat org.apache.spark.ml.Predictor.fit(Predictor.scala:114)\n\tat sun.reflect.NativeMethodAccessorImpl.invoke0(Native Method)\n\tat sun.reflect.NativeMethodAccessorImpl.invoke(NativeMethodAccessorImpl.java:62)\n\tat sun.reflect.DelegatingMethodAccessorImpl.invoke(DelegatingMethodAccessorImpl.java:43)\n\tat java.lang.reflect.Method.invoke(Method.java:498)\n\tat py4j.reflection.MethodInvoker.invoke(MethodInvoker.java:244)\n\tat py4j.reflection.ReflectionEngine.invoke(ReflectionEngine.java:357)\n\tat py4j.Gateway.invoke(Gateway.java:282)\n\tat py4j.commands.AbstractCommand.invokeMethod(AbstractCommand.java:132)\n\tat py4j.commands.CallCommand.execute(CallCommand.java:79)\n\tat py4j.GatewayConnection.run(GatewayConnection.java:238)\n\tat java.lang.Thread.run(Thread.java:748)\nCaused by: java.lang.IllegalArgumentException: requirement failed: GBTClassifier was given dataset with invalid label 3.0.  Labels must be in {0,1}; note that GBTClassifier currently only supports binary classification.\n\tat scala.Predef$.require(Predef.scala:281)\n\tat org.apache.spark.ml.classification.GBTClassifier.$anonfun$train$2(GBTClassifier.scala:177)\n\tat org.apache.spark.ml.classification.GBTClassifier.$anonfun$train$2$adapted(GBTClassifier.scala:174)\n\tat org.apache.spark.ml.PredictorParams.$anonfun$extractInstances$2(Predictor.scala:95)\n\tat scala.collection.Iterator$$anon$10.next(Iterator.scala:459)\n\tat scala.collection.Iterator$$anon$10.next(Iterator.scala:459)\n\tat scala.collection.Iterator.foreach(Iterator.scala:941)\n\tat scala.collection.Iterator.foreach$(Iterator.scala:941)\n\tat scala.collection.AbstractIterator.foreach(Iterator.scala:1429)\n\tat scala.collection.TraversableOnce.foldLeft(TraversableOnce.scala:162)\n\tat scala.collection.TraversableOnce.foldLeft$(TraversableOnce.scala:160)\n\tat scala.collection.AbstractIterator.foldLeft(Iterator.scala:1429)\n\tat scala.collection.TraversableOnce.aggregate(TraversableOnce.scala:219)\n\tat scala.collection.TraversableOnce.aggregate$(TraversableOnce.scala:219)\n\tat scala.collection.AbstractIterator.aggregate(Iterator.scala:1429)\n\tat org.apache.spark.rdd.RDD.$anonfun$aggregate$2(RDD.scala:1181)\n\tat org.apache.spark.SparkContext.$anonfun$runJob$6(SparkContext.scala:2187)\n\tat org.apache.spark.scheduler.ResultTask.runTask(ResultTask.scala:90)\n\tat org.apache.spark.scheduler.Task.run(Task.scala:127)\n\tat org.apache.spark.executor.Executor$TaskRunner.$anonfun$run$3(Executor.scala:444)\n\tat org.apache.spark.util.Utils$.tryWithSafeFinally(Utils.scala:1377)\n\tat org.apache.spark.executor.Executor$TaskRunner.run(Executor.scala:447)\n\tat java.util.concurrent.ThreadPoolExecutor.runWorker(ThreadPoolExecutor.java:1149)\n\tat java.util.concurrent.ThreadPoolExecutor$Worker.run(ThreadPoolExecutor.java:624)\n\t... 1 more\n"
          ]
        }
      ]
    },
    {
      "cell_type": "code",
      "metadata": {
        "id": "6PBp5rPJjWVS"
      },
      "source": [
        ""
      ],
      "execution_count": null,
      "outputs": []
    },
    {
      "cell_type": "code",
      "metadata": {
        "id": "WBqvct9VjWqd"
      },
      "source": [
        ""
      ],
      "execution_count": null,
      "outputs": []
    },
    {
      "cell_type": "code",
      "metadata": {
        "id": "cVSwWYozJVjB"
      },
      "source": [
        ""
      ],
      "execution_count": null,
      "outputs": []
    },
    {
      "cell_type": "code",
      "metadata": {
        "id": "hkXH9Ap_Y9Sx"
      },
      "source": [
        "from pyspark.ml.feature import StringIndexer\n",
        "l_indexer = StringIndexer(inputCol=\"Label\", outputCol=\"labelIndex\")\n",
        "newdf = l_indexer.fit(bddata).transform(bddata)\n",
        "newdf.show(4)"
      ],
      "execution_count": null,
      "outputs": []
    },
    {
      "cell_type": "code",
      "metadata": {
        "id": "sn84Dmm6ZRaQ"
      },
      "source": [
        "newdf=newdf.drop('Label')\n",
        "\n",
        "newdf.show(4)"
      ],
      "execution_count": null,
      "outputs": []
    },
    {
      "cell_type": "code",
      "metadata": {
        "id": "4JtM7myFaJSi"
      },
      "source": [
        "newdf.dtypes"
      ],
      "execution_count": null,
      "outputs": []
    },
    {
      "cell_type": "code",
      "metadata": {
        "id": "99s8o3yoaJVb"
      },
      "source": [
        "num_cols_NewDF = [item[0] for item in newdf.dtypes if item[1].startswith('int') | item[1].startswith('double')][1:]\n",
        "\n",
        "print(str(len(num_cols_NewDF)) + '  numerical features')"
      ],
      "execution_count": null,
      "outputs": []
    },
    {
      "cell_type": "code",
      "metadata": {
        "id": "WoK-hQm5ZRdq"
      },
      "source": [
        "import six\n",
        "\n",
        "for i in newdf.select(num_cols_NewDF).columns:\n",
        "    if not( isinstance(newdf.select(i).take(1)[0][0], six.string_types)):\n",
        "        print( \"Correlation to Label for \", i, newdf.stat.corr('labelIndex',i))"
      ],
      "execution_count": null,
      "outputs": []
    },
    {
      "cell_type": "code",
      "metadata": {
        "id": "ly9EfL82iJVS"
      },
      "source": [
        "train, test = newdf.randomSplit([0.7, 0.3], seed = 2018)\n",
        "print(\"Training Dataset Count: \" + str(train.count()))\n",
        "print(\"Test Dataset Count: \" + str(test.count()))"
      ],
      "execution_count": null,
      "outputs": []
    },
    {
      "cell_type": "code",
      "metadata": {
        "id": "e7B6KI-si-z8"
      },
      "source": [
        "from pyspark.ml.feature import VectorAssembler\n",
        "vectorAssembler = VectorAssembler(inputCols = ['Dst Port', 'Protocol', 'Flow Duration', 'Tot Fwd Pkts', 'Tot Bwd Pkts', 'TotLen Fwd Pkts', 'TotLen Bwd Pkts', 'Fwd Pkt Len Max', 'Fwd Pkt Len Min', 'Fwd Pkt Len Mean', 'Fwd Pkt Len Std', 'Bwd Pkt Len Max', 'Bwd Pkt Len Min', 'Bwd Pkt Len Mean', 'Bwd Pkt Len Std', 'Flow Byts/s', 'Flow Pkts/s', 'Flow IAT Mean', 'Flow IAT Std', 'Flow IAT Max', 'Flow IAT Min', 'Fwd IAT Tot', 'Fwd IAT Mean', 'Fwd IAT Std', 'Fwd IAT Max', 'Fwd IAT Min', 'Bwd IAT Tot', 'Bwd IAT Mean', 'Bwd IAT Std', 'Bwd IAT Max', 'Bwd IAT Min', 'Fwd PSH Flags', 'Bwd PSH Flags', 'Fwd URG Flags', 'Bwd URG Flags', 'Fwd Header Len', 'Bwd Header Len', 'Fwd Pkts/s', 'Bwd Pkts/s', 'Pkt Len Min', 'Pkt Len Max', 'Pkt Len Mean', 'Pkt Len Std', 'Pkt Len Var', 'FIN Flag Cnt', 'SYN Flag Cnt', 'RST Flag Cnt', 'PSH Flag Cnt', 'ACK Flag Cnt', 'URG Flag Cnt', 'CWE Flag Count', 'ECE Flag Cnt', 'Down/Up Ratio', 'Pkt Size Avg', 'Fwd Seg Size Avg', 'Bwd Seg Size Avg', 'Fwd Byts/b Avg', 'Fwd Pkts/b Avg', 'Fwd Blk Rate Avg', 'Bwd Byts/b Avg', 'Bwd Pkts/b Avg', 'Bwd Blk Rate Avg', 'Subflow Fwd Pkts', 'Subflow Fwd Byts', 'Subflow Bwd Pkts', 'Subflow Bwd Byts', 'Init Fwd Win Byts', 'Init Bwd Win Byts', 'Fwd Act Data Pkts', 'Fwd Seg Size Min', 'Active Mean', 'Active Std', 'Active Max', 'Active Min', 'Idle Mean', 'Idle Std', 'Idle Max', 'Idle Min'], outputCol = 'features')\n",
        "vdf = vectorAssembler.transform(newdf)\n",
        "vdf = vdf.select(['features', 'labelIndex'])\n",
        "vdf.show(4)"
      ],
      "execution_count": null,
      "outputs": []
    },
    {
      "cell_type": "code",
      "metadata": {
        "id": "2Q_T89S0jO21"
      },
      "source": [
        "trainingset, testingset = vdf.randomSplit([0.7, 0.3], seed = 2018)"
      ],
      "execution_count": null,
      "outputs": []
    },
    {
      "cell_type": "code",
      "metadata": {
        "id": "jJgp0Rt4iJYZ"
      },
      "source": [
        "(trainingData, testData) = vdf.randomSplit([0.7, 0.3])\n",
        "from pyspark.ml.classification import DecisionTreeClassifier\n",
        "from pyspark.ml.evaluation import MulticlassClassificationEvaluator\n",
        "dt = DecisionTreeClassifier(labelCol=\"labelIndex\", featuresCol=\"features\")\n",
        "model = dt.fit(trainingData)"
      ],
      "execution_count": null,
      "outputs": []
    },
    {
      "cell_type": "code",
      "metadata": {
        "id": "r53gWQzQaJZE"
      },
      "source": [
        "from pyspark.ml.feature import VectorAssembler"
      ],
      "execution_count": null,
      "outputs": []
    },
    {
      "cell_type": "code",
      "metadata": {
        "id": "iS_zOH00kmqi"
      },
      "source": [
        "STOP HERE"
      ],
      "execution_count": null,
      "outputs": []
    },
    {
      "cell_type": "code",
      "metadata": {
        "id": "rwBfDDa1aJcF"
      },
      "source": [
        "assemblerInputs = num_cols\n",
        "assembler = VectorAssembler(inputCols=assemblerInputs, outputCol=\"features\")\n",
        "stages += [assembler]"
      ],
      "execution_count": null,
      "outputs": []
    },
    {
      "cell_type": "code",
      "metadata": {
        "id": "UzM2fBIEaJfc"
      },
      "source": [
        "from pyspark.ml import Pipeline\n",
        "pipeline = Pipeline(stages = stages)\n",
        "pipelineModel = pipeline.fit(newdf)\n",
        "df = pipelineModel.transform(newdf)\n",
        "cols = newdf.columns\n",
        "selectedCols = ['label', 'features'] + cols\n",
        "df = df.select(selectedCols)\n",
        "df.printSchema()"
      ],
      "execution_count": null,
      "outputs": []
    },
    {
      "cell_type": "code",
      "metadata": {
        "id": "Ndfe6RB4aJik"
      },
      "source": [
        ""
      ],
      "execution_count": null,
      "outputs": []
    },
    {
      "cell_type": "code",
      "metadata": {
        "id": "dWCrizHHaJmE"
      },
      "source": [
        ""
      ],
      "execution_count": null,
      "outputs": []
    },
    {
      "cell_type": "code",
      "metadata": {
        "id": "TTNnTxVcZRiP"
      },
      "source": [
        ""
      ],
      "execution_count": null,
      "outputs": []
    },
    {
      "cell_type": "code",
      "metadata": {
        "id": "o1QOHf8pZRlV"
      },
      "source": [
        ""
      ],
      "execution_count": null,
      "outputs": []
    },
    {
      "cell_type": "code",
      "metadata": {
        "id": "S2QmI9bEZRpv"
      },
      "source": [
        ""
      ],
      "execution_count": null,
      "outputs": []
    },
    {
      "cell_type": "code",
      "metadata": {
        "id": "EAwhfWjiMX4w"
      },
      "source": [
        "# we use the OneHotEncoderEstimator from MLlib in spark to convert #aech v=categorical feature into one-hot vectors\n",
        "# next, we use VectorAssembler to combine the resulted one-hot ector #and the rest of numerical features into a \n",
        "# single vector column. we append every step of the process in a #stages array\n",
        "from pyspark.ml.feature import OneHotEncoder, StringIndexer, VectorAssembler\n",
        "stages = []\n",
        "for categoricalCol in cat_cols:\n",
        "    stringIndexer = StringIndexer(inputCol = categoricalCol, outputCol = categoricalCol + 'Index')\n",
        "    encoder = OneHotEncoder(inputCols=[stringIndexer.getOutputCol()], outputCols=[categoricalCol + \"classVec\"])\n",
        "    stages += [stringIndexer, encoder]\n",
        "    \n",
        "assemblerInputs = [c + \"classVec\" for c in cat_cols] + num_cols\n",
        "assembler = VectorAssembler(inputCols=assemblerInputs, outputCol=\"features\")\n",
        "stages += [assembler]\n"
      ],
      "execution_count": null,
      "outputs": []
    },
    {
      "cell_type": "code",
      "metadata": {
        "id": "tn99i6WKMX7u"
      },
      "source": [
        "from pyspark.ml import Pipeline\n",
        "cols = data.columns\n",
        "pipeline = Pipeline(stages = stages)\n",
        "pipelineModel = pipeline.fit(data)\n",
        "new_df = pipelineModel.transform(data)"
      ],
      "execution_count": null,
      "outputs": []
    },
    {
      "cell_type": "code",
      "metadata": {
        "id": "kx4_H7IIMX_8"
      },
      "source": [
        "selectedCols = ['features']+cols\n",
        "new_df = new_df.select(selectedCols)"
      ],
      "execution_count": null,
      "outputs": []
    },
    {
      "cell_type": "code",
      "metadata": {
        "id": "HOTDP6K-MYCe"
      },
      "source": [
        "# New dataset after feature engineering:\n",
        "\n",
        "import pandas as pd\n",
        "pd.DataFrame(new_df.take(2), columns=new_df.columns)"
      ],
      "execution_count": null,
      "outputs": []
    },
    {
      "cell_type": "code",
      "metadata": {
        "id": "ShI5UctHNZV3"
      },
      "source": [
        "data.groupby('Label').count().toPandas()"
      ],
      "execution_count": null,
      "outputs": []
    },
    {
      "cell_type": "code",
      "metadata": {
        "id": "Fb4w2qY-NZYt"
      },
      "source": [
        "\n",
        "data.printSchema()"
      ],
      "execution_count": null,
      "outputs": []
    },
    {
      "cell_type": "code",
      "metadata": {
        "id": "nTFBAASVNmhu"
      },
      "source": [
        "\n",
        "data.dtypes"
      ],
      "execution_count": null,
      "outputs": []
    },
    {
      "cell_type": "code",
      "metadata": {
        "id": "vYAdZdOdN7Xu"
      },
      "source": [
        ""
      ],
      "execution_count": null,
      "outputs": []
    },
    {
      "cell_type": "code",
      "metadata": {
        "id": "C_u_uQq2NZdV"
      },
      "source": [
        "# split the data into trainign and testin sets\n",
        "train, test = new_df.randomSplit([0.80, 0.20], seed = 43)\n",
        "#print(train.count())\n",
        "#print(test.count())\n",
        "\n",
        "# first we check how LogisticRegression perform \n",
        "from pyspark.ml.classification import LogisticRegression\n",
        "LR = LogisticRegression(featuresCol = 'features', labelCol = 'Label', maxIter=15)\n",
        "LR_model = LR.fit(train)"
      ],
      "execution_count": null,
      "outputs": []
    },
    {
      "cell_type": "code",
      "metadata": {
        "id": "KfQTXiEGNZsM"
      },
      "source": [
        "data.columns"
      ],
      "execution_count": null,
      "outputs": []
    },
    {
      "cell_type": "code",
      "metadata": {
        "id": "GmWODjjcNZpD"
      },
      "source": [
        "from pyspark.ml.feature import VectorAssembler\n",
        "vectorAssembler = VectorAssembler(inputCols = ['Dst Port', 'Protocol', 'Flow Duration', 'Tot Fwd Pkts', 'Tot Bwd Pkts', 'TotLen Fwd Pkts', 'TotLen Bwd Pkts', 'Fwd Pkt Len Max', 'Fwd Pkt Len Min', 'Fwd Pkt Len Mean', 'Fwd Pkt Len Std', 'Bwd Pkt Len Max', 'Bwd Pkt Len Min', 'Bwd Pkt Len Mean', 'Bwd Pkt Len Std', 'Flow Byts/s', 'Flow Pkts/s', 'Flow IAT Mean', 'Flow IAT Std', 'Flow IAT Max', 'Flow IAT Min', 'Fwd IAT Tot', 'Fwd IAT Mean', 'Fwd IAT Std', 'Fwd IAT Max', 'Fwd IAT Min', 'Bwd IAT Tot', 'Bwd IAT Mean', 'Bwd IAT Std', 'Bwd IAT Max', 'Bwd IAT Min', 'Fwd PSH Flags', 'Bwd PSH Flags', 'Fwd URG Flags', 'Bwd URG Flags', 'Fwd Header Len', 'Bwd Header Len', 'Fwd Pkts/s', 'Bwd Pkts/s', 'Pkt Len Min', 'Pkt Len Max', 'Pkt Len Mean', 'Pkt Len Std', 'Pkt Len Var', 'FIN Flag Cnt', 'SYN Flag Cnt', 'RST Flag Cnt', 'PSH Flag Cnt', 'ACK Flag Cnt', 'URG Flag Cnt', 'CWE Flag Count', 'ECE Flag Cnt', 'Down/Up Ratio', 'Pkt Size Avg', 'Fwd Seg Size Avg', 'Bwd Seg Size Avg', 'Fwd Byts/b Avg', 'Fwd Pkts/b Avg', 'Fwd Blk Rate Avg', 'Bwd Byts/b Avg', 'Bwd Pkts/b Avg', 'Bwd Blk Rate Avg', 'Subflow Fwd Pkts', 'Subflow Fwd Byts', 'Subflow Bwd Pkts', 'Subflow Bwd Byts', 'Init Fwd Win Byts', 'Init Bwd Win Byts', 'Fwd Act Data Pkts', 'Fwd Seg Size Min', 'Active Mean', 'Active Std', 'Active Max', 'Active Min', 'Idle Mean', 'Idle Std', 'Idle Max', 'Idle Min'], outputCol = 'features')\n",
        "vdf = vectorAssembler.transform(data)\n",
        "vdf = vdf.select(['features', 'Label'])\n",
        "vdf.show(4)\n",
        "from pyspark.ml.feature import StringIndexer\n",
        "l_indexer = StringIndexer(inputCol=\"Label\", outputCol=\"labelIndex\")\n",
        "vdf = l_indexer.fit(vdf).transform(vdf)\n",
        "vdf.show(4)\n",
        "#vdf.agg(countDistinct(col(\"labelIndex\")).alias(\"count\")).show()\n"
      ],
      "execution_count": null,
      "outputs": []
    },
    {
      "cell_type": "code",
      "metadata": {
        "id": "-eKZEphZTZUa"
      },
      "source": [
        "vdf.groupBy(\"labelIndex\").count().show()"
      ],
      "execution_count": null,
      "outputs": []
    },
    {
      "cell_type": "code",
      "metadata": {
        "id": "dYS9jaw5NZv7"
      },
      "source": [
        "vdf.dtypes"
      ],
      "execution_count": null,
      "outputs": []
    },
    {
      "cell_type": "code",
      "metadata": {
        "id": "dxR8D-LvTneQ"
      },
      "source": [
        "vdf= vdf.drop('Label')"
      ],
      "execution_count": null,
      "outputs": []
    },
    {
      "cell_type": "code",
      "metadata": {
        "id": "owel2XWUTngz"
      },
      "source": [
        "vdf.dtypes"
      ],
      "execution_count": null,
      "outputs": []
    },
    {
      "cell_type": "code",
      "metadata": {
        "id": "RKq8dzPfUh8e"
      },
      "source": [
        "vdf.show(4)"
      ],
      "execution_count": null,
      "outputs": []
    },
    {
      "cell_type": "code",
      "metadata": {
        "id": "OwhqlJpPTnkl"
      },
      "source": [
        "(trainingData, testData) = vdf.randomSplit([0.7, 0.25])"
      ],
      "execution_count": null,
      "outputs": []
    },
    {
      "cell_type": "code",
      "metadata": {
        "id": "OHOvhgMTTnm8"
      },
      "source": [
        "# first we check how LogisticRegression perform \n",
        "from pyspark.ml.classification import LogisticRegression\n",
        "LR = LogisticRegression(featuresCol = 'features', labelCol = 'labelIndex', maxIter=15)\n",
        "LR_model = LR.fit(trainingData)"
      ],
      "execution_count": null,
      "outputs": []
    },
    {
      "cell_type": "code",
      "metadata": {
        "id": "UExMQybNTn7T"
      },
      "source": [
        ""
      ],
      "execution_count": null,
      "outputs": []
    },
    {
      "cell_type": "code",
      "metadata": {
        "id": "vZy1GkJTMYG0"
      },
      "source": [
        "from pyspark.sql.functions import col, countDistinct\n",
        "\n",
        "vdf.agg(countDistinct(col(\"labelIndex\")).alias(\"count\")).show()\n",
        "vdf.groupBy(\"labelIndex\").count().show()"
      ],
      "execution_count": null,
      "outputs": []
    },
    {
      "cell_type": "code",
      "metadata": {
        "id": "hhZWbHgr42pa"
      },
      "source": [
        ""
      ],
      "execution_count": null,
      "outputs": []
    },
    {
      "cell_type": "code",
      "metadata": {
        "id": "c15w61PX42sW"
      },
      "source": [
        ""
      ],
      "execution_count": null,
      "outputs": []
    },
    {
      "cell_type": "markdown",
      "metadata": {
        "id": "qmMmz6D868py"
      },
      "source": [
        "# **iris data set practise for NaiveBayes model**"
      ]
    },
    {
      "cell_type": "code",
      "metadata": {
        "id": "1r_KP7Uz42wc"
      },
      "source": [
        ""
      ],
      "execution_count": null,
      "outputs": []
    },
    {
      "cell_type": "code",
      "metadata": {
        "id": "vWUSoHmz42yr"
      },
      "source": [
        "df = spark.read.csv(\"/content/iris.data\", inferSchema=True)\\\n",
        ".toDF(\"sep_len\", \"sep_wid\", \"pet_len\", \"pet_wid\", \"label\")"
      ],
      "execution_count": null,
      "outputs": []
    },
    {
      "cell_type": "code",
      "metadata": {
        "colab": {
          "base_uri": "https://localhost:8080/"
        },
        "id": "uIvp1BDV6du-",
        "outputId": "531bd6e1-609d-4cd6-d1d5-414d7080f69c"
      },
      "source": [
        "type(df)"
      ],
      "execution_count": null,
      "outputs": [
        {
          "output_type": "execute_result",
          "data": {
            "text/plain": [
              "pyspark.sql.dataframe.DataFrame"
            ]
          },
          "metadata": {},
          "execution_count": 75
        }
      ]
    },
    {
      "cell_type": "code",
      "metadata": {
        "colab": {
          "base_uri": "https://localhost:8080/"
        },
        "id": "VrEO_2Ni425K",
        "outputId": "d332b754-32d7-4f0d-a606-7a60af30b734"
      },
      "source": [
        "df.show(2)"
      ],
      "execution_count": null,
      "outputs": [
        {
          "output_type": "stream",
          "name": "stdout",
          "text": [
            "+-------+-------+-------+-------+-----------+\n",
            "|sep_len|sep_wid|pet_len|pet_wid|      label|\n",
            "+-------+-------+-------+-------+-----------+\n",
            "|    5.1|    3.5|    1.4|    0.2|Iris-setosa|\n",
            "|    4.9|    3.0|    1.4|    0.2|Iris-setosa|\n",
            "+-------+-------+-------+-------+-----------+\n",
            "only showing top 2 rows\n",
            "\n"
          ]
        }
      ]
    },
    {
      "cell_type": "code",
      "metadata": {
        "id": "iq4dasGK5NHe"
      },
      "source": [
        "from pyspark.ml.linalg import Vectors\n",
        "from pyspark.ml.feature import VectorAssembler"
      ],
      "execution_count": null,
      "outputs": []
    },
    {
      "cell_type": "code",
      "metadata": {
        "colab": {
          "base_uri": "https://localhost:8080/"
        },
        "id": "mIPa9zAQ5NKB",
        "outputId": "05654dc5-19f6-4820-df62-538b75b9a5b8"
      },
      "source": [
        "vector_assembler = VectorAssembler(\\\n",
        "inputCols=[\"sep_len\", \"sep_wid\", \"pet_len\", \"pet_wid\"],\\\n",
        "outputCol=\"features\")\n",
        "df_temp = vector_assembler.transform(df)\n",
        "df_temp.show(3)"
      ],
      "execution_count": null,
      "outputs": [
        {
          "output_type": "stream",
          "name": "stdout",
          "text": [
            "+-------+-------+-------+-------+-----------+-----------------+\n",
            "|sep_len|sep_wid|pet_len|pet_wid|      label|         features|\n",
            "+-------+-------+-------+-------+-----------+-----------------+\n",
            "|    5.1|    3.5|    1.4|    0.2|Iris-setosa|[5.1,3.5,1.4,0.2]|\n",
            "|    4.9|    3.0|    1.4|    0.2|Iris-setosa|[4.9,3.0,1.4,0.2]|\n",
            "|    4.7|    3.2|    1.3|    0.2|Iris-setosa|[4.7,3.2,1.3,0.2]|\n",
            "+-------+-------+-------+-------+-----------+-----------------+\n",
            "only showing top 3 rows\n",
            "\n"
          ]
        }
      ]
    },
    {
      "cell_type": "code",
      "metadata": {
        "colab": {
          "base_uri": "https://localhost:8080/"
        },
        "id": "VEw0kaqw6rYq",
        "outputId": "a3aaa973-e746-43d6-97b8-8855f38161b1"
      },
      "source": [
        "type(df_temp)"
      ],
      "execution_count": null,
      "outputs": [
        {
          "output_type": "execute_result",
          "data": {
            "text/plain": [
              "pyspark.sql.dataframe.DataFrame"
            ]
          },
          "metadata": {},
          "execution_count": 79
        }
      ]
    },
    {
      "cell_type": "code",
      "metadata": {
        "colab": {
          "base_uri": "https://localhost:8080/"
        },
        "id": "5-Rrt6l-5NOG",
        "outputId": "3496de14-3613-4c7a-e77f-a69edde27088"
      },
      "source": [
        "df = df_temp.drop('sep_len', 'sep_wid', 'pet_len', 'pet_wid')\n",
        "df.show(3)"
      ],
      "execution_count": null,
      "outputs": [
        {
          "output_type": "stream",
          "name": "stdout",
          "text": [
            "+-----------+-----------------+\n",
            "|      label|         features|\n",
            "+-----------+-----------------+\n",
            "|Iris-setosa|[5.1,3.5,1.4,0.2]|\n",
            "|Iris-setosa|[4.9,3.0,1.4,0.2]|\n",
            "|Iris-setosa|[4.7,3.2,1.3,0.2]|\n",
            "+-----------+-----------------+\n",
            "only showing top 3 rows\n",
            "\n"
          ]
        }
      ]
    },
    {
      "cell_type": "code",
      "metadata": {
        "colab": {
          "base_uri": "https://localhost:8080/"
        },
        "id": "PVjeyIZJ6y2m",
        "outputId": "c2d6d8a6-eb2e-468c-d0b4-7fe10e3348ec"
      },
      "source": [
        "type(df)"
      ],
      "execution_count": null,
      "outputs": [
        {
          "output_type": "execute_result",
          "data": {
            "text/plain": [
              "pyspark.sql.dataframe.DataFrame"
            ]
          },
          "metadata": {},
          "execution_count": 81
        }
      ]
    },
    {
      "cell_type": "code",
      "metadata": {
        "id": "00C5mGtV5NQX"
      },
      "source": [
        "from pyspark.ml.feature import StringIndexer\n",
        "l_indexer = StringIndexer(inputCol=\"label\", outputCol=\"labelIndex\")\n",
        "df = l_indexer.fit(df).transform(df)"
      ],
      "execution_count": null,
      "outputs": []
    },
    {
      "cell_type": "code",
      "metadata": {
        "colab": {
          "base_uri": "https://localhost:8080/"
        },
        "id": "vtXJBP_161HJ",
        "outputId": "cdfe41da-6307-470e-fb31-06c14dfc5b87"
      },
      "source": [
        "type(df)"
      ],
      "execution_count": null,
      "outputs": [
        {
          "output_type": "execute_result",
          "data": {
            "text/plain": [
              "pyspark.sql.dataframe.DataFrame"
            ]
          },
          "metadata": {},
          "execution_count": 83
        }
      ]
    },
    {
      "cell_type": "code",
      "metadata": {
        "colab": {
          "base_uri": "https://localhost:8080/"
        },
        "id": "0jWZhGzi5NUx",
        "outputId": "9247ea69-61c1-4ccd-d6dc-b2fe9063c792"
      },
      "source": [
        "df.show(3)"
      ],
      "execution_count": null,
      "outputs": [
        {
          "output_type": "stream",
          "name": "stdout",
          "text": [
            "+-----------+-----------------+----------+\n",
            "|      label|         features|labelIndex|\n",
            "+-----------+-----------------+----------+\n",
            "|Iris-setosa|[5.1,3.5,1.4,0.2]|       0.0|\n",
            "|Iris-setosa|[4.9,3.0,1.4,0.2]|       0.0|\n",
            "|Iris-setosa|[4.7,3.2,1.3,0.2]|       0.0|\n",
            "+-----------+-----------------+----------+\n",
            "only showing top 3 rows\n",
            "\n"
          ]
        }
      ]
    },
    {
      "cell_type": "code",
      "metadata": {
        "id": "6CLeaV-J5NXr"
      },
      "source": [
        "splits = df.randomSplit([0.6, 0.4], 1234)\n",
        "train = splits[0]\n",
        "test = splits[1]"
      ],
      "execution_count": null,
      "outputs": []
    },
    {
      "cell_type": "code",
      "metadata": {
        "id": "zwI86Xdp5K_0"
      },
      "source": [
        "from pyspark.ml.classification import NaiveBayes\n",
        "nb = NaiveBayes(labelCol=\"labelIndex\",\\\n",
        "featuresCol=\"features\", smoothing=1.0,\\\n",
        "modelType=\"multinomial\")\n",
        "model = nb.fit(train)"
      ],
      "execution_count": null,
      "outputs": []
    },
    {
      "cell_type": "code",
      "metadata": {
        "colab": {
          "base_uri": "https://localhost:8080/"
        },
        "id": "_s_WOkOb55Wt",
        "outputId": "ea6ca5e9-5f9b-49a5-988c-e94736a51866"
      },
      "source": [
        "predictions = model.transform(test)\n",
        "predictions.select(\"label\", \"labelIndex\", \n",
        "\"probability\", \"prediction\").show(5)"
      ],
      "execution_count": null,
      "outputs": [
        {
          "output_type": "stream",
          "name": "stdout",
          "text": [
            "+-----------+----------+--------------------+----------+\n",
            "|      label|labelIndex|         probability|prediction|\n",
            "+-----------+----------+--------------------+----------+\n",
            "|Iris-setosa|       0.0|[0.73502886090153...|       0.0|\n",
            "|Iris-setosa|       0.0|[0.64985557718392...|       0.0|\n",
            "|Iris-setosa|       0.0|[0.55508830217120...|       0.0|\n",
            "|Iris-setosa|       0.0|[0.71765512033989...|       0.0|\n",
            "|Iris-setosa|       0.0|[0.66081341393231...|       0.0|\n",
            "+-----------+----------+--------------------+----------+\n",
            "only showing top 5 rows\n",
            "\n"
          ]
        }
      ]
    },
    {
      "cell_type": "code",
      "metadata": {
        "colab": {
          "base_uri": "https://localhost:8080/"
        },
        "id": "NMJagIjp6BQX",
        "outputId": "33c16407-f9ed-42a3-a1f8-5379c0a06b3b"
      },
      "source": [
        "evaluator =\\\n",
        "MulticlassClassificationEvaluator(labelCol=\"labelIndex\",\\\n",
        "predictionCol=\"prediction\", metricName=\"accuracy\")\n",
        "accuracy = evaluator.evaluate(predictions)\n",
        "print(\"Test set accuracy = \" + str(accuracy))"
      ],
      "execution_count": null,
      "outputs": [
        {
          "output_type": "stream",
          "name": "stdout",
          "text": [
            "Test set accuracy = 0.9682539682539683\n"
          ]
        }
      ]
    },
    {
      "cell_type": "code",
      "metadata": {
        "id": "Pf7GnQWt6G6z"
      },
      "source": [
        ""
      ],
      "execution_count": null,
      "outputs": []
    },
    {
      "cell_type": "code",
      "metadata": {
        "colab": {
          "base_uri": "https://localhost:8080/"
        },
        "id": "d6MMD3-D6G-p",
        "outputId": "543a3d45-d813-49f2-fcd5-575ca55d249b"
      },
      "source": [
        "bddata.show(4)"
      ],
      "execution_count": null,
      "outputs": [
        {
          "output_type": "stream",
          "name": "stdout",
          "text": [
            "+--------+--------+-------------+------------+------------+---------------+---------------+---------------+---------------+----------------+---------------+---------------+---------------+----------------+---------------+------------+-------------+----------------+------------+------------+-----------+----------------+----------------+-----------+-----------+-----------+----------------+---------------+-----------+-----------+-------------+-------------+-------------+-------------+--------------+--------------+------------+------------+-----------+-----------+--------------+--------------+----------------+------------+------------+------------+------------+------------+------------+--------------+------------+-------------+------------+----------------+----------------+--------------+--------------+----------------+--------------+--------------+----------------+----------------+----------------+----------------+----------------+-----------------+-----------------+-----------------+----------------+-----------+----------+----------+----------+------------+--------------+--------+--------+------+\n",
            "|Dst Port|Protocol|Flow Duration|Tot Fwd Pkts|Tot Bwd Pkts|TotLen Fwd Pkts|TotLen Bwd Pkts|Fwd Pkt Len Max|Fwd Pkt Len Min|Fwd Pkt Len Mean|Fwd Pkt Len Std|Bwd Pkt Len Max|Bwd Pkt Len Min|Bwd Pkt Len Mean|Bwd Pkt Len Std| Flow Pkts/s|Flow IAT Mean|    Flow IAT Std|Flow IAT Max|Flow IAT Min|Fwd IAT Tot|    Fwd IAT Mean|     Fwd IAT Std|Fwd IAT Max|Fwd IAT Min|Bwd IAT Tot|    Bwd IAT Mean|    Bwd IAT Std|Bwd IAT Max|Bwd IAT Min|Fwd PSH Flags|Bwd PSH Flags|Fwd URG Flags|Bwd URG Flags|Fwd Header Len|Bwd Header Len|  Fwd Pkts/s|  Bwd Pkts/s|Pkt Len Min|Pkt Len Max|  Pkt Len Mean|   Pkt Len Std|     Pkt Len Var|FIN Flag Cnt|SYN Flag Cnt|RST Flag Cnt|PSH Flag Cnt|ACK Flag Cnt|URG Flag Cnt|CWE Flag Count|ECE Flag Cnt|Down/Up Ratio|Pkt Size Avg|Fwd Seg Size Avg|Bwd Seg Size Avg|Fwd Byts/b Avg|Fwd Pkts/b Avg|Fwd Blk Rate Avg|Bwd Byts/b Avg|Bwd Pkts/b Avg|Bwd Blk Rate Avg|Subflow Fwd Pkts|Subflow Fwd Byts|Subflow Bwd Pkts|Subflow Bwd Byts|Init Fwd Win Byts|Init Bwd Win Byts|Fwd Act Data Pkts|Fwd Seg Size Min|Active Mean|Active Std|Active Max|Active Min|   Idle Mean|      Idle Std|Idle Max|Idle Min| Label|\n",
            "+--------+--------+-------------+------------+------------+---------------+---------------+---------------+---------------+----------------+---------------+---------------+---------------+----------------+---------------+------------+-------------+----------------+------------+------------+-----------+----------------+----------------+-----------+-----------+-----------+----------------+---------------+-----------+-----------+-------------+-------------+-------------+-------------+--------------+--------------+------------+------------+-----------+-----------+--------------+--------------+----------------+------------+------------+------------+------------+------------+------------+--------------+------------+-------------+------------+----------------+----------------+--------------+--------------+----------------+--------------+--------------+----------------+----------------+----------------+----------------+----------------+-----------------+-----------------+-----------------+----------------+-----------+----------+----------+----------+------------+--------------+--------+--------+------+\n",
            "|       0|       0|    112641719|           3|           0|              0|              0|              0|              0|             0.0|            0.0|              0|              0|             0.0|            0.0|0.0266331163| 5.63208595E7|  139.3000358938|    56320958|    56320761|  112641719|    5.63208595E7|  139.3000358938|   56320958|   56320761|          0|             0.0|            0.0|          0|          0|            0|            0|            0|            0|             0|             0|0.0266331163|         0.0|          0|          0|           0.0|           0.0|             0.0|           0|           0|           0|           0|           0|           0|             0|           0|            0|         0.0|             0.0|             0.0|             0|             0|               0|             0|             0|               0|               3|               0|               0|               0|               -1|               -1|                0|               0|        0.0|       0.0|         0|         0|5.63208595E7|139.3000358938|56320958|56320761|Benign|\n",
            "|       0|       0|    112641466|           3|           0|              0|              0|              0|              0|             0.0|            0.0|              0|              0|             0.0|            0.0|0.0266331761|  5.6320733E7|  114.5512985522|    56320814|    56320652|  112641466|     5.6320733E7|  114.5512985522|   56320814|   56320652|          0|             0.0|            0.0|          0|          0|            0|            0|            0|            0|             0|             0|0.0266331761|         0.0|          0|          0|           0.0|           0.0|             0.0|           0|           0|           0|           0|           0|           0|             0|           0|            0|         0.0|             0.0|             0.0|             0|             0|               0|             0|             0|               0|               3|               0|               0|               0|               -1|               -1|                0|               0|        0.0|       0.0|         0|         0| 5.6320733E7|114.5512985522|56320814|56320652|Benign|\n",
            "|       0|       0|    112638623|           3|           0|              0|              0|              0|              0|             0.0|            0.0|              0|              0|             0.0|            0.0|0.0266338483| 5.63193115E7|  301.9345955667|    56319525|    56319098|  112638623|    5.63193115E7|  301.9345955667|   56319525|   56319098|          0|             0.0|            0.0|          0|          0|            0|            0|            0|            0|             0|             0|0.0266338483|         0.0|          0|          0|           0.0|           0.0|             0.0|           0|           0|           0|           0|           0|           0|             0|           0|            0|         0.0|             0.0|             0.0|             0|             0|               0|             0|             0|               0|               3|               0|               0|               0|               -1|               -1|                0|               0|        0.0|       0.0|         0|         0|5.63193115E7|301.9345955667|56319525|56319098|Benign|\n",
            "|      22|       6|      6453966|          15|          10|           1239|           2273|            744|              0|            82.6| 196.7412368715|            976|              0|           227.3| 371.6778922072|3.8735871865|    268915.25|247443.778966007|      673900|          22|    6453966|460997.571428571|123109.423587757|     673900|     229740|    5637902|626433.555555556|455082.21422401|    1167293|        554|            0|            0|            0|            0|           488|           328|2.3241523119|1.5494348746|          0|        976|135.0769230769|277.8347599674|77192.1538461539|           0|           0|           0|           1|           0|           0|             0|           0|            0|      140.48|            82.6|           227.3|             0|             0|               0|             0|             0|               0|              15|            1239|              10|            2273|            65535|              233|                6|              32|        0.0|       0.0|         0|         0|         0.0|           0.0|       0|       0|Benign|\n",
            "+--------+--------+-------------+------------+------------+---------------+---------------+---------------+---------------+----------------+---------------+---------------+---------------+----------------+---------------+------------+-------------+----------------+------------+------------+-----------+----------------+----------------+-----------+-----------+-----------+----------------+---------------+-----------+-----------+-------------+-------------+-------------+-------------+--------------+--------------+------------+------------+-----------+-----------+--------------+--------------+----------------+------------+------------+------------+------------+------------+------------+--------------+------------+-------------+------------+----------------+----------------+--------------+--------------+----------------+--------------+--------------+----------------+----------------+----------------+----------------+----------------+-----------------+-----------------+-----------------+----------------+-----------+----------+----------+----------+------------+--------------+--------+--------+------+\n",
            "only showing top 4 rows\n",
            "\n"
          ]
        }
      ]
    },
    {
      "cell_type": "code",
      "metadata": {
        "colab": {
          "base_uri": "https://localhost:8080/"
        },
        "id": "OPkeptlA6HCb",
        "outputId": "4842db01-2fa5-416b-922e-ad6ed1e1feb5"
      },
      "source": [
        "nvdata.show(4)"
      ],
      "execution_count": null,
      "outputs": [
        {
          "output_type": "stream",
          "name": "stdout",
          "text": [
            "+--------+--------+-------------+------------+------------+---------------+---------------+---------------+---------------+----------------+---------------+---------------+---------------+----------------+---------------+------------+-------------+----------------+------------+------------+-----------+----------------+----------------+-----------+-----------+-----------+----------------+---------------+-----------+-----------+-------------+-------------+-------------+-------------+--------------+--------------+------------+------------+-----------+-----------+--------------+--------------+----------------+------------+------------+------------+------------+------------+------------+--------------+------------+-------------+------------+----------------+----------------+--------------+--------------+----------------+--------------+--------------+----------------+----------------+----------------+----------------+----------------+-----------------+-----------------+-----------------+----------------+-----------+----------+----------+----------+------------+--------------+--------+--------+----------+\n",
            "|Dst Port|Protocol|Flow Duration|Tot Fwd Pkts|Tot Bwd Pkts|TotLen Fwd Pkts|TotLen Bwd Pkts|Fwd Pkt Len Max|Fwd Pkt Len Min|Fwd Pkt Len Mean|Fwd Pkt Len Std|Bwd Pkt Len Max|Bwd Pkt Len Min|Bwd Pkt Len Mean|Bwd Pkt Len Std| Flow Pkts/s|Flow IAT Mean|    Flow IAT Std|Flow IAT Max|Flow IAT Min|Fwd IAT Tot|    Fwd IAT Mean|     Fwd IAT Std|Fwd IAT Max|Fwd IAT Min|Bwd IAT Tot|    Bwd IAT Mean|    Bwd IAT Std|Bwd IAT Max|Bwd IAT Min|Fwd PSH Flags|Bwd PSH Flags|Fwd URG Flags|Bwd URG Flags|Fwd Header Len|Bwd Header Len|  Fwd Pkts/s|  Bwd Pkts/s|Pkt Len Min|Pkt Len Max|  Pkt Len Mean|   Pkt Len Std|     Pkt Len Var|FIN Flag Cnt|SYN Flag Cnt|RST Flag Cnt|PSH Flag Cnt|ACK Flag Cnt|URG Flag Cnt|CWE Flag Count|ECE Flag Cnt|Down/Up Ratio|Pkt Size Avg|Fwd Seg Size Avg|Bwd Seg Size Avg|Fwd Byts/b Avg|Fwd Pkts/b Avg|Fwd Blk Rate Avg|Bwd Byts/b Avg|Bwd Pkts/b Avg|Bwd Blk Rate Avg|Subflow Fwd Pkts|Subflow Fwd Byts|Subflow Bwd Pkts|Subflow Bwd Byts|Init Fwd Win Byts|Init Bwd Win Byts|Fwd Act Data Pkts|Fwd Seg Size Min|Active Mean|Active Std|Active Max|Active Min|   Idle Mean|      Idle Std|Idle Max|Idle Min|labelIndex|\n",
            "+--------+--------+-------------+------------+------------+---------------+---------------+---------------+---------------+----------------+---------------+---------------+---------------+----------------+---------------+------------+-------------+----------------+------------+------------+-----------+----------------+----------------+-----------+-----------+-----------+----------------+---------------+-----------+-----------+-------------+-------------+-------------+-------------+--------------+--------------+------------+------------+-----------+-----------+--------------+--------------+----------------+------------+------------+------------+------------+------------+------------+--------------+------------+-------------+------------+----------------+----------------+--------------+--------------+----------------+--------------+--------------+----------------+----------------+----------------+----------------+----------------+-----------------+-----------------+-----------------+----------------+-----------+----------+----------+----------+------------+--------------+--------+--------+----------+\n",
            "|       0|       0|    112641719|           3|           0|              0|              0|              0|              0|             0.0|            0.0|              0|              0|             0.0|            0.0|0.0266331163| 5.63208595E7|  139.3000358938|    56320958|    56320761|  112641719|    5.63208595E7|  139.3000358938|   56320958|   56320761|          0|             0.0|            0.0|          0|          0|            0|            0|            0|            0|             0|             0|0.0266331163|         0.0|          0|          0|           0.0|           0.0|             0.0|           0|           0|           0|           0|           0|           0|             0|           0|            0|         0.0|             0.0|             0.0|             0|             0|               0|             0|             0|               0|               3|               0|               0|               0|               -1|               -1|                0|               0|        0.0|       0.0|         0|         0|5.63208595E7|139.3000358938|56320958|56320761|       0.0|\n",
            "|       0|       0|    112641466|           3|           0|              0|              0|              0|              0|             0.0|            0.0|              0|              0|             0.0|            0.0|0.0266331761|  5.6320733E7|  114.5512985522|    56320814|    56320652|  112641466|     5.6320733E7|  114.5512985522|   56320814|   56320652|          0|             0.0|            0.0|          0|          0|            0|            0|            0|            0|             0|             0|0.0266331761|         0.0|          0|          0|           0.0|           0.0|             0.0|           0|           0|           0|           0|           0|           0|             0|           0|            0|         0.0|             0.0|             0.0|             0|             0|               0|             0|             0|               0|               3|               0|               0|               0|               -1|               -1|                0|               0|        0.0|       0.0|         0|         0| 5.6320733E7|114.5512985522|56320814|56320652|       0.0|\n",
            "|       0|       0|    112638623|           3|           0|              0|              0|              0|              0|             0.0|            0.0|              0|              0|             0.0|            0.0|0.0266338483| 5.63193115E7|  301.9345955667|    56319525|    56319098|  112638623|    5.63193115E7|  301.9345955667|   56319525|   56319098|          0|             0.0|            0.0|          0|          0|            0|            0|            0|            0|             0|             0|0.0266338483|         0.0|          0|          0|           0.0|           0.0|             0.0|           0|           0|           0|           0|           0|           0|             0|           0|            0|         0.0|             0.0|             0.0|             0|             0|               0|             0|             0|               0|               3|               0|               0|               0|               -1|               -1|                0|               0|        0.0|       0.0|         0|         0|5.63193115E7|301.9345955667|56319525|56319098|       0.0|\n",
            "|      22|       6|      6453966|          15|          10|           1239|           2273|            744|              0|            82.6| 196.7412368715|            976|              0|           227.3| 371.6778922072|3.8735871865|    268915.25|247443.778966007|      673900|          22|    6453966|460997.571428571|123109.423587757|     673900|     229740|    5637902|626433.555555556|455082.21422401|    1167293|        554|            0|            0|            0|            0|           488|           328|2.3241523119|1.5494348746|          0|        976|135.0769230769|277.8347599674|77192.1538461539|           0|           0|           0|           1|           0|           0|             0|           0|            0|      140.48|            82.6|           227.3|             0|             0|               0|             0|             0|               0|              15|            1239|              10|            2273|            65535|              233|                6|              32|        0.0|       0.0|         0|         0|         0.0|           0.0|       0|       0|       0.0|\n",
            "+--------+--------+-------------+------------+------------+---------------+---------------+---------------+---------------+----------------+---------------+---------------+---------------+----------------+---------------+------------+-------------+----------------+------------+------------+-----------+----------------+----------------+-----------+-----------+-----------+----------------+---------------+-----------+-----------+-------------+-------------+-------------+-------------+--------------+--------------+------------+------------+-----------+-----------+--------------+--------------+----------------+------------+------------+------------+------------+------------+------------+--------------+------------+-------------+------------+----------------+----------------+--------------+--------------+----------------+--------------+--------------+----------------+----------------+----------------+----------------+----------------+-----------------+-----------------+-----------------+----------------+-----------+----------+----------+----------+------------+--------------+--------+--------+----------+\n",
            "only showing top 4 rows\n",
            "\n"
          ]
        }
      ]
    },
    {
      "cell_type": "code",
      "metadata": {
        "id": "nulOVUgg8ECw"
      },
      "source": [
        "nvdata.columns"
      ],
      "execution_count": null,
      "outputs": []
    },
    {
      "cell_type": "code",
      "metadata": {
        "id": "5Vzq9DXY6HFk"
      },
      "source": [
        "from pyspark.ml.feature import VectorAssembler\n",
        "vectorAssembler = VectorAssembler(inputCols = ['Dst Port', 'Protocol', 'Flow Duration', 'Tot Fwd Pkts', 'Tot Bwd Pkts', 'TotLen Fwd Pkts', 'TotLen Bwd Pkts', 'Fwd Pkt Len Max', 'Fwd Pkt Len Min', 'Fwd Pkt Len Mean', 'Fwd Pkt Len Std', 'Bwd Pkt Len Max', 'Bwd Pkt Len Min', 'Bwd Pkt Len Mean', 'Bwd Pkt Len Std', 'Flow Pkts/s', 'Flow IAT Mean', 'Flow IAT Std', 'Flow IAT Max', 'Flow IAT Min', 'Fwd IAT Tot', 'Fwd IAT Mean', 'Fwd IAT Std', 'Fwd IAT Max', 'Fwd IAT Min', 'Bwd IAT Tot', 'Bwd IAT Mean', 'Bwd IAT Std', 'Bwd IAT Max', 'Bwd IAT Min', 'Fwd PSH Flags', 'Bwd PSH Flags', 'Fwd URG Flags', 'Bwd URG Flags', 'Fwd Header Len', 'Bwd Header Len', 'Fwd Pkts/s', 'Bwd Pkts/s', 'Pkt Len Min', 'Pkt Len Max', 'Pkt Len Mean', 'Pkt Len Std', 'Pkt Len Var', 'FIN Flag Cnt', 'SYN Flag Cnt', 'RST Flag Cnt', 'PSH Flag Cnt', 'ACK Flag Cnt', 'URG Flag Cnt', 'CWE Flag Count', 'ECE Flag Cnt', 'Down/Up Ratio', 'Pkt Size Avg', 'Fwd Seg Size Avg', 'Bwd Seg Size Avg', 'Fwd Byts/b Avg', 'Fwd Pkts/b Avg', 'Fwd Blk Rate Avg', 'Bwd Byts/b Avg', 'Bwd Pkts/b Avg', 'Bwd Blk Rate Avg', 'Subflow Fwd Pkts', 'Subflow Fwd Byts', 'Subflow Bwd Pkts', 'Subflow Bwd Byts', 'Init Fwd Win Byts', 'Init Bwd Win Byts', 'Fwd Act Data Pkts', 'Fwd Seg Size Min', 'Active Mean', 'Active Std', 'Active Max', 'Active Min', 'Idle Mean', 'Idle Std', 'Idle Max', 'Idle Min'], outputCol = 'features')\n"
      ],
      "execution_count": null,
      "outputs": []
    },
    {
      "cell_type": "code",
      "metadata": {
        "colab": {
          "base_uri": "https://localhost:8080/"
        },
        "id": "RUnmZQQ_8EAN",
        "outputId": "2ab887d7-fb11-493c-8aea-48272014ddd9"
      },
      "source": [
        "vdf = vectorAssembler.transform(nvdata)\n",
        "vdf = vdf.select(['features', 'labelIndex'])\n",
        "vdf.show(4)"
      ],
      "execution_count": null,
      "outputs": [
        {
          "output_type": "stream",
          "name": "stdout",
          "text": [
            "+--------------------+----------+\n",
            "|            features|labelIndex|\n",
            "+--------------------+----------+\n",
            "|(77,[2,3,15,16,17...|       0.0|\n",
            "|(77,[2,3,15,16,17...|       0.0|\n",
            "|(77,[2,3,15,16,17...|       0.0|\n",
            "|(77,[0,1,2,3,4,5,...|       0.0|\n",
            "+--------------------+----------+\n",
            "only showing top 4 rows\n",
            "\n"
          ]
        }
      ]
    },
    {
      "cell_type": "code",
      "metadata": {
        "id": "k299YasH8H_d"
      },
      "source": [
        "splits = vdf.randomSplit([0.6, 0.4], 1234)\n",
        "train = splits[0]\n",
        "test = splits[1]"
      ],
      "execution_count": null,
      "outputs": []
    },
    {
      "cell_type": "code",
      "metadata": {
        "colab": {
          "base_uri": "https://localhost:8080/",
          "height": 1000
        },
        "id": "RotoN0X7_Ew_",
        "outputId": "123d2f14-478f-4d5a-c991-11b343967544"
      },
      "source": [
        "from pyspark.ml.classification import NaiveBayes\n",
        "nb = NaiveBayes(labelCol=\"labelIndex\",\\\n",
        "featuresCol=\"features\", smoothing=1.0,\\\n",
        "modelType=\"multinomial\")\n",
        "model = nb.fit(train)"
      ],
      "execution_count": null,
      "outputs": [
        {
          "output_type": "error",
          "ename": "Py4JJavaError",
          "evalue": "ignored",
          "traceback": [
            "\u001b[0;31m---------------------------------------------------------------------------\u001b[0m",
            "\u001b[0;31mPy4JJavaError\u001b[0m                             Traceback (most recent call last)",
            "\u001b[0;32m<ipython-input-98-4c6298fa4aa5>\u001b[0m in \u001b[0;36m<module>\u001b[0;34m()\u001b[0m\n\u001b[1;32m      1\u001b[0m \u001b[0;32mfrom\u001b[0m \u001b[0mpyspark\u001b[0m\u001b[0;34m.\u001b[0m\u001b[0mml\u001b[0m\u001b[0;34m.\u001b[0m\u001b[0mclassification\u001b[0m \u001b[0;32mimport\u001b[0m \u001b[0mNaiveBayes\u001b[0m\u001b[0;34m\u001b[0m\u001b[0;34m\u001b[0m\u001b[0m\n\u001b[1;32m      2\u001b[0m \u001b[0mnb\u001b[0m \u001b[0;34m=\u001b[0m \u001b[0mNaiveBayes\u001b[0m\u001b[0;34m(\u001b[0m\u001b[0mlabelCol\u001b[0m\u001b[0;34m=\u001b[0m\u001b[0;34m\"labelIndex\"\u001b[0m\u001b[0;34m,\u001b[0m\u001b[0mfeaturesCol\u001b[0m\u001b[0;34m=\u001b[0m\u001b[0;34m\"features\"\u001b[0m\u001b[0;34m,\u001b[0m \u001b[0msmoothing\u001b[0m\u001b[0;34m=\u001b[0m\u001b[0;36m1.0\u001b[0m\u001b[0;34m,\u001b[0m\u001b[0mmodelType\u001b[0m\u001b[0;34m=\u001b[0m\u001b[0;34m\"multinomial\"\u001b[0m\u001b[0;34m)\u001b[0m\u001b[0;34m\u001b[0m\u001b[0;34m\u001b[0m\u001b[0m\n\u001b[0;32m----> 3\u001b[0;31m \u001b[0mmodel\u001b[0m \u001b[0;34m=\u001b[0m \u001b[0mnb\u001b[0m\u001b[0;34m.\u001b[0m\u001b[0mfit\u001b[0m\u001b[0;34m(\u001b[0m\u001b[0mtrain\u001b[0m\u001b[0;34m)\u001b[0m\u001b[0;34m\u001b[0m\u001b[0;34m\u001b[0m\u001b[0m\n\u001b[0m",
            "\u001b[0;32m/content/spark-3.0.0-bin-hadoop3.2/python/pyspark/ml/base.py\u001b[0m in \u001b[0;36mfit\u001b[0;34m(self, dataset, params)\u001b[0m\n\u001b[1;32m    127\u001b[0m                 \u001b[0;32mreturn\u001b[0m \u001b[0mself\u001b[0m\u001b[0;34m.\u001b[0m\u001b[0mcopy\u001b[0m\u001b[0;34m(\u001b[0m\u001b[0mparams\u001b[0m\u001b[0;34m)\u001b[0m\u001b[0;34m.\u001b[0m\u001b[0m_fit\u001b[0m\u001b[0;34m(\u001b[0m\u001b[0mdataset\u001b[0m\u001b[0;34m)\u001b[0m\u001b[0;34m\u001b[0m\u001b[0;34m\u001b[0m\u001b[0m\n\u001b[1;32m    128\u001b[0m             \u001b[0;32melse\u001b[0m\u001b[0;34m:\u001b[0m\u001b[0;34m\u001b[0m\u001b[0;34m\u001b[0m\u001b[0m\n\u001b[0;32m--> 129\u001b[0;31m                 \u001b[0;32mreturn\u001b[0m \u001b[0mself\u001b[0m\u001b[0;34m.\u001b[0m\u001b[0m_fit\u001b[0m\u001b[0;34m(\u001b[0m\u001b[0mdataset\u001b[0m\u001b[0;34m)\u001b[0m\u001b[0;34m\u001b[0m\u001b[0;34m\u001b[0m\u001b[0m\n\u001b[0m\u001b[1;32m    130\u001b[0m         \u001b[0;32melse\u001b[0m\u001b[0;34m:\u001b[0m\u001b[0;34m\u001b[0m\u001b[0;34m\u001b[0m\u001b[0m\n\u001b[1;32m    131\u001b[0m             raise ValueError(\"Params must be either a param map or a list/tuple of param maps, \"\n",
            "\u001b[0;32m/content/spark-3.0.0-bin-hadoop3.2/python/pyspark/ml/wrapper.py\u001b[0m in \u001b[0;36m_fit\u001b[0;34m(self, dataset)\u001b[0m\n\u001b[1;32m    319\u001b[0m \u001b[0;34m\u001b[0m\u001b[0m\n\u001b[1;32m    320\u001b[0m     \u001b[0;32mdef\u001b[0m \u001b[0m_fit\u001b[0m\u001b[0;34m(\u001b[0m\u001b[0mself\u001b[0m\u001b[0;34m,\u001b[0m \u001b[0mdataset\u001b[0m\u001b[0;34m)\u001b[0m\u001b[0;34m:\u001b[0m\u001b[0;34m\u001b[0m\u001b[0;34m\u001b[0m\u001b[0m\n\u001b[0;32m--> 321\u001b[0;31m         \u001b[0mjava_model\u001b[0m \u001b[0;34m=\u001b[0m \u001b[0mself\u001b[0m\u001b[0;34m.\u001b[0m\u001b[0m_fit_java\u001b[0m\u001b[0;34m(\u001b[0m\u001b[0mdataset\u001b[0m\u001b[0;34m)\u001b[0m\u001b[0;34m\u001b[0m\u001b[0;34m\u001b[0m\u001b[0m\n\u001b[0m\u001b[1;32m    322\u001b[0m         \u001b[0mmodel\u001b[0m \u001b[0;34m=\u001b[0m \u001b[0mself\u001b[0m\u001b[0;34m.\u001b[0m\u001b[0m_create_model\u001b[0m\u001b[0;34m(\u001b[0m\u001b[0mjava_model\u001b[0m\u001b[0;34m)\u001b[0m\u001b[0;34m\u001b[0m\u001b[0;34m\u001b[0m\u001b[0m\n\u001b[1;32m    323\u001b[0m         \u001b[0;32mreturn\u001b[0m \u001b[0mself\u001b[0m\u001b[0;34m.\u001b[0m\u001b[0m_copyValues\u001b[0m\u001b[0;34m(\u001b[0m\u001b[0mmodel\u001b[0m\u001b[0;34m)\u001b[0m\u001b[0;34m\u001b[0m\u001b[0;34m\u001b[0m\u001b[0m\n",
            "\u001b[0;32m/content/spark-3.0.0-bin-hadoop3.2/python/pyspark/ml/wrapper.py\u001b[0m in \u001b[0;36m_fit_java\u001b[0;34m(self, dataset)\u001b[0m\n\u001b[1;32m    316\u001b[0m         \"\"\"\n\u001b[1;32m    317\u001b[0m         \u001b[0mself\u001b[0m\u001b[0;34m.\u001b[0m\u001b[0m_transfer_params_to_java\u001b[0m\u001b[0;34m(\u001b[0m\u001b[0;34m)\u001b[0m\u001b[0;34m\u001b[0m\u001b[0;34m\u001b[0m\u001b[0m\n\u001b[0;32m--> 318\u001b[0;31m         \u001b[0;32mreturn\u001b[0m \u001b[0mself\u001b[0m\u001b[0;34m.\u001b[0m\u001b[0m_java_obj\u001b[0m\u001b[0;34m.\u001b[0m\u001b[0mfit\u001b[0m\u001b[0;34m(\u001b[0m\u001b[0mdataset\u001b[0m\u001b[0;34m.\u001b[0m\u001b[0m_jdf\u001b[0m\u001b[0;34m)\u001b[0m\u001b[0;34m\u001b[0m\u001b[0;34m\u001b[0m\u001b[0m\n\u001b[0m\u001b[1;32m    319\u001b[0m \u001b[0;34m\u001b[0m\u001b[0m\n\u001b[1;32m    320\u001b[0m     \u001b[0;32mdef\u001b[0m \u001b[0m_fit\u001b[0m\u001b[0;34m(\u001b[0m\u001b[0mself\u001b[0m\u001b[0;34m,\u001b[0m \u001b[0mdataset\u001b[0m\u001b[0;34m)\u001b[0m\u001b[0;34m:\u001b[0m\u001b[0;34m\u001b[0m\u001b[0;34m\u001b[0m\u001b[0m\n",
            "\u001b[0;32m/content/spark-3.0.0-bin-hadoop3.2/python/lib/py4j-0.10.9-src.zip/py4j/java_gateway.py\u001b[0m in \u001b[0;36m__call__\u001b[0;34m(self, *args)\u001b[0m\n\u001b[1;32m   1303\u001b[0m         \u001b[0manswer\u001b[0m \u001b[0;34m=\u001b[0m \u001b[0mself\u001b[0m\u001b[0;34m.\u001b[0m\u001b[0mgateway_client\u001b[0m\u001b[0;34m.\u001b[0m\u001b[0msend_command\u001b[0m\u001b[0;34m(\u001b[0m\u001b[0mcommand\u001b[0m\u001b[0;34m)\u001b[0m\u001b[0;34m\u001b[0m\u001b[0;34m\u001b[0m\u001b[0m\n\u001b[1;32m   1304\u001b[0m         return_value = get_return_value(\n\u001b[0;32m-> 1305\u001b[0;31m             answer, self.gateway_client, self.target_id, self.name)\n\u001b[0m\u001b[1;32m   1306\u001b[0m \u001b[0;34m\u001b[0m\u001b[0m\n\u001b[1;32m   1307\u001b[0m         \u001b[0;32mfor\u001b[0m \u001b[0mtemp_arg\u001b[0m \u001b[0;32min\u001b[0m \u001b[0mtemp_args\u001b[0m\u001b[0;34m:\u001b[0m\u001b[0;34m\u001b[0m\u001b[0;34m\u001b[0m\u001b[0m\n",
            "\u001b[0;32m/content/spark-3.0.0-bin-hadoop3.2/python/pyspark/sql/utils.py\u001b[0m in \u001b[0;36mdeco\u001b[0;34m(*a, **kw)\u001b[0m\n\u001b[1;32m    129\u001b[0m     \u001b[0;32mdef\u001b[0m \u001b[0mdeco\u001b[0m\u001b[0;34m(\u001b[0m\u001b[0;34m*\u001b[0m\u001b[0ma\u001b[0m\u001b[0;34m,\u001b[0m \u001b[0;34m**\u001b[0m\u001b[0mkw\u001b[0m\u001b[0;34m)\u001b[0m\u001b[0;34m:\u001b[0m\u001b[0;34m\u001b[0m\u001b[0;34m\u001b[0m\u001b[0m\n\u001b[1;32m    130\u001b[0m         \u001b[0;32mtry\u001b[0m\u001b[0;34m:\u001b[0m\u001b[0;34m\u001b[0m\u001b[0;34m\u001b[0m\u001b[0m\n\u001b[0;32m--> 131\u001b[0;31m             \u001b[0;32mreturn\u001b[0m \u001b[0mf\u001b[0m\u001b[0;34m(\u001b[0m\u001b[0;34m*\u001b[0m\u001b[0ma\u001b[0m\u001b[0;34m,\u001b[0m \u001b[0;34m**\u001b[0m\u001b[0mkw\u001b[0m\u001b[0;34m)\u001b[0m\u001b[0;34m\u001b[0m\u001b[0;34m\u001b[0m\u001b[0m\n\u001b[0m\u001b[1;32m    132\u001b[0m         \u001b[0;32mexcept\u001b[0m \u001b[0mpy4j\u001b[0m\u001b[0;34m.\u001b[0m\u001b[0mprotocol\u001b[0m\u001b[0;34m.\u001b[0m\u001b[0mPy4JJavaError\u001b[0m \u001b[0;32mas\u001b[0m \u001b[0me\u001b[0m\u001b[0;34m:\u001b[0m\u001b[0;34m\u001b[0m\u001b[0;34m\u001b[0m\u001b[0m\n\u001b[1;32m    133\u001b[0m             \u001b[0mconverted\u001b[0m \u001b[0;34m=\u001b[0m \u001b[0mconvert_exception\u001b[0m\u001b[0;34m(\u001b[0m\u001b[0me\u001b[0m\u001b[0;34m.\u001b[0m\u001b[0mjava_exception\u001b[0m\u001b[0;34m)\u001b[0m\u001b[0;34m\u001b[0m\u001b[0;34m\u001b[0m\u001b[0m\n",
            "\u001b[0;32m/content/spark-3.0.0-bin-hadoop3.2/python/lib/py4j-0.10.9-src.zip/py4j/protocol.py\u001b[0m in \u001b[0;36mget_return_value\u001b[0;34m(answer, gateway_client, target_id, name)\u001b[0m\n\u001b[1;32m    326\u001b[0m                 raise Py4JJavaError(\n\u001b[1;32m    327\u001b[0m                     \u001b[0;34m\"An error occurred while calling {0}{1}{2}.\\n\"\u001b[0m\u001b[0;34m.\u001b[0m\u001b[0;34m\u001b[0m\u001b[0;34m\u001b[0m\u001b[0m\n\u001b[0;32m--> 328\u001b[0;31m                     format(target_id, \".\", name), value)\n\u001b[0m\u001b[1;32m    329\u001b[0m             \u001b[0;32melse\u001b[0m\u001b[0;34m:\u001b[0m\u001b[0;34m\u001b[0m\u001b[0;34m\u001b[0m\u001b[0m\n\u001b[1;32m    330\u001b[0m                 raise Py4JError(\n",
            "\u001b[0;31mPy4JJavaError\u001b[0m: An error occurred while calling o3681.fit.\n: org.apache.spark.SparkException: Job aborted due to stage failure: Task 0 in stage 172.0 failed 1 times, most recent failure: Lost task 0.0 in stage 172.0 (TID 2751, 0e5e46bd1953, executor driver): org.apache.spark.SparkException: Failed to execute user defined function(NaiveBayes$$Lambda$3829/1072405250: (struct<type:tinyint,size:int,indices:array<int>,values:array<double>>) => struct<type:tinyint,size:int,indices:array<int>,values:array<double>>)\n\tat org.apache.spark.sql.catalyst.expressions.ScalaUDF.eval(ScalaUDF.scala:1129)\n\tat org.apache.spark.ml.stat.SummaryBuilderImpl$MetricsAggregate.update(Summarizer.scala:338)\n\tat org.apache.spark.ml.stat.SummaryBuilderImpl$MetricsAggregate.update(Summarizer.scala:308)\n\tat org.apache.spark.sql.catalyst.expressions.aggregate.TypedImperativeAggregate.update(interfaces.scala:553)\n\tat org.apache.spark.sql.execution.aggregate.AggregationIterator$$anonfun$1.$anonfun$applyOrElse$2(AggregationIterator.scala:196)\n\tat org.apache.spark.sql.execution.aggregate.AggregationIterator$$anonfun$1.$anonfun$applyOrElse$2$adapted(AggregationIterator.scala:196)\n\tat org.apache.spark.sql.execution.aggregate.AggregationIterator.$anonfun$generateProcessRow$7(AggregationIterator.scala:213)\n\tat org.apache.spark.sql.execution.aggregate.AggregationIterator.$anonfun$generateProcessRow$7$adapted(AggregationIterator.scala:207)\n\tat org.apache.spark.sql.execution.aggregate.ObjectAggregationIterator.processInputs(ObjectAggregationIterator.scala:159)\n\tat org.apache.spark.sql.execution.aggregate.ObjectAggregationIterator.<init>(ObjectAggregationIterator.scala:78)\n\tat org.apache.spark.sql.execution.aggregate.ObjectHashAggregateExec.$anonfun$doExecute$2(ObjectHashAggregateExec.scala:129)\n\tat org.apache.spark.sql.execution.aggregate.ObjectHashAggregateExec.$anonfun$doExecute$2$adapted(ObjectHashAggregateExec.scala:107)\n\tat org.apache.spark.rdd.RDD.$anonfun$mapPartitionsWithIndexInternal$2(RDD.scala:859)\n\tat org.apache.spark.rdd.RDD.$anonfun$mapPartitionsWithIndexInternal$2$adapted(RDD.scala:859)\n\tat org.apache.spark.rdd.MapPartitionsRDD.compute(MapPartitionsRDD.scala:52)\n\tat org.apache.spark.rdd.RDD.computeOrReadCheckpoint(RDD.scala:349)\n\tat org.apache.spark.rdd.RDD.iterator(RDD.scala:313)\n\tat org.apache.spark.rdd.MapPartitionsRDD.compute(MapPartitionsRDD.scala:52)\n\tat org.apache.spark.rdd.RDD.computeOrReadCheckpoint(RDD.scala:349)\n\tat org.apache.spark.rdd.RDD.iterator(RDD.scala:313)\n\tat org.apache.spark.shuffle.ShuffleWriteProcessor.write(ShuffleWriteProcessor.scala:59)\n\tat org.apache.spark.scheduler.ShuffleMapTask.runTask(ShuffleMapTask.scala:99)\n\tat org.apache.spark.scheduler.ShuffleMapTask.runTask(ShuffleMapTask.scala:52)\n\tat org.apache.spark.scheduler.Task.run(Task.scala:127)\n\tat org.apache.spark.executor.Executor$TaskRunner.$anonfun$run$3(Executor.scala:444)\n\tat org.apache.spark.util.Utils$.tryWithSafeFinally(Utils.scala:1377)\n\tat org.apache.spark.executor.Executor$TaskRunner.run(Executor.scala:447)\n\tat java.util.concurrent.ThreadPoolExecutor.runWorker(ThreadPoolExecutor.java:1149)\n\tat java.util.concurrent.ThreadPoolExecutor$Worker.run(ThreadPoolExecutor.java:624)\n\tat java.lang.Thread.run(Thread.java:748)\nCaused by: java.lang.IllegalArgumentException: requirement failed: Naive Bayes requires nonnegative feature values but found (77,[0,1,2,3,4,5,6,7,8,9,10,11,12,13,14,15,16,17,18,19,20,21,23,24,25,26,28,29,34,35,36,37,38,39,40,41,42,51,52,53,54,61,62,63,64,65,66,67,68],[53.0,17.0,169192.0,2.0,2.0,69.0,139.0,36.0,33.0,34.5,2.1213203436,87.0,52.0,69.5,24.7487373415,23.6417797532,56397.3333333333,86508.6458472986,156031.0,368.0,156399.0,156399.0,156399.0,156399.0,168824.0,168824.0,168824.0,168824.0,16.0,16.0,11.8208898766,11.8208898766,33.0,87.0,48.8,22.6207869005,511.7,1.0,61.0,34.5,69.5,2.0,69.0,2.0,139.0,-1.0,-1.0,1.0,8.0]).\n\tat scala.Predef$.require(Predef.scala:281)\n\tat org.apache.spark.ml.classification.NaiveBayes$.requireNonnegativeValues(NaiveBayes.scala:357)\n\tat org.apache.spark.ml.classification.NaiveBayes.$anonfun$trainDiscreteImpl$1(NaiveBayes.scala:176)\n\tat org.apache.spark.sql.catalyst.expressions.ScalaUDF.$anonfun$f$2(ScalaUDF.scala:156)\n\tat org.apache.spark.sql.catalyst.expressions.ScalaUDF.eval(ScalaUDF.scala:1126)\n\t... 29 more\n\nDriver stacktrace:\n\tat org.apache.spark.scheduler.DAGScheduler.failJobAndIndependentStages(DAGScheduler.scala:2023)\n\tat org.apache.spark.scheduler.DAGScheduler.$anonfun$abortStage$2(DAGScheduler.scala:1972)\n\tat org.apache.spark.scheduler.DAGScheduler.$anonfun$abortStage$2$adapted(DAGScheduler.scala:1971)\n\tat scala.collection.mutable.ResizableArray.foreach(ResizableArray.scala:62)\n\tat scala.collection.mutable.ResizableArray.foreach$(ResizableArray.scala:55)\n\tat scala.collection.mutable.ArrayBuffer.foreach(ArrayBuffer.scala:49)\n\tat org.apache.spark.scheduler.DAGScheduler.abortStage(DAGScheduler.scala:1971)\n\tat org.apache.spark.scheduler.DAGScheduler.$anonfun$handleTaskSetFailed$1(DAGScheduler.scala:950)\n\tat org.apache.spark.scheduler.DAGScheduler.$anonfun$handleTaskSetFailed$1$adapted(DAGScheduler.scala:950)\n\tat scala.Option.foreach(Option.scala:407)\n\tat org.apache.spark.scheduler.DAGScheduler.handleTaskSetFailed(DAGScheduler.scala:950)\n\tat org.apache.spark.scheduler.DAGSchedulerEventProcessLoop.doOnReceive(DAGScheduler.scala:2203)\n\tat org.apache.spark.scheduler.DAGSchedulerEventProcessLoop.onReceive(DAGScheduler.scala:2152)\n\tat org.apache.spark.scheduler.DAGSchedulerEventProcessLoop.onReceive(DAGScheduler.scala:2141)\n\tat org.apache.spark.util.EventLoop$$anon$1.run(EventLoop.scala:49)\n\tat org.apache.spark.scheduler.DAGScheduler.runJob(DAGScheduler.scala:752)\n\tat org.apache.spark.SparkContext.runJob(SparkContext.scala:2093)\n\tat org.apache.spark.SparkContext.runJob(SparkContext.scala:2114)\n\tat org.apache.spark.SparkContext.runJob(SparkContext.scala:2133)\n\tat org.apache.spark.SparkContext.runJob(SparkContext.scala:2158)\n\tat org.apache.spark.rdd.RDD.$anonfun$collect$1(RDD.scala:1004)\n\tat org.apache.spark.rdd.RDDOperationScope$.withScope(RDDOperationScope.scala:151)\n\tat org.apache.spark.rdd.RDDOperationScope$.withScope(RDDOperationScope.scala:112)\n\tat org.apache.spark.rdd.RDD.withScope(RDD.scala:388)\n\tat org.apache.spark.rdd.RDD.collect(RDD.scala:1003)\n\tat org.apache.spark.sql.execution.SparkPlan.executeCollect(SparkPlan.scala:385)\n\tat org.apache.spark.sql.Dataset.collectFromPlan(Dataset.scala:3625)\n\tat org.apache.spark.sql.Dataset.$anonfun$collect$1(Dataset.scala:2938)\n\tat org.apache.spark.sql.Dataset.$anonfun$withAction$1(Dataset.scala:3616)\n\tat org.apache.spark.sql.execution.SQLExecution$.$anonfun$withNewExecutionId$5(SQLExecution.scala:100)\n\tat org.apache.spark.sql.execution.SQLExecution$.withSQLConfPropagated(SQLExecution.scala:160)\n\tat org.apache.spark.sql.execution.SQLExecution$.$anonfun$withNewExecutionId$1(SQLExecution.scala:87)\n\tat org.apache.spark.sql.SparkSession.withActive(SparkSession.scala:763)\n\tat org.apache.spark.sql.execution.SQLExecution$.withNewExecutionId(SQLExecution.scala:64)\n\tat org.apache.spark.sql.Dataset.withAction(Dataset.scala:3614)\n\tat org.apache.spark.sql.Dataset.collect(Dataset.scala:2938)\n\tat org.apache.spark.ml.classification.NaiveBayes.trainDiscreteImpl(NaiveBayes.scala:192)\n\tat org.apache.spark.ml.classification.NaiveBayes.$anonfun$trainWithLabelCheck$1(NaiveBayes.scala:159)\n\tat org.apache.spark.ml.util.Instrumentation$.$anonfun$instrumented$1(Instrumentation.scala:191)\n\tat scala.util.Try$.apply(Try.scala:213)\n\tat org.apache.spark.ml.util.Instrumentation$.instrumented(Instrumentation.scala:191)\n\tat org.apache.spark.ml.classification.NaiveBayes.trainWithLabelCheck(NaiveBayes.scala:143)\n\tat org.apache.spark.ml.classification.NaiveBayes.train(NaiveBayes.scala:132)\n\tat org.apache.spark.ml.classification.NaiveBayes.train(NaiveBayes.scala:92)\n\tat org.apache.spark.ml.Predictor.fit(Predictor.scala:150)\n\tat org.apache.spark.ml.Predictor.fit(Predictor.scala:114)\n\tat sun.reflect.NativeMethodAccessorImpl.invoke0(Native Method)\n\tat sun.reflect.NativeMethodAccessorImpl.invoke(NativeMethodAccessorImpl.java:62)\n\tat sun.reflect.DelegatingMethodAccessorImpl.invoke(DelegatingMethodAccessorImpl.java:43)\n\tat java.lang.reflect.Method.invoke(Method.java:498)\n\tat py4j.reflection.MethodInvoker.invoke(MethodInvoker.java:244)\n\tat py4j.reflection.ReflectionEngine.invoke(ReflectionEngine.java:357)\n\tat py4j.Gateway.invoke(Gateway.java:282)\n\tat py4j.commands.AbstractCommand.invokeMethod(AbstractCommand.java:132)\n\tat py4j.commands.CallCommand.execute(CallCommand.java:79)\n\tat py4j.GatewayConnection.run(GatewayConnection.java:238)\n\tat java.lang.Thread.run(Thread.java:748)\nCaused by: org.apache.spark.SparkException: Failed to execute user defined function(NaiveBayes$$Lambda$3829/1072405250: (struct<type:tinyint,size:int,indices:array<int>,values:array<double>>) => struct<type:tinyint,size:int,indices:array<int>,values:array<double>>)\n\tat org.apache.spark.sql.catalyst.expressions.ScalaUDF.eval(ScalaUDF.scala:1129)\n\tat org.apache.spark.ml.stat.SummaryBuilderImpl$MetricsAggregate.update(Summarizer.scala:338)\n\tat org.apache.spark.ml.stat.SummaryBuilderImpl$MetricsAggregate.update(Summarizer.scala:308)\n\tat org.apache.spark.sql.catalyst.expressions.aggregate.TypedImperativeAggregate.update(interfaces.scala:553)\n\tat org.apache.spark.sql.execution.aggregate.AggregationIterator$$anonfun$1.$anonfun$applyOrElse$2(AggregationIterator.scala:196)\n\tat org.apache.spark.sql.execution.aggregate.AggregationIterator$$anonfun$1.$anonfun$applyOrElse$2$adapted(AggregationIterator.scala:196)\n\tat org.apache.spark.sql.execution.aggregate.AggregationIterator.$anonfun$generateProcessRow$7(AggregationIterator.scala:213)\n\tat org.apache.spark.sql.execution.aggregate.AggregationIterator.$anonfun$generateProcessRow$7$adapted(AggregationIterator.scala:207)\n\tat org.apache.spark.sql.execution.aggregate.ObjectAggregationIterator.processInputs(ObjectAggregationIterator.scala:159)\n\tat org.apache.spark.sql.execution.aggregate.ObjectAggregationIterator.<init>(ObjectAggregationIterator.scala:78)\n\tat org.apache.spark.sql.execution.aggregate.ObjectHashAggregateExec.$anonfun$doExecute$2(ObjectHashAggregateExec.scala:129)\n\tat org.apache.spark.sql.execution.aggregate.ObjectHashAggregateExec.$anonfun$doExecute$2$adapted(ObjectHashAggregateExec.scala:107)\n\tat org.apache.spark.rdd.RDD.$anonfun$mapPartitionsWithIndexInternal$2(RDD.scala:859)\n\tat org.apache.spark.rdd.RDD.$anonfun$mapPartitionsWithIndexInternal$2$adapted(RDD.scala:859)\n\tat org.apache.spark.rdd.MapPartitionsRDD.compute(MapPartitionsRDD.scala:52)\n\tat org.apache.spark.rdd.RDD.computeOrReadCheckpoint(RDD.scala:349)\n\tat org.apache.spark.rdd.RDD.iterator(RDD.scala:313)\n\tat org.apache.spark.rdd.MapPartitionsRDD.compute(MapPartitionsRDD.scala:52)\n\tat org.apache.spark.rdd.RDD.computeOrReadCheckpoint(RDD.scala:349)\n\tat org.apache.spark.rdd.RDD.iterator(RDD.scala:313)\n\tat org.apache.spark.shuffle.ShuffleWriteProcessor.write(ShuffleWriteProcessor.scala:59)\n\tat org.apache.spark.scheduler.ShuffleMapTask.runTask(ShuffleMapTask.scala:99)\n\tat org.apache.spark.scheduler.ShuffleMapTask.runTask(ShuffleMapTask.scala:52)\n\tat org.apache.spark.scheduler.Task.run(Task.scala:127)\n\tat org.apache.spark.executor.Executor$TaskRunner.$anonfun$run$3(Executor.scala:444)\n\tat org.apache.spark.util.Utils$.tryWithSafeFinally(Utils.scala:1377)\n\tat org.apache.spark.executor.Executor$TaskRunner.run(Executor.scala:447)\n\tat java.util.concurrent.ThreadPoolExecutor.runWorker(ThreadPoolExecutor.java:1149)\n\tat java.util.concurrent.ThreadPoolExecutor$Worker.run(ThreadPoolExecutor.java:624)\n\t... 1 more\nCaused by: java.lang.IllegalArgumentException: requirement failed: Naive Bayes requires nonnegative feature values but found (77,[0,1,2,3,4,5,6,7,8,9,10,11,12,13,14,15,16,17,18,19,20,21,23,24,25,26,28,29,34,35,36,37,38,39,40,41,42,51,52,53,54,61,62,63,64,65,66,67,68],[53.0,17.0,169192.0,2.0,2.0,69.0,139.0,36.0,33.0,34.5,2.1213203436,87.0,52.0,69.5,24.7487373415,23.6417797532,56397.3333333333,86508.6458472986,156031.0,368.0,156399.0,156399.0,156399.0,156399.0,168824.0,168824.0,168824.0,168824.0,16.0,16.0,11.8208898766,11.8208898766,33.0,87.0,48.8,22.6207869005,511.7,1.0,61.0,34.5,69.5,2.0,69.0,2.0,139.0,-1.0,-1.0,1.0,8.0]).\n\tat scala.Predef$.require(Predef.scala:281)\n\tat org.apache.spark.ml.classification.NaiveBayes$.requireNonnegativeValues(NaiveBayes.scala:357)\n\tat org.apache.spark.ml.classification.NaiveBayes.$anonfun$trainDiscreteImpl$1(NaiveBayes.scala:176)\n\tat org.apache.spark.sql.catalyst.expressions.ScalaUDF.$anonfun$f$2(ScalaUDF.scala:156)\n\tat org.apache.spark.sql.catalyst.expressions.ScalaUDF.eval(ScalaUDF.scala:1126)\n\t... 29 more\n"
          ]
        }
      ]
    },
    {
      "cell_type": "code",
      "metadata": {
        "id": "8rxUd6Iq_E7j"
      },
      "source": [
        ""
      ],
      "execution_count": null,
      "outputs": []
    },
    {
      "cell_type": "code",
      "metadata": {
        "id": "3Jz56YfP_E-u"
      },
      "source": [
        ""
      ],
      "execution_count": null,
      "outputs": []
    },
    {
      "cell_type": "code",
      "metadata": {
        "id": "Dgmql2pX_FC_"
      },
      "source": [
        "\n",
        "\n",
        "#Need to find which day has more attacks happen\n",
        "\n",
        "#sqlDF = spark.sql(\"SELECT Label,weekofyear,Day, count(*) FROM trView GROUP BY Day,weekofyear,Label\").show(100)\n",
        "\n",
        "#ORDER BY ASC\n",
        "\n",
        "\n",
        "\n",
        "\n",
        "\n",
        "df_conv.groupBy(\"Label\").pivot(\"Day\").count().orderBy(\"Label\",ascending=False).show(100,False)\n",
        "\n",
        "q1=spark.sql(\"select Label,count(*) as count FROM trView where Day==14 group by Label having count>10\").show()\n"
      ],
      "execution_count": null,
      "outputs": []
    }
  ]
}